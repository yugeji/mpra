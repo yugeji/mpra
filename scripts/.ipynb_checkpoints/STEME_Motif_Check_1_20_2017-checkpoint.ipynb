{
 "cells": [
  {
   "cell_type": "code",
   "execution_count": 57,
   "metadata": {
    "collapsed": true
   },
   "outputs": [],
   "source": [
    "import os\n",
    "import sys \n",
    "import matplotlib.pyplot as plt\n",
    "%matplotlib inline\n",
    "import numpy as np\n",
    "from sklearn.preprocessing import StandardScaler"
   ]
  },
  {
   "cell_type": "code",
   "execution_count": 42,
   "metadata": {
    "collapsed": false
   },
   "outputs": [
    {
     "data": {
      "text/plain": [
       "<module 'motif_processor' from 'motif_processor.py'>"
      ]
     },
     "execution_count": 42,
     "metadata": {},
     "output_type": "execute_result"
    }
   ],
   "source": [
    "import(motif_processor)\n",
    "reload(motif_processor)"
   ]
  },
  {
   "cell_type": "code",
   "execution_count": 49,
   "metadata": {
    "collapsed": false
   },
   "outputs": [],
   "source": [
    "HepG2MotifProcObj = motif_processor.MotifProcessor(ENCODE_only=False, \n",
    "                                                   cell_line=\"HepG2\", \n",
    "                                                   meme_file=\"/home/alvin/Dropbox/Lab/CNN/data/meme/HepG2_pos_steme/steme.txt\")\n",
    "HepG2_motif_tensor, HepG2_motif_names = HepG2MotifProcObj.generate_custom_CNN_filters(max_length = 18, padding = 0, truncate = False)\n",
    "\n",
    "K562MotifProcObj = motif_processor.MotifProcessor(ENCODE_only=False, \n",
    "                                                   cell_line=\"K562\", \n",
    "                                                   meme_file=\"/home/alvin/Dropbox/Lab/CNN/data/meme/K562_pos_steme/steme.txt\")\n",
    "K562_motif_tensor, K562_motif_names = K562MotifProcObj.generate_custom_CNN_filters(max_length = 18, padding = 0, truncate = False)\n",
    "\n",
    "\n",
    "LCLMotifProcObj = motif_processor.MotifProcessor(ENCODE_only=False, \n",
    "                                                   cell_line=\"LCL\", \n",
    "                                                   meme_file=\"/home/alvin/Dropbox/Lab/CNN/data/meme/LCL_pos_steme/steme.txt\")\n",
    "LCL_motif_tensor, LCL_motif_names = LCLMotifProcObj.generate_custom_CNN_filters(max_length = 18, padding = 0, truncate = False)"
   ]
  },
  {
   "cell_type": "code",
   "execution_count": 55,
   "metadata": {
    "collapsed": false
   },
   "outputs": [
    {
     "data": {
      "text/plain": [
       "<module 'common_utils' from 'common_utils.pyc'>"
      ]
     },
     "execution_count": 55,
     "metadata": {},
     "output_type": "execute_result"
    }
   ],
   "source": [
    "import common_utils \n",
    "reload(common_utils)"
   ]
  },
  {
   "cell_type": "code",
   "execution_count": 56,
   "metadata": {
    "collapsed": true
   },
   "outputs": [],
   "source": [
    "CrossValProcObj = common_utils.CrossValProcessor(output_dirs = [\"./HEPG2_act_alt_1_11/\", \"./HEPG2_rep_alt_1_11/\", \n",
    "                                                                      \"./K562_act_alt_1_11/\", \"./K562_act_alt_1_11/\",\n",
    "                                                                      \"./LCL_act_alt_1_11/\"])"
   ]
  },
  {
   "cell_type": "code",
   "execution_count": 53,
   "metadata": {
    "collapsed": false,
    "scrolled": true
   },
   "outputs": [
    {
     "name": "stderr",
     "output_type": "stream",
     "text": [
      "Using gpu device 0: GeForce GTX 1080 (CNMeM is enabled with initial size: 82.0% of memory, cuDNN 5005)\n",
      "/usr/local/lib/python2.7/dist-packages/theano/tensor/signal/downsample.py:6: UserWarning: downsample module has been moved to the theano.tensor.signal.pool module.\n",
      "  \"downsample module has been moved to the theano.tensor.signal.pool module.\")\n",
      "/usr/local/lib/python2.7/dist-packages/sklearn/cross_validation.py:44: DeprecationWarning: This module was deprecated in version 0.18 in favor of the model_selection module into which all the refactored classes and functions are moved. Also note that the interface of the new CV iterators are different from that of this module. This module will be removed in 0.20.\n",
      "  \"This module will be removed in 0.20.\", DeprecationWarning)\n",
      "/usr/local/lib/python2.7/dist-packages/sklearn/grid_search.py:43: DeprecationWarning: This module was deprecated in version 0.18 in favor of the model_selection module into which all the refactored classes and functions are moved. This module will be removed in 0.20.\n",
      "  DeprecationWarning)\n",
      "Using Theano backend.\n"
     ]
    },
    {
     "data": {
      "text/plain": [
       "<module 'alt_conv_model_1_5_2017' from 'alt_conv_model_1_5_2017.pyc'>"
      ]
     },
     "execution_count": 53,
     "metadata": {},
     "output_type": "execute_result"
    }
   ],
   "source": [
    "import alt_conv_model_1_5_2017\n",
    "reload(alt_conv_model_1_5_2017)"
   ]
  },
  {
   "cell_type": "code",
   "execution_count": 54,
   "metadata": {
    "collapsed": false,
    "scrolled": true
   },
   "outputs": [],
   "source": [
    "HepG2ConvLayer = alt_conv_model_1_5_2017.ConvLayer(HepG2_motif_tensor)\n",
    "K562ConvLayer = alt_conv_model_1_5_2017.ConvLayer(K562_motif_tensor)\n",
    "LCLConvLayer = alt_conv_model_1_5_2017.ConvLayer(LCL_motif_tensor)"
   ]
  },
  {
   "cell_type": "code",
   "execution_count": 52,
   "metadata": {
    "collapsed": false,
    "scrolled": true
   },
   "outputs": [
    {
     "data": {
      "text/plain": [
       "(2152, 1, 4, 18)"
      ]
     },
     "execution_count": 52,
     "metadata": {},
     "output_type": "execute_result"
    }
   ],
   "source": [
    "K562_motif_tensor.shape"
   ]
  },
  {
   "cell_type": "code",
   "execution_count": 60,
   "metadata": {
    "collapsed": true
   },
   "outputs": [],
   "source": [
    "LCLConvLayerObj = alt_conv_model_1_5_2017.ConvPredictor(CrossValProcObj.LCL_binObj.merged_tensor, CrossValProcObj.LCL_binObj.merged_RC_tensor, \n",
    "                                                        CrossValProcObj.LCL_binObj.merged_tar,\n",
    "                                                    LCL_motif_tensor.shape, LCLConvLayer, CrossValProcObj.LCL_binObj.feature_df, \n",
    "                                                    RC= True, combine_RC = True, RC_max = True, add_RC = True, add_features = True)\n",
    "\n",
    "HepG2ConvLayerObj = alt_conv_model_1_5_2017.ConvPredictor(CrossValProcObj.HepG2_binObj.merged_tensor, CrossValProcObj.HepG2_binObj.merged_RC_tensor, \n",
    "                                                        CrossValProcObj.HepG2_binObj.merged_tar,\n",
    "                                                    HepG2_motif_tensor.shape, HepG2ConvLayer, CrossValProcObj.HepG2_binObj.feature_df, \n",
    "                                                    RC= True, combine_RC = True, RC_max = True, add_RC = True, add_features = True)\n",
    "K562ConvLayerObj = alt_conv_model_1_5_2017.ConvPredictor(CrossValProcObj.K562_binObj.merged_tensor, CrossValProcObj.K562_binObj.merged_RC_tensor, \n",
    "                                                        CrossValProcObj.K562_binObj.merged_tar,\n",
    "                                                    K562_motif_tensor.shape, K562ConvLayer, CrossValProcObj.K562_binObj.feature_df, \n",
    "                                                    RC= True, combine_RC = True, RC_max = True, add_RC = True, add_features = True)\n"
   ]
  },
  {
   "cell_type": "code",
   "execution_count": 72,
   "metadata": {
    "collapsed": true
   },
   "outputs": [],
   "source": [
    "LCLConvLayerObj_HepG2 = alt_conv_model_1_5_2017.ConvPredictor(CrossValProcObj.LCL_binObj.merged_tensor, CrossValProcObj.LCL_binObj.merged_RC_tensor, \n",
    "                                                        CrossValProcObj.LCL_binObj.merged_tar,\n",
    "                                                    HepG2_motif_tensor.shape, HepG2ConvLayer, CrossValProcObj.LCL_binObj.feature_df, \n",
    "                                                    RC= True, combine_RC = True, RC_max = True, add_RC = True, add_features = True)\n",
    "\n",
    "K562ConvLayerObj_HepG2 = alt_conv_model_1_5_2017.ConvPredictor(CrossValProcObj.K562_binObj.merged_tensor, CrossValProcObj.K562_binObj.merged_RC_tensor, \n",
    "                                                        CrossValProcObj.K562_binObj.merged_tar,\n",
    "                                                    HepG2_motif_tensor.shape, HepG2ConvLayer, CrossValProcObj.K562_binObj.feature_df, \n",
    "                                                    RC= True, combine_RC = True, RC_max = True, add_RC = True, add_features = True)\n",
    "LCLConvLayerObj_K562 = alt_conv_model_1_5_2017.ConvPredictor(CrossValProcObj.LCL_binObj.merged_tensor, CrossValProcObj.LCL_binObj.merged_RC_tensor, \n",
    "                                                        CrossValProcObj.LCL_binObj.merged_tar,\n",
    "                                                    K562_motif_tensor.shape, K562ConvLayer, CrossValProcObj.LCL_binObj.feature_df, \n",
    "                                                    RC= True, combine_RC = True, RC_max = True, add_RC = True, add_features = True)\n",
    "\n",
    "HepG2ConvLayerObj_K562 = alt_conv_model_1_5_2017.ConvPredictor(CrossValProcObj.HepG2_binObj.merged_tensor, CrossValProcObj.HepG2_binObj.merged_RC_tensor, \n",
    "                                                        CrossValProcObj.HepG2_binObj.merged_tar,\n",
    "                                                    K562_motif_tensor.shape, K562ConvLayer, CrossValProcObj.HepG2_binObj.feature_df, \n",
    "                                                    RC= True, combine_RC = True, RC_max = True, add_RC = True, add_features = True)\n",
    "\n",
    "HepG2ConvLayerObj_LCL = alt_conv_model_1_5_2017.ConvPredictor(CrossValProcObj.HepG2_binObj.merged_tensor, CrossValProcObj.HepG2_binObj.merged_RC_tensor, \n",
    "                                                        CrossValProcObj.HepG2_binObj.merged_tar,\n",
    "                                                    LCL_motif_tensor.shape, LCLConvLayer, CrossValProcObj.HepG2_binObj.feature_df, \n",
    "                                                    RC= True, combine_RC = True, RC_max = True, add_RC = True, add_features = True)\n",
    "K562ConvLayerObj_LCL = alt_conv_model_1_5_2017.ConvPredictor(CrossValProcObj.K562_binObj.merged_tensor, CrossValProcObj.K562_binObj.merged_RC_tensor, \n",
    "                                                        CrossValProcObj.K562_binObj.merged_tar,\n",
    "                                                    LCL_motif_tensor.shape, LCLConvLayer, CrossValProcObj.K562_binObj.feature_df, \n",
    "                                                    RC= True, combine_RC = True, RC_max = True, add_RC = True, add_features = True)\n"
   ]
  },
  {
   "cell_type": "code",
   "execution_count": 74,
   "metadata": {
    "collapsed": false
   },
   "outputs": [],
   "source": [
    "def scaler(X):\n",
    "    std = StandardScaler()\n",
    "    std.fit(X)\n",
    "    return std.transform(X)\n",
    "\n",
    "def pred_Other(TrainObj, PredObj):\n",
    "    all_index = np.arange(TrainObj.X_conv.shape[0])\n",
    "    cvLogReg = TrainObj.LogisticRegCVPredict([], all_index, train_only = True)\n",
    "    elasticNet = TrainObj.ElasticNet([], all_index, train_only = True)\n",
    "    RF = TrainObj.RandomForest([], all_index, train_only = True)\n",
    "    GB = TrainObj.MLP([], all_index, hidden_layer_sizes = (50,), train_only = True)\n",
    "    NN = TrainObj.MLP([], all_index, hidden_layer_sizes = (50,10), train_only = True)\n",
    "    cvLogRegResult = common_utils.ClassificationResult(PredObj.Y.astype(bool),cvLogReg.predict_proba(scaler(PredObj.X_comb_conv))[:,1])\n",
    "    ElasticNetResult = common_utils.ClassificationResult(PredObj.Y.astype(bool),elasticNet.predict_proba(scaler(PredObj.X_comb_conv))[:,1])\n",
    "    RFResult = common_utils.ClassificationResult(PredObj.Y.astype(bool),RF.predict_proba(scaler(PredObj.X_comb_conv))[:,1])\n",
    "    GradientBoostingResult = common_utils.ClassificationResult(PredObj.Y.astype(bool),GB.predict_proba(scaler(PredObj.X_comb_conv))[:,1])\n",
    "    MLPResult = common_utils.ClassificationResult(PredObj.Y.astype(bool),NN.predict_proba(scaler(PredObj.X_comb_conv))[:,1])\n",
    "    return cvLogRegResult, ElasticNetResult, RFResult, GradientBoostingResult, MLPResult\n"
   ]
  },
  {
   "cell_type": "code",
   "execution_count": 75,
   "metadata": {
    "collapsed": false
   },
   "outputs": [
    {
     "name": "stdout",
     "output_type": "stream",
     "text": [
      "0.4991\t61.4361\t0.6911\t0.3617\t0.7562\t0.0004\t3.0686\t6.9675\t12.0578\t2770.0000\t18100.0000\n",
      "5.8076\t60.7973\t0.6246\t0.3439\t0.6099\t0.0000\t0.0000\t0.0000\t0.0000\t2770.0000\t18100.0000\n",
      "0.3439\t52.7980\t0.7391\t0.3982\t0.8059\t0.0004\t2.2744\t8.6282\t11.9134\t2770.0000\t18100.0000\n",
      "1.1469\t58.9133\t0.6911\t0.3592\t0.7541\t0.0004\t1.2996\t6.3899\t11.0830\t2770.0000\t18100.0000\n",
      "1.4693\t58.4683\t0.6816\t0.3447\t0.7401\t0.0004\t0.2527\t5.3069\t9.6751\t2770.0000\t18100.0000\n",
      "0.3552\t78.2124\t0.8559\t0.6391\t0.9384\t0.0006\t8.7522\t16.1443\t37.6700\t1691.0000\t10478.0000\n",
      "4.3900\t76.2226\t0.8013\t0.5909\t0.8296\t0.0000\t0.0000\t0.0000\t0.0000\t1691.0000\t10478.0000\n",
      "0.2670\t63.4916\t0.8740\t0.6851\t0.9529\t0.0006\t14.9024\t26.5523\t48.1963\t1691.0000\t10478.0000\n",
      "0.6631\t77.9246\t0.8665\t0.6753\t0.9498\t0.0000\t4.6127\t22.2945\t53.0455\t1691.0000\t10478.0000\n",
      "0.7323\t77.8799\t0.8618\t0.6786\t0.9507\t0.0006\t12.7735\t27.3211\t53.2229\t1691.0000\t10478.0000\n",
      "0.4830\t75.0199\t0.8264\t0.5370\t0.9232\t0.0006\t9.7179\t15.1097\t24.1379\t1595.0000\t11398.0000\n",
      "8.1602\t72.9044\t0.7636\t0.5087\t0.6650\t0.0000\t0.0000\t0.0000\t0.0000\t1595.0000\t11398.0000\n",
      "0.3454\t54.6634\t0.6767\t0.3963\t0.8250\t0.0006\t0.1881\t9.6552\t22.0690\t1595.0000\t11398.0000\n",
      "0.5962\t75.0822\t0.8612\t0.5818\t0.9391\t0.0031\t9.7179\t17.8683\t24.7649\t1595.0000\t11398.0000\n",
      "0.7681\t73.0894\t0.8386\t0.5446\t0.9236\t0.0050\t5.7053\t11.0345\t21.8182\t1595.0000\t11398.0000\n",
      "0.5357\t70.7283\t0.7780\t0.4676\t0.8598\t0.0006\t2.5429\t3.3708\t14.1336\t1691.0000\t10478.0000\n",
      "8.7922\t68.6962\t0.7227\t0.4761\t0.6024\t0.0000\t0.0000\t0.0000\t0.0000\t1691.0000\t10478.0000\n",
      "0.3724\t54.4924\t0.6507\t0.3795\t0.7505\t0.0006\t5.1449\t9.1662\t15.8486\t1691.0000\t10478.0000\n",
      "1.1394\t68.6170\t0.7612\t0.4467\t0.8452\t0.0024\t0.4731\t0.4731\t11.8865\t1691.0000\t10478.0000\n",
      "0.8377\t68.9017\t0.7971\t0.4976\t0.8779\t0.0006\t0.2957\t7.9834\t15.3164\t1691.0000\t10478.0000\n",
      "0.3249\t82.4432\t0.9034\t0.6806\t0.9632\t0.0006\t14.3574\t21.9436\t38.6207\t1595.0000\t11398.0000\n",
      "4.4139\t79.3855\t0.8361\t0.6059\t0.8359\t0.0000\t0.0000\t0.0000\t0.0000\t1595.0000\t11398.0000\n",
      "0.2127\t71.5951\t0.9374\t0.7789\t0.9814\t0.0006\t24.5768\t49.3417\t62.0063\t1595.0000\t11398.0000\n",
      "0.4301\t81.2147\t0.9140\t0.7253\t0.9701\t0.0006\t11.5987\t26.7712\t57.2414\t1595.0000\t11398.0000\n",
      "0.4834\t81.5038\t0.9099\t0.7209\t0.9691\t0.0006\t4.7649\t25.7053\t58.2445\t1595.0000\t11398.0000\n",
      "0.5156\t61.7675\t0.6873\t0.3525\t0.7477\t0.0004\t0.5054\t7.4368\t9.2058\t2770.0000\t18100.0000\n",
      "5.6496\t61.2459\t0.6559\t0.3646\t0.6510\t0.0000\t0.0000\t0.0000\t0.0000\t2770.0000\t18100.0000\n",
      "0.3441\t52.0801\t0.7518\t0.4103\t0.8156\t0.0007\t6.1733\t7.9422\t12.2383\t2770.0000\t18100.0000\n",
      "1.1077\t58.9760\t0.6841\t0.3434\t0.7335\t0.0004\t0.2888\t1.1191\t10.5415\t2770.0000\t18100.0000\n",
      "1.2284\t58.9165\t0.6809\t0.3454\t0.7334\t0.0011\t0.8664\t5.5957\t10.9747\t2770.0000\t18100.0000\n"
     ]
    }
   ],
   "source": [
    "a,b,c,d,e = pred_Other(K562ConvLayerObj, LCLConvLayerObj_K562)\n",
    "print(str(a))\n",
    "print(str(b))\n",
    "print(str(c))\n",
    "print(str(d))\n",
    "print(str(e))\n",
    "a,b,c,d,e  = pred_Other(K562ConvLayerObj, HepG2ConvLayerObj_K562)\n",
    "print(str(a))\n",
    "print(str(b))\n",
    "print(str(c))\n",
    "print(str(d))\n",
    "print(str(e))\n",
    "a,b,c,d,e =pred_Other(LCLConvLayerObj, K562ConvLayerObj_LCL)\n",
    "print(str(a))\n",
    "print(str(b))\n",
    "print(str(c))\n",
    "print(str(d))\n",
    "print(str(e))\n",
    "a,b,c,d,e = pred_Other(LCLConvLayerObj, HepG2ConvLayerObj_LCL)\n",
    "print(str(a))\n",
    "print(str(b))\n",
    "print(str(c))\n",
    "print(str(d))\n",
    "print(str(e))\n",
    "a,b,c,d,e = pred_Other(HepG2ConvLayerObj, K562ConvLayerObj_HepG2)\n",
    "print(str(a))\n",
    "print(str(b))\n",
    "print(str(c))\n",
    "print(str(d))\n",
    "print(str(e))\n",
    "a,b,c,d,e = pred_Other(HepG2ConvLayerObj, LCLConvLayerObj_HepG2)\n",
    "print(str(a))\n",
    "print(str(b))\n",
    "print(str(c))\n",
    "print(str(d))\n",
    "print(str(e))"
   ]
  },
  {
   "cell_type": "markdown",
   "metadata": {},
   "source": [
    "## Use max of forward and reverse strands"
   ]
  },
  {
   "cell_type": "code",
   "execution_count": 76,
   "metadata": {
    "collapsed": true
   },
   "outputs": [],
   "source": [
    "LCLConvLayerObj = alt_conv_model_1_5_2017.ConvPredictor(CrossValProcObj.LCL_binObj.merged_tensor, CrossValProcObj.LCL_binObj.merged_RC_tensor, \n",
    "                                                        CrossValProcObj.LCL_binObj.merged_tar,\n",
    "                                                    LCL_motif_tensor.shape, LCLConvLayer, CrossValProcObj.LCL_binObj.feature_df, \n",
    "                                                    RC= True, combine_RC = True, RC_max = True, add_RC = False, add_features = True)\n",
    "\n",
    "HepG2ConvLayerObj = alt_conv_model_1_5_2017.ConvPredictor(CrossValProcObj.HepG2_binObj.merged_tensor, CrossValProcObj.HepG2_binObj.merged_RC_tensor, \n",
    "                                                        CrossValProcObj.HepG2_binObj.merged_tar,\n",
    "                                                    HepG2_motif_tensor.shape, HepG2ConvLayer, CrossValProcObj.HepG2_binObj.feature_df, \n",
    "                                                    RC= True, combine_RC = True, RC_max = True, add_RC = False, add_features = True)\n",
    "K562ConvLayerObj = alt_conv_model_1_5_2017.ConvPredictor(CrossValProcObj.K562_binObj.merged_tensor, CrossValProcObj.K562_binObj.merged_RC_tensor, \n",
    "                                                        CrossValProcObj.K562_binObj.merged_tar,\n",
    "                                                    K562_motif_tensor.shape, K562ConvLayer, CrossValProcObj.K562_binObj.feature_df, \n",
    "                                                    RC= True, combine_RC = True, RC_max = True, add_RC = False, add_features = True)\n"
   ]
  },
  {
   "cell_type": "code",
   "execution_count": 77,
   "metadata": {
    "collapsed": true
   },
   "outputs": [],
   "source": [
    "LCLConvLayerObj_HepG2 = alt_conv_model_1_5_2017.ConvPredictor(CrossValProcObj.LCL_binObj.merged_tensor, CrossValProcObj.LCL_binObj.merged_RC_tensor, \n",
    "                                                        CrossValProcObj.LCL_binObj.merged_tar,\n",
    "                                                    HepG2_motif_tensor.shape, HepG2ConvLayer, CrossValProcObj.LCL_binObj.feature_df, \n",
    "                                                    RC= True, combine_RC = True, RC_max = True, add_RC = False, add_features = True)\n",
    "\n",
    "K562ConvLayerObj_HepG2 = alt_conv_model_1_5_2017.ConvPredictor(CrossValProcObj.K562_binObj.merged_tensor, CrossValProcObj.K562_binObj.merged_RC_tensor, \n",
    "                                                        CrossValProcObj.K562_binObj.merged_tar,\n",
    "                                                    HepG2_motif_tensor.shape, HepG2ConvLayer, CrossValProcObj.K562_binObj.feature_df, \n",
    "                                                    RC= True, combine_RC = True, RC_max = True, add_RC = False, add_features = True)\n",
    "LCLConvLayerObj_K562 = alt_conv_model_1_5_2017.ConvPredictor(CrossValProcObj.LCL_binObj.merged_tensor, CrossValProcObj.LCL_binObj.merged_RC_tensor, \n",
    "                                                        CrossValProcObj.LCL_binObj.merged_tar,\n",
    "                                                    K562_motif_tensor.shape, K562ConvLayer, CrossValProcObj.LCL_binObj.feature_df, \n",
    "                                                    RC= True, combine_RC = True, RC_max = True, add_RC = False, add_features = True)\n",
    "\n",
    "HepG2ConvLayerObj_K562 = alt_conv_model_1_5_2017.ConvPredictor(CrossValProcObj.HepG2_binObj.merged_tensor, CrossValProcObj.HepG2_binObj.merged_RC_tensor, \n",
    "                                                        CrossValProcObj.HepG2_binObj.merged_tar,\n",
    "                                                    K562_motif_tensor.shape, K562ConvLayer, CrossValProcObj.HepG2_binObj.feature_df, \n",
    "                                                    RC= True, combine_RC = True, RC_max = True, add_RC = False, add_features = True)\n",
    "\n",
    "HepG2ConvLayerObj_LCL = alt_conv_model_1_5_2017.ConvPredictor(CrossValProcObj.HepG2_binObj.merged_tensor, CrossValProcObj.HepG2_binObj.merged_RC_tensor, \n",
    "                                                        CrossValProcObj.HepG2_binObj.merged_tar,\n",
    "                                                    LCL_motif_tensor.shape, LCLConvLayer, CrossValProcObj.HepG2_binObj.feature_df, \n",
    "                                                    RC= True, combine_RC = True, RC_max = True, add_RC = False, add_features = True)\n",
    "K562ConvLayerObj_LCL = alt_conv_model_1_5_2017.ConvPredictor(CrossValProcObj.K562_binObj.merged_tensor, CrossValProcObj.K562_binObj.merged_RC_tensor, \n",
    "                                                        CrossValProcObj.K562_binObj.merged_tar,\n",
    "                                                    LCL_motif_tensor.shape, LCLConvLayer, CrossValProcObj.K562_binObj.feature_df, \n",
    "                                                    RC= True, combine_RC = True, RC_max = True, add_RC = False, add_features = True)\n"
   ]
  },
  {
   "cell_type": "code",
   "execution_count": 78,
   "metadata": {
    "collapsed": false,
    "scrolled": false
   },
   "outputs": [
    {
     "name": "stdout",
     "output_type": "stream",
     "text": [
      "0.5007\t61.7538\t0.6988\t0.3705\t0.7693\t0.0004\t3.6462\t7.0397\t12.4188\t2770.0000\t18100.0000\n",
      "6.5489\t62.0003\t0.6387\t0.3636\t0.5925\t0.0000\t0.0000\t0.0000\t0.0000\t2770.0000\t18100.0000\n",
      "0.3437\t52.8938\t0.7388\t0.4057\t0.8129\t0.0004\t4.1155\t8.4477\t13.0325\t2770.0000\t18100.0000\n",
      "1.1033\t58.6243\t0.7010\t0.3619\t0.7593\t0.0004\t1.8412\t6.0650\t10.7942\t2770.0000\t18100.0000\n",
      "1.2179\t59.1485\t0.6862\t0.3562\t0.7495\t0.0004\t3.5740\t7.9061\t10.7581\t2770.0000\t18100.0000\n",
      "0.3512\t78.4548\t0.8577\t0.6472\t0.9408\t0.0006\t10.4672\t17.1496\t42.6375\t1691.0000\t10478.0000\n",
      "4.7687\t76.7047\t0.7993\t0.5898\t0.8137\t0.0000\t0.0000\t0.0000\t0.0000\t1691.0000\t10478.0000\n",
      "0.2653\t64.2804\t0.8743\t0.6909\t0.9544\t0.0006\t15.9669\t28.9178\t52.6316\t1691.0000\t10478.0000\n",
      "0.6544\t78.0508\t0.8679\t0.6925\t0.9532\t0.0006\t12.2413\t26.8480\t55.8841\t1691.0000\t10478.0000\n",
      "0.7828\t77.9705\t0.8633\t0.6795\t0.9493\t0.0006\t6.0911\t21.2300\t54.6422\t1691.0000\t10478.0000\n",
      "0.4481\t77.6350\t0.8549\t0.5730\t0.9362\t0.0006\t12.4138\t16.7398\t26.7085\t1595.0000\t11398.0000\n",
      "7.9148\t74.2403\t0.7747\t0.5233\t0.6817\t0.0000\t0.0000\t0.0000\t0.0000\t1595.0000\t11398.0000\n",
      "0.3421\t55.5593\t0.7041\t0.4342\t0.8578\t0.0006\t5.7053\t12.6646\t21.8182\t1595.0000\t11398.0000\n",
      "0.7280\t72.1588\t0.8252\t0.5208\t0.9125\t0.0025\t6.2696\t10.2194\t16.8652\t1595.0000\t11398.0000\n",
      "0.7956\t75.4320\t0.8529\t0.5616\t0.9305\t0.0000\t0.0000\t8.3386\t21.6928\t1595.0000\t11398.0000\n",
      "0.4824\t72.9384\t0.8018\t0.5028\t0.8798\t0.0006\t1.3601\t7.8060\t15.0207\t1691.0000\t10478.0000\n",
      "8.5712\t69.7484\t0.7288\t0.4869\t0.6194\t0.0000\t0.0000\t0.0000\t0.0000\t1691.0000\t10478.0000\n",
      "0.3743\t54.4133\t0.6481\t0.3821\t0.7536\t0.0006\t6.3868\t9.2253\t15.8486\t1691.0000\t10478.0000\n",
      "0.9272\t69.0459\t0.7786\t0.4614\t0.8545\t0.0006\t1.0645\t1.1827\t9.8758\t1691.0000\t10478.0000\n",
      "0.9229\t70.5558\t0.7831\t0.4819\t0.8697\t0.0006\t0.2957\t1.3601\t15.4938\t1691.0000\t10478.0000\n",
      "0.3246\t83.0589\t0.9046\t0.6830\t0.9641\t0.0006\t14.7962\t21.0658\t38.3072\t1595.0000\t11398.0000\n",
      "4.2585\t78.8398\t0.8380\t0.6076\t0.8433\t0.0000\t0.0000\t0.0000\t0.0000\t1595.0000\t11398.0000\n",
      "0.2111\t73.0954\t0.9398\t0.7858\t0.9820\t0.0006\t25.5172\t52.1003\t64.0752\t1595.0000\t11398.0000\n",
      "0.4188\t81.3802\t0.9176\t0.7267\t0.9699\t0.0006\t10.8464\t23.2602\t57.4295\t1595.0000\t11398.0000\n",
      "0.4839\t80.9809\t0.9115\t0.7140\t0.9679\t0.0006\t9.2790\t21.1912\t55.4232\t1595.0000\t11398.0000\n",
      "0.5134\t62.5028\t0.6937\t0.3640\t0.7653\t0.0004\t0.3610\t7.9422\t10.2166\t2770.0000\t18100.0000\n",
      "5.4830\t61.4137\t0.6421\t0.3573\t0.6483\t0.0000\t0.0000\t0.0000\t0.0000\t2770.0000\t18100.0000\n",
      "0.3443\t51.8690\t0.7476\t0.4152\t0.8234\t0.0004\t3.8628\t8.6643\t13.9350\t2770.0000\t18100.0000\n",
      "1.0518\t58.9234\t0.6901\t0.3551\t0.7503\t0.0004\t1.2635\t4.9097\t10.1083\t2770.0000\t18100.0000\n",
      "1.4556\t59.5982\t0.6736\t0.3518\t0.7419\t0.0004\t5.3069\t7.3285\t10.8664\t2770.0000\t18100.0000\n"
     ]
    }
   ],
   "source": [
    "a,b,c,d,e = pred_Other(K562ConvLayerObj, LCLConvLayerObj_K562)\n",
    "print(str(a))\n",
    "print(str(b))\n",
    "print(str(c))\n",
    "print(str(d))\n",
    "print(str(e))\n",
    "a,b,c,d,e  = pred_Other(K562ConvLayerObj, HepG2ConvLayerObj_K562)\n",
    "print(str(a))\n",
    "print(str(b))\n",
    "print(str(c))\n",
    "print(str(d))\n",
    "print(str(e))\n",
    "a,b,c,d,e =pred_Other(LCLConvLayerObj, K562ConvLayerObj_LCL)\n",
    "print(str(a))\n",
    "print(str(b))\n",
    "print(str(c))\n",
    "print(str(d))\n",
    "print(str(e))\n",
    "a,b,c,d,e = pred_Other(LCLConvLayerObj, HepG2ConvLayerObj_LCL)\n",
    "print(str(a))\n",
    "print(str(b))\n",
    "print(str(c))\n",
    "print(str(d))\n",
    "print(str(e))\n",
    "a,b,c,d,e = pred_Other(HepG2ConvLayerObj, K562ConvLayerObj_HepG2)\n",
    "print(str(a))\n",
    "print(str(b))\n",
    "print(str(c))\n",
    "print(str(d))\n",
    "print(str(e))\n",
    "a,b,c,d,e = pred_Other(HepG2ConvLayerObj, LCLConvLayerObj_HepG2)\n",
    "print(str(a))\n",
    "print(str(b))\n",
    "print(str(c))\n",
    "print(str(d))\n",
    "print(str(e))"
   ]
  },
  {
   "cell_type": "code",
   "execution_count": null,
   "metadata": {
    "collapsed": true
   },
   "outputs": [],
   "source": []
  }
 ],
 "metadata": {
  "kernelspec": {
   "display_name": "Python [default]",
   "language": "python",
   "name": "python2"
  },
  "language_info": {
   "codemirror_mode": {
    "name": "ipython",
    "version": 2
   },
   "file_extension": ".py",
   "mimetype": "text/x-python",
   "name": "python",
   "nbconvert_exporter": "python",
   "pygments_lexer": "ipython2",
   "version": "2.7.12"
  }
 },
 "nbformat": 4,
 "nbformat_minor": 0
}
