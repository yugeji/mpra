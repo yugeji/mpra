{
 "cells": [
  {
   "cell_type": "code",
   "execution_count": 292,
   "metadata": {
    "collapsed": true
   },
   "outputs": [],
   "source": [
    "import numpy as np\n",
    "import os\n",
    "import pandas as pd\n",
    "import seaborn as sns\n",
    "sns.set_style('whitegrid')\n",
    "import matplotlib.pyplot as plt\n",
    "plt.style.use('seaborn-whitegrid')\n",
    "%matplotlib inline"
   ]
  },
  {
   "cell_type": "code",
   "execution_count": 4,
   "metadata": {
    "collapsed": false
   },
   "outputs": [],
   "source": [
    "df = pd.read_csv(\"/home/alvin/Dropbox/Lab/CNN/data/processed_cnn/K562_act_feat.txt\", sep = \"\\t\")\n"
   ]
  },
  {
   "cell_type": "code",
   "execution_count": 12,
   "metadata": {
    "collapsed": false
   },
   "outputs": [
    {
     "name": "stdout",
     "output_type": "stream",
     "text": [
      "2065\n",
      "2065\n"
     ]
    }
   ],
   "source": [
    "import motif_processor\n",
    "reload(motif_processor)\n",
    "processorObj = motif_processor.MotifProcessor()\n",
    "print(len(processorObj.all_motifs))\n",
    "print(len(processorObj.motif_names))\n",
    "motif_tensor, motif_names = processorObj.generate_custom_CNN_filters(max_length = 18, padding = 0, truncate = False)"
   ]
  },
  {
   "cell_type": "code",
   "execution_count": 5,
   "metadata": {
    "collapsed": false
   },
   "outputs": [
    {
     "data": {
      "text/html": [
       "<div>\n",
       "<table border=\"1\" class=\"dataframe\">\n",
       "  <thead>\n",
       "    <tr style=\"text-align: right;\">\n",
       "      <th></th>\n",
       "      <th>phastCon46wayPlacental</th>\n",
       "      <th>ARID3A</th>\n",
       "      <th>ATF1</th>\n",
       "      <th>ATF2</th>\n",
       "      <th>ATF3</th>\n",
       "      <th>BACH1</th>\n",
       "      <th>BATF</th>\n",
       "      <th>BCL11A</th>\n",
       "      <th>BCL3</th>\n",
       "      <th>BCLAF1</th>\n",
       "      <th>...</th>\n",
       "      <th>hAT</th>\n",
       "      <th>hAT-Blackjack</th>\n",
       "      <th>hAT-Charlie</th>\n",
       "      <th>hAT-Tip100</th>\n",
       "      <th>rRNA</th>\n",
       "      <th>scRNA</th>\n",
       "      <th>snRNA</th>\n",
       "      <th>srpRNA</th>\n",
       "      <th>tRNA</th>\n",
       "      <th>telo</th>\n",
       "    </tr>\n",
       "  </thead>\n",
       "  <tbody>\n",
       "    <tr>\n",
       "      <th>K562_14_67_chr1_1047965</th>\n",
       "      <td>0.006560</td>\n",
       "      <td>0</td>\n",
       "      <td>0</td>\n",
       "      <td>0</td>\n",
       "      <td>0</td>\n",
       "      <td>0</td>\n",
       "      <td>0</td>\n",
       "      <td>0</td>\n",
       "      <td>0</td>\n",
       "      <td>0</td>\n",
       "      <td>...</td>\n",
       "      <td>0</td>\n",
       "      <td>0</td>\n",
       "      <td>0</td>\n",
       "      <td>0</td>\n",
       "      <td>0</td>\n",
       "      <td>0</td>\n",
       "      <td>0</td>\n",
       "      <td>0</td>\n",
       "      <td>0</td>\n",
       "      <td>0</td>\n",
       "    </tr>\n",
       "    <tr>\n",
       "      <th>K562_5_853_chr1_2187380</th>\n",
       "      <td>0.148173</td>\n",
       "      <td>0</td>\n",
       "      <td>1</td>\n",
       "      <td>1</td>\n",
       "      <td>0</td>\n",
       "      <td>0</td>\n",
       "      <td>0</td>\n",
       "      <td>0</td>\n",
       "      <td>0</td>\n",
       "      <td>0</td>\n",
       "      <td>...</td>\n",
       "      <td>0</td>\n",
       "      <td>0</td>\n",
       "      <td>0</td>\n",
       "      <td>0</td>\n",
       "      <td>0</td>\n",
       "      <td>0</td>\n",
       "      <td>0</td>\n",
       "      <td>0</td>\n",
       "      <td>0</td>\n",
       "      <td>0</td>\n",
       "    </tr>\n",
       "    <tr>\n",
       "      <th>Huvec_1_148_chr1_2323120</th>\n",
       "      <td>0.144947</td>\n",
       "      <td>0</td>\n",
       "      <td>0</td>\n",
       "      <td>0</td>\n",
       "      <td>1</td>\n",
       "      <td>0</td>\n",
       "      <td>0</td>\n",
       "      <td>0</td>\n",
       "      <td>0</td>\n",
       "      <td>1</td>\n",
       "      <td>...</td>\n",
       "      <td>0</td>\n",
       "      <td>0</td>\n",
       "      <td>0</td>\n",
       "      <td>0</td>\n",
       "      <td>0</td>\n",
       "      <td>0</td>\n",
       "      <td>0</td>\n",
       "      <td>0</td>\n",
       "      <td>0</td>\n",
       "      <td>0</td>\n",
       "    </tr>\n",
       "    <tr>\n",
       "      <th>H1hesc_8_197_chr1_3157690</th>\n",
       "      <td>0.037927</td>\n",
       "      <td>0</td>\n",
       "      <td>0</td>\n",
       "      <td>0</td>\n",
       "      <td>0</td>\n",
       "      <td>0</td>\n",
       "      <td>0</td>\n",
       "      <td>0</td>\n",
       "      <td>0</td>\n",
       "      <td>0</td>\n",
       "      <td>...</td>\n",
       "      <td>0</td>\n",
       "      <td>0</td>\n",
       "      <td>0</td>\n",
       "      <td>0</td>\n",
       "      <td>0</td>\n",
       "      <td>0</td>\n",
       "      <td>0</td>\n",
       "      <td>0</td>\n",
       "      <td>0</td>\n",
       "      <td>0</td>\n",
       "    </tr>\n",
       "    <tr>\n",
       "      <th>K562_4_116_chr1_3229865</th>\n",
       "      <td>0.058547</td>\n",
       "      <td>0</td>\n",
       "      <td>1</td>\n",
       "      <td>0</td>\n",
       "      <td>1</td>\n",
       "      <td>1</td>\n",
       "      <td>1</td>\n",
       "      <td>0</td>\n",
       "      <td>0</td>\n",
       "      <td>0</td>\n",
       "      <td>...</td>\n",
       "      <td>0</td>\n",
       "      <td>0</td>\n",
       "      <td>0</td>\n",
       "      <td>0</td>\n",
       "      <td>0</td>\n",
       "      <td>0</td>\n",
       "      <td>0</td>\n",
       "      <td>0</td>\n",
       "      <td>0</td>\n",
       "      <td>0</td>\n",
       "    </tr>\n",
       "  </tbody>\n",
       "</table>\n",
       "<p>5 rows × 1232 columns</p>\n",
       "</div>"
      ],
      "text/plain": [
       "                           phastCon46wayPlacental  ARID3A  ATF1  ATF2  ATF3  \\\n",
       "K562_14_67_chr1_1047965                  0.006560       0     0     0     0   \n",
       "K562_5_853_chr1_2187380                  0.148173       0     1     1     0   \n",
       "Huvec_1_148_chr1_2323120                 0.144947       0     0     0     1   \n",
       "H1hesc_8_197_chr1_3157690                0.037927       0     0     0     0   \n",
       "K562_4_116_chr1_3229865                  0.058547       0     1     0     1   \n",
       "\n",
       "                           BACH1  BATF  BCL11A  BCL3  BCLAF1  ...   hAT  \\\n",
       "K562_14_67_chr1_1047965        0     0       0     0       0  ...     0   \n",
       "K562_5_853_chr1_2187380        0     0       0     0       0  ...     0   \n",
       "Huvec_1_148_chr1_2323120       0     0       0     0       1  ...     0   \n",
       "H1hesc_8_197_chr1_3157690      0     0       0     0       0  ...     0   \n",
       "K562_4_116_chr1_3229865        1     1       0     0       0  ...     0   \n",
       "\n",
       "                           hAT-Blackjack  hAT-Charlie  hAT-Tip100  rRNA  \\\n",
       "K562_14_67_chr1_1047965                0            0           0     0   \n",
       "K562_5_853_chr1_2187380                0            0           0     0   \n",
       "Huvec_1_148_chr1_2323120               0            0           0     0   \n",
       "H1hesc_8_197_chr1_3157690              0            0           0     0   \n",
       "K562_4_116_chr1_3229865                0            0           0     0   \n",
       "\n",
       "                           scRNA  snRNA  srpRNA  tRNA  telo  \n",
       "K562_14_67_chr1_1047965        0      0       0     0     0  \n",
       "K562_5_853_chr1_2187380        0      0       0     0     0  \n",
       "Huvec_1_148_chr1_2323120       0      0       0     0     0  \n",
       "H1hesc_8_197_chr1_3157690      0      0       0     0     0  \n",
       "K562_4_116_chr1_3229865        0      0       0     0     0  \n",
       "\n",
       "[5 rows x 1232 columns]"
      ]
     },
     "execution_count": 5,
     "metadata": {},
     "output_type": "execute_result"
    }
   ],
   "source": [
    "df.head(5)"
   ]
  },
  {
   "cell_type": "code",
   "execution_count": 6,
   "metadata": {
    "collapsed": false
   },
   "outputs": [
    {
     "data": {
      "text/plain": [
       "(12996, 1232)"
      ]
     },
     "execution_count": 6,
     "metadata": {},
     "output_type": "execute_result"
    }
   ],
   "source": [
    " df.shape"
   ]
  },
  {
   "cell_type": "code",
   "execution_count": null,
   "metadata": {
    "collapsed": true
   },
   "outputs": [],
   "source": []
  },
  {
   "cell_type": "code",
   "execution_count": 353,
   "metadata": {
    "collapsed": false,
    "scrolled": true
   },
   "outputs": [
    {
     "data": {
      "text/plain": [
       "<module 'common_utils' from 'common_utils.py'>"
      ]
     },
     "execution_count": 353,
     "metadata": {},
     "output_type": "execute_result"
    }
   ],
   "source": [
    "import common_utils \n",
    "reload(common_utils)"
   ]
  },
  {
   "cell_type": "code",
   "execution_count": 354,
   "metadata": {
    "collapsed": false
   },
   "outputs": [],
   "source": [
    "CrossValProcObj = common_utils.CrossValProcessor(output_dirs = [\"./HEPG2_act_alt_1_11/\", \"./HEPG2_rep_alt_1_11/\", \n",
    "                                                                      \"./K562_act_alt_1_11/\", \"./K562_act_alt_1_11/\",\n",
    "                                                                      \"./LCL_act_alt_1_11/\"])\n"
   ]
  },
  {
   "cell_type": "code",
   "execution_count": 362,
   "metadata": {
    "collapsed": true
   },
   "outputs": [],
   "source": [
    "pos, neg = CrossValProcObj.HepG2_binObj.positive_negative_indices(CrossValProcObj.HepG2_binObj.merged_tar)\n",
    "\n",
    "CrossValProcObj.HepG2_binObj.convert_to_fasta(CrossValProcObj.HepG2_binObj.merged_tensor, \n",
    "                                              CrossValProcObj.HepG2_binObj.anno_df[\"ID\"].values, \n",
    "                                              '/home/alvin/Dropbox/Lab/CNN/data/meme/HepG2_all.fasta')\n",
    "\n",
    "CrossValProcObj.HepG2_binObj.convert_to_fasta(CrossValProcObj.HepG2_binObj.merged_tensor[pos], \n",
    "                                              CrossValProcObj.HepG2_binObj.anno_df[\"ID\"].values[pos], \n",
    "                                              '/home/alvin/Dropbox/Lab/CNN/data/meme/HepG2_pos.fasta')\n",
    "CrossValProcObj.HepG2_binObj.convert_to_fasta(CrossValProcObj.HepG2_binObj.merged_tensor[neg], \n",
    "                                              CrossValProcObj.HepG2_binObj.anno_df[\"ID\"].values[neg], \n",
    "                                              '/home/alvin/Dropbox/Lab/CNN/data/meme/HepG2_neg.fasta')"
   ]
  },
  {
   "cell_type": "code",
   "execution_count": 363,
   "metadata": {
    "collapsed": false
   },
   "outputs": [],
   "source": [
    "pos, neg = CrossValProcObj.K562_binObj.positive_negative_indices(CrossValProcObj.K562_binObj.merged_tar)\n",
    "\n",
    "CrossValProcObj.K562_binObj.convert_to_fasta(CrossValProcObj.K562_binObj.merged_tensor, \n",
    "                                              CrossValProcObj.K562_binObj.anno_df[\"ID\"].values, \n",
    "                                              '/home/alvin/Dropbox/Lab/CNN/data/meme/K562_all.fasta')\n",
    "\n",
    "CrossValProcObj.K562_binObj.convert_to_fasta(CrossValProcObj.K562_binObj.merged_tensor[pos], \n",
    "                                              CrossValProcObj.K562_binObj.anno_df[\"ID\"].values[pos], \n",
    "                                              '/home/alvin/Dropbox/Lab/CNN/data/meme/K562_pos.fasta')\n",
    "CrossValProcObj.K562_binObj.convert_to_fasta(CrossValProcObj.K562_binObj.merged_tensor[neg], \n",
    "                                              CrossValProcObj.K562_binObj.anno_df[\"ID\"].values[neg], \n",
    "                                              '/home/alvin/Dropbox/Lab/CNN/data/meme/K562_neg.fasta')"
   ]
  },
  {
   "cell_type": "code",
   "execution_count": 364,
   "metadata": {
    "collapsed": true
   },
   "outputs": [],
   "source": [
    "pos, neg = CrossValProcObj.LCL_binObj.positive_negative_indices(CrossValProcObj.LCL_binObj.merged_tar)\n",
    "\n",
    "CrossValProcObj.LCL_binObj.convert_to_fasta(CrossValProcObj.LCL_binObj.merged_tensor, \n",
    "                                              CrossValProcObj.LCL_binObj.anno_df[\"ID\"].values, \n",
    "                                              '/home/alvin/Dropbox/Lab/CNN/data/meme/LCL_all.fasta')\n",
    "\n",
    "CrossValProcObj.LCL_binObj.convert_to_fasta(CrossValProcObj.LCL_binObj.merged_tensor[pos], \n",
    "                                              CrossValProcObj.LCL_binObj.anno_df[\"ID\"].values[pos], \n",
    "                                              '/home/alvin/Dropbox/Lab/CNN/data/meme/LCL_pos.fasta')\n",
    "CrossValProcObj.LCL_binObj.convert_to_fasta(CrossValProcObj.LCL_binObj.merged_tensor[neg], \n",
    "                                              CrossValProcObj.LCL_binObj.anno_df[\"ID\"].values[neg], \n",
    "                                              '/home/alvin/Dropbox/Lab/CNN/data/meme/LCL_neg.fasta')"
   ]
  },
  {
   "cell_type": "code",
   "execution_count": 255,
   "metadata": {
    "collapsed": true
   },
   "outputs": [],
   "source": [
    "X_train = CrossValProcObj.HepG2_dict['chr1']['X_train'] \n",
    "X_test = CrossValProcObj.HepG2_dict['chr1']['X_test'] \n",
    "Y_train = CrossValProcObj.HepG2_dict['chr1']['Y_train'] \n",
    "Y_test = CrossValProcObj.HepG2_dict['chr1']['Y_test']\n",
    "chrom_indices = CrossValProcObj.HepG2_dict['chr1']['chrom_indices']\n",
    "other_indices = CrossValProcObj.HepG2_dict['chr1']['other_indices']\n",
    "merged_tensor = CrossValProcObj.HepG2_binObj.merged_tensor\n",
    "merged_tar = CrossValProcObj.HepG2_binObj.merged_tar\n",
    "merged_RC_tensor = CrossValProcObj.HepG2_binObj.merged_RC_tensor\n",
    "features_df = CrossValProcObj.HepG2_binObj.feature_df"
   ]
  },
  {
   "cell_type": "code",
   "execution_count": 235,
   "metadata": {
    "collapsed": false,
    "scrolled": true
   },
   "outputs": [
    {
     "data": {
      "text/plain": [
       "(12170, 1232)"
      ]
     },
     "execution_count": 235,
     "metadata": {},
     "output_type": "execute_result"
    }
   ],
   "source": [
    "features_df.shape"
   ]
  },
  {
   "cell_type": "code",
   "execution_count": 236,
   "metadata": {
    "collapsed": false
   },
   "outputs": [
    {
     "data": {
      "text/plain": [
       "(12169, 1, 4, 150)"
      ]
     },
     "execution_count": 236,
     "metadata": {},
     "output_type": "execute_result"
    }
   ],
   "source": [
    "merged_tensor.shape"
   ]
  },
  {
   "cell_type": "code",
   "execution_count": null,
   "metadata": {
    "collapsed": true
   },
   "outputs": [],
   "source": [
    "pd.read_csv(\"/home/alvin/Dropbox/Lab/CNN/data/processed_cnn/HEPG2_act_mpra_dna.txt\")"
   ]
  },
  {
   "cell_type": "code",
   "execution_count": 372,
   "metadata": {
    "collapsed": false
   },
   "outputs": [
    {
     "data": {
      "text/plain": [
       "<module 'alt_conv_model_1_5_2017' from 'alt_conv_model_1_5_2017.py'>"
      ]
     },
     "execution_count": 372,
     "metadata": {},
     "output_type": "execute_result"
    }
   ],
   "source": [
    "import alt_conv_model_1_5_2017\n",
    "reload(alt_conv_model_1_5_2017)"
   ]
  },
  {
   "cell_type": "code",
   "execution_count": 275,
   "metadata": {
    "collapsed": true
   },
   "outputs": [],
   "source": [
    "ConvLayerObj = alt_conv_model_1_5_2017.ConvLayer(motif_tensor)"
   ]
  },
  {
   "cell_type": "code",
   "execution_count": 316,
   "metadata": {
    "collapsed": true
   },
   "outputs": [],
   "source": [
    "from sklearn.preprocessing import StandardScaler"
   ]
  },
  {
   "cell_type": "code",
   "execution_count": 318,
   "metadata": {
    "collapsed": false
   },
   "outputs": [],
   "source": [
    "def scaler(X):\n",
    "    std = StandardScaler()\n",
    "    std.fit(X)\n",
    "    return std.transform(X)"
   ]
  },
  {
   "cell_type": "code",
   "execution_count": 349,
   "metadata": {
    "collapsed": true
   },
   "outputs": [],
   "source": [
    "def quick_CV_log_Reg(Obj, in_dict):\n",
    "    all_probs = np.empty([1,])\n",
    "    all_labels = np.empty([1,], dtype = bool)\n",
    "    for chrom in sorted(in_dict.iterkeys()):\n",
    "        input_dict = in_dict[chrom]\n",
    "        pos_indices = input_dict[\"chrom_indices\"]\n",
    "        neg_indices = input_dict[\"other_indices\"]\n",
    "        probs, labels = Obj.LogisticRegCVPredict(pos_indices, neg_indices)\n",
    "        np.append(all_probs.flatten(), probs.flatten())\n",
    "        np.append(all_labels, labels.flatten())\n",
    "        binObj = common_utils.ClassificationResult(labels, probs)\n",
    "        print \"%s\\t%s\"%(str(chrom), str(binObj))\n",
    "    allbinObj = common_utils.ClassificationResult(labels, probs)\n",
    "    print \"%s\\t%s\"%(str(chrom), str(binObj))"
   ]
  },
  {
   "cell_type": "code",
   "execution_count": 387,
   "metadata": {
    "collapsed": true
   },
   "outputs": [],
   "source": [
    "def pred_Other(TrainObj, PredObj):\n",
    "    all_index = np.arange(TrainObj.X_conv.shape[0])\n",
    "    cvLogReg = TrainObj.LogisticRegCVPredict([], all_index, train_only = True)\n",
    "    elasticNet = TrainObj.ElasticNet([], all_index, train_only = True)\n",
    "    RF = TrainObj.RandomForest([], all_index, train_only = True)\n",
    "    GB = TrainObj.GradientBoosting([], all_index, train_only = True)\n",
    "    NN = TrainObj.MLP([], all_index, train_only = True)\n",
    "    cvLogRegResult = common_utils.ClassificationResult(PredObj.Y.astype(bool),cvLogReg.predict_proba(scaler(PredObj.X_comb_conv))[:,1])\n",
    "    ElasticNetResult = common_utils.ClassificationResult(PredObj.Y.astype(bool),elasticNet.predict_proba(scaler(PredObj.X_comb_conv))[:,1])\n",
    "    RFResult = common_utils.ClassificationResult(PredObj.Y.astype(bool),RF.predict_proba(scaler(PredObj.X_comb_conv))[:,1])\n",
    "    GradientBoostingResult = common_utils.ClassificationResult(PredObj.Y.astype(bool),GB.predict_proba(scaler(PredObj.X_comb_conv))[:,1])\n",
    "    MLPResult = common_utils.ClassificationResult(PredObj.Y.astype(bool),NN.predict_proba(scaler(PredObj.X_comb_conv))[:,1])\n",
    "    return cvLogRegResult, ElasticNetResult, RFResult, GradientBoostingResult, MLPResult"
   ]
  },
  {
   "cell_type": "code",
   "execution_count": 385,
   "metadata": {
    "collapsed": false
   },
   "outputs": [],
   "source": [
    "def pred_NN(TrainObj, PredObj):\n",
    "    all_index = np.arange(TrainObj.X_conv.shape[0])\n",
    "    NN = TrainObj.MLP([], all_index, hidden_layer_sizes = (50,) ,train_only = True)\n",
    "    MLPResult = common_utils.ClassificationResult(PredObj.Y.astype(bool),NN.predict_proba(scaler(PredObj.X_comb_conv))[:,1])\n",
    "    return MLPResult"
   ]
  },
  {
   "cell_type": "code",
   "execution_count": null,
   "metadata": {
    "collapsed": true
   },
   "outputs": [],
   "source": []
  },
  {
   "cell_type": "code",
   "execution_count": 373,
   "metadata": {
    "collapsed": false
   },
   "outputs": [],
   "source": [
    "LCLConvLayerObj = alt_conv_model_1_5_2017.ConvPredictor(CrossValProcObj.LCL_binObj.merged_tensor, CrossValProcObj.LCL_binObj.merged_RC_tensor, \n",
    "                                                        CrossValProcObj.LCL_binObj.merged_tar,\n",
    "                                                    motif_tensor.shape, ConvLayerObj, CrossValProcObj.LCL_binObj.feature_df, \n",
    "                                                    RC= True, combine_RC = True, RC_max = True, add_features = True)"
   ]
  },
  {
   "cell_type": "code",
   "execution_count": 374,
   "metadata": {
    "collapsed": false
   },
   "outputs": [],
   "source": [
    "HepG2ConvLayerObj = alt_conv_model_1_5_2017.ConvPredictor(CrossValProcObj.HepG2_binObj.merged_tensor, CrossValProcObj.HepG2_binObj.merged_RC_tensor, \n",
    "                                                        CrossValProcObj.HepG2_binObj.merged_tar,\n",
    "                                                    motif_tensor.shape, ConvLayerObj, CrossValProcObj.HepG2_binObj.feature_df, \n",
    "                                                    RC= True, combine_RC = True, RC_max = True, add_features = True, debug = True)"
   ]
  },
  {
   "cell_type": "code",
   "execution_count": 375,
   "metadata": {
    "collapsed": false
   },
   "outputs": [],
   "source": [
    "K562ConvLayerObj = alt_conv_model_1_5_2017.ConvPredictor(CrossValProcObj.K562_binObj.merged_tensor, CrossValProcObj.K562_binObj.merged_RC_tensor, \n",
    "                                                        CrossValProcObj.K562_binObj.merged_tar,\n",
    "                                                    motif_tensor.shape, ConvLayerObj, CrossValProcObj.K562_binObj.feature_df, \n",
    "                                                    RC= True, combine_RC = True, RC_max = True, add_features = True, debug = True)"
   ]
  },
  {
   "cell_type": "code",
   "execution_count": 351,
   "metadata": {
    "collapsed": false
   },
   "outputs": [
    {
     "name": "stdout",
     "output_type": "stream",
     "text": [
      "chr1\t0.4441\t72.0982\t0.7890\t0.4996\t0.8906\t0.0041\t12.1951\t14.6341\t23.1707\t246.0000\t1626.0000\n",
      "chr10\t0.3872\t76.5935\t0.8468\t0.5023\t0.9461\t0.0098\t18.6275\t19.6078\t20.5882\t102.0000\t965.0000\n",
      "chr11\t0.4147\t78.4089\t0.8560\t0.5852\t0.9407\t0.0065\t19.4805\t24.6753\t26.6234\t154.0000\t1081.0000\n",
      "chr12\t0.4698\t72.1525\t0.8040\t0.5309\t0.9196\t0.0090\t15.3153\t27.9279\t31.5315\t111.0000\t784.0000\n",
      "chr13\t0.3815\t81.2357\t0.8939\t0.5742\t0.9609\t0.0435\t17.3913\t17.3913\t39.1304\t23.0000\t209.0000\n",
      "chr14\t0.4461\t74.1182\t0.7997\t0.5937\t0.9153\t0.0119\t16.6667\t26.1905\t38.0952\t84.0000\t486.0000\n",
      "chr15\t0.4649\t76.9850\t0.8334\t0.5198\t0.8926\t0.0105\t5.2632\t5.2632\t6.3158\t95.0000\t619.0000\n"
     ]
    },
    {
     "name": "stderr",
     "output_type": "stream",
     "text": [
      "Process PoolWorker-76:\n",
      "Traceback (most recent call last):\n",
      "  File \"/usr/lib/python2.7/multiprocessing/process.py\", line 258, in _bootstrap\n",
      "    self.run()\n",
      "  File \"/usr/lib/python2.7/multiprocessing/process.py\", line 114, in run\n",
      "    self._target(*self._args, **self._kwargs)\n",
      "  File \"/usr/lib/python2.7/multiprocessing/pool.py\", line 102, in worker\n",
      "    task = get()\n",
      "  File \"/usr/local/lib/python2.7/dist-packages/sklearn/externals/joblib/pool.py\", line 362, in get\n",
      "    return recv()\n",
      "KeyboardInterrupt\n"
     ]
    },
    {
     "ename": "KeyboardInterrupt",
     "evalue": "",
     "output_type": "error",
     "traceback": [
      "\u001b[0;31m---------------------------------------------------------------------------\u001b[0m",
      "\u001b[0;31mKeyboardInterrupt\u001b[0m                         Traceback (most recent call last)",
      "\u001b[0;32m<ipython-input-351-5f16e4bd476e>\u001b[0m in \u001b[0;36m<module>\u001b[0;34m()\u001b[0m\n\u001b[0;32m----> 1\u001b[0;31m \u001b[0mquick_CV_log_Reg\u001b[0m\u001b[0;34m(\u001b[0m\u001b[0mLCLConvLayerObj\u001b[0m\u001b[0;34m,\u001b[0m \u001b[0mCrossValProcObj\u001b[0m\u001b[0;34m.\u001b[0m\u001b[0mLCL_dict\u001b[0m\u001b[0;34m)\u001b[0m\u001b[0;34m\u001b[0m\u001b[0m\n\u001b[0m",
      "\u001b[0;32m<ipython-input-349-23fe97162102>\u001b[0m in \u001b[0;36mquick_CV_log_Reg\u001b[0;34m(Obj, in_dict)\u001b[0m\n\u001b[1;32m      6\u001b[0m         \u001b[0mpos_indices\u001b[0m \u001b[0;34m=\u001b[0m \u001b[0minput_dict\u001b[0m\u001b[0;34m[\u001b[0m\u001b[0;34m\"chrom_indices\"\u001b[0m\u001b[0;34m]\u001b[0m\u001b[0;34m\u001b[0m\u001b[0m\n\u001b[1;32m      7\u001b[0m         \u001b[0mneg_indices\u001b[0m \u001b[0;34m=\u001b[0m \u001b[0minput_dict\u001b[0m\u001b[0;34m[\u001b[0m\u001b[0;34m\"other_indices\"\u001b[0m\u001b[0;34m]\u001b[0m\u001b[0;34m\u001b[0m\u001b[0m\n\u001b[0;32m----> 8\u001b[0;31m         \u001b[0mprobs\u001b[0m\u001b[0;34m,\u001b[0m \u001b[0mlabels\u001b[0m \u001b[0;34m=\u001b[0m \u001b[0mObj\u001b[0m\u001b[0;34m.\u001b[0m\u001b[0mLogisticRegCVPredict\u001b[0m\u001b[0;34m(\u001b[0m\u001b[0mpos_indices\u001b[0m\u001b[0;34m,\u001b[0m \u001b[0mneg_indices\u001b[0m\u001b[0;34m)\u001b[0m\u001b[0;34m\u001b[0m\u001b[0m\n\u001b[0m\u001b[1;32m      9\u001b[0m         \u001b[0mnp\u001b[0m\u001b[0;34m.\u001b[0m\u001b[0mappend\u001b[0m\u001b[0;34m(\u001b[0m\u001b[0mall_probs\u001b[0m\u001b[0;34m.\u001b[0m\u001b[0mflatten\u001b[0m\u001b[0;34m(\u001b[0m\u001b[0;34m)\u001b[0m\u001b[0;34m,\u001b[0m \u001b[0mprobs\u001b[0m\u001b[0;34m.\u001b[0m\u001b[0mflatten\u001b[0m\u001b[0;34m(\u001b[0m\u001b[0;34m)\u001b[0m\u001b[0;34m)\u001b[0m\u001b[0;34m\u001b[0m\u001b[0m\n\u001b[1;32m     10\u001b[0m         \u001b[0mnp\u001b[0m\u001b[0;34m.\u001b[0m\u001b[0mappend\u001b[0m\u001b[0;34m(\u001b[0m\u001b[0mall_labels\u001b[0m\u001b[0;34m,\u001b[0m \u001b[0mlabels\u001b[0m\u001b[0;34m.\u001b[0m\u001b[0mflatten\u001b[0m\u001b[0;34m(\u001b[0m\u001b[0;34m)\u001b[0m\u001b[0;34m)\u001b[0m\u001b[0;34m\u001b[0m\u001b[0m\n",
      "\u001b[0;32m/home/alvin/Dropbox/Lab/CNN/deeplift/alt_conv_model_1_5_2017.pyc\u001b[0m in \u001b[0;36mLogisticRegCVPredict\u001b[0;34m(self, chrom_indices, other_indices, penalty, solver, tol, n_jobs, max_iter, should_scale, train_only)\u001b[0m\n\u001b[1;32m    208\u001b[0m             \u001b[0;32mif\u001b[0m \u001b[0;32mnot\u001b[0m \u001b[0mtrain_only\u001b[0m\u001b[0;34m:\u001b[0m\u001b[0;34m\u001b[0m\u001b[0m\n\u001b[1;32m    209\u001b[0m                 \u001b[0mX_test\u001b[0m \u001b[0;34m=\u001b[0m \u001b[0mself\u001b[0m\u001b[0;34m.\u001b[0m\u001b[0mX_comb_conv\u001b[0m\u001b[0;34m[\u001b[0m\u001b[0mchrom_indices\u001b[0m\u001b[0;34m]\u001b[0m\u001b[0;34m\u001b[0m\u001b[0m\n\u001b[0;32m--> 210\u001b[0;31m         \u001b[0mself\u001b[0m\u001b[0;34m.\u001b[0m\u001b[0mLogisticRegCVObj\u001b[0m\u001b[0;34m.\u001b[0m\u001b[0mfit\u001b[0m\u001b[0;34m(\u001b[0m\u001b[0mX_train\u001b[0m\u001b[0;34m,\u001b[0m \u001b[0mself\u001b[0m\u001b[0;34m.\u001b[0m\u001b[0mY\u001b[0m\u001b[0;34m[\u001b[0m\u001b[0mother_indices\u001b[0m\u001b[0;34m]\u001b[0m\u001b[0;34m)\u001b[0m\u001b[0;34m\u001b[0m\u001b[0m\n\u001b[0m\u001b[1;32m    211\u001b[0m         \u001b[0mself\u001b[0m\u001b[0;34m.\u001b[0m\u001b[0mclassifier_dict\u001b[0m\u001b[0;34m[\u001b[0m\u001b[0;34m'LogisticRegCV'\u001b[0m\u001b[0;34m]\u001b[0m \u001b[0;34m=\u001b[0m \u001b[0mself\u001b[0m\u001b[0;34m.\u001b[0m\u001b[0mLogisticRegCVObj\u001b[0m\u001b[0;34m\u001b[0m\u001b[0m\n\u001b[1;32m    212\u001b[0m         \u001b[0;32mif\u001b[0m \u001b[0mtrain_only\u001b[0m\u001b[0;34m:\u001b[0m\u001b[0;34m\u001b[0m\u001b[0m\n",
      "\u001b[0;32m/usr/local/lib/python2.7/dist-packages/sklearn/linear_model/logistic.pyc\u001b[0m in \u001b[0;36mfit\u001b[0;34m(self, X, y, sample_weight)\u001b[0m\n\u001b[1;32m   1630\u001b[0m                       \u001b[0msample_weight\u001b[0m\u001b[0;34m=\u001b[0m\u001b[0msample_weight\u001b[0m\u001b[0;34m\u001b[0m\u001b[0m\n\u001b[1;32m   1631\u001b[0m                       )\n\u001b[0;32m-> 1632\u001b[0;31m             \u001b[0;32mfor\u001b[0m \u001b[0mlabel\u001b[0m \u001b[0;32min\u001b[0m \u001b[0miter_labels\u001b[0m\u001b[0;34m\u001b[0m\u001b[0m\n\u001b[0m\u001b[1;32m   1633\u001b[0m             for train, test in folds)\n\u001b[1;32m   1634\u001b[0m \u001b[0;34m\u001b[0m\u001b[0m\n",
      "\u001b[0;32m/usr/local/lib/python2.7/dist-packages/sklearn/externals/joblib/parallel.pyc\u001b[0m in \u001b[0;36m__call__\u001b[0;34m(self, iterable)\u001b[0m\n\u001b[1;32m    766\u001b[0m                 \u001b[0;31m# consumption.\u001b[0m\u001b[0;34m\u001b[0m\u001b[0;34m\u001b[0m\u001b[0m\n\u001b[1;32m    767\u001b[0m                 \u001b[0mself\u001b[0m\u001b[0;34m.\u001b[0m\u001b[0m_iterating\u001b[0m \u001b[0;34m=\u001b[0m \u001b[0mFalse\u001b[0m\u001b[0;34m\u001b[0m\u001b[0m\n\u001b[0;32m--> 768\u001b[0;31m             \u001b[0mself\u001b[0m\u001b[0;34m.\u001b[0m\u001b[0mretrieve\u001b[0m\u001b[0;34m(\u001b[0m\u001b[0;34m)\u001b[0m\u001b[0;34m\u001b[0m\u001b[0m\n\u001b[0m\u001b[1;32m    769\u001b[0m             \u001b[0;31m# Make sure that we get a last message telling us we are done\u001b[0m\u001b[0;34m\u001b[0m\u001b[0;34m\u001b[0m\u001b[0m\n\u001b[1;32m    770\u001b[0m             \u001b[0melapsed_time\u001b[0m \u001b[0;34m=\u001b[0m \u001b[0mtime\u001b[0m\u001b[0;34m.\u001b[0m\u001b[0mtime\u001b[0m\u001b[0;34m(\u001b[0m\u001b[0;34m)\u001b[0m \u001b[0;34m-\u001b[0m \u001b[0mself\u001b[0m\u001b[0;34m.\u001b[0m\u001b[0m_start_time\u001b[0m\u001b[0;34m\u001b[0m\u001b[0m\n",
      "\u001b[0;32m/usr/local/lib/python2.7/dist-packages/sklearn/externals/joblib/parallel.pyc\u001b[0m in \u001b[0;36mretrieve\u001b[0;34m(self)\u001b[0m\n\u001b[1;32m    717\u001b[0m                     \u001b[0mensure_ready\u001b[0m \u001b[0;34m=\u001b[0m \u001b[0mself\u001b[0m\u001b[0;34m.\u001b[0m\u001b[0m_managed_backend\u001b[0m\u001b[0;34m\u001b[0m\u001b[0m\n\u001b[1;32m    718\u001b[0m                     \u001b[0mbackend\u001b[0m\u001b[0;34m.\u001b[0m\u001b[0mabort_everything\u001b[0m\u001b[0;34m(\u001b[0m\u001b[0mensure_ready\u001b[0m\u001b[0;34m=\u001b[0m\u001b[0mensure_ready\u001b[0m\u001b[0;34m)\u001b[0m\u001b[0;34m\u001b[0m\u001b[0m\n\u001b[0;32m--> 719\u001b[0;31m                 \u001b[0;32mraise\u001b[0m \u001b[0mexception\u001b[0m\u001b[0;34m\u001b[0m\u001b[0m\n\u001b[0m\u001b[1;32m    720\u001b[0m \u001b[0;34m\u001b[0m\u001b[0m\n\u001b[1;32m    721\u001b[0m     \u001b[0;32mdef\u001b[0m \u001b[0m__call__\u001b[0m\u001b[0;34m(\u001b[0m\u001b[0mself\u001b[0m\u001b[0;34m,\u001b[0m \u001b[0miterable\u001b[0m\u001b[0;34m)\u001b[0m\u001b[0;34m:\u001b[0m\u001b[0;34m\u001b[0m\u001b[0m\n",
      "\u001b[0;31mKeyboardInterrupt\u001b[0m: "
     ]
    }
   ],
   "source": [
    "quick_CV_log_Reg(LCLConvLayerObj, CrossValProcObj.LCL_dict)"
   ]
  },
  {
   "cell_type": "code",
   "execution_count": 352,
   "metadata": {
    "collapsed": false,
    "scrolled": true
   },
   "outputs": [
    {
     "name": "stdout",
     "output_type": "stream",
     "text": [
      "chr1\t0.2529\t84.7988\t0.9431\t0.7415\t0.9822\t0.0070\t27.2727\t38.4615\t52.4476\t143.0000\t1134.0000\n",
      "chr10\t0.2719\t83.9111\t0.9179\t0.7103\t0.9686\t0.0122\t24.3902\t25.6098\t32.9268\t82.0000\t565.0000\n",
      "chr11\t0.2839\t83.6635\t0.9287\t0.7358\t0.9716\t0.0119\t25.0000\t48.8095\t53.5714\t84.0000\t557.0000\n",
      "chr12\t0.2375\t83.6793\t0.9315\t0.7409\t0.9826\t0.0130\t36.3636\t40.2597\t50.6494\t77.0000\t590.0000\n",
      "chr13\t0.2240\t71.0245\t0.8956\t0.5796\t0.9698\t0.0357\t25.0000\t25.0000\t35.7143\t28.0000\t274.0000\n",
      "chr14\t0.1982\t87.5169\t0.9401\t0.7995\t0.9862\t0.0213\t27.6596\t57.4468\t65.9574\t47.0000\t361.0000\n",
      "chr15\t0.3675\t83.2237\t0.9045\t0.6743\t0.9433\t0.0175\t7.0175\t7.0175\t49.1228\t57.0000\t360.0000\n",
      "chr16\t0.3410\t83.6990\t0.9279\t0.7929\t0.9487\t0.0105\t8.4211\t44.2105\t51.5789\t95.0000\t355.0000\n",
      "chr17\t0.2929\t81.7875\t0.9310\t0.7632\t0.9685\t0.0119\t33.3333\t42.8571\t52.3810\t84.0000\t469.0000\n"
     ]
    },
    {
     "name": "stderr",
     "output_type": "stream",
     "text": [
      "Process PoolWorker-116:\n"
     ]
    },
    {
     "ename": "KeyboardInterrupt",
     "evalue": "",
     "output_type": "error",
     "traceback": [
      "\u001b[0;31m---------------------------------------------------------------------------\u001b[0m",
      "\u001b[0;31mKeyboardInterrupt\u001b[0m                         Traceback (most recent call last)",
      "\u001b[0;32m<ipython-input-352-42a0a50ec022>\u001b[0m in \u001b[0;36m<module>\u001b[0;34m()\u001b[0m\n\u001b[0;32m----> 1\u001b[0;31m \u001b[0mquick_CV_log_Reg\u001b[0m\u001b[0;34m(\u001b[0m\u001b[0mK562ConvLayerObj\u001b[0m\u001b[0;34m,\u001b[0m \u001b[0mCrossValProcObj\u001b[0m\u001b[0;34m.\u001b[0m\u001b[0mK562_dict\u001b[0m\u001b[0;34m)\u001b[0m\u001b[0;34m\u001b[0m\u001b[0m\n\u001b[0m",
      "\u001b[0;32m<ipython-input-349-23fe97162102>\u001b[0m in \u001b[0;36mquick_CV_log_Reg\u001b[0;34m(Obj, in_dict)\u001b[0m\n\u001b[1;32m      6\u001b[0m         \u001b[0mpos_indices\u001b[0m \u001b[0;34m=\u001b[0m \u001b[0minput_dict\u001b[0m\u001b[0;34m[\u001b[0m\u001b[0;34m\"chrom_indices\"\u001b[0m\u001b[0;34m]\u001b[0m\u001b[0;34m\u001b[0m\u001b[0m\n\u001b[1;32m      7\u001b[0m         \u001b[0mneg_indices\u001b[0m \u001b[0;34m=\u001b[0m \u001b[0minput_dict\u001b[0m\u001b[0;34m[\u001b[0m\u001b[0;34m\"other_indices\"\u001b[0m\u001b[0;34m]\u001b[0m\u001b[0;34m\u001b[0m\u001b[0m\n\u001b[0;32m----> 8\u001b[0;31m         \u001b[0mprobs\u001b[0m\u001b[0;34m,\u001b[0m \u001b[0mlabels\u001b[0m \u001b[0;34m=\u001b[0m \u001b[0mObj\u001b[0m\u001b[0;34m.\u001b[0m\u001b[0mLogisticRegCVPredict\u001b[0m\u001b[0;34m(\u001b[0m\u001b[0mpos_indices\u001b[0m\u001b[0;34m,\u001b[0m \u001b[0mneg_indices\u001b[0m\u001b[0;34m)\u001b[0m\u001b[0;34m\u001b[0m\u001b[0m\n\u001b[0m\u001b[1;32m      9\u001b[0m         \u001b[0mnp\u001b[0m\u001b[0;34m.\u001b[0m\u001b[0mappend\u001b[0m\u001b[0;34m(\u001b[0m\u001b[0mall_probs\u001b[0m\u001b[0;34m.\u001b[0m\u001b[0mflatten\u001b[0m\u001b[0;34m(\u001b[0m\u001b[0;34m)\u001b[0m\u001b[0;34m,\u001b[0m \u001b[0mprobs\u001b[0m\u001b[0;34m.\u001b[0m\u001b[0mflatten\u001b[0m\u001b[0;34m(\u001b[0m\u001b[0;34m)\u001b[0m\u001b[0;34m)\u001b[0m\u001b[0;34m\u001b[0m\u001b[0m\n\u001b[1;32m     10\u001b[0m         \u001b[0mnp\u001b[0m\u001b[0;34m.\u001b[0m\u001b[0mappend\u001b[0m\u001b[0;34m(\u001b[0m\u001b[0mall_labels\u001b[0m\u001b[0;34m,\u001b[0m \u001b[0mlabels\u001b[0m\u001b[0;34m.\u001b[0m\u001b[0mflatten\u001b[0m\u001b[0;34m(\u001b[0m\u001b[0;34m)\u001b[0m\u001b[0;34m)\u001b[0m\u001b[0;34m\u001b[0m\u001b[0m\n",
      "\u001b[0;32m/home/alvin/Dropbox/Lab/CNN/deeplift/alt_conv_model_1_5_2017.pyc\u001b[0m in \u001b[0;36mLogisticRegCVPredict\u001b[0;34m(self, chrom_indices, other_indices, penalty, solver, tol, n_jobs, max_iter, should_scale, train_only)\u001b[0m\n\u001b[1;32m    208\u001b[0m             \u001b[0;32mif\u001b[0m \u001b[0;32mnot\u001b[0m \u001b[0mtrain_only\u001b[0m\u001b[0;34m:\u001b[0m\u001b[0;34m\u001b[0m\u001b[0m\n\u001b[1;32m    209\u001b[0m                 \u001b[0mX_test\u001b[0m \u001b[0;34m=\u001b[0m \u001b[0mself\u001b[0m\u001b[0;34m.\u001b[0m\u001b[0mX_comb_conv\u001b[0m\u001b[0;34m[\u001b[0m\u001b[0mchrom_indices\u001b[0m\u001b[0;34m]\u001b[0m\u001b[0;34m\u001b[0m\u001b[0m\n\u001b[0;32m--> 210\u001b[0;31m         \u001b[0mself\u001b[0m\u001b[0;34m.\u001b[0m\u001b[0mLogisticRegCVObj\u001b[0m\u001b[0;34m.\u001b[0m\u001b[0mfit\u001b[0m\u001b[0;34m(\u001b[0m\u001b[0mX_train\u001b[0m\u001b[0;34m,\u001b[0m \u001b[0mself\u001b[0m\u001b[0;34m.\u001b[0m\u001b[0mY\u001b[0m\u001b[0;34m[\u001b[0m\u001b[0mother_indices\u001b[0m\u001b[0;34m]\u001b[0m\u001b[0;34m)\u001b[0m\u001b[0;34m\u001b[0m\u001b[0m\n\u001b[0m\u001b[1;32m    211\u001b[0m         \u001b[0mself\u001b[0m\u001b[0;34m.\u001b[0m\u001b[0mclassifier_dict\u001b[0m\u001b[0;34m[\u001b[0m\u001b[0;34m'LogisticRegCV'\u001b[0m\u001b[0;34m]\u001b[0m \u001b[0;34m=\u001b[0m \u001b[0mself\u001b[0m\u001b[0;34m.\u001b[0m\u001b[0mLogisticRegCVObj\u001b[0m\u001b[0;34m\u001b[0m\u001b[0m\n\u001b[1;32m    212\u001b[0m         \u001b[0;32mif\u001b[0m \u001b[0mtrain_only\u001b[0m\u001b[0;34m:\u001b[0m\u001b[0;34m\u001b[0m\u001b[0m\n",
      "\u001b[0;32m/usr/local/lib/python2.7/dist-packages/sklearn/linear_model/logistic.pyc\u001b[0m in \u001b[0;36mfit\u001b[0;34m(self, X, y, sample_weight)\u001b[0m\n\u001b[1;32m   1630\u001b[0m                       \u001b[0msample_weight\u001b[0m\u001b[0;34m=\u001b[0m\u001b[0msample_weight\u001b[0m\u001b[0;34m\u001b[0m\u001b[0m\n\u001b[1;32m   1631\u001b[0m                       )\n\u001b[0;32m-> 1632\u001b[0;31m             \u001b[0;32mfor\u001b[0m \u001b[0mlabel\u001b[0m \u001b[0;32min\u001b[0m \u001b[0miter_labels\u001b[0m\u001b[0;34m\u001b[0m\u001b[0m\n\u001b[0m\u001b[1;32m   1633\u001b[0m             for train, test in folds)\n\u001b[1;32m   1634\u001b[0m \u001b[0;34m\u001b[0m\u001b[0m\n",
      "\u001b[0;32m/usr/local/lib/python2.7/dist-packages/sklearn/externals/joblib/parallel.pyc\u001b[0m in \u001b[0;36m__call__\u001b[0;34m(self, iterable)\u001b[0m\n\u001b[1;32m    766\u001b[0m                 \u001b[0;31m# consumption.\u001b[0m\u001b[0;34m\u001b[0m\u001b[0;34m\u001b[0m\u001b[0m\n\u001b[1;32m    767\u001b[0m                 \u001b[0mself\u001b[0m\u001b[0;34m.\u001b[0m\u001b[0m_iterating\u001b[0m \u001b[0;34m=\u001b[0m \u001b[0mFalse\u001b[0m\u001b[0;34m\u001b[0m\u001b[0m\n\u001b[0;32m--> 768\u001b[0;31m             \u001b[0mself\u001b[0m\u001b[0;34m.\u001b[0m\u001b[0mretrieve\u001b[0m\u001b[0;34m(\u001b[0m\u001b[0;34m)\u001b[0m\u001b[0;34m\u001b[0m\u001b[0m\n\u001b[0m\u001b[1;32m    769\u001b[0m             \u001b[0;31m# Make sure that we get a last message telling us we are done\u001b[0m\u001b[0;34m\u001b[0m\u001b[0;34m\u001b[0m\u001b[0m\n\u001b[1;32m    770\u001b[0m             \u001b[0melapsed_time\u001b[0m \u001b[0;34m=\u001b[0m \u001b[0mtime\u001b[0m\u001b[0;34m.\u001b[0m\u001b[0mtime\u001b[0m\u001b[0;34m(\u001b[0m\u001b[0;34m)\u001b[0m \u001b[0;34m-\u001b[0m \u001b[0mself\u001b[0m\u001b[0;34m.\u001b[0m\u001b[0m_start_time\u001b[0m\u001b[0;34m\u001b[0m\u001b[0m\n",
      "\u001b[0;32m/usr/local/lib/python2.7/dist-packages/sklearn/externals/joblib/parallel.pyc\u001b[0m in \u001b[0;36mretrieve\u001b[0;34m(self)\u001b[0m\n\u001b[1;32m    717\u001b[0m                     \u001b[0mensure_ready\u001b[0m \u001b[0;34m=\u001b[0m \u001b[0mself\u001b[0m\u001b[0;34m.\u001b[0m\u001b[0m_managed_backend\u001b[0m\u001b[0;34m\u001b[0m\u001b[0m\n\u001b[1;32m    718\u001b[0m                     \u001b[0mbackend\u001b[0m\u001b[0;34m.\u001b[0m\u001b[0mabort_everything\u001b[0m\u001b[0;34m(\u001b[0m\u001b[0mensure_ready\u001b[0m\u001b[0;34m=\u001b[0m\u001b[0mensure_ready\u001b[0m\u001b[0;34m)\u001b[0m\u001b[0;34m\u001b[0m\u001b[0m\n\u001b[0;32m--> 719\u001b[0;31m                 \u001b[0;32mraise\u001b[0m \u001b[0mexception\u001b[0m\u001b[0;34m\u001b[0m\u001b[0m\n\u001b[0m\u001b[1;32m    720\u001b[0m \u001b[0;34m\u001b[0m\u001b[0m\n\u001b[1;32m    721\u001b[0m     \u001b[0;32mdef\u001b[0m \u001b[0m__call__\u001b[0m\u001b[0;34m(\u001b[0m\u001b[0mself\u001b[0m\u001b[0;34m,\u001b[0m \u001b[0miterable\u001b[0m\u001b[0;34m)\u001b[0m\u001b[0;34m:\u001b[0m\u001b[0;34m\u001b[0m\u001b[0m\n",
      "\u001b[0;31mKeyboardInterrupt\u001b[0m: "
     ]
    }
   ],
   "source": [
    "quick_CV_log_Reg(K562ConvLayerObj, CrossValProcObj.K562_dict)"
   ]
  },
  {
   "cell_type": "code",
   "execution_count": 386,
   "metadata": {
    "collapsed": false
   },
   "outputs": [
    {
     "name": "stdout",
     "output_type": "stream",
     "text": [
      "1.1345\t58.7928\t0.6974\t0.3607\t0.7570\t0.0004\t1.1191\t5.7762\t11.4079\t2770.0000\t18100.0000\n"
     ]
    }
   ],
   "source": [
    "e = pred_NN(K562ConvLayerObj, LCLConvLayerObj)\n",
    "print(str(e))"
   ]
  },
  {
   "cell_type": "code",
   "execution_count": 388,
   "metadata": {
    "collapsed": false,
    "scrolled": false
   },
   "outputs": [
    {
     "name": "stdout",
     "output_type": "stream",
     "text": [
      "0.4957\t62.1206\t0.6974\t0.3695\t0.7679\t0.0004\t4.4404\t7.5451\t12.3105\t2770.0000\t18100.0000\n",
      "5.7013\t60.7921\t0.6388\t0.3497\t0.6273\t0.0000\t0.0000\t0.0000\t0.0000\t2770.0000\t18100.0000\n",
      "0.3436\t52.9189\t0.7400\t0.4036\t0.8113\t0.0004\t4.2960\t9.6390\t13.2130\t2770.0000\t18100.0000\n",
      "0.3936\t62.8411\t0.7086\t0.3973\t0.8108\t0.0000\t2.7437\t6.3177\t14.5848\t2770.0000\t18100.0000\n",
      "1.1201\t58.4458\t0.6971\t0.3704\t0.7681\t0.0004\t3.6101\t7.9783\t12.4188\t2770.0000\t18100.0000\n"
     ]
    }
   ],
   "source": [
    "a,b,c,d,e = pred_Other(K562ConvLayerObj, LCLConvLayerObj)\n",
    "print(str(a))\n",
    "print(str(b))\n",
    "print(str(c))\n",
    "print(str(d))\n",
    "print(str(e))"
   ]
  },
  {
   "cell_type": "code",
   "execution_count": 390,
   "metadata": {
    "collapsed": false
   },
   "outputs": [
    {
     "name": "stdout",
     "output_type": "stream",
     "text": [
      "0.3562\t78.4833\t0.8552\t0.6410\t0.9388\t0.0006\t9.3436\t16.3217\t38.0840\t1691.0000\t10478.0000\n",
      "4.4177\t74.6289\t0.7955\t0.5777\t0.8282\t0.0000\t0.0000\t0.0000\t0.0000\t1691.0000\t10478.0000\n",
      "0.2643\t63.8617\t0.8765\t0.6919\t0.9548\t0.0006\t16.3808\t25.3696\t50.9758\t1691.0000\t10478.0000\n",
      "0.9906\t73.4793\t0.7915\t0.3578\t0.6078\t0.0012\t2.3655\t2.4837\t4.0804\t1691.0000\t10478.0000\n",
      "0.6406\t77.9372\t0.8648\t0.6800\t0.9500\t0.0006\t4.4944\t20.9344\t55.5884\t1691.0000\t10478.0000\n"
     ]
    }
   ],
   "source": [
    "a,b,c,d,e  = pred_Other(K562ConvLayerObj, HepG2ConvLayerObj)\n",
    "print(str(a))\n",
    "print(str(b))\n",
    "print(str(c))\n",
    "print(str(d))\n",
    "print(str(e))"
   ]
  },
  {
   "cell_type": "code",
   "execution_count": 391,
   "metadata": {
    "collapsed": false
   },
   "outputs": [
    {
     "name": "stdout",
     "output_type": "stream",
     "text": [
      "0.4859\t75.2595\t0.8261\t0.5308\t0.9205\t0.0006\t8.1505\t15.6113\t22.0063\t1595.0000\t11398.0000\n",
      "8.6105\t73.6390\t0.7721\t0.5206\t0.6537\t0.0000\t0.0000\t0.0000\t0.0000\t1595.0000\t11398.0000\n",
      "0.3436\t55.3756\t0.6864\t0.4186\t0.8437\t0.0006\t4.1379\t13.9185\t22.6959\t1595.0000\t11398.0000\n",
      "8.3054\t50.9342\t0.5202\t0.1593\t0.3071\t0.0000\t0.0000\t0.0000\t0.2508\t1595.0000\t11398.0000\n",
      "0.7054\t74.2569\t0.8513\t0.5501\t0.9269\t0.0044\t0.4389\t4.5768\t19.4357\t1595.0000\t11398.0000\n"
     ]
    }
   ],
   "source": [
    "a,b,c,d,e =pred_Other(LCLConvLayerObj, K562ConvLayerObj)\n",
    "print(str(a))\n",
    "print(str(b))\n",
    "print(str(c))\n",
    "print(str(d))\n",
    "print(str(e))"
   ]
  },
  {
   "cell_type": "code",
   "execution_count": 392,
   "metadata": {
    "collapsed": false,
    "scrolled": true
   },
   "outputs": [
    {
     "name": "stdout",
     "output_type": "stream",
     "text": [
      "0.5355\t71.0754\t0.7784\t0.4684\t0.8583\t0.0006\t3.0160\t6.0911\t12.4187\t1691.0000\t10478.0000\n",
      "9.1680\t69.2374\t0.7243\t0.4846\t0.5919\t0.0000\t0.0000\t0.0000\t0.0000\t1691.0000\t10478.0000\n",
      "0.3775\t54.8329\t0.6244\t0.3592\t0.7059\t0.0006\t4.2578\t7.7469\t14.9024\t1691.0000\t10478.0000\n",
      "9.0911\t50.7885\t0.5326\t0.1715\t0.2447\t0.0000\t0.0000\t0.0000\t0.0000\t1691.0000\t10478.0000\n",
      "0.7874\t69.9256\t0.7968\t0.4904\t0.8752\t0.0006\t0.0591\t5.1449\t15.6712\t1691.0000\t10478.0000\n"
     ]
    }
   ],
   "source": [
    "a,b,c,d,e = pred_Other(LCLConvLayerObj, HepG2ConvLayerObj)\n",
    "print(str(a))\n",
    "print(str(b))\n",
    "print(str(c))\n",
    "print(str(d))\n",
    "print(str(e))"
   ]
  },
  {
   "cell_type": "code",
   "execution_count": null,
   "metadata": {
    "collapsed": false
   },
   "outputs": [
    {
     "name": "stdout",
     "output_type": "stream",
     "text": [
      "0.3317\t82.5530\t0.9030\t0.6755\t0.9625\t0.0006\t13.9812\t22.0690\t36.4263\t1595.0000\t11398.0000\n",
      "4.2022\t80.1810\t0.8509\t0.6239\t0.8479\t0.0000\t0.0000\t0.0000\t0.0000\t1595.0000\t11398.0000\n",
      "0.2108\t72.2898\t0.9395\t0.7825\t0.9819\t0.0006\t29.0909\t52.2884\t63.3856\t1595.0000\t11398.0000\n",
      "0.2239\t81.4814\t0.9215\t0.7215\t0.9714\t0.0006\t14.7962\t25.7053\t50.5956\t1595.0000\t11398.0000\n",
      "0.4074\t81.5426\t0.9185\t0.7333\t0.9705\t0.0006\t9.9060\t23.0721\t59.1223\t1595.0000\t11398.0000\n"
     ]
    }
   ],
   "source": [
    "a,b,c,d,e = pred_Other(HepG2ConvLayerObj, K562ConvLayerObj)\n",
    "print(str(a))\n",
    "print(str(b))\n",
    "print(str(c))\n",
    "print(str(d))\n",
    "print(str(e))"
   ]
  },
  {
   "cell_type": "code",
   "execution_count": null,
   "metadata": {
    "collapsed": false
   },
   "outputs": [],
   "source": [
    "a,b,c,d,e = pred_Other(HepG2ConvLayerObj, LCLConvLayerObj)\n",
    "print(str(a))\n",
    "print(str(b))\n",
    "print(str(c))\n",
    "print(str(d))\n",
    "print(str(e))"
   ]
  },
  {
   "cell_type": "code",
   "execution_count": null,
   "metadata": {
    "collapsed": true
   },
   "outputs": [],
   "source": []
  },
  {
   "cell_type": "code",
   "execution_count": null,
   "metadata": {
    "collapsed": true
   },
   "outputs": [],
   "source": []
  },
  {
   "cell_type": "code",
   "execution_count": 296,
   "metadata": {
    "collapsed": false,
    "scrolled": true
   },
   "outputs": [],
   "source": [
    "from sklearn.metrics import roc_curve\n",
    "from sklearn.metrics import roc_auc_score"
   ]
  },
  {
   "cell_type": "code",
   "execution_count": 298,
   "metadata": {
    "collapsed": false
   },
   "outputs": [],
   "source": [
    "fpr, tpr, threshold = roc_curve(y_true,y_pred)"
   ]
  },
  {
   "cell_type": "code",
   "execution_count": 301,
   "metadata": {
    "collapsed": false
   },
   "outputs": [
    {
     "data": {
      "text/plain": [
       "array([  0.00000000e+00,   0.00000000e+00,   0.00000000e+00,\n",
       "         9.46073794e-04,   9.46073794e-04,   2.83822138e-03,\n",
       "         2.83822138e-03,   2.83822138e-03,   2.83822138e-03,\n",
       "         2.83822138e-03,   2.83822138e-03,   3.78429518e-03,\n",
       "         3.78429518e-03,   5.67644276e-03,   6.62251656e-03,\n",
       "         6.62251656e-03,   8.51466414e-03,   8.51466414e-03,\n",
       "         9.46073794e-03,   1.04068117e-02,   1.13528855e-02,\n",
       "         1.32450331e-02,   1.41911069e-02,   1.60832545e-02,\n",
       "         1.60832545e-02,   1.60832545e-02,   1.79754021e-02,\n",
       "         1.79754021e-02,   1.98675497e-02,   2.08136235e-02,\n",
       "         2.27057711e-02,   2.36518448e-02,   2.55439924e-02,\n",
       "         2.74361400e-02,   2.74361400e-02,   3.02743614e-02,\n",
       "         3.12204352e-02,   3.31125828e-02,   3.59508042e-02,\n",
       "         3.68968780e-02,   4.25733207e-02,   4.35193945e-02,\n",
       "         4.73036897e-02,   4.91958373e-02,   5.39262062e-02,\n",
       "         5.58183538e-02,   5.96026490e-02,   6.05487228e-02,\n",
       "         6.52790918e-02,   6.81173132e-02,   7.09555345e-02,\n",
       "         8.23084201e-02,   9.36613056e-02,   9.74456008e-02,\n",
       "         1.04068117e-01,   1.15421003e-01,   1.22043519e-01,\n",
       "         1.32450331e-01,   1.36234626e-01,   1.51371807e-01,\n",
       "         1.62724693e-01,   1.70293283e-01,   1.85430464e-01,\n",
       "         1.97729423e-01,   2.24219489e-01,   2.45979186e-01,\n",
       "         2.70577105e-01,   2.97067171e-01,   3.19772942e-01,\n",
       "         3.45316935e-01,   3.80321665e-01,   4.24787133e-01,\n",
       "         4.67360454e-01,   5.12771996e-01,   5.61967833e-01,\n",
       "         5.95080416e-01,   6.47114475e-01,   6.96310312e-01,\n",
       "         7.41721854e-01,   7.97540208e-01,   8.46736045e-01,\n",
       "         8.96877956e-01,   9.36613056e-01,   9.74456008e-01,\n",
       "         1.00000000e+00])"
      ]
     },
     "execution_count": 301,
     "metadata": {},
     "output_type": "execute_result"
    }
   ],
   "source": [
    "fpr"
   ]
  },
  {
   "cell_type": "code",
   "execution_count": 300,
   "metadata": {
    "collapsed": false
   },
   "outputs": [
    {
     "data": {
      "text/plain": [
       "[<matplotlib.lines.Line2D at 0x7ff537012490>]"
      ]
     },
     "execution_count": 300,
     "metadata": {},
     "output_type": "execute_result"
    },
    {
     "data": {
      "image/png": "[encoded data removed]",
      "text/plain": [
       "<matplotlib.figure.Figure at 0x7ff56772d110>"
      ]
     },
     "metadata": {},
     "output_type": "display_data"
    }
   ],
   "source": [
    "plt.plot(fpr, tpr)"
   ]
  },
  {
   "cell_type": "code",
   "execution_count": 297,
   "metadata": {
    "collapsed": false
   },
   "outputs": [
    {
     "data": {
      "text/plain": [
       "0.88421399955616298"
      ]
     },
     "execution_count": 297,
     "metadata": {},
     "output_type": "execute_result"
    }
   ],
   "source": [
    "roc_auc_score(y_true, y_pred)"
   ]
  },
  {
   "cell_type": "code",
   "execution_count": 277,
   "metadata": {
    "collapsed": false
   },
   "outputs": [
    {
     "name": "stdout",
     "output_type": "stream",
     "text": [
      "5.1509\t75.3545\t0.7913\t0.5665\t0.7910\t0.0000\t0.0000\t0.0000\t162.0000\t1057.0000\n",
      "0.2720\t60.3767\t0.8842\t0.5948\t0.9301\t8.0247\t12.3457\t22.8395\t162.0000\t1057.0000\n"
     ]
    }
   ],
   "source": [
    "y_pred, y_true = ConvPredObj.ElasticNet(chrom_indices, other_indices)\n",
    "BinProcObj = common_utils.ClassificationResult(y_true, y_pred)\n",
    "BinProcObj.self_binary()\n",
    "print(BinProcObj)\n",
    "y_pred, y_true = ConvPredObj.RandomForest(chrom_indices, other_indices)\n",
    "BinProcObj = common_utils.ClassificationResult(y_true, y_pred)\n",
    "BinProcObj.self_binary()\n",
    "print(BinProcObj)"
   ]
  },
  {
   "cell_type": "code",
   "execution_count": 269,
   "metadata": {
    "collapsed": false
   },
   "outputs": [
    {
     "name": "stdout",
     "output_type": "stream",
     "text": [
      "4.8164\t77.4192\t0.8430\t0.6012\t0.8211\t0.0000\t0.0000\t0.0000\t324.0000\t2114.0000\n"
     ]
    }
   ],
   "source": [
    "y_pred, y_true = ConvPredObj.ElasticNet(chrom_indices, other_indices)\n",
    "BinProcObj = common_utils.ClassificationResult(y_true, y_pred)\n",
    "BinProcObj.self_binary()\n",
    "print(BinProcObj)"
   ]
  },
  {
   "cell_type": "code",
   "execution_count": 271,
   "metadata": {
    "collapsed": false
   },
   "outputs": [
    {
     "name": "stdout",
     "output_type": "stream",
     "text": [
      "0.2664\t59.7707\t0.8890\t0.5983\t0.9342\t3.0864\t7.7160\t23.1481\t324.0000\t2114.0000\n"
     ]
    }
   ],
   "source": [
    "y_pred, y_true = ConvPredObj.RandomForest(chrom_indices, other_indices)\n",
    "BinProcObj = common_utils.ClassificationResult(y_true, y_pred)\n",
    "BinProcObj.self_binary()\n",
    "print(BinProcObj)"
   ]
  },
  {
   "cell_type": "code",
   "execution_count": 266,
   "metadata": {
    "collapsed": false
   },
   "outputs": [
    {
     "name": "stdout",
     "output_type": "stream",
     "text": [
      "4.5083\t78.1299\t0.8248\t0.6079\t0.8328\t0.0000\t0.0000\t0.0000\t162.0000\t1057.0000\n"
     ]
    }
   ],
   "source": [
    "y_pred, y_true = ConvPredObj.ElasticNet(chrom_indices, other_indices)\n",
    "BinProcObj = common_utils.ClassificationResult(y_true, y_pred)\n",
    "BinProcObj.self_binary()\n",
    "print(BinProcObj)"
   ]
  },
  {
   "cell_type": "code",
   "execution_count": 267,
   "metadata": {
    "collapsed": false
   },
   "outputs": [
    {
     "name": "stdout",
     "output_type": "stream",
     "text": [
      "0.2630\t60.4240\t0.8954\t0.6098\t0.9370\t2.4691\t14.1975\t22.2222\t162.0000\t1057.0000\n"
     ]
    }
   ],
   "source": [
    "y_pred, y_true = ConvPredObj.RandomForest(chrom_indices, other_indices)\n",
    "BinProcObj = common_utils.ClassificationResult(y_true, y_pred)\n",
    "BinProcObj.self_binary()\n",
    "print(BinProcObj)"
   ]
  },
  {
   "cell_type": "code",
   "execution_count": 74,
   "metadata": {
    "collapsed": false
   },
   "outputs": [
    {
     "name": "stdout",
     "output_type": "stream",
     "text": [
      "Shape of output tensor is \n",
      "(9, 1, 4, 148)\n",
      "Shape of current matrix is \n",
      "(4, 150)\n",
      "On offset 0, my start and end indices are: 0, 148\n",
      "I am inserting an output matrix with size\n",
      "(4, 148)\n",
      "and my index into output array is 0\n",
      "On offset 1, my start and end indices are: 1, 148\n",
      "I am inserting an output matrix with size\n",
      "(4, 148)\n",
      "and my index into output array is 1\n",
      "On offset 2, my start and end indices are: 2, 148\n",
      "I am inserting an output matrix with size\n",
      "(4, 148)\n",
      "and my index into output array is 2\n",
      "Shape of current matrix is \n",
      "(4, 150)\n",
      "On offset 0, my start and end indices are: 0, 148\n",
      "I am inserting an output matrix with size\n",
      "(4, 148)\n",
      "and my index into output array is 3\n",
      "On offset 1, my start and end indices are: 1, 148\n",
      "I am inserting an output matrix with size\n",
      "(4, 148)\n",
      "and my index into output array is 4\n",
      "On offset 2, my start and end indices are: 2, 148\n",
      "I am inserting an output matrix with size\n",
      "(4, 148)\n",
      "and my index into output array is 5\n",
      "Shape of current matrix is \n",
      "(4, 150)\n",
      "On offset 0, my start and end indices are: 0, 148\n",
      "I am inserting an output matrix with size\n",
      "(4, 148)\n",
      "and my index into output array is 6\n",
      "On offset 1, my start and end indices are: 1, 148\n",
      "I am inserting an output matrix with size\n",
      "(4, 148)\n",
      "and my index into output array is 7\n",
      "On offset 2, my start and end indices are: 2, 148\n",
      "I am inserting an output matrix with size\n",
      "(4, 148)\n",
      "and my index into output array is 8\n"
     ]
    }
   ],
   "source": [
    "out_tensor = CrossValProcObj.HepG2_binObj.generate_subtensors(merged_tensor[:3], num_copies = 3, debug = True)"
   ]
  },
  {
   "cell_type": "code",
   "execution_count": 73,
   "metadata": {
    "collapsed": true
   },
   "outputs": [
    {
     "data": {
      "text/plain": [
       "array([[[ 0.,  1.,  0.,  1.,  0.,  0.,  0.,  0.,  0.,  0.,  0.,  0.,  0.,\n",
       "          0.,  0.,  0.,  0.,  0.,  1.,  0.,  0.,  0.,  1.,  1.,  0.,  1.,\n",
       "          0.,  1.,  1.,  0.,  0.,  0.,  0.,  0.,  1.,  0.,  0.,  0.,  0.,\n",
       "          0.,  0.,  0.,  0.,  0.,  0.,  0.,  0.,  0.,  0.,  1.,  0.,  0.,\n",
       "          0.,  1.,  1.,  0.,  1.,  0.,  1.,  0.,  1.,  0.,  0.,  0.,  0.,\n",
       "          1.,  0.,  0.,  0.,  0.,  0.,  0.,  0.,  0.,  0.,  0.,  0.,  0.,\n",
       "          0.,  0.,  1.,  0.,  0.,  0.,  1.,  1.,  0.,  1.,  0.,  1.,  0.,\n",
       "          0.,  0.,  0.,  0.,  0.,  1.,  0.,  0.,  0.,  0.,  0.,  0.,  0.,\n",
       "          0.,  0.,  0.,  0.,  0.,  0.,  0.,  1.,  0.,  0.,  0.,  1.,  1.,\n",
       "          0.,  1.,  0.,  1.,  0.,  0.,  0.,  0.,  0.,  0.,  1.,  0.,  0.,\n",
       "          0.,  0.,  0.,  0.,  0.,  0.,  0.,  0.,  0.,  0.,  0.,  0.,  1.,\n",
       "          0.,  0.,  0.,  1.,  1.,  0.,  1.],\n",
       "        [ 1.,  0.,  1.,  0.,  0.,  0.,  1.,  0.,  1.,  1.,  1.,  0.,  1.,\n",
       "          1.,  1.,  0.,  1.,  1.,  0.,  0.,  0.,  0.,  0.,  0.,  1.,  0.,\n",
       "          1.,  0.,  0.,  1.,  0.,  1.,  0.,  1.,  0.,  1.,  0.,  1.,  0.,\n",
       "          1.,  1.,  1.,  0.,  1.,  1.,  1.,  0.,  1.,  1.,  0.,  0.,  0.,\n",
       "          0.,  0.,  0.,  1.,  0.,  1.,  0.,  1.,  0.,  0.,  1.,  0.,  1.,\n",
       "          0.,  0.,  0.,  1.,  0.,  1.,  1.,  1.,  0.,  1.,  1.,  1.,  1.,\n",
       "          1.,  1.,  0.,  0.,  0.,  0.,  0.,  0.,  0.,  0.,  1.,  0.,  1.,\n",
       "          0.,  0.,  0.,  0.,  1.,  0.,  0.,  0.,  1.,  0.,  1.,  1.,  1.,\n",
       "          0.,  1.,  1.,  1.,  0.,  1.,  1.,  0.,  0.,  0.,  0.,  0.,  0.,\n",
       "          1.,  0.,  1.,  0.,  1.,  1.,  0.,  0.,  0.,  1.,  0.,  0.,  0.,\n",
       "          1.,  0.,  1.,  1.,  1.,  0.,  1.,  1.,  1.,  0.,  1.,  1.,  0.,\n",
       "          0.,  0.,  0.,  0.,  0.,  1.,  0.],\n",
       "        [ 0.,  0.,  0.,  0.,  0.,  1.,  0.,  0.,  0.,  0.,  0.,  0.,  0.,\n",
       "          0.,  0.,  0.,  0.,  0.,  0.,  1.,  0.,  1.,  0.,  0.,  0.,  0.,\n",
       "          0.,  0.,  0.,  0.,  1.,  0.,  1.,  0.,  0.,  0.,  1.,  0.,  0.,\n",
       "          0.,  0.,  0.,  0.,  0.,  0.,  0.,  0.,  0.,  0.,  0.,  1.,  0.,\n",
       "          1.,  0.,  0.,  0.,  0.,  0.,  0.,  0.,  0.,  1.,  0.,  1.,  0.,\n",
       "          0.,  0.,  1.,  0.,  0.,  0.,  0.,  0.,  0.,  0.,  0.,  0.,  0.,\n",
       "          0.,  0.,  0.,  1.,  0.,  1.,  0.,  0.,  0.,  0.,  0.,  0.,  0.,\n",
       "          1.,  1.,  1.,  1.,  0.,  0.,  0.,  1.,  0.,  0.,  0.,  0.,  0.,\n",
       "          0.,  0.,  0.,  0.,  0.,  0.,  0.,  0.,  1.,  0.,  1.,  0.,  0.,\n",
       "          0.,  0.,  0.,  0.,  0.,  0.,  1.,  1.,  1.,  0.,  0.,  0.,  1.,\n",
       "          0.,  0.,  0.,  0.,  0.,  0.,  0.,  0.,  0.,  0.,  0.,  0.,  0.,\n",
       "          1.,  1.,  1.,  0.,  0.,  0.,  0.],\n",
       "        [ 0.,  0.,  0.,  0.,  1.,  0.,  0.,  1.,  0.,  0.,  0.,  1.,  0.,\n",
       "          0.,  0.,  1.,  0.,  0.,  0.,  0.,  1.,  0.,  0.,  0.,  0.,  0.,\n",
       "          0.,  0.,  0.,  0.,  0.,  0.,  0.,  0.,  0.,  0.,  0.,  0.,  1.,\n",
       "          0.,  0.,  0.,  1.,  0.,  0.,  0.,  1.,  0.,  0.,  0.,  0.,  1.,\n",
       "          0.,  0.,  0.,  0.,  0.,  0.,  0.,  0.,  0.,  0.,  0.,  0.,  0.,\n",
       "          0.,  1.,  0.,  0.,  1.,  0.,  0.,  0.,  1.,  0.,  0.,  0.,  0.,\n",
       "          0.,  0.,  0.,  0.,  1.,  0.,  0.,  0.,  1.,  0.,  0.,  0.,  0.,\n",
       "          0.,  0.,  0.,  0.,  0.,  0.,  1.,  0.,  0.,  1.,  0.,  0.,  0.,\n",
       "          1.,  0.,  0.,  0.,  1.,  0.,  0.,  0.,  0.,  1.,  0.,  0.,  0.,\n",
       "          0.,  0.,  0.,  0.,  0.,  0.,  0.,  0.,  0.,  0.,  0.,  1.,  0.,\n",
       "          0.,  1.,  0.,  0.,  0.,  1.,  0.,  0.,  0.,  1.,  0.,  0.,  0.,\n",
       "          0.,  0.,  0.,  0.,  0.,  0.,  0.]]])"
      ]
     },
     "execution_count": 73,
     "metadata": {},
     "output_type": "execute_result"
    }
   ],
   "source": [
    "merged_tensor[0]"
   ]
  },
  {
   "cell_type": "code",
   "execution_count": 87,
   "metadata": {
    "collapsed": false
   },
   "outputs": [],
   "source": [
    "out_tensor = CrossValProcObj.HepG2_binObj.generate_random_subtensors(merged_tensor[:3], num_copies = 3, debug = True)"
   ]
  },
  {
   "cell_type": "code",
   "execution_count": 75,
   "metadata": {
    "collapsed": true,
    "scrolled": false
   },
   "outputs": [
    {
     "data": {
      "text/plain": [
       "array([[[ 0.,  1.,  0.,  1.,  0.,  0.,  0.,  0.,  0.,  0.,  0.,  0.,  0.,\n",
       "          0.,  0.,  0.,  0.,  0.,  1.,  0.,  0.,  0.,  1.,  1.,  0.,  1.,\n",
       "          0.,  1.,  1.,  0.,  0.,  0.,  0.,  0.,  1.,  0.,  0.,  0.,  0.,\n",
       "          0.,  0.,  0.,  0.,  0.,  0.,  0.,  0.,  0.,  0.,  1.,  0.,  0.,\n",
       "          0.,  1.,  1.,  0.,  1.,  0.,  1.,  0.,  1.,  0.,  0.,  0.,  0.,\n",
       "          1.,  0.,  0.,  0.,  0.,  0.,  0.,  0.,  0.,  0.,  0.,  0.,  0.,\n",
       "          0.,  0.,  1.,  0.,  0.,  0.,  1.,  1.,  0.,  1.,  0.,  1.,  0.,\n",
       "          0.,  0.,  0.,  0.,  0.,  1.,  0.,  0.,  0.,  0.,  0.,  0.,  0.,\n",
       "          0.,  0.,  0.,  0.,  0.,  0.,  0.,  1.,  0.,  0.,  0.,  1.,  1.,\n",
       "          0.,  1.,  0.,  1.,  0.,  0.,  0.,  0.,  0.,  0.,  1.,  0.,  0.,\n",
       "          0.,  0.,  0.,  0.,  0.,  0.,  0.,  0.,  0.,  0.,  0.,  0.,  1.,\n",
       "          0.,  0.,  0.,  1.,  1.],\n",
       "        [ 1.,  0.,  1.,  0.,  0.,  0.,  1.,  0.,  1.,  1.,  1.,  0.,  1.,\n",
       "          1.,  1.,  0.,  1.,  1.,  0.,  0.,  0.,  0.,  0.,  0.,  1.,  0.,\n",
       "          1.,  0.,  0.,  1.,  0.,  1.,  0.,  1.,  0.,  1.,  0.,  1.,  0.,\n",
       "          1.,  1.,  1.,  0.,  1.,  1.,  1.,  0.,  1.,  1.,  0.,  0.,  0.,\n",
       "          0.,  0.,  0.,  1.,  0.,  1.,  0.,  1.,  0.,  0.,  1.,  0.,  1.,\n",
       "          0.,  0.,  0.,  1.,  0.,  1.,  1.,  1.,  0.,  1.,  1.,  1.,  1.,\n",
       "          1.,  1.,  0.,  0.,  0.,  0.,  0.,  0.,  0.,  0.,  1.,  0.,  1.,\n",
       "          0.,  0.,  0.,  0.,  1.,  0.,  0.,  0.,  1.,  0.,  1.,  1.,  1.,\n",
       "          0.,  1.,  1.,  1.,  0.,  1.,  1.,  0.,  0.,  0.,  0.,  0.,  0.,\n",
       "          1.,  0.,  1.,  0.,  1.,  1.,  0.,  0.,  0.,  1.,  0.,  0.,  0.,\n",
       "          1.,  0.,  1.,  1.,  1.,  0.,  1.,  1.,  1.,  0.,  1.,  1.,  0.,\n",
       "          0.,  0.,  0.,  0.,  0.],\n",
       "        [ 0.,  0.,  0.,  0.,  0.,  1.,  0.,  0.,  0.,  0.,  0.,  0.,  0.,\n",
       "          0.,  0.,  0.,  0.,  0.,  0.,  1.,  0.,  1.,  0.,  0.,  0.,  0.,\n",
       "          0.,  0.,  0.,  0.,  1.,  0.,  1.,  0.,  0.,  0.,  1.,  0.,  0.,\n",
       "          0.,  0.,  0.,  0.,  0.,  0.,  0.,  0.,  0.,  0.,  0.,  1.,  0.,\n",
       "          1.,  0.,  0.,  0.,  0.,  0.,  0.,  0.,  0.,  1.,  0.,  1.,  0.,\n",
       "          0.,  0.,  1.,  0.,  0.,  0.,  0.,  0.,  0.,  0.,  0.,  0.,  0.,\n",
       "          0.,  0.,  0.,  1.,  0.,  1.,  0.,  0.,  0.,  0.,  0.,  0.,  0.,\n",
       "          1.,  1.,  1.,  1.,  0.,  0.,  0.,  1.,  0.,  0.,  0.,  0.,  0.,\n",
       "          0.,  0.,  0.,  0.,  0.,  0.,  0.,  0.,  1.,  0.,  1.,  0.,  0.,\n",
       "          0.,  0.,  0.,  0.,  0.,  0.,  1.,  1.,  1.,  0.,  0.,  0.,  1.,\n",
       "          0.,  0.,  0.,  0.,  0.,  0.,  0.,  0.,  0.,  0.,  0.,  0.,  0.,\n",
       "          1.,  1.,  1.,  0.,  0.],\n",
       "        [ 0.,  0.,  0.,  0.,  1.,  0.,  0.,  1.,  0.,  0.,  0.,  1.,  0.,\n",
       "          0.,  0.,  1.,  0.,  0.,  0.,  0.,  1.,  0.,  0.,  0.,  0.,  0.,\n",
       "          0.,  0.,  0.,  0.,  0.,  0.,  0.,  0.,  0.,  0.,  0.,  0.,  1.,\n",
       "          0.,  0.,  0.,  1.,  0.,  0.,  0.,  1.,  0.,  0.,  0.,  0.,  1.,\n",
       "          0.,  0.,  0.,  0.,  0.,  0.,  0.,  0.,  0.,  0.,  0.,  0.,  0.,\n",
       "          0.,  1.,  0.,  0.,  1.,  0.,  0.,  0.,  1.,  0.,  0.,  0.,  0.,\n",
       "          0.,  0.,  0.,  0.,  1.,  0.,  0.,  0.,  1.,  0.,  0.,  0.,  0.,\n",
       "          0.,  0.,  0.,  0.,  0.,  0.,  1.,  0.,  0.,  1.,  0.,  0.,  0.,\n",
       "          1.,  0.,  0.,  0.,  1.,  0.,  0.,  0.,  0.,  1.,  0.,  0.,  0.,\n",
       "          0.,  0.,  0.,  0.,  0.,  0.,  0.,  0.,  0.,  0.,  0.,  1.,  0.,\n",
       "          0.,  1.,  0.,  0.,  0.,  1.,  0.,  0.,  0.,  1.,  0.,  0.,  0.,\n",
       "          0.,  0.,  0.,  0.,  0.]]], dtype=float32)"
      ]
     },
     "execution_count": 75,
     "metadata": {},
     "output_type": "execute_result"
    }
   ],
   "source": [
    "out_tensor[0]"
   ]
  },
  {
   "cell_type": "code",
   "execution_count": 38,
   "metadata": {
    "collapsed": true
   },
   "outputs": [],
   "source": [
    "X_real_rc =\"TGTTCCCTGGAGGGAGGGAGCATGCCCGGTGTGTTCACTGGAGGGAGGGAGCATGCCCCGTGTATTCACTGGGGGGAGGGAGCATGCGCTGTGTGTTCACTGGAGGGAGGGAGCGTGCGCGTTGTGTTCACTGGAGGGAGGGAGCATGTG\""
   ]
  },
  {
   "cell_type": "code",
   "execution_count": 37,
   "metadata": {
    "collapsed": false
   },
   "outputs": [
    {
     "data": {
      "text/plain": [
       "'TGTTCCCTGGAGGGAGGGAGCATGCCCGGTGTGTTCACTGGAGGGAGGGAGCATGCCCCGTGTATTCACTGGGGGGAGGGAGCATGCGCTGTGTGTTCACTGGAGGGAGGGAGCGTGCGCGTTGTGTTCACTGGAGGGAGGGAGCATGTG'"
      ]
     },
     "execution_count": 37,
     "metadata": {},
     "output_type": "execute_result"
    }
   ],
   "source": [
    "CrossValProcObj.HepG2_binObj.convert_mat_to_DNA(X_rc[0,0,:,:])"
   ]
  },
  {
   "cell_type": "code",
   "execution_count": 36,
   "metadata": {
    "collapsed": false
   },
   "outputs": [],
   "source": [
    "X_rc = CrossValProcObj.HepG2_binObj.generate_RC_tensor(merged_tensor)"
   ]
  },
  {
   "cell_type": "code",
   "execution_count": 88,
   "metadata": {
    "collapsed": false
   },
   "outputs": [
    {
     "data": {
      "text/plain": [
       "(3, 1, 4, 148)"
      ]
     },
     "execution_count": 88,
     "metadata": {},
     "output_type": "execute_result"
    }
   ],
   "source": [
    "out_tensor.shape"
   ]
  },
  {
   "cell_type": "code",
   "execution_count": 89,
   "metadata": {
    "collapsed": false
   },
   "outputs": [
    {
     "data": {
      "text/plain": [
       "array([1, 1, 1, 1, 1, 0, 0, 0, 0])"
      ]
     },
     "execution_count": 89,
     "metadata": {},
     "output_type": "execute_result"
    }
   ],
   "source": [
    "CrossValProcObj.HepG2_binObj.transform_indices(merged_tar[:3], 3)"
   ]
  },
  {
   "cell_type": "code",
   "execution_count": 90,
   "metadata": {
    "collapsed": false
   },
   "outputs": [
    {
     "data": {
      "text/plain": [
       "array([ 1.,  1.,  1.])"
      ]
     },
     "execution_count": 90,
     "metadata": {},
     "output_type": "execute_result"
    }
   ],
   "source": [
    "merged_tar[:3]"
   ]
  },
  {
   "cell_type": "code",
   "execution_count": 91,
   "metadata": {
    "collapsed": true
   },
   "outputs": [],
   "source": [
    "x = np.asarray([0,2,3,5,7])"
   ]
  },
  {
   "cell_type": "code",
   "execution_count": 94,
   "metadata": {
    "collapsed": false
   },
   "outputs": [
    {
     "data": {
      "text/plain": [
       "array([0, 0, 0, 2, 2, 2, 3, 3, 3, 5, 5, 5, 7, 7, 7])"
      ]
     },
     "execution_count": 94,
     "metadata": {},
     "output_type": "execute_result"
    }
   ],
   "source": [
    "np.repeat(x,3)"
   ]
  },
  {
   "cell_type": "code",
   "execution_count": 100,
   "metadata": {
    "collapsed": true
   },
   "outputs": [],
   "source": [
    "ConvPredObj = alt_conv_model_1_5_2017.ConvPredictor(merged_tensor, merged_tar, motif_tensor.shape, ConvLayerObj)"
   ]
  },
  {
   "cell_type": "code",
   "execution_count": 101,
   "metadata": {
    "collapsed": true
   },
   "outputs": [],
   "source": [
    "y = np.random.rand(5,3)"
   ]
  },
  {
   "cell_type": "code",
   "execution_count": 102,
   "metadata": {
    "collapsed": false
   },
   "outputs": [
    {
     "data": {
      "text/plain": [
       "array([[ 0.37454012,  0.95071431,  0.73199394],\n",
       "       [ 0.59865848,  0.15601864,  0.15599452],\n",
       "       [ 0.05808361,  0.86617615,  0.60111501],\n",
       "       [ 0.70807258,  0.02058449,  0.96990985],\n",
       "       [ 0.83244264,  0.21233911,  0.18182497]])"
      ]
     },
     "execution_count": 102,
     "metadata": {},
     "output_type": "execute_result"
    }
   ],
   "source": [
    "x"
   ]
  },
  {
   "cell_type": "code",
   "execution_count": 103,
   "metadata": {
    "collapsed": false
   },
   "outputs": [
    {
     "data": {
      "text/plain": [
       "array([[ 0.18340451,  0.30424224,  0.52475643],\n",
       "       [ 0.43194502,  0.29122914,  0.61185289],\n",
       "       [ 0.13949386,  0.29214465,  0.36636184],\n",
       "       [ 0.45606998,  0.78517596,  0.19967378],\n",
       "       [ 0.51423444,  0.59241457,  0.04645041]])"
      ]
     },
     "execution_count": 103,
     "metadata": {},
     "output_type": "execute_result"
    }
   ],
   "source": [
    "y"
   ]
  },
  {
   "cell_type": "code",
   "execution_count": 104,
   "metadata": {
    "collapsed": false
   },
   "outputs": [
    {
     "data": {
      "text/plain": [
       "array([[ 0.37454012,  0.95071431,  0.73199394,  0.18340451,  0.30424224,\n",
       "         0.52475643],\n",
       "       [ 0.59865848,  0.15601864,  0.15599452,  0.43194502,  0.29122914,\n",
       "         0.61185289],\n",
       "       [ 0.05808361,  0.86617615,  0.60111501,  0.13949386,  0.29214465,\n",
       "         0.36636184],\n",
       "       [ 0.70807258,  0.02058449,  0.96990985,  0.45606998,  0.78517596,\n",
       "         0.19967378],\n",
       "       [ 0.83244264,  0.21233911,  0.18182497,  0.51423444,  0.59241457,\n",
       "         0.04645041]])"
      ]
     },
     "execution_count": 104,
     "metadata": {},
     "output_type": "execute_result"
    }
   ],
   "source": [
    "np.hstack((x,y))"
   ]
  },
  {
   "cell_type": "code",
   "execution_count": 180,
   "metadata": {
    "collapsed": true
   },
   "outputs": [],
   "source": [
    "x = np.asarray([1,2,3])"
   ]
  },
  {
   "cell_type": "code",
   "execution_count": 181,
   "metadata": {
    "collapsed": false
   },
   "outputs": [
    {
     "data": {
      "text/plain": [
       "array([1, 1, 2, 2, 3, 3])"
      ]
     },
     "execution_count": 181,
     "metadata": {},
     "output_type": "execute_result"
    }
   ],
   "source": [
    "np.repeat(x,2)"
   ]
  },
  {
   "cell_type": "code",
   "execution_count": 185,
   "metadata": {
    "collapsed": false
   },
   "outputs": [
    {
     "data": {
      "text/plain": [
       "array([1, 2, 3, 1, 2, 3])"
      ]
     },
     "execution_count": 185,
     "metadata": {},
     "output_type": "execute_result"
    }
   ],
   "source": [
    "np.hstack((x,x))"
   ]
  },
  {
   "cell_type": "code",
   "execution_count": 213,
   "metadata": {
    "collapsed": false
   },
   "outputs": [
    {
     "data": {
      "text/plain": [
       "array([1, 2, 3])"
      ]
     },
     "execution_count": 213,
     "metadata": {},
     "output_type": "execute_result"
    }
   ],
   "source": [
    "x"
   ]
  },
  {
   "cell_type": "code",
   "execution_count": 214,
   "metadata": {
    "collapsed": false
   },
   "outputs": [
    {
     "data": {
      "text/plain": [
       "array([101, 102, 103])"
      ]
     },
     "execution_count": 214,
     "metadata": {},
     "output_type": "execute_result"
    }
   ],
   "source": [
    "100 + x"
   ]
  },
  {
   "cell_type": "code",
   "execution_count": null,
   "metadata": {
    "collapsed": true
   },
   "outputs": [],
   "source": []
  }
 ],
 "metadata": {
  "kernelspec": {
   "display_name": "Python 2",
   "language": "python",
   "name": "python2"
  },
  "language_info": {
   "codemirror_mode": {
    "name": "ipython",
    "version": 2
   },
   "file_extension": ".py",
   "mimetype": "text/x-python",
   "name": "python",
   "nbconvert_exporter": "python",
   "pygments_lexer": "ipython2",
   "version": "2.7.12"
  }
 },
 "nbformat": 4,
 "nbformat_minor": 0
}
