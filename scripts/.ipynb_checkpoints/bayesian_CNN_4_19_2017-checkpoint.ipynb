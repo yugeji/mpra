{
 "cells": [
  {
   "cell_type": "code",
   "execution_count": 13,
   "metadata": {},
   "outputs": [
    {
     "name": "stdout",
     "output_type": "stream",
     "text": [
      "The autoreload extension is already loaded. To reload it, use:\n",
      "  %reload_ext autoreload\n"
     ]
    }
   ],
   "source": [
    "%load_ext autoreload\n",
    "%autoreload \n",
    "%matplotlib inline"
   ]
  },
  {
   "cell_type": "code",
   "execution_count": 14,
   "metadata": {
    "collapsed": true
   },
   "outputs": [],
   "source": [
    "import numpy as np\n",
    "import time\n",
    "import matplotlib.pyplot as plt"
   ]
  },
  {
   "cell_type": "code",
   "execution_count": null,
   "metadata": {
    "collapsed": true
   },
   "outputs": [],
   "source": [
    "x = np.random.rand(3,4,5)"
   ]
  },
  {
   "cell_type": "code",
   "execution_count": 4,
   "metadata": {},
   "outputs": [
    {
     "data": {
      "text/plain": [
       "(3, 4, 5)"
      ]
     },
     "execution_count": 4,
     "metadata": {},
     "output_type": "execute_result"
    }
   ],
   "source": [
    "x.shape"
   ]
  },
  {
   "cell_type": "code",
   "execution_count": 5,
   "metadata": {},
   "outputs": [
    {
     "data": {
      "text/plain": [
       "(3, 4, 5, 1)"
      ]
     },
     "execution_count": 5,
     "metadata": {},
     "output_type": "execute_result"
    }
   ],
   "source": [
    "np.expand_dims(x, 3).shape"
   ]
  },
  {
   "cell_type": "code",
   "execution_count": null,
   "metadata": {},
   "outputs": [],
   "source": [
    "import motif_processor\n",
    "reload(motif_processor)"
   ]
  },
  {
   "cell_type": "code",
   "execution_count": null,
   "metadata": {
    "collapsed": true
   },
   "outputs": [],
   "source": [
    "HepG2MotifProcObj = motif_processor.MotifProcessor(ENCODE_only=False, \n",
    "                                                   cell_line=\"HepG2\", \n",
    "                                                   meme_file=\"/home/alvin/Dropbox/Lab/CNN/data/meme/HepG2_pos_steme/steme.txt\")\n",
    "HepG2_motif_tensor, HepG2_motif_names = HepG2MotifProcObj.generate_custom_CNN_filters(max_length = 18, padding = 0, truncate = False)\n",
    "\n",
    "K562MotifProcObj = motif_processor.MotifProcessor(ENCODE_only=False, \n",
    "                                                   cell_line=\"K562\", \n",
    "                                                   meme_file=\"/home/alvin/Dropbox/Lab/CNN/data/meme/K562_pos_steme/steme.txt\")\n",
    "K562_motif_tensor, K562_motif_names = K562MotifProcObj.generate_custom_CNN_filters(max_length = 18, padding = 0, truncate = False)\n",
    "\n",
    "\n",
    "LCLMotifProcObj = motif_processor.MotifProcessor(ENCODE_only=False, \n",
    "                                                   cell_line=\"LCL\", \n",
    "                                                   meme_file=\"/home/alvin/Dropbox/Lab/CNN/data/meme/LCL_pos_steme/steme.txt\")\n",
    "LCL_motif_tensor, LCL_motif_names = LCLMotifProcObj.generate_custom_CNN_filters(max_length = 18, padding = 0, truncate = False)"
   ]
  },
  {
   "cell_type": "code",
   "execution_count": null,
   "metadata": {},
   "outputs": [],
   "source": [
    "import common_utils \n",
    "reload(common_utils)"
   ]
  },
  {
   "cell_type": "code",
   "execution_count": null,
   "metadata": {
    "collapsed": true
   },
   "outputs": [],
   "source": [
    "from common_utils import th_to_tf, th_to_1d, expand_tensor"
   ]
  },
  {
   "cell_type": "code",
   "execution_count": null,
   "metadata": {},
   "outputs": [],
   "source": [
    "start = time.time()\n",
    "CrossValProcObj = common_utils.CrossValProcessor(output_dirs = [\"./HEPG2_act_1_25/\", \"./HEPG2_rep_1_25/\", \n",
    "                                                                      \"./K562_act_1_25/\", \"./K562_act_1_25/\",\n",
    "                                                                      \"./LCL_act_alt_1_25/\"])\n",
    "print(time.time()-start)"
   ]
  },
  {
   "cell_type": "code",
   "execution_count": null,
   "metadata": {
    "collapsed": true
   },
   "outputs": [],
   "source": [
    "X_LCL=th_to_tf(CrossValProcObj.LCL_binObj.merged_tensor)\n",
    "X_RC_LCL=th_to_tf(CrossValProcObj.LCL_binObj.merged_RC_tensor)\n",
    "Y_LCL=CrossValProcObj.LCL_binObj.merged_tar"
   ]
  },
  {
   "cell_type": "markdown",
   "metadata": {},
   "source": [
    "\n",
    "## Edward test"
   ]
  },
  {
   "cell_type": "code",
   "execution_count": 32,
   "metadata": {},
   "outputs": [],
   "source": [
    "tf.get_default_session().close()"
   ]
  },
  {
   "cell_type": "code",
   "execution_count": 33,
   "metadata": {
    "collapsed": true
   },
   "outputs": [],
   "source": [
    "tf.reset_default_graph()\n",
    "ed.set_seed(42)"
   ]
  },
  {
   "cell_type": "code",
   "execution_count": 34,
   "metadata": {
    "collapsed": true
   },
   "outputs": [],
   "source": [
    "import tensorflow as tf\n",
    "from edward.models import Bernoulli, Normal, Empirical\n",
    "import edward as ed\n",
    "from tensorflow.contrib import learn\n",
    "from sklearn.model_selection import train_test_split"
   ]
  },
  {
   "cell_type": "code",
   "execution_count": 18,
   "metadata": {},
   "outputs": [
    {
     "data": {
      "text/plain": [
       "(20870, 4, 150, 1)"
      ]
     },
     "execution_count": 18,
     "metadata": {},
     "output_type": "execute_result"
    }
   ],
   "source": [
    "X_LCL.shape"
   ]
  },
  {
   "cell_type": "code",
   "execution_count": 17,
   "metadata": {
    "collapsed": true
   },
   "outputs": [],
   "source": [
    "X_K562=th_to_tf(CrossValProcObj.K562_binObj.merged_tensor)\n",
    "X_K562_RC=th_to_tf(CrossValProcObj.K562_binObj.merged_RC_tensor)\n",
    "Y_K562=CrossValProcObj.K562_binObj.merged_tar"
   ]
  },
  {
   "cell_type": "code",
   "execution_count": 18,
   "metadata": {
    "collapsed": true
   },
   "outputs": [],
   "source": [
    "X_K562_train, X_K562_test, Y_K562_train, Y_K562_test = train_test_split(X_K562, Y_K562, test_size = 0.15, random_state=42)"
   ]
  },
  {
   "cell_type": "code",
   "execution_count": 13,
   "metadata": {},
   "outputs": [
    {
     "data": {
      "text/plain": [
       "(1949,)"
      ]
     },
     "execution_count": 13,
     "metadata": {},
     "output_type": "execute_result"
    }
   ],
   "source": [
    "Y_K562_test.shape"
   ]
  },
  {
   "cell_type": "code",
   "execution_count": 14,
   "metadata": {},
   "outputs": [
    {
     "data": {
      "text/plain": [
       "(1949, 4, 150, 1)"
      ]
     },
     "execution_count": 14,
     "metadata": {},
     "output_type": "execute_result"
    }
   ],
   "source": [
    "X_K562_test.shape"
   ]
  },
  {
   "cell_type": "code",
   "execution_count": 35,
   "metadata": {},
   "outputs": [
    {
     "name": "stdout",
     "output_type": "stream",
     "text": [
      "Tensor(\"ExpandDims:0\", shape=(4, 18, 1, 100), dtype=float32)\n",
      "2500/2500 [100%] ██████████████████████████████ Elapsed: 305s | Loss: 14963.791\n"
     ]
    }
   ],
   "source": [
    "start = time.time()\n",
    "batch = 500\n",
    "width = 4\n",
    "length = 150\n",
    "fw= 4\n",
    "fh= 18\n",
    "num_filters = 100\n",
    "num_nodes = 5\n",
    "\n",
    "m = 6\n",
    "X = tf.placeholder(tf.float32, [None, width, length, 1])\n",
    "#layer 1 w initalization\n",
    "w1s = [Normal(mu=tf.zeros([fw, fh]), sigma = tf.ones([fw, fh])) for i in range(num_filters)]\n",
    "all_vars = [x for x in w1s]\n",
    "w_all = tf.stack(w1s, axis=2, name=\"stack\")\n",
    "w_all_a = tf.expand_dims(w_all, 2)\n",
    "print(w_all_a)\n",
    "conv1 = tf.nn.conv2d(X, w_all_a,strides = [1,1,1,1], padding = 'VALID')\n",
    "b1 = Normal(mu=tf.zeros([num_filters]), sigma = tf.ones([num_filters]))\n",
    "all_vars.append(b1)\n",
    "h1 = tf.nn.relu(tf.nn.bias_add(conv1, b1))\n",
    "pool1 = tf.layers.max_pooling2d(inputs=h1, pool_size=[1, 20], strides=[1,20])\n",
    "pool_reduced = tf.reshape(pool1,[-1,num_filters*m])\n",
    "\n",
    "\n",
    "w2 = Normal(mu=tf.zeros([num_filters*m, num_nodes]), sigma =tf.ones([num_filters*m, num_nodes])) \n",
    "b2 = Normal(mu=tf.zeros(num_nodes), sigma = tf.ones(num_nodes))\n",
    "all_vars.append(w2)\n",
    "all_vars.append(b2)\n",
    "h2 = tf.nn.relu(tf.nn.bias_add(tf.matmul(pool_reduced, w2), b2))\n",
    "\n",
    "w3 = Normal(mu=tf.zeros([num_nodes,1]), sigma = tf.ones([num_nodes,1]))\n",
    "b3 = Normal(mu=tf.zeros(1), sigma=tf.ones(1))\n",
    "all_vars.append(w3)\n",
    "all_vars.append(b3)\n",
    "w3_pred = tf.reshape(tf.nn.bias_add(tf.matmul(h2, w3), b3),[-1])\n",
    "y = Bernoulli(logits = w3_pred)\n",
    "\n",
    "qw1s = [Normal(mu=tf.Variable(tf.random_normal([fw, fh])),\n",
    "              sigma=tf.nn.softplus(tf.Variable(tf.random_normal([fw, fh])))) for i in range(num_filters)]\n",
    "vi_dict = {w1s[i]: qw1s[i] for i in range(len(w1s))}\n",
    "q_vars = [x for x in qw1s]\n",
    "qb1 = Normal(mu=tf.Variable(tf.random_normal([num_filters])),\n",
    "              sigma=tf.nn.softplus(tf.Variable(tf.random_normal([num_filters]))))\n",
    "qw2 = Normal(mu=tf.Variable(tf.random_normal([num_filters*m, num_nodes])),\n",
    "              sigma=tf.nn.softplus(tf.Variable(tf.random_normal([num_filters*m, num_nodes]))))\n",
    "qb2 = Normal(mu=tf.Variable(tf.random_normal([num_nodes])),\n",
    "              sigma=tf.nn.softplus(tf.Variable(tf.random_normal([num_nodes]))))\n",
    "qw3 = Normal(mu=tf.Variable(tf.random_normal([num_nodes,1])),\n",
    "              sigma=tf.nn.softplus(tf.Variable(tf.random_normal([num_nodes,1]))))\n",
    "qb3 = Normal(mu=tf.Variable(tf.random_normal([1])),\n",
    "              sigma=tf.nn.softplus(tf.Variable(tf.random_normal([1]))))\n",
    "vi_dict[b1]=qb1 \n",
    "vi_dict[w2]=qw2\n",
    "vi_dict[b2]=qb2\n",
    "vi_dict[w3]=qw3\n",
    "vi_dict[b3]=qb3\n",
    "\n",
    "q_vars.append(qb1)\n",
    "q_vars.append(qw2)\n",
    "q_vars.append(qb2)\n",
    "q_vars.append(qw3)\n",
    "q_vars.append(qb3)\n",
    "\n",
    "\n",
    "inference = ed.KLqp(vi_dict, data={X: X_K562_train,y: Y_K562_train})\n",
    "inference.initialize()\n",
    "inference.run(n_iter = 2500)"
   ]
  },
  {
   "cell_type": "code",
   "execution_count": 38,
   "metadata": {
    "collapsed": true
   },
   "outputs": [],
   "source": [
    "sess = ed.get_session()"
   ]
  },
  {
   "cell_type": "code",
   "execution_count": 40,
   "metadata": {},
   "outputs": [
    {
     "name": "stdout",
     "output_type": "stream",
     "text": [
      "[[1 1 1 ..., 1 1 1]\n",
      " [1 1 1 ..., 1 1 1]\n",
      " [1 1 1 ..., 1 1 1]\n",
      " ..., \n",
      " [1 1 1 ..., 1 1 1]\n",
      " [1 1 1 ..., 1 1 1]\n",
      " [1 1 1 ..., 1 1 1]]\n"
     ]
    },
    {
     "data": {
      "text/plain": [
       "(array([    0.,     0.,     0.,     0.,     0.,  1949.,     0.,     0.,\n",
       "            0.,     0.]),\n",
       " array([ 0.46,  0.56,  0.66,  0.76,  0.86,  0.96,  1.06,  1.16,  1.26,\n",
       "         1.36,  1.46]),\n",
       " <a list of 10 Patch objects>)"
      ]
     },
     "execution_count": 40,
     "metadata": {},
     "output_type": "execute_result"
    },
    {
     "data": {
      "image/png": "[encoded data removed]",
      "text/plain": [
       "<matplotlib.figure.Figure at 0x7f80e9821c90>"
      ]
     },
     "metadata": {},
     "output_type": "display_data"
    }
   ],
   "source": [
    "y_pred = [sess.run(y, feed_dict = {X: X_K562_test}) for _ in range(50)]\n",
    "\n",
    "y_pred_mat = np.asarray(y_pred)\n",
    "print(y_pred_mat)\n",
    "plt.hist(np.mean(y_pred_mat, axis = 0))"
   ]
  },
  {
   "cell_type": "code",
   "execution_count": 29,
   "metadata": {
    "collapsed": true
   },
   "outputs": [],
   "source": [
    "?inference.run\n"
   ]
  },
  {
   "cell_type": "code",
   "execution_count": 17,
   "metadata": {},
   "outputs": [
    {
     "name": "stdout",
     "output_type": "stream",
     "text": [
      "Tensor(\"ExpandDims_1:0\", shape=(4, 18, 1, 100), dtype=float32)\n",
      "22\n",
      "44\n",
      "On idx 0 took 31.08 seconds\n",
      "On idx 50 took 35.27 seconds\n",
      "On idx 100 took 39.07 seconds\n",
      "On idx 150 took 43.26 seconds\n",
      "On idx 200 took 47.26 seconds\n",
      "On idx 250 took 51.36 seconds\n",
      "On idx 300 took 55.29 seconds\n",
      "On idx 350 took 59.46 seconds\n",
      "On idx 400 took 63.45 seconds\n",
      "On idx 450 took 67.18 seconds\n",
      "On idx 500 took 71.19 seconds\n",
      "On idx 550 took 75.23 seconds\n",
      "On idx 600 took 79.34 seconds\n",
      "On idx 650 took 83.18 seconds\n",
      "On idx 700 took 87.35 seconds\n",
      "On idx 750 took 91.21 seconds\n",
      "On idx 800 took 95.17 seconds\n",
      "On idx 850 took 99.27 seconds\n",
      "On idx 900 took 103.27 seconds\n",
      "On idx 950 took 107.33 seconds\n",
      "On idx 1000 took 111.21 seconds\n",
      "On idx 1050 took 114.93 seconds\n",
      "On idx 1100 took 118.94 seconds\n",
      "On idx 1150 took 122.98 seconds\n",
      "On idx 1200 took 126.72 seconds\n",
      "On idx 1250 took 130.69 seconds\n",
      "On idx 1300 took 134.81 seconds\n",
      "On idx 1350 took 138.82 seconds\n",
      "On idx 1400 took 142.71 seconds\n",
      "On idx 1450 took 146.76 seconds\n",
      "On idx 1500 took 150.73 seconds\n",
      "On idx 1550 took 154.51 seconds\n",
      "On idx 1600 took 158.28 seconds\n",
      "On idx 1650 took 162.32 seconds\n",
      "On idx 1700 took 166.39 seconds\n",
      "On idx 1750 took 170.44 seconds\n",
      "On idx 1800 took 174.45 seconds\n",
      "On idx 1850 took 178.39 seconds\n",
      "On idx 1900 took 182.39 seconds\n",
      "On idx 1950 took 186.35 seconds\n",
      "On idx 2000 took 190.25 seconds\n",
      "On idx 2050 took 194.17 seconds\n",
      "On idx 2100 took 198.03 seconds\n",
      "On idx 2150 took 202.14 seconds\n",
      "On idx 2200 took 206.35 seconds\n",
      "On idx 2250 took 210.26 seconds\n",
      "On idx 2300 took 214.17 seconds\n",
      "On idx 2350 took 218.25 seconds\n",
      "On idx 2400 took 222.02 seconds\n",
      "On idx 2450 took 226.01 seconds\n",
      "On idx 2500 took 229.69 seconds\n",
      "On idx 2550 took 233.67 seconds\n",
      "On idx 2600 took 237.80 seconds\n",
      "On idx 2650 took 241.87 seconds\n",
      "On idx 2700 took 245.83 seconds\n",
      "On idx 2750 took 249.95 seconds\n",
      "On idx 2800 took 253.87 seconds\n",
      "On idx 2850 took 257.86 seconds\n",
      "On idx 2900 took 262.11 seconds\n",
      "On idx 2950 took 266.16 seconds\n",
      "270.191084146\n"
     ]
    }
   ],
   "source": [
    "start = time.time()\n",
    "batch = 500\n",
    "width = 4\n",
    "length = 150\n",
    "fw= 4\n",
    "fh= 18\n",
    "num_filters = 100\n",
    "num_nodes = 8 \n",
    "\n",
    "m = 6\n",
    "X = tf.placeholder(tf.float32, [batch, width, length, 1])\n",
    "#layer 1 w initalization\n",
    "w1s = [Normal(mu=tf.zeros([fw, fh]), sigma = tf.ones([fw, fh])) for i in range(num_filters)]\n",
    "all_vars = [x for x in w1s]\n",
    "w_all = tf.stack(w1s, axis=2, name=\"stack\")\n",
    "w_all_a = tf.expand_dims(w_all, 2)\n",
    "print(w_all_a)\n",
    "conv1 = tf.nn.conv2d(X, w_all_a,strides = [1,1,1,1], padding = 'VALID')\n",
    "b1 = Normal(mu=tf.zeros([num_filters]), sigma = tf.ones([num_filters]))\n",
    "all_vars.append(b1)\n",
    "h1 = tf.nn.relu(tf.nn.bias_add(conv1, b1))\n",
    "pool1 = tf.layers.max_pooling2d(inputs=h1, pool_size=[1, 20], strides=[1,20])\n",
    "pool_reduced = tf.reshape(pool1,[-1,num_filters*m])\n",
    "\n",
    "\n",
    "w2 = Normal(mu=tf.zeros([num_filters*m, num_nodes]), sigma=50*tf.ones([num_filters*m, num_nodes])) \n",
    "b2 = Normal(mu=tf.zeros(num_nodes), sigma = tf.ones(num_nodes))\n",
    "all_vars.append(w2)\n",
    "all_vars.append(b2)\n",
    "h2 = tf.nn.relu(tf.nn.bias_add(tf.matmul(pool_reduced, w2), b2))\n",
    "\n",
    "w3 = Normal(mu=tf.zeros([num_nodes,1]), sigma = tf.ones([num_nodes,1]))\n",
    "b3 = Normal(mu=tf.zeros(1), sigma=tf.ones(1))\n",
    "all_vars.append(w3)\n",
    "all_vars.append(b3)\n",
    "w3_pred = tf.reshape(tf.nn.bias_add(tf.matmul(h2, w3), b3),[-1])\n",
    "y = Bernoulli(logits = w3_pred)\n",
    "\n",
    "T = 3000   \n",
    "nburn = 500\n",
    "stride = 10\n",
    "\n",
    "qw1s = [Empirical(params=tf.Variable(tf.random_normal([T,fw, fh]))) for i in range(num_filters)]\n",
    "vi_dict = {w1s[i]: qw1s[i] for i in range(len(w1s))}\n",
    "q_vars = [x for x in qw1s]\n",
    "qb1 = Empirical(params=tf.Variable(tf.random_normal([T,num_filters])))\n",
    "qw2 = Empirical(params=tf.Variable(tf.random_normal([T,num_filters*m, num_nodes])))\n",
    "qb2 = Empirical(params=tf.Variable(tf.random_normal([T,num_nodes])))\n",
    "qw3 = Empirical(params=tf.Variable(tf.random_normal([T,num_nodes,1])))\n",
    "qb3 = Empirical(params=tf.Variable(tf.random_normal([T,1])))\n",
    "vi_dict[b1]=qb1 \n",
    "vi_dict[w2]=qw2\n",
    "vi_dict[b2]=qb2\n",
    "vi_dict[w3]=qw3\n",
    "vi_dict[b3]=qb3\n",
    "\n",
    "q_vars.append(qb1)\n",
    "q_vars.append(qw2)\n",
    "q_vars.append(qb2)\n",
    "q_vars.append(qw3)\n",
    "q_vars.append(qb3)\n",
    "\n",
    "#inference = ed.KLqp(vi_dict, data={X: X_LCL[:400,:,:,:], y: Y_LCL[:400]})\n",
    "#inference.initalize()\n",
    "y_ph = tf.placeholder(tf.int32, [batch])\n",
    "inference = ed.HMC(vi_dict, data={y: y_ph})\n",
    "inference.initialize()\n",
    "sess = ed.get_session()\n",
    "tf.global_variables_initializer().run()\n",
    "#inference.initialize()\n",
    "minibatch_index = 0\n",
    "batches, rem = divmod(X_K562_train.shape[0], batch)\n",
    "print(batches)\n",
    "print(rem)\n",
    "for i in range(inference.n_iter):\n",
    "    if minibatch_index == batches-1:\n",
    "        minibatch_index = 0\n",
    "    x_feed = X_K562_train[batch*minibatch_index:batch*(minibatch_index+1)].astype(np.float32)\n",
    "    y_feed = Y_K562_train[batch*minibatch_index:batch*(minibatch_index+1)].astype(np.float32)\n",
    "    inference.update(feed_dict={X: x_feed, y_ph:y_feed})\n",
    "    minibatch_index += 1\n",
    "    if i % 50 == 0:\n",
    "        print(\"On idx %i took %0.02f seconds\"%(i, time.time()-start))\n",
    "end = time.time()\n",
    "print(end-start)"
   ]
  },
  {
   "cell_type": "code",
   "execution_count": null,
   "metadata": {
    "collapsed": true
   },
   "outputs": [],
   "source": [
    "start = time.time()\n",
    "batch = 500\n",
    "width = 4\n",
    "length = 150\n",
    "fw= 4\n",
    "fh= 18\n",
    "num_filters = 100\n",
    "num_nodes = 8 \n",
    "\n",
    "m = 3\n",
    "X = tf.placeholder(tf.float32, [None, width, length, 1])\n",
    "#layer 1 w initalization\n",
    "w1s = [Normal(mu=tf.ones([fw, fh]), sigma = tf.ones([fw, fh])) for i in range(num_filters)]\n",
    "all_vars = [x for x in w1s]\n",
    "w_all = tf.stack(w1s, axis=2, name=\"stack\")\n",
    "w_all_a = tf.expand_dims(w_all, 2)\n",
    "print(w_all_a)\n",
    "conv1 = tf.nn.conv2d(X, w_all_a,strides = [1,1,2,1], padding = 'VALID')\n",
    "b1 = Normal(mu=tf.zeros([num_filters]), sigma = tf.ones([num_filters]))\n",
    "all_vars.append(b1)\n",
    "h1 = tf.nn.relu(tf.nn.bias_add(conv1, b1))\n",
    "pool1 = tf.layers.max_pooling2d(inputs=h1, pool_size=[1, 20], strides=[1,20])\n",
    "pool_reduced = tf.reshape(pool1,[-1,num_filters*m])\n",
    "\n",
    "\n",
    "w2 = Normal(mu=tf.ones([num_filters*m, num_nodes]), sigma =tf.ones([num_filters*m, num_nodes])) \n",
    "b2 = Normal(mu=tf.zeros(num_nodes), sigma = tf.ones(num_nodes))\n",
    "all_vars.append(w2)\n",
    "all_vars.append(b2)\n",
    "h2 = tf.nn.relu(tf.nn.bias_add(tf.matmul(pool_reduced, w2), b2))\n",
    "\n",
    "w3 = Normal(mu=tf.ones([num_nodes,1]), sigma = tf.ones([num_nodes,1]))\n",
    "b3 = Normal(mu=tf.zeros(1), sigma=tf.ones(1))\n",
    "all_vars.append(w3)\n",
    "all_vars.append(b3)\n",
    "w3_pred = tf.reshape(tf.nn.bias_add(tf.matmul(h2, w3), b3),[-1])\n",
    "y = Bernoulli(logits = w3_pred)\n",
    "\n",
    "qw1s = [Normal(mu=tf.Variable(tf.random_normal([fw, fh])),\n",
    "              sigma=tf.nn.softplus(tf.Variable(tf.random_normal([fw, fh])))) for i in range(num_filters)]\n",
    "vi_dict = {w1s[i]: qw1s[i] for i in range(len(w1s))}\n",
    "q_vars = [x for x in qw1s]\n",
    "qb1 = Normal(mu=tf.Variable(tf.random_normal([num_filters])),\n",
    "              sigma=tf.nn.softplus(tf.Variable(tf.random_normal([num_filters]))))\n",
    "qw2 = Normal(mu=tf.Variable(tf.random_normal([num_filters*m, num_nodes])),\n",
    "              sigma=tf.nn.softplus(tf.Variable(tf.random_normal([num_filters*m, num_nodes]))))\n",
    "qb2 = Normal(mu=tf.Variable(tf.random_normal([num_nodes])),\n",
    "              sigma=tf.nn.softplus(tf.Variable(tf.random_normal([num_nodes]))))\n",
    "qw3 = Normal(mu=tf.Variable(tf.random_normal([num_nodes,1])),\n",
    "              sigma=tf.nn.softplus(tf.Variable(tf.random_normal([num_nodes,1]))))\n",
    "qb3 = Normal(mu=tf.Variable(tf.random_normal([1])),\n",
    "              sigma=tf.nn.softplus(tf.Variable(tf.random_normal([1]))))\n",
    "vi_dict[b1]=qb1 \n",
    "vi_dict[w2]=qw2\n",
    "vi_dict[b2]=qb2\n",
    "vi_dict[w3]=qw3\n",
    "vi_dict[b3]=qb3\n",
    "\n",
    "q_vars.append(qb1)\n",
    "q_vars.append(qw2)\n",
    "q_vars.append(qb2)\n",
    "q_vars.append(qw3)\n",
    "q_vars.append(qb3)\n",
    "\n",
    "#inference = ed.KLqp(vi_dict, data={X: X_LCL[:400,:,:,:], y: Y_LCL[:400]})\n",
    "#inference.initalize()\n",
    "y_ph = tf.placeholder(tf.int32, [batch])\n",
    "inference = ed.KLqp(vi_dict, data={y: y_ph})\n",
    "inference.initialize(n_iter=1000, n_samples=10)\n",
    "sess = ed.get_session()\n",
    "tf.global_variables_initializer().run()\n",
    "#inference.initialize()\n",
    "minibatch_index = 0\n",
    "batches, rem = divmod(X_K562_train.shape[0], batch)\n",
    "print(batches)\n",
    "print(rem)\n",
    "for i in range(inference.n_iter):\n",
    "    if minibatch_index == batches-1:\n",
    "        minibatch_index = 0\n",
    "    x_feed = X_K562_train[batch*minibatch_index:batch*(minibatch_index+1)].astype(np.float32)\n",
    "    y_feed = Y_K562_train[batch*minibatch_index:batch*(minibatch_index+1)].astype(np.float32)\n",
    "    inference.update(feed_dict={X: x_feed, y_ph:y_feed})\n",
    "    minibatch_index += 1\n",
    "    if i % 50 == 0:\n",
    "        print(\"On idx %i took %0.02f seconds\"%(i, time.time()-start))\n",
    "end = time.time()\n",
    "print(end-start)"
   ]
  },
  {
   "cell_type": "code",
   "execution_count": 217,
   "metadata": {},
   "outputs": [
    {
     "name": "stdout",
     "output_type": "stream",
     "text": [
      "(100, 100, 100)\n"
     ]
    }
   ],
   "source": [
    "t = tf.random_normal([100,100,100])\n",
    "xx = sess.run(t)\n",
    "print(xx.shape)"
   ]
  },
  {
   "cell_type": "code",
   "execution_count": 24,
   "metadata": {},
   "outputs": [
    {
     "name": "stdout",
     "output_type": "stream",
     "text": [
      "(2500, 500)\n"
     ]
    },
    {
     "data": {
      "text/plain": [
       "(array([ 914.,  121.,   85.,   70.,   60.,   58.,   73.,   82.,  104.,  933.]),\n",
       " array([ 0. ,  0.1,  0.2,  0.3,  0.4,  0.5,  0.6,  0.7,  0.8,  0.9,  1. ]),\n",
       " <a list of 10 Patch objects>)"
      ]
     },
     "execution_count": 24,
     "metadata": {},
     "output_type": "execute_result"
    },
    {
     "data": {
      "image/png": "[encoded data removed]",
      "text/plain": [
       "<matplotlib.figure.Figure at 0x7f901d2d8a50>"
      ]
     },
     "metadata": {},
     "output_type": "display_data"
    }
   ],
   "source": [
    "y_pred = [sess.run(y, feed_dict = {X: X_K562_test[:500]}) for _ in range(2500)]\n",
    "\n",
    "y_pred_mat = np.asarray(y_pred)\n",
    "print(y_pred_mat.shape)\n",
    "plt.hist(np.mean(y_pred_mat, axis = 1))"
   ]
  },
  {
   "cell_type": "code",
   "execution_count": null,
   "metadata": {
    "collapsed": true
   },
   "outputs": [],
   "source": []
  },
  {
   "cell_type": "code",
   "execution_count": 221,
   "metadata": {},
   "outputs": [
    {
     "data": {
      "text/plain": [
       "(100, 4, 18)"
      ]
     },
     "execution_count": 221,
     "metadata": {},
     "output_type": "execute_result"
    }
   ],
   "source": [
    "t = qw1s[0].sample(100)\n",
    "t.eval().shape"
   ]
  },
  {
   "cell_type": "code",
   "execution_count": 184,
   "metadata": {},
   "outputs": [
    {
     "data": {
      "text/plain": [
       "0.48519119999999999"
      ]
     },
     "execution_count": 184,
     "metadata": {},
     "output_type": "execute_result"
    }
   ],
   "source": [
    "np.mean(y_pred_mat)"
   ]
  },
  {
   "cell_type": "code",
   "execution_count": 215,
   "metadata": {},
   "outputs": [
    {
     "data": {
      "text/plain": [
       "(100,)"
      ]
     },
     "execution_count": 215,
     "metadata": {},
     "output_type": "execute_result"
    }
   ],
   "source": [
    "qb1.eval().shape"
   ]
  },
  {
   "cell_type": "code",
   "execution_count": 213,
   "metadata": {},
   "outputs": [
    {
     "name": "stdout",
     "output_type": "stream",
     "text": [
      "[[ 0.80599636 -0.38665196  1.39953423 ...,  0.16761079 -1.34714937\n",
      "  -0.26539537]\n",
      " [ 0.80599636 -0.38665196  1.39953423 ...,  0.16761079 -1.34714937\n",
      "  -0.26539537]\n",
      " [ 0.80599636 -0.38665196  1.39953423 ...,  0.16761079 -1.34714937\n",
      "  -0.26539537]\n",
      " ..., \n",
      " [ 0.80599636 -0.38665196  1.39953423 ...,  0.16761079 -1.34714937\n",
      "  -0.26539537]\n",
      " [ 0.80599636 -0.38665196  1.39953423 ...,  0.16761079 -1.34714937\n",
      "  -0.26539537]\n",
      " [ 0.80599636 -0.38665196  1.39953423 ...,  0.16761079 -1.34714937\n",
      "  -0.26539537]]\n"
     ]
    }
   ],
   "source": [
    "print(z.eval())"
   ]
  },
  {
   "cell_type": "code",
   "execution_count": 206,
   "metadata": {
    "scrolled": true
   },
   "outputs": [
    {
     "data": {
      "text/plain": [
       "array([ 0.5256,  0.5244,  0.5288,  0.522 ,  0.5312,  0.5268,  0.526 ,\n",
       "        0.5252,  0.5208,  0.5204,  0.524 ,  0.5156,  0.5288,  0.5208,\n",
       "        0.522 ,  0.522 ,  0.5284,  0.5212,  0.5292,  0.5328,  0.5312,\n",
       "        0.526 ,  0.5288,  0.532 ,  0.5216,  0.5288,  0.5336,  0.5216,\n",
       "        0.532 ,  0.5284,  0.5324,  0.5268,  0.526 ,  0.5228,  0.5264,\n",
       "        0.5228,  0.5332,  0.522 ,  0.5216,  0.522 ,  0.528 ,  0.5364,\n",
       "        0.5268,  0.5208,  0.5276,  0.5308,  0.5272,  0.5288,  0.5316,\n",
       "        0.5296,  0.5368,  0.5268,  0.518 ,  0.5244,  0.5264,  0.52  ,\n",
       "        0.5332,  0.528 ,  0.5232,  0.528 ,  0.5212,  0.5328,  0.5244,\n",
       "        0.5316,  0.5268,  0.5276,  0.5276,  0.5276,  0.5276,  0.5308,\n",
       "        0.5328,  0.5204,  0.5268,  0.524 ,  0.522 ,  0.5284,  0.5228,\n",
       "        0.5256,  0.5288,  0.5312,  0.5244,  0.5308,  0.5296,  0.5252,\n",
       "        0.5304,  0.5276,  0.5332,  0.5256,  0.5224,  0.526 ,  0.5304,\n",
       "        0.5304,  0.5232,  0.5332,  0.5312,  0.5316,  0.5236,  0.5276,\n",
       "        0.5296,  0.5248,  0.526 ,  0.5324,  0.5264,  0.524 ,  0.5276,\n",
       "        0.5276,  0.5304,  0.542 ,  0.528 ,  0.532 ,  0.528 ,  0.5192,\n",
       "        0.5228,  0.5276,  0.524 ,  0.5272,  0.5248,  0.5248,  0.5268,\n",
       "        0.5232,  0.5268,  0.5248,  0.5288,  0.5256,  0.5288,  0.5228,\n",
       "        0.532 ,  0.5276,  0.5272,  0.524 ,  0.5244,  0.5304,  0.5252,\n",
       "        0.53  ,  0.5236,  0.5232,  0.5256,  0.5348,  0.5276,  0.5328,\n",
       "        0.5316,  0.5252,  0.5328,  0.5324,  0.5192,  0.5272,  0.5248,\n",
       "        0.5284,  0.5208,  0.5188,  0.5272,  0.5284,  0.5192,  0.5304,\n",
       "        0.5212,  0.5288,  0.5248,  0.5284,  0.5356,  0.5268,  0.5272,\n",
       "        0.526 ,  0.5212,  0.5272,  0.5352,  0.52  ,  0.5248,  0.5296,\n",
       "        0.526 ,  0.5216,  0.5272,  0.5332,  0.524 ,  0.5324,  0.516 ,\n",
       "        0.5312,  0.5168,  0.5256,  0.528 ,  0.524 ,  0.526 ,  0.5196,\n",
       "        0.5248,  0.5276,  0.5272,  0.5292,  0.5232,  0.5308,  0.5312,\n",
       "        0.5352,  0.5316,  0.5324,  0.532 ,  0.5284,  0.5196,  0.524 ,\n",
       "        0.53  ,  0.5248,  0.526 ,  0.5264,  0.526 ,  0.5256,  0.5248,\n",
       "        0.5196,  0.5252,  0.5364,  0.528 ,  0.528 ,  0.522 ,  0.5292,\n",
       "        0.5244,  0.5296,  0.5292,  0.5228,  0.5248,  0.5292,  0.5328,\n",
       "        0.5276,  0.526 ,  0.526 ,  0.5292,  0.5296,  0.53  ,  0.5276,\n",
       "        0.5256,  0.5252,  0.5256,  0.52  ,  0.5256,  0.5248,  0.5316,\n",
       "        0.53  ,  0.5248,  0.5228,  0.5228,  0.5308,  0.5244,  0.5232,\n",
       "        0.5332,  0.528 ,  0.5308,  0.5256,  0.53  ,  0.5276,  0.5244,\n",
       "        0.5292,  0.5264,  0.5252,  0.5268,  0.5236,  0.5296,  0.5292,\n",
       "        0.5288,  0.5308,  0.5348,  0.5236,  0.53  ,  0.5256,  0.5268,\n",
       "        0.5316,  0.5264,  0.5288,  0.526 ,  0.5308,  0.5212,  0.5228,\n",
       "        0.5344,  0.5196,  0.5296,  0.5256,  0.5232,  0.5264,  0.5176,\n",
       "        0.5256,  0.5244,  0.53  ,  0.5276,  0.5236,  0.5176,  0.526 ,\n",
       "        0.5276,  0.5208,  0.5284,  0.53  ,  0.5252,  0.5284,  0.524 ,\n",
       "        0.526 ,  0.5232,  0.5316,  0.5312,  0.5212,  0.526 ,  0.5324,\n",
       "        0.532 ,  0.5248,  0.526 ,  0.5284,  0.5276,  0.5244,  0.5352,\n",
       "        0.5256,  0.5296,  0.532 ,  0.5312,  0.534 ,  0.5184,  0.5276,\n",
       "        0.5228,  0.5264,  0.5284,  0.53  ,  0.5296,  0.5268,  0.5228,\n",
       "        0.5224,  0.5264,  0.5224,  0.5264,  0.5344,  0.538 ,  0.5236,\n",
       "        0.5384,  0.53  ,  0.5268,  0.5264,  0.5288,  0.5324,  0.5188,\n",
       "        0.5376,  0.5304,  0.5336,  0.528 ,  0.5312,  0.5348,  0.5272,\n",
       "        0.5272,  0.5316,  0.5348,  0.5292,  0.5236,  0.5292,  0.5284,\n",
       "        0.526 ,  0.5288,  0.5252,  0.5268,  0.528 ,  0.5292,  0.5272,\n",
       "        0.5292,  0.5296,  0.5272,  0.528 ,  0.522 ,  0.5208,  0.5292,\n",
       "        0.5248,  0.5316,  0.5232,  0.5228,  0.5372,  0.526 ,  0.5308,\n",
       "        0.5276,  0.5232,  0.5324,  0.5296,  0.5208,  0.5392,  0.5252,\n",
       "        0.5224,  0.5244,  0.5196,  0.5268,  0.5268,  0.5276,  0.5236,\n",
       "        0.53  ,  0.5196,  0.5308,  0.5264,  0.526 ,  0.5328,  0.5224,\n",
       "        0.5252,  0.5308,  0.5324,  0.532 ,  0.5224,  0.5256,  0.5252,\n",
       "        0.5248,  0.5316,  0.5264,  0.5264,  0.5332,  0.5312,  0.528 ,\n",
       "        0.5292,  0.5236,  0.53  ,  0.5212,  0.5212,  0.5196,  0.5276,\n",
       "        0.5276,  0.5244,  0.522 ,  0.5256,  0.5364,  0.5284,  0.5272,\n",
       "        0.5248,  0.528 ,  0.5224,  0.5264,  0.5224,  0.5392,  0.5324,\n",
       "        0.534 ,  0.5308,  0.5292,  0.532 ,  0.5228,  0.524 ,  0.522 ,\n",
       "        0.5392,  0.532 ,  0.5208,  0.536 ,  0.5244,  0.528 ,  0.5252,\n",
       "        0.5248,  0.5296,  0.5244,  0.5296,  0.534 ,  0.5276,  0.5224,\n",
       "        0.5232,  0.5276,  0.5248,  0.5316,  0.5244,  0.5188,  0.5236,\n",
       "        0.5308,  0.5304,  0.5316,  0.5256,  0.5236,  0.5336,  0.522 ,\n",
       "        0.5304,  0.5308,  0.532 ,  0.5348,  0.5284,  0.5304,  0.5232,\n",
       "        0.522 ,  0.522 ,  0.528 ,  0.5312,  0.5304,  0.53  ,  0.5216,\n",
       "        0.5324,  0.5212,  0.5136,  0.5344,  0.5312,  0.5324,  0.5248,\n",
       "        0.5248,  0.5256,  0.524 ,  0.5328,  0.5148,  0.5316,  0.5248,\n",
       "        0.5304,  0.5272,  0.5236,  0.534 ,  0.5272,  0.5192,  0.5324,\n",
       "        0.536 ,  0.5252,  0.526 ,  0.5288,  0.5228,  0.5232,  0.5276,\n",
       "        0.5288,  0.5276,  0.5296])"
      ]
     },
     "execution_count": 206,
     "metadata": {},
     "output_type": "execute_result"
    }
   ],
   "source": [
    "np.mean(y_pred_mat, axis=0)"
   ]
  },
  {
   "cell_type": "code",
   "execution_count": 207,
   "metadata": {},
   "outputs": [
    {
     "data": {
      "text/plain": [
       "<matplotlib.axes._subplots.AxesSubplot at 0x7f9d44bda050>"
      ]
     },
     "execution_count": 207,
     "metadata": {},
     "output_type": "execute_result"
    },
    {
     "data": {
      "image/png": "[encoded data removed]",
      "text/plain": [
       "<matplotlib.figure.Figure at 0x7f9dd9e7ce50>"
      ]
     },
     "metadata": {},
     "output_type": "display_data"
    }
   ],
   "source": [
    "sns.regplot(Y_K562_test[:500], np.mean(y_pred_mat, axis=0))"
   ]
  },
  {
   "cell_type": "code",
   "execution_count": 15,
   "metadata": {},
   "outputs": [
    {
     "name": "stdout",
     "output_type": "stream",
     "text": [
      "Tensor(\"ExpandDims:0\", shape=(4, 18, 1, 100), dtype=float32)\n"
     ]
    },
    {
     "ename": "TypeError",
     "evalue": "Key-value pair in data does not have same shape: (1000,), (500,)",
     "output_type": "error",
     "traceback": [
      "\u001b[0;31m---------------------------------------------------------------------------\u001b[0m",
      "\u001b[0;31mTypeError\u001b[0m                                 Traceback (most recent call last)",
      "\u001b[0;32m<ipython-input-15-5abd8ff80ac1>\u001b[0m in \u001b[0;36m<module>\u001b[0;34m()\u001b[0m\n\u001b[1;32m     66\u001b[0m \u001b[0;31m#inference.initalize()\u001b[0m\u001b[0;34m\u001b[0m\u001b[0;34m\u001b[0m\u001b[0m\n\u001b[1;32m     67\u001b[0m \u001b[0my_ph\u001b[0m \u001b[0;34m=\u001b[0m \u001b[0mtf\u001b[0m\u001b[0;34m.\u001b[0m\u001b[0mplaceholder\u001b[0m\u001b[0;34m(\u001b[0m\u001b[0mtf\u001b[0m\u001b[0;34m.\u001b[0m\u001b[0mint32\u001b[0m\u001b[0;34m,\u001b[0m \u001b[0;34m[\u001b[0m\u001b[0mbatch\u001b[0m\u001b[0;34m]\u001b[0m\u001b[0;34m)\u001b[0m\u001b[0;34m\u001b[0m\u001b[0m\n\u001b[0;32m---> 68\u001b[0;31m \u001b[0minference\u001b[0m \u001b[0;34m=\u001b[0m \u001b[0med\u001b[0m\u001b[0;34m.\u001b[0m\u001b[0mKLqp\u001b[0m\u001b[0;34m(\u001b[0m\u001b[0mvi_dict\u001b[0m\u001b[0;34m,\u001b[0m \u001b[0mdata\u001b[0m\u001b[0;34m=\u001b[0m\u001b[0;34m{\u001b[0m\u001b[0my\u001b[0m\u001b[0;34m:\u001b[0m \u001b[0my_ph\u001b[0m\u001b[0;34m}\u001b[0m\u001b[0;34m)\u001b[0m\u001b[0;34m\u001b[0m\u001b[0m\n\u001b[0m\u001b[1;32m     69\u001b[0m \u001b[0minference\u001b[0m\u001b[0;34m.\u001b[0m\u001b[0minitialize\u001b[0m\u001b[0;34m(\u001b[0m\u001b[0mn_iter\u001b[0m\u001b[0;34m=\u001b[0m\u001b[0;36m1000\u001b[0m\u001b[0;34m,\u001b[0m \u001b[0mn_samples\u001b[0m\u001b[0;34m=\u001b[0m\u001b[0;36m10\u001b[0m\u001b[0;34m)\u001b[0m\u001b[0;34m\u001b[0m\u001b[0m\n\u001b[1;32m     70\u001b[0m \u001b[0msess\u001b[0m \u001b[0;34m=\u001b[0m \u001b[0med\u001b[0m\u001b[0;34m.\u001b[0m\u001b[0mget_session\u001b[0m\u001b[0;34m(\u001b[0m\u001b[0;34m)\u001b[0m\u001b[0;34m\u001b[0m\u001b[0m\n",
      "\u001b[0;32m/home/alvin/Downloads/edward/src/edward/edward/inferences/klqp.pyc\u001b[0m in \u001b[0;36m__init__\u001b[0;34m(self, *args, **kwargs)\u001b[0m\n\u001b[1;32m     57\u001b[0m   \"\"\"\n\u001b[1;32m     58\u001b[0m   \u001b[0;32mdef\u001b[0m \u001b[0m__init__\u001b[0m\u001b[0;34m(\u001b[0m\u001b[0mself\u001b[0m\u001b[0;34m,\u001b[0m \u001b[0;34m*\u001b[0m\u001b[0margs\u001b[0m\u001b[0;34m,\u001b[0m \u001b[0;34m**\u001b[0m\u001b[0mkwargs\u001b[0m\u001b[0;34m)\u001b[0m\u001b[0;34m:\u001b[0m\u001b[0;34m\u001b[0m\u001b[0m\n\u001b[0;32m---> 59\u001b[0;31m     \u001b[0msuper\u001b[0m\u001b[0;34m(\u001b[0m\u001b[0mKLqp\u001b[0m\u001b[0;34m,\u001b[0m \u001b[0mself\u001b[0m\u001b[0;34m)\u001b[0m\u001b[0;34m.\u001b[0m\u001b[0m__init__\u001b[0m\u001b[0;34m(\u001b[0m\u001b[0;34m*\u001b[0m\u001b[0margs\u001b[0m\u001b[0;34m,\u001b[0m \u001b[0;34m**\u001b[0m\u001b[0mkwargs\u001b[0m\u001b[0;34m)\u001b[0m\u001b[0;34m\u001b[0m\u001b[0m\n\u001b[0m\u001b[1;32m     60\u001b[0m \u001b[0;34m\u001b[0m\u001b[0m\n\u001b[1;32m     61\u001b[0m   \u001b[0;32mdef\u001b[0m \u001b[0minitialize\u001b[0m\u001b[0;34m(\u001b[0m\u001b[0mself\u001b[0m\u001b[0;34m,\u001b[0m \u001b[0mn_samples\u001b[0m\u001b[0;34m=\u001b[0m\u001b[0;36m1\u001b[0m\u001b[0;34m,\u001b[0m \u001b[0mkl_scaling\u001b[0m\u001b[0;34m=\u001b[0m\u001b[0mNone\u001b[0m\u001b[0;34m,\u001b[0m \u001b[0;34m*\u001b[0m\u001b[0margs\u001b[0m\u001b[0;34m,\u001b[0m \u001b[0;34m**\u001b[0m\u001b[0mkwargs\u001b[0m\u001b[0;34m)\u001b[0m\u001b[0;34m:\u001b[0m\u001b[0;34m\u001b[0m\u001b[0m\n",
      "\u001b[0;32m/home/alvin/Downloads/edward/src/edward/edward/inferences/variational_inference.pyc\u001b[0m in \u001b[0;36m__init__\u001b[0;34m(self, *args, **kwargs)\u001b[0m\n\u001b[1;32m     30\u001b[0m   \"\"\"\n\u001b[1;32m     31\u001b[0m   \u001b[0;32mdef\u001b[0m \u001b[0m__init__\u001b[0m\u001b[0;34m(\u001b[0m\u001b[0mself\u001b[0m\u001b[0;34m,\u001b[0m \u001b[0;34m*\u001b[0m\u001b[0margs\u001b[0m\u001b[0;34m,\u001b[0m \u001b[0;34m**\u001b[0m\u001b[0mkwargs\u001b[0m\u001b[0;34m)\u001b[0m\u001b[0;34m:\u001b[0m\u001b[0;34m\u001b[0m\u001b[0m\n\u001b[0;32m---> 32\u001b[0;31m     \u001b[0msuper\u001b[0m\u001b[0;34m(\u001b[0m\u001b[0mVariationalInference\u001b[0m\u001b[0;34m,\u001b[0m \u001b[0mself\u001b[0m\u001b[0;34m)\u001b[0m\u001b[0;34m.\u001b[0m\u001b[0m__init__\u001b[0m\u001b[0;34m(\u001b[0m\u001b[0;34m*\u001b[0m\u001b[0margs\u001b[0m\u001b[0;34m,\u001b[0m \u001b[0;34m**\u001b[0m\u001b[0mkwargs\u001b[0m\u001b[0;34m)\u001b[0m\u001b[0;34m\u001b[0m\u001b[0m\n\u001b[0m\u001b[1;32m     33\u001b[0m \u001b[0;34m\u001b[0m\u001b[0m\n\u001b[1;32m     34\u001b[0m   def initialize(self, optimizer=None, var_list=None, use_prettytensor=False,\n",
      "\u001b[0;32m/home/alvin/Downloads/edward/src/edward/edward/inferences/inference.pyc\u001b[0m in \u001b[0;36m__init__\u001b[0;34m(self, latent_vars, data)\u001b[0m\n\u001b[1;32m     66\u001b[0m     \u001b[0mself\u001b[0m\u001b[0;34m.\u001b[0m\u001b[0mlatent_vars\u001b[0m \u001b[0;34m=\u001b[0m \u001b[0mlatent_vars\u001b[0m\u001b[0;34m\u001b[0m\u001b[0m\n\u001b[1;32m     67\u001b[0m \u001b[0;34m\u001b[0m\u001b[0m\n\u001b[0;32m---> 68\u001b[0;31m     \u001b[0mcheck_data\u001b[0m\u001b[0;34m(\u001b[0m\u001b[0mdata\u001b[0m\u001b[0;34m)\u001b[0m\u001b[0;34m\u001b[0m\u001b[0m\n\u001b[0m\u001b[1;32m     69\u001b[0m     \u001b[0mself\u001b[0m\u001b[0;34m.\u001b[0m\u001b[0mdata\u001b[0m \u001b[0;34m=\u001b[0m \u001b[0;34m{\u001b[0m\u001b[0;34m}\u001b[0m\u001b[0;34m\u001b[0m\u001b[0m\n\u001b[1;32m     70\u001b[0m     \u001b[0;32mfor\u001b[0m \u001b[0mkey\u001b[0m\u001b[0;34m,\u001b[0m \u001b[0mvalue\u001b[0m \u001b[0;32min\u001b[0m \u001b[0msix\u001b[0m\u001b[0;34m.\u001b[0m\u001b[0miteritems\u001b[0m\u001b[0;34m(\u001b[0m\u001b[0mdata\u001b[0m\u001b[0;34m)\u001b[0m\u001b[0;34m:\u001b[0m\u001b[0;34m\u001b[0m\u001b[0m\n",
      "\u001b[0;32m/home/alvin/Downloads/edward/src/edward/edward/util/random_variables.pyc\u001b[0m in \u001b[0;36mcheck_data\u001b[0;34m(data)\u001b[0m\n\u001b[1;32m     38\u001b[0m         \u001b[0;32mif\u001b[0m \u001b[0;32mnot\u001b[0m \u001b[0mkey\u001b[0m\u001b[0;34m.\u001b[0m\u001b[0mshape\u001b[0m\u001b[0;34m.\u001b[0m\u001b[0mis_compatible_with\u001b[0m\u001b[0;34m(\u001b[0m\u001b[0mvalue\u001b[0m\u001b[0;34m.\u001b[0m\u001b[0mshape\u001b[0m\u001b[0;34m)\u001b[0m\u001b[0;34m:\u001b[0m\u001b[0;34m\u001b[0m\u001b[0m\n\u001b[1;32m     39\u001b[0m           raise TypeError(\"Key-value pair in data does not have same \"\n\u001b[0;32m---> 40\u001b[0;31m                           \"shape: {}, {}\".format(key.shape, value.shape))\n\u001b[0m\u001b[1;32m     41\u001b[0m         \u001b[0;32melif\u001b[0m \u001b[0mkey\u001b[0m\u001b[0;34m.\u001b[0m\u001b[0mdtype\u001b[0m \u001b[0;34m!=\u001b[0m \u001b[0mvalue\u001b[0m\u001b[0;34m.\u001b[0m\u001b[0mdtype\u001b[0m\u001b[0;34m:\u001b[0m\u001b[0;34m\u001b[0m\u001b[0m\n\u001b[1;32m     42\u001b[0m           raise TypeError(\"Key-value pair in data does not have same \"\n",
      "\u001b[0;31mTypeError\u001b[0m: Key-value pair in data does not have same shape: (1000,), (500,)"
     ]
    }
   ],
   "source": [
    "start = time.time()\n",
    "batch = 500\n",
    "width = 4\n",
    "length = 150\n",
    "fw= 4\n",
    "fh= 18\n",
    "num_filters = 100\n",
    "num_nodes = 8 \n",
    "\n",
    "m = 3\n",
    "X = tf.placeholder(tf.float32, [batch, width, length, 1])\n",
    "#layer 1 w initalization\n",
    "w1s = [Normal(mu=tf.ones([fw, fh]), sigma = tf.ones([fw, fh])) for i in range(num_filters)]\n",
    "all_vars = [x for x in w1s]\n",
    "w_all = tf.stack(w1s, axis=2, name=\"stack\")\n",
    "w_all_a = tf.expand_dims(w_all, 2)\n",
    "print(w_all_a)\n",
    "conv1 = tf.nn.conv2d(X, w_all_a,strides = [1,1,1,1], padding = 'VALID')\n",
    "b1 = Normal(mu=tf.zeros([num_filters]), sigma = tf.ones([num_filters]))\n",
    "all_vars.append(b1)\n",
    "h1 = tf.nn.relu(tf.nn.bias_add(conv1, b1))\n",
    "pool1 = tf.layers.max_pooling2d(inputs=h1, pool_size=[1, 20], strides=[1,20])\n",
    "pool_reduced = tf.reshape(pool1,[-1,num_filters*m])\n",
    "\n",
    "\n",
    "w2 = Normal(mu=tf.ones([num_filters*m, num_nodes]), sigma =tf.ones([num_filters*m, num_nodes])) \n",
    "b2 = Normal(mu=tf.zeros(num_nodes), sigma = tf.ones(num_nodes))\n",
    "all_vars.append(w2)\n",
    "all_vars.append(b2)\n",
    "h2 = tf.nn.relu(tf.nn.bias_add(tf.matmul(pool_reduced, w2), b2))\n",
    "\n",
    "w3 = Normal(mu=tf.ones([num_nodes,1]), sigma = tf.ones([num_nodes,1]))\n",
    "b3 = Normal(mu=tf.zeros(1), sigma=tf.ones(1))\n",
    "all_vars.append(w3)\n",
    "all_vars.append(b3)\n",
    "w3_pred = tf.reshape(tf.nn.bias_add(tf.matmul(h2, w3), b3),[-1])\n",
    "y = Bernoulli(logits = w3_pred)\n",
    "\n",
    "qw1s = [Normal(mu=tf.Variable(tf.random_normal([fw, fh])),\n",
    "              sigma=tf.nn.softplus(tf.Variable(tf.random_normal([fw, fh])))) for i in range(num_filters)]\n",
    "vi_dict = {w1s[i]: qw1s[i] for i in range(len(w1s))}\n",
    "q_vars = [x for x in qw1s]\n",
    "qb1 = Normal(mu=tf.Variable(tf.random_normal([num_filters])),\n",
    "              sigma=tf.nn.softplus(tf.Variable(tf.random_normal([num_filters]))))\n",
    "qw2 = Normal(mu=tf.Variable(tf.random_normal([num_filters*m, num_nodes])),\n",
    "              sigma=tf.nn.softplus(tf.Variable(tf.random_normal([num_filters*m, num_nodes]))))\n",
    "qb2 = Normal(mu=tf.Variable(tf.random_normal([num_nodes])),\n",
    "              sigma=tf.nn.softplus(tf.Variable(tf.random_normal([num_nodes]))))\n",
    "qw3 = Normal(mu=tf.Variable(tf.random_normal([num_nodes,1])),\n",
    "              sigma=tf.nn.softplus(tf.Variable(tf.random_normal([num_nodes,1]))))\n",
    "qb3 = Normal(mu=tf.Variable(tf.random_normal([1])),\n",
    "              sigma=tf.nn.softplus(tf.Variable(tf.random_normal([1]))))\n",
    "vi_dict[b1]=qb1 \n",
    "vi_dict[w2]=qw2\n",
    "vi_dict[b2]=qb2\n",
    "vi_dict[w3]=qw3\n",
    "vi_dict[b3]=qb3\n",
    "\n",
    "q_vars.append(qb1)\n",
    "q_vars.append(qw2)\n",
    "q_vars.append(qb2)\n",
    "q_vars.append(qw3)\n",
    "q_vars.append(qb3)\n",
    "\n",
    "#inference = ed.KLqp(vi_dict, data={X: X_LCL[:400,:,:,:], y: Y_LCL[:400]})\n",
    "#inference.initalize()\n",
    "y_ph = tf.placeholder(tf.int32, [batch])\n",
    "inference = ed.KLqp(vi_dict, data={y: y_ph})\n",
    "inference.initialize(n_iter=1000, n_samples=10)\n",
    "sess = ed.get_session()\n",
    "tf.global_variables_initializer().run()\n",
    "#inference.initialize()\n",
    "minibatch_index = 0\n",
    "batches, rem = divmod(X_K562_train.shape[0], batch)\n",
    "print(batches)\n",
    "print(rem)\n",
    "for i in range(inference.n_iter):\n",
    "    if minibatch_index == batches-1:\n",
    "        minibatch_index = 0\n",
    "    x_feed = X_K562_train[batch*minibatch_index:batch*(minibatch_index+1)].astype(np.float32)\n",
    "    y_feed = Y_K562_train[batch*minibatch_index:batch*(minibatch_index+1)].astype(np.float32)\n",
    "    inference.update(feed_dict={X: x_feed, y_ph:y_feed})\n",
    "    minibatch_index += 1\n",
    "    if i % 50 == 0:\n",
    "        print(\"On idx %i took %0.02f seconds\"%(i, time.time()-start))\n",
    "end = time.time()\n",
    "print(end-start)"
   ]
  },
  {
   "cell_type": "code",
   "execution_count": 158,
   "metadata": {
    "collapsed": true
   },
   "outputs": [],
   "source": [
    "y_pred = [sess.run(y, feed_dict = {X: X_K562_test[:500]}) for _ in range(4000)]"
   ]
  },
  {
   "cell_type": "code",
   "execution_count": 159,
   "metadata": {},
   "outputs": [
    {
     "name": "stdout",
     "output_type": "stream",
     "text": [
      "(4000, 500)\n"
     ]
    }
   ],
   "source": [
    "y_pred_mat = np.asarray(y_pred)\n",
    "print(y_pred_mat.shape)"
   ]
  },
  {
   "cell_type": "code",
   "execution_count": 160,
   "metadata": {},
   "outputs": [
    {
     "data": {
      "text/plain": [
       "array([ 0.04179638,  0.04179638,  0.04179638,  0.04179638,  0.04179638,\n",
       "        0.04179638,  0.04179638,  0.04179638,  0.04179638,  0.04179638,\n",
       "        0.04179638,  0.04179638,  0.04179638,  0.04179638,  0.04179638,\n",
       "        0.04179638,  0.04467662,  0.04179638,  0.04179638,  0.04179638,\n",
       "        0.04179638,  0.04179638,  0.04179638,  0.04179638,  0.04179638,\n",
       "        0.04179638,  0.04179638,  0.04179638,  0.04179638,  0.04179638,\n",
       "        0.04179638,  0.04179638,  0.04179638,  0.04179638,  0.04179638,\n",
       "        0.04179638,  0.04179638,  0.04179638,  0.04179638,  0.04179638,\n",
       "        0.04179638,  0.04179638,  0.04179638,  0.04179638,  0.04179638,\n",
       "        0.04179638,  0.04179638,  0.04179638,  0.04179638,  0.04179638,\n",
       "        0.04179638,  0.04179638,  0.04179638,  0.04179638,  0.04179638,\n",
       "        0.04179638,  0.04467662,  0.04467662,  0.04179638,  0.04179638,\n",
       "        0.04179638,  0.04467662,  0.04179638,  0.04179638,  0.04179638,\n",
       "        0.04179638,  0.04179638,  0.04179638,  0.04179638,  0.04179638,\n",
       "        0.04179638,  0.04179638,  0.04179638,  0.04179638,  0.04179638,\n",
       "        0.04179638,  0.04179638,  0.04467662,  0.04179638,  0.04179638,\n",
       "        0.04179638,  0.04179638,  0.04179638,  0.04179638,  0.04179638,\n",
       "        0.04179638,  0.04467662,  0.04179638,  0.04467662,  0.04179638,\n",
       "        0.04179638,  0.04179638,  0.04179638,  0.04179638,  0.04179638,\n",
       "        0.04179638,  0.04179638,  0.04179638,  0.04179638,  0.04179638,\n",
       "        0.04179638,  0.04179638,  0.04179638,  0.04179638,  0.04179638,\n",
       "        0.04179638,  0.04179638,  0.04179638,  0.04179638,  0.04179638,\n",
       "        0.04179638,  0.04179638,  0.04179638,  0.04179638,  0.04179638,\n",
       "        0.04179638,  0.04179638,  0.04179638,  0.04179638,  0.04179638,\n",
       "        0.04179638,  0.04179638,  0.04179638,  0.04179638,  0.04179638,\n",
       "        0.04179638,  0.04179638,  0.04179638,  0.04467662,  0.04179638,\n",
       "        0.04179638,  0.04179638,  0.04179638,  0.04179638,  0.04179638,\n",
       "        0.04179638,  0.04179638,  0.04179638,  0.04179638,  0.04467662,\n",
       "        0.04179638,  0.04179638,  0.04179638,  0.04179638,  0.04179638,\n",
       "        0.04179638,  0.04179638,  0.04179638,  0.04179638,  0.04179638,\n",
       "        0.04179638,  0.04179638,  0.04179638,  0.04467662,  0.04179638,\n",
       "        0.04179638,  0.04179638,  0.04179638,  0.04467662,  0.04179638,\n",
       "        0.04179638,  0.04179638,  0.04179638,  0.04179638,  0.04179638,\n",
       "        0.04179638,  0.04179638,  0.04179638,  0.04179638,  0.04179638,\n",
       "        0.04179638,  0.04179638,  0.04179638,  0.04467662,  0.04179638,\n",
       "        0.04179638,  0.04179638,  0.04179638,  0.04179638,  0.04179638,\n",
       "        0.04179638,  0.04179638,  0.04179638,  0.04179638,  0.04179638,\n",
       "        0.04179638,  0.04179638,  0.04179638,  0.04179638,  0.04179638,\n",
       "        0.04179638,  0.04179638,  0.04179638,  0.04179638,  0.04179638,\n",
       "        0.04179638,  0.04179638,  0.04179638,  0.04179638,  0.04179638,\n",
       "        0.04179638,  0.04179638,  0.04179638,  0.04179638,  0.04179638,\n",
       "        0.04179638,  0.04179638,  0.04179638,  0.04179638,  0.04179638,\n",
       "        0.04179638,  0.04179638,  0.04179638,  0.04179638,  0.04179638,\n",
       "        0.04179638,  0.04179638,  0.04179638,  0.04179638,  0.04179638,\n",
       "        0.04179638,  0.04179638,  0.04467662,  0.04467662,  0.04179638,\n",
       "        0.04179638,  0.04179638,  0.04179638,  0.04179638,  0.04179638,\n",
       "        0.04179638,  0.04179638,  0.04179638,  0.04179638,  0.04179638,\n",
       "        0.04179638,  0.04179638,  0.04179638,  0.04179638,  0.04179638,\n",
       "        0.04179638,  0.04179638,  0.04179638,  0.04179638,  0.04179638,\n",
       "        0.04179638,  0.04467662,  0.04179638,  0.04179638,  0.04179638,\n",
       "        0.04179638,  0.04179638,  0.04179638,  0.04179638,  0.04179638,\n",
       "        0.04179638,  0.04179638,  0.04179638,  0.04179638,  0.04179638,\n",
       "        0.04179638,  0.04179638,  0.04179638,  0.04179638,  0.04179638,\n",
       "        0.04179638,  0.04467662,  0.04467662,  0.04179638,  0.04179638,\n",
       "        0.04179638,  0.04179638,  0.04179638,  0.04179638,  0.04179638,\n",
       "        0.04179638,  0.04467662,  0.04179638,  0.04179638,  0.04179638,\n",
       "        0.04179638,  0.04179638,  0.04179638,  0.04179638,  0.04179638,\n",
       "        0.04179638,  0.04179638,  0.04179638,  0.04179638,  0.04467662,\n",
       "        0.04179638,  0.04179638,  0.04179638,  0.04179638,  0.04179638,\n",
       "        0.04179638,  0.04179638,  0.04179638,  0.04179638,  0.04179638,\n",
       "        0.04179638,  0.04179638,  0.04179638,  0.04179638,  0.04179638,\n",
       "        0.04467662,  0.04179638,  0.04179638,  0.04179638,  0.04179638,\n",
       "        0.04179638,  0.04179638,  0.04179638,  0.04179638,  0.04179638,\n",
       "        0.04179638,  0.04179638,  0.04179638,  0.04467662,  0.04179638,\n",
       "        0.04179638,  0.04179638,  0.04179638,  0.04179638,  0.04179638,\n",
       "        0.04179638,  0.04467662,  0.04179638,  0.04179638,  0.04179638,\n",
       "        0.04179638,  0.04179638,  0.04179638,  0.04179638,  0.04179638,\n",
       "        0.04179638,  0.04179638,  0.04179638,  0.04179638,  0.04179638,\n",
       "        0.04179638,  0.04179638,  0.04179638,  0.04179638,  0.04179638,\n",
       "        0.04179638,  0.04179638,  0.04179638,  0.04179638,  0.04179638,\n",
       "        0.04179638,  0.04179638,  0.04179638,  0.04179638,  0.04179638,\n",
       "        0.04179638,  0.04179638,  0.04179638,  0.04179638,  0.04179638,\n",
       "        0.04179638,  0.04179638,  0.04179638,  0.04179638,  0.04179638,\n",
       "        0.04179638,  0.04179638,  0.04179638,  0.04179638,  0.04179638,\n",
       "        0.04179638,  0.04467662,  0.04179638,  0.04179638,  0.04179638,\n",
       "        0.04179638,  0.04179638,  0.04179638,  0.04467662,  0.04179638,\n",
       "        0.04179638,  0.04179638,  0.04179638,  0.04179638,  0.04467662,\n",
       "        0.04179638,  0.04179638,  0.04179638,  0.04467662,  0.04179638,\n",
       "        0.04467662,  0.04179638,  0.04179638,  0.04179638,  0.04179638,\n",
       "        0.04179638,  0.04179638,  0.04179638,  0.04179638,  0.04179638,\n",
       "        0.04179638,  0.04179638,  0.04179638,  0.04179638,  0.04179638,\n",
       "        0.04179638,  0.04179638,  0.04179638,  0.04179638,  0.04179638,\n",
       "        0.04467662,  0.04179638,  0.04179638,  0.04179638,  0.04179638,\n",
       "        0.04179638,  0.04179638,  0.04179638,  0.04179638,  0.04179638,\n",
       "        0.04179638,  0.04179638,  0.04179638,  0.04179638,  0.04179638,\n",
       "        0.04179638,  0.04179638,  0.04179638,  0.04179638,  0.04179638,\n",
       "        0.04179638,  0.04467662,  0.04467662,  0.04179638,  0.04179638,\n",
       "        0.04179638,  0.04179638,  0.04179638,  0.04179638,  0.04179638,\n",
       "        0.04179638,  0.04179638,  0.04179638,  0.04179638,  0.04179638,\n",
       "        0.04179638,  0.04179638,  0.04179638,  0.04179638,  0.04179638,\n",
       "        0.04179638,  0.04179638,  0.04179638,  0.04179638,  0.04179638,\n",
       "        0.04179638,  0.04179638,  0.04179638,  0.04179638,  0.04179638,\n",
       "        0.04179638,  0.04179638,  0.04179638,  0.04179638,  0.04179638,\n",
       "        0.04179638,  0.04179638,  0.04179638,  0.04179638,  0.04179638,\n",
       "        0.04179638,  0.04467662,  0.04179638,  0.04179638,  0.04179638,\n",
       "        0.04467662,  0.04179638,  0.04179638,  0.04179638,  0.04179638,\n",
       "        0.04179638,  0.04467662,  0.04179638,  0.04179638,  0.04179638,\n",
       "        0.04179638,  0.04179638,  0.04179638,  0.04179638,  0.04179638,\n",
       "        0.04179638,  0.04179638,  0.04179638,  0.04179638,  0.04179638,\n",
       "        0.04179638,  0.04179638,  0.04179638,  0.04179638,  0.04179638])"
      ]
     },
     "execution_count": 160,
     "metadata": {},
     "output_type": "execute_result"
    }
   ],
   "source": [
    "np.std(y_pred_mat, axis=0)"
   ]
  },
  {
   "cell_type": "code",
   "execution_count": 161,
   "metadata": {
    "collapsed": true
   },
   "outputs": [],
   "source": [
    "import seaborn as sns"
   ]
  },
  {
   "cell_type": "code",
   "execution_count": 164,
   "metadata": {},
   "outputs": [
    {
     "data": {
      "text/plain": [
       "<matplotlib.axes._subplots.AxesSubplot at 0x7f9df0187f10>"
      ]
     },
     "execution_count": 164,
     "metadata": {},
     "output_type": "execute_result"
    },
    {
     "data": {
      "image/png": "[encoded data removed]",
      "text/plain": [
       "<matplotlib.figure.Figure at 0x7f9dd24f8250>"
      ]
     },
     "metadata": {},
     "output_type": "display_data"
    }
   ],
   "source": [
    "sns.regplot(np.std(y_pred_mat, axis=0), Y_K562_test[:500])"
   ]
  },
  {
   "cell_type": "code",
   "execution_count": 121,
   "metadata": {},
   "outputs": [
    {
     "ename": "ValueError",
     "evalue": "Tensor conversion requested dtype int32 for Tensor with dtype float32: 'Tensor(\"Cast_1:0\", shape=(), dtype=float32)'",
     "output_type": "error",
     "traceback": [
      "\u001b[0;31m---------------------------------------------------------------------------\u001b[0m",
      "\u001b[0;31mValueError\u001b[0m                                Traceback (most recent call last)",
      "\u001b[0;32m<ipython-input-121-eef347c1777a>\u001b[0m in \u001b[0;36m<module>\u001b[0;34m()\u001b[0m\n\u001b[1;32m      1\u001b[0m ed.evaluate('binary_accuracy', data={X: X_K562_test[:400].astype(np.float32),\n\u001b[0;32m----> 2\u001b[0;31m                                     y: Y_K562_test[:400].astype(np.float32)}, n_samples=500)\n\u001b[0m",
      "\u001b[0;32m/home/alvin/Downloads/edward/src/edward/edward/criticisms/evaluate.pyc\u001b[0m in \u001b[0;36mevaluate\u001b[0;34m(metrics, data, n_samples, output_key)\u001b[0m\n\u001b[1;32m    120\u001b[0m     \u001b[0mtensor\u001b[0m \u001b[0;34m=\u001b[0m \u001b[0mtf\u001b[0m\u001b[0;34m.\u001b[0m\u001b[0mconvert_to_tensor\u001b[0m\u001b[0;34m(\u001b[0m\u001b[0moutput_key\u001b[0m\u001b[0;34m)\u001b[0m\u001b[0;34m\u001b[0m\u001b[0m\n\u001b[1;32m    121\u001b[0m     \u001b[0my_pred\u001b[0m \u001b[0;34m=\u001b[0m \u001b[0;34m[\u001b[0m\u001b[0msess\u001b[0m\u001b[0;34m.\u001b[0m\u001b[0mrun\u001b[0m\u001b[0;34m(\u001b[0m\u001b[0mtensor\u001b[0m\u001b[0;34m,\u001b[0m \u001b[0mfeed_dict\u001b[0m\u001b[0;34m)\u001b[0m \u001b[0;32mfor\u001b[0m \u001b[0m_\u001b[0m \u001b[0;32min\u001b[0m \u001b[0mrange\u001b[0m\u001b[0;34m(\u001b[0m\u001b[0mn_samples\u001b[0m\u001b[0;34m)\u001b[0m\u001b[0;34m]\u001b[0m\u001b[0;34m\u001b[0m\u001b[0m\n\u001b[0;32m--> 122\u001b[0;31m     \u001b[0my_pred\u001b[0m \u001b[0;34m=\u001b[0m \u001b[0mtf\u001b[0m\u001b[0;34m.\u001b[0m\u001b[0madd_n\u001b[0m\u001b[0;34m(\u001b[0m\u001b[0my_pred\u001b[0m\u001b[0;34m)\u001b[0m \u001b[0;34m/\u001b[0m \u001b[0mtf\u001b[0m\u001b[0;34m.\u001b[0m\u001b[0mcast\u001b[0m\u001b[0;34m(\u001b[0m\u001b[0mn_samples\u001b[0m\u001b[0;34m,\u001b[0m \u001b[0mtf\u001b[0m\u001b[0;34m.\u001b[0m\u001b[0mfloat32\u001b[0m\u001b[0;34m)\u001b[0m\u001b[0;34m\u001b[0m\u001b[0m\n\u001b[0m\u001b[1;32m    123\u001b[0m \u001b[0;34m\u001b[0m\u001b[0m\n\u001b[1;32m    124\u001b[0m   \u001b[0;31m# Evaluate y_true (according to y_pred if supervised) for all metrics.\u001b[0m\u001b[0;34m\u001b[0m\u001b[0;34m\u001b[0m\u001b[0m\n",
      "\u001b[0;32m/home/alvin/anaconda2/lib/python2.7/site-packages/tensorflow/python/ops/math_ops.pyc\u001b[0m in \u001b[0;36mbinary_op_wrapper\u001b[0;34m(x, y)\u001b[0m\n\u001b[1;32m    791\u001b[0m     \u001b[0;32mwith\u001b[0m \u001b[0mops\u001b[0m\u001b[0;34m.\u001b[0m\u001b[0mname_scope\u001b[0m\u001b[0;34m(\u001b[0m\u001b[0mNone\u001b[0m\u001b[0;34m,\u001b[0m \u001b[0mop_name\u001b[0m\u001b[0;34m,\u001b[0m \u001b[0;34m[\u001b[0m\u001b[0mx\u001b[0m\u001b[0;34m,\u001b[0m \u001b[0my\u001b[0m\u001b[0;34m]\u001b[0m\u001b[0;34m)\u001b[0m \u001b[0;32mas\u001b[0m \u001b[0mname\u001b[0m\u001b[0;34m:\u001b[0m\u001b[0;34m\u001b[0m\u001b[0m\n\u001b[1;32m    792\u001b[0m       \u001b[0;32mif\u001b[0m \u001b[0;32mnot\u001b[0m \u001b[0misinstance\u001b[0m\u001b[0;34m(\u001b[0m\u001b[0my\u001b[0m\u001b[0;34m,\u001b[0m \u001b[0msparse_tensor\u001b[0m\u001b[0;34m.\u001b[0m\u001b[0mSparseTensor\u001b[0m\u001b[0;34m)\u001b[0m\u001b[0;34m:\u001b[0m\u001b[0;34m\u001b[0m\u001b[0m\n\u001b[0;32m--> 793\u001b[0;31m         \u001b[0my\u001b[0m \u001b[0;34m=\u001b[0m \u001b[0mops\u001b[0m\u001b[0;34m.\u001b[0m\u001b[0mconvert_to_tensor\u001b[0m\u001b[0;34m(\u001b[0m\u001b[0my\u001b[0m\u001b[0;34m,\u001b[0m \u001b[0mdtype\u001b[0m\u001b[0;34m=\u001b[0m\u001b[0mx\u001b[0m\u001b[0;34m.\u001b[0m\u001b[0mdtype\u001b[0m\u001b[0;34m.\u001b[0m\u001b[0mbase_dtype\u001b[0m\u001b[0;34m,\u001b[0m \u001b[0mname\u001b[0m\u001b[0;34m=\u001b[0m\u001b[0;34m\"y\"\u001b[0m\u001b[0;34m)\u001b[0m\u001b[0;34m\u001b[0m\u001b[0m\n\u001b[0m\u001b[1;32m    794\u001b[0m       \u001b[0;32mreturn\u001b[0m \u001b[0mfunc\u001b[0m\u001b[0;34m(\u001b[0m\u001b[0mx\u001b[0m\u001b[0;34m,\u001b[0m \u001b[0my\u001b[0m\u001b[0;34m,\u001b[0m \u001b[0mname\u001b[0m\u001b[0;34m=\u001b[0m\u001b[0mname\u001b[0m\u001b[0;34m)\u001b[0m\u001b[0;34m\u001b[0m\u001b[0m\n\u001b[1;32m    795\u001b[0m \u001b[0;34m\u001b[0m\u001b[0m\n",
      "\u001b[0;32m/home/alvin/anaconda2/lib/python2.7/site-packages/tensorflow/python/framework/ops.pyc\u001b[0m in \u001b[0;36mconvert_to_tensor\u001b[0;34m(value, dtype, name, preferred_dtype)\u001b[0m\n\u001b[1;32m    635\u001b[0m       \u001b[0mname\u001b[0m\u001b[0;34m=\u001b[0m\u001b[0mname\u001b[0m\u001b[0;34m,\u001b[0m\u001b[0;34m\u001b[0m\u001b[0m\n\u001b[1;32m    636\u001b[0m       \u001b[0mpreferred_dtype\u001b[0m\u001b[0;34m=\u001b[0m\u001b[0mpreferred_dtype\u001b[0m\u001b[0;34m,\u001b[0m\u001b[0;34m\u001b[0m\u001b[0m\n\u001b[0;32m--> 637\u001b[0;31m       as_ref=False)\n\u001b[0m\u001b[1;32m    638\u001b[0m \u001b[0;34m\u001b[0m\u001b[0m\n\u001b[1;32m    639\u001b[0m \u001b[0;34m\u001b[0m\u001b[0m\n",
      "\u001b[0;32m/home/alvin/anaconda2/lib/python2.7/site-packages/tensorflow/python/framework/ops.pyc\u001b[0m in \u001b[0;36minternal_convert_to_tensor\u001b[0;34m(value, dtype, name, as_ref, preferred_dtype)\u001b[0m\n\u001b[1;32m    700\u001b[0m \u001b[0;34m\u001b[0m\u001b[0m\n\u001b[1;32m    701\u001b[0m         \u001b[0;32mif\u001b[0m \u001b[0mret\u001b[0m \u001b[0;32mis\u001b[0m \u001b[0mNone\u001b[0m\u001b[0;34m:\u001b[0m\u001b[0;34m\u001b[0m\u001b[0m\n\u001b[0;32m--> 702\u001b[0;31m           \u001b[0mret\u001b[0m \u001b[0;34m=\u001b[0m \u001b[0mconversion_func\u001b[0m\u001b[0;34m(\u001b[0m\u001b[0mvalue\u001b[0m\u001b[0;34m,\u001b[0m \u001b[0mdtype\u001b[0m\u001b[0;34m=\u001b[0m\u001b[0mdtype\u001b[0m\u001b[0;34m,\u001b[0m \u001b[0mname\u001b[0m\u001b[0;34m=\u001b[0m\u001b[0mname\u001b[0m\u001b[0;34m,\u001b[0m \u001b[0mas_ref\u001b[0m\u001b[0;34m=\u001b[0m\u001b[0mas_ref\u001b[0m\u001b[0;34m)\u001b[0m\u001b[0;34m\u001b[0m\u001b[0m\n\u001b[0m\u001b[1;32m    703\u001b[0m \u001b[0;34m\u001b[0m\u001b[0m\n\u001b[1;32m    704\u001b[0m         \u001b[0;32mif\u001b[0m \u001b[0mret\u001b[0m \u001b[0;32mis\u001b[0m \u001b[0mNotImplemented\u001b[0m\u001b[0;34m:\u001b[0m\u001b[0;34m\u001b[0m\u001b[0m\n",
      "\u001b[0;32m/home/alvin/anaconda2/lib/python2.7/site-packages/tensorflow/python/framework/ops.pyc\u001b[0m in \u001b[0;36m_TensorTensorConversionFunction\u001b[0;34m(t, dtype, name, as_ref)\u001b[0m\n\u001b[1;32m    573\u001b[0m     raise ValueError(\n\u001b[1;32m    574\u001b[0m         \u001b[0;34m\"Tensor conversion requested dtype %s for Tensor with dtype %s: %r\"\u001b[0m\u001b[0;34m\u001b[0m\u001b[0m\n\u001b[0;32m--> 575\u001b[0;31m         % (dtype.name, t.dtype.name, str(t)))\n\u001b[0m\u001b[1;32m    576\u001b[0m   \u001b[0;32mreturn\u001b[0m \u001b[0mt\u001b[0m\u001b[0;34m\u001b[0m\u001b[0m\n\u001b[1;32m    577\u001b[0m \u001b[0;34m\u001b[0m\u001b[0m\n",
      "\u001b[0;31mValueError\u001b[0m: Tensor conversion requested dtype int32 for Tensor with dtype float32: 'Tensor(\"Cast_1:0\", shape=(), dtype=float32)'"
     ]
    }
   ],
   "source": [
    "ed.evaluate('binary_accuracy', data={X: X_K562_test[:400].astype(np.float32),\n",
    "                                    y: Y_K562_test[:400].astype(np.float32)}, n_samples=500)"
   ]
  },
  {
   "cell_type": "code",
   "execution_count": 109,
   "metadata": {},
   "outputs": [
    {
     "name": "stdout",
     "output_type": "stream",
     "text": [
      "int32\n"
     ]
    }
   ],
   "source": [
    "print Y_K562_test[:400].astype(np.int32).dtype"
   ]
  },
  {
   "cell_type": "code",
   "execution_count": 96,
   "metadata": {
    "collapsed": true
   },
   "outputs": [],
   "source": [
    "y_post = ed.copy(y, vi_dict)\n",
    "predict_op = tf."
   ]
  },
  {
   "cell_type": "code",
   "execution_count": 99,
   "metadata": {},
   "outputs": [
    {
     "name": "stdout",
     "output_type": "stream",
     "text": [
      "Tensor(\"Normal_219/sample_2/Reshape:0\", shape=(5, 1), dtype=float32)\n"
     ]
    }
   ],
   "source": [
    "z=vi_dict[b3].sample(5)\n",
    "print(z)"
   ]
  },
  {
   "cell_type": "code",
   "execution_count": 101,
   "metadata": {
    "scrolled": true
   },
   "outputs": [
    {
     "ename": "ValueError",
     "evalue": "Tensor conversion requested dtype int32 for Tensor with dtype float32: 'Tensor(\"Cast_17:0\", shape=(), dtype=float32)'",
     "output_type": "error",
     "traceback": [
      "\u001b[0;31m---------------------------------------------------------------------------\u001b[0m",
      "\u001b[0;31mValueError\u001b[0m                                Traceback (most recent call last)",
      "\u001b[0;32m<ipython-input-101-71a169f749a6>\u001b[0m in \u001b[0;36m<module>\u001b[0;34m()\u001b[0m\n\u001b[1;32m      1\u001b[0m ed.evaluate('binary_accuracy', data={X: X_K562_test[:400].astype(np.float32),\n\u001b[0;32m----> 2\u001b[0;31m                                      y: Y_K562_test[:400].astype(np.int32)})\n\u001b[0m",
      "\u001b[0;32m/home/alvin/Downloads/edward/src/edward/edward/criticisms/evaluate.pyc\u001b[0m in \u001b[0;36mevaluate\u001b[0;34m(metrics, data, n_samples, output_key)\u001b[0m\n\u001b[1;32m    120\u001b[0m     \u001b[0mtensor\u001b[0m \u001b[0;34m=\u001b[0m \u001b[0mtf\u001b[0m\u001b[0;34m.\u001b[0m\u001b[0mconvert_to_tensor\u001b[0m\u001b[0;34m(\u001b[0m\u001b[0moutput_key\u001b[0m\u001b[0;34m)\u001b[0m\u001b[0;34m\u001b[0m\u001b[0m\n\u001b[1;32m    121\u001b[0m     \u001b[0my_pred\u001b[0m \u001b[0;34m=\u001b[0m \u001b[0;34m[\u001b[0m\u001b[0msess\u001b[0m\u001b[0;34m.\u001b[0m\u001b[0mrun\u001b[0m\u001b[0;34m(\u001b[0m\u001b[0mtensor\u001b[0m\u001b[0;34m,\u001b[0m \u001b[0mfeed_dict\u001b[0m\u001b[0;34m)\u001b[0m \u001b[0;32mfor\u001b[0m \u001b[0m_\u001b[0m \u001b[0;32min\u001b[0m \u001b[0mrange\u001b[0m\u001b[0;34m(\u001b[0m\u001b[0mn_samples\u001b[0m\u001b[0;34m)\u001b[0m\u001b[0;34m]\u001b[0m\u001b[0;34m\u001b[0m\u001b[0m\n\u001b[0;32m--> 122\u001b[0;31m     \u001b[0my_pred\u001b[0m \u001b[0;34m=\u001b[0m \u001b[0mtf\u001b[0m\u001b[0;34m.\u001b[0m\u001b[0madd_n\u001b[0m\u001b[0;34m(\u001b[0m\u001b[0my_pred\u001b[0m\u001b[0;34m)\u001b[0m \u001b[0;34m/\u001b[0m \u001b[0mtf\u001b[0m\u001b[0;34m.\u001b[0m\u001b[0mcast\u001b[0m\u001b[0;34m(\u001b[0m\u001b[0mn_samples\u001b[0m\u001b[0;34m,\u001b[0m \u001b[0mtf\u001b[0m\u001b[0;34m.\u001b[0m\u001b[0mfloat32\u001b[0m\u001b[0;34m)\u001b[0m\u001b[0;34m\u001b[0m\u001b[0m\n\u001b[0m\u001b[1;32m    123\u001b[0m \u001b[0;34m\u001b[0m\u001b[0m\n\u001b[1;32m    124\u001b[0m   \u001b[0;31m# Evaluate y_true (according to y_pred if supervised) for all metrics.\u001b[0m\u001b[0;34m\u001b[0m\u001b[0;34m\u001b[0m\u001b[0m\n",
      "\u001b[0;32m/home/alvin/anaconda2/lib/python2.7/site-packages/tensorflow/python/ops/math_ops.pyc\u001b[0m in \u001b[0;36mbinary_op_wrapper\u001b[0;34m(x, y)\u001b[0m\n\u001b[1;32m    791\u001b[0m     \u001b[0;32mwith\u001b[0m \u001b[0mops\u001b[0m\u001b[0;34m.\u001b[0m\u001b[0mname_scope\u001b[0m\u001b[0;34m(\u001b[0m\u001b[0mNone\u001b[0m\u001b[0;34m,\u001b[0m \u001b[0mop_name\u001b[0m\u001b[0;34m,\u001b[0m \u001b[0;34m[\u001b[0m\u001b[0mx\u001b[0m\u001b[0;34m,\u001b[0m \u001b[0my\u001b[0m\u001b[0;34m]\u001b[0m\u001b[0;34m)\u001b[0m \u001b[0;32mas\u001b[0m \u001b[0mname\u001b[0m\u001b[0;34m:\u001b[0m\u001b[0;34m\u001b[0m\u001b[0m\n\u001b[1;32m    792\u001b[0m       \u001b[0;32mif\u001b[0m \u001b[0;32mnot\u001b[0m \u001b[0misinstance\u001b[0m\u001b[0;34m(\u001b[0m\u001b[0my\u001b[0m\u001b[0;34m,\u001b[0m \u001b[0msparse_tensor\u001b[0m\u001b[0;34m.\u001b[0m\u001b[0mSparseTensor\u001b[0m\u001b[0;34m)\u001b[0m\u001b[0;34m:\u001b[0m\u001b[0;34m\u001b[0m\u001b[0m\n\u001b[0;32m--> 793\u001b[0;31m         \u001b[0my\u001b[0m \u001b[0;34m=\u001b[0m \u001b[0mops\u001b[0m\u001b[0;34m.\u001b[0m\u001b[0mconvert_to_tensor\u001b[0m\u001b[0;34m(\u001b[0m\u001b[0my\u001b[0m\u001b[0;34m,\u001b[0m \u001b[0mdtype\u001b[0m\u001b[0;34m=\u001b[0m\u001b[0mx\u001b[0m\u001b[0;34m.\u001b[0m\u001b[0mdtype\u001b[0m\u001b[0;34m.\u001b[0m\u001b[0mbase_dtype\u001b[0m\u001b[0;34m,\u001b[0m \u001b[0mname\u001b[0m\u001b[0;34m=\u001b[0m\u001b[0;34m\"y\"\u001b[0m\u001b[0;34m)\u001b[0m\u001b[0;34m\u001b[0m\u001b[0m\n\u001b[0m\u001b[1;32m    794\u001b[0m       \u001b[0;32mreturn\u001b[0m \u001b[0mfunc\u001b[0m\u001b[0;34m(\u001b[0m\u001b[0mx\u001b[0m\u001b[0;34m,\u001b[0m \u001b[0my\u001b[0m\u001b[0;34m,\u001b[0m \u001b[0mname\u001b[0m\u001b[0;34m=\u001b[0m\u001b[0mname\u001b[0m\u001b[0;34m)\u001b[0m\u001b[0;34m\u001b[0m\u001b[0m\n\u001b[1;32m    795\u001b[0m \u001b[0;34m\u001b[0m\u001b[0m\n",
      "\u001b[0;32m/home/alvin/anaconda2/lib/python2.7/site-packages/tensorflow/python/framework/ops.pyc\u001b[0m in \u001b[0;36mconvert_to_tensor\u001b[0;34m(value, dtype, name, preferred_dtype)\u001b[0m\n\u001b[1;32m    635\u001b[0m       \u001b[0mname\u001b[0m\u001b[0;34m=\u001b[0m\u001b[0mname\u001b[0m\u001b[0;34m,\u001b[0m\u001b[0;34m\u001b[0m\u001b[0m\n\u001b[1;32m    636\u001b[0m       \u001b[0mpreferred_dtype\u001b[0m\u001b[0;34m=\u001b[0m\u001b[0mpreferred_dtype\u001b[0m\u001b[0;34m,\u001b[0m\u001b[0;34m\u001b[0m\u001b[0m\n\u001b[0;32m--> 637\u001b[0;31m       as_ref=False)\n\u001b[0m\u001b[1;32m    638\u001b[0m \u001b[0;34m\u001b[0m\u001b[0m\n\u001b[1;32m    639\u001b[0m \u001b[0;34m\u001b[0m\u001b[0m\n",
      "\u001b[0;32m/home/alvin/anaconda2/lib/python2.7/site-packages/tensorflow/python/framework/ops.pyc\u001b[0m in \u001b[0;36minternal_convert_to_tensor\u001b[0;34m(value, dtype, name, as_ref, preferred_dtype)\u001b[0m\n\u001b[1;32m    700\u001b[0m \u001b[0;34m\u001b[0m\u001b[0m\n\u001b[1;32m    701\u001b[0m         \u001b[0;32mif\u001b[0m \u001b[0mret\u001b[0m \u001b[0;32mis\u001b[0m \u001b[0mNone\u001b[0m\u001b[0;34m:\u001b[0m\u001b[0;34m\u001b[0m\u001b[0m\n\u001b[0;32m--> 702\u001b[0;31m           \u001b[0mret\u001b[0m \u001b[0;34m=\u001b[0m \u001b[0mconversion_func\u001b[0m\u001b[0;34m(\u001b[0m\u001b[0mvalue\u001b[0m\u001b[0;34m,\u001b[0m \u001b[0mdtype\u001b[0m\u001b[0;34m=\u001b[0m\u001b[0mdtype\u001b[0m\u001b[0;34m,\u001b[0m \u001b[0mname\u001b[0m\u001b[0;34m=\u001b[0m\u001b[0mname\u001b[0m\u001b[0;34m,\u001b[0m \u001b[0mas_ref\u001b[0m\u001b[0;34m=\u001b[0m\u001b[0mas_ref\u001b[0m\u001b[0;34m)\u001b[0m\u001b[0;34m\u001b[0m\u001b[0m\n\u001b[0m\u001b[1;32m    703\u001b[0m \u001b[0;34m\u001b[0m\u001b[0m\n\u001b[1;32m    704\u001b[0m         \u001b[0;32mif\u001b[0m \u001b[0mret\u001b[0m \u001b[0;32mis\u001b[0m \u001b[0mNotImplemented\u001b[0m\u001b[0;34m:\u001b[0m\u001b[0;34m\u001b[0m\u001b[0m\n",
      "\u001b[0;32m/home/alvin/anaconda2/lib/python2.7/site-packages/tensorflow/python/framework/ops.pyc\u001b[0m in \u001b[0;36m_TensorTensorConversionFunction\u001b[0;34m(t, dtype, name, as_ref)\u001b[0m\n\u001b[1;32m    573\u001b[0m     raise ValueError(\n\u001b[1;32m    574\u001b[0m         \u001b[0;34m\"Tensor conversion requested dtype %s for Tensor with dtype %s: %r\"\u001b[0m\u001b[0;34m\u001b[0m\u001b[0m\n\u001b[0;32m--> 575\u001b[0;31m         % (dtype.name, t.dtype.name, str(t)))\n\u001b[0m\u001b[1;32m    576\u001b[0m   \u001b[0;32mreturn\u001b[0m \u001b[0mt\u001b[0m\u001b[0;34m\u001b[0m\u001b[0m\n\u001b[1;32m    577\u001b[0m \u001b[0;34m\u001b[0m\u001b[0m\n",
      "\u001b[0;31mValueError\u001b[0m: Tensor conversion requested dtype int32 for Tensor with dtype float32: 'Tensor(\"Cast_17:0\", shape=(), dtype=float32)'"
     ]
    }
   ],
   "source": [
    "ed.evaluate('binary_accuracy', data={X: X_K562_test[:400].astype(np.float32),\n",
    "                                     y: Y_K562_test[:400].astype(np.int32)})"
   ]
  },
  {
   "cell_type": "code",
   "execution_count": 74,
   "metadata": {},
   "outputs": [
    {
     "data": {
      "text/plain": [
       "<ed.RandomVariable 'copied/Bernoulli_1/' shape=(400,) dtype=int32>"
      ]
     },
     "execution_count": 74,
     "metadata": {},
     "output_type": "execute_result"
    }
   ],
   "source": [
    "y_post"
   ]
  },
  {
   "cell_type": "code",
   "execution_count": 76,
   "metadata": {},
   "outputs": [
    {
     "data": {
      "text/plain": [
       "dtype('float64')"
      ]
     },
     "execution_count": 76,
     "metadata": {},
     "output_type": "execute_result"
    }
   ],
   "source": [
    "Y_K562_test.dtype"
   ]
  },
  {
   "cell_type": "code",
   "execution_count": 21,
   "metadata": {},
   "outputs": [
    {
     "data": {
      "text/plain": [
       "(16, 2)"
      ]
     },
     "execution_count": 21,
     "metadata": {},
     "output_type": "execute_result"
    }
   ],
   "source": [
    "ed.evaluate('binary_accuracy', data={y_post: y_train[, x_ph: x_train})"
   ]
  },
  {
   "cell_type": "code",
   "execution_count": 12,
   "metadata": {},
   "outputs": [
    {
     "ename": "NameError",
     "evalue": "name 'qw01' is not defined",
     "output_type": "error",
     "traceback": [
      "\u001b[0;31m---------------------------------------------------------------------------\u001b[0m",
      "\u001b[0;31mNameError\u001b[0m                                 Traceback (most recent call last)",
      "\u001b[0;32m<ipython-input-12-bcfcc57b921f>\u001b[0m in \u001b[0;36m<module>\u001b[0;34m()\u001b[0m\n\u001b[0;32m----> 1\u001b[0;31m \u001b[0mqw01_samples\u001b[0m \u001b[0;34m=\u001b[0m \u001b[0mqw01\u001b[0m\u001b[0;34m.\u001b[0m\u001b[0msample\u001b[0m\u001b[0;34m(\u001b[0m\u001b[0;36m100\u001b[0m\u001b[0;34m)\u001b[0m\u001b[0;34m\u001b[0m\u001b[0m\n\u001b[0m",
      "\u001b[0;31mNameError\u001b[0m: name 'qw01' is not defined"
     ]
    }
   ],
   "source": [
    "qw01_samples = qw01.sample(100)"
   ]
  },
  {
   "cell_type": "code",
   "execution_count": 245,
   "metadata": {},
   "outputs": [
    {
     "name": "stdout",
     "output_type": "stream",
     "text": [
      "(10,) (10,)\n"
     ]
    }
   ],
   "source": [
    "x = np.arange(10)\n",
    "y = np.arange(20,30)\n",
    "print x.shape, y.shape"
   ]
  },
  {
   "cell_type": "code",
   "execution_count": 246,
   "metadata": {
    "collapsed": true
   },
   "outputs": [],
   "source": [
    "d = {x[i]:y[i] for i in range(len(x))}"
   ]
  },
  {
   "cell_type": "code",
   "execution_count": 16,
   "metadata": {},
   "outputs": [
    {
     "name": "stdout",
     "output_type": "stream",
     "text": [
      "(5000, 1, 133, 4)\n",
      "(5000, 1, 6, 4)\n"
     ]
    }
   ],
   "source": [
    "batch = 5000\n",
    "width = 4\n",
    "length = 150\n",
    "fw= 4\n",
    "fh= 18\n",
    "num_filters = 10\n",
    "X = tf.placeholder(tf.float32, [batch, width, length, 1])\n",
    "filters_np = np.random.rand(4,18,1, 4)\n",
    "filt = tf.constant(filters_np, dtype=tf.float32, name=\"filter\")\n",
    "conv_out = tf.nn.conv2d(X, filt,strides = [1,1,1,1], padding = 'VALID')\n",
    "h = tf.nn.relu(conv_out)\n",
    "print(h.shape)\n",
    "pool1 = tf.layers.max_pooling2d(inputs=h, pool_size=[1, 20], strides=[1,20])\n",
    "print(pool1.shape)"
   ]
  },
  {
   "cell_type": "code",
   "execution_count": 247,
   "metadata": {},
   "outputs": [
    {
     "data": {
      "text/plain": [
       "{0: 20, 1: 21, 2: 22, 3: 23, 4: 24, 5: 25, 6: 26, 7: 27, 8: 28, 9: 29}"
      ]
     },
     "execution_count": 247,
     "metadata": {},
     "output_type": "execute_result"
    }
   ],
   "source": [
    "d"
   ]
  },
  {
   "cell_type": "code",
   "execution_count": 208,
   "metadata": {},
   "outputs": [
    {
     "name": "stdout",
     "output_type": "stream",
     "text": [
      "(4, 18, 1, 4)\n",
      "(5000, 1, 27, 4)\n",
      "(5000, 1, 27, 4)\n",
      "(5000, 108)\n",
      "(108, 1)\n",
      "(5000,)\n",
      "(5000,)\n",
      "1000/1000 [100%] ██████████████████████████████ Elapsed: 191s | Loss: 1807.738\n"
     ]
    }
   ],
   "source": [
    "batch = 5000\n",
    "width = 4\n",
    "length = 150\n",
    "fw= 4\n",
    "fh= 18\n",
    "num_filters = 10\n",
    "X = tf.placeholder(tf.float32, [batch, width, length, 1])\n",
    "ws = Normal(mu=tf.zeros([fw, fh]), sigma = 0.01 * tf.ones([fw, fh]))\n",
    "w02 = Normal(mu=tf.zeros([fw, fh]), sigma = 0.01 * tf.ones([fw, fh]))\n",
    "w03 = Normal(mu=tf.zeros([fw, fh]), sigma = 0.01 * tf.ones([fw, fh]))\n",
    "w04 = Normal(mu=tf.zeros([fw, fh]), sigma = 0.01 * tf.ones([fw, fh]))\n",
    "w_all = tf.stack([w01, w02, w03, w04], axis=2, name=\"stack\")\n",
    "w_all_a = tf.expand_dims(w_all, 2)\n",
    "print(w_all_a.shape)\n",
    "conv_out = tf.nn.conv2d(X, w_all_a,strides = [1,1,5,1], padding = 'VALID')\n",
    "print(conv_out.shape)\n",
    "h = tf.nn.relu(conv_out)\n",
    "print(h.shape)\n",
    "hr = tf.reshape(h,[-1,4*27])\n",
    "print(hr.shape)\n",
    "w10 = Normal(mu=tf.zeros([4*27, 1]), sigma = 0.1 * tf.ones([4*27, 1])) \n",
    "print(w10.shape)\n",
    "w_pred = tf.reshape(tf.matmul(hr, w10),[-1])\n",
    "print(w_pred.shape)\n",
    "y = Bernoulli(logits = w_pred)\n",
    "print(y.shape)\n",
    "\n",
    "qw01 = Normal(mu=tf.Variable(tf.random_normal([fw, fh])),\n",
    "              sigma=tf.nn.softplus(tf.Variable(tf.random_normal([fw, fh]))))\n",
    "qw02 = Normal(mu=tf.Variable(tf.random_normal([fw, fh])),\n",
    "              sigma=tf.nn.softplus(tf.Variable(tf.random_normal([fw, fh]))))\n",
    "qw03 = Normal(mu=tf.Variable(tf.random_normal([fw, fh])),\n",
    "              sigma=tf.nn.softplus(tf.Variable(tf.random_normal([fw, fh]))))\n",
    "qw04 = Normal(mu=tf.Variable(tf.random_normal([fw, fh])),\n",
    "              sigma=tf.nn.softplus(tf.Variable(tf.random_normal([fw, fh]))))\n",
    "qw10 = Normal(mu=tf.Variable(tf.random_normal([4*27,1])),\n",
    "              sigma=tf.nn.softplus(tf.Variable(tf.random_normal([4*27,1]))))\n",
    "\n",
    "inference = ed.KLqp({w01: qw01, w02: qw02,\n",
    "                     w03: qw03, w04: qw04,\n",
    "                     w10: qw10}, data={X: X_LCL[:5000,:,:,:], y: Y_LCL[:5000]})\n",
    "\n",
    "inference.run(n_iter = 1000, n_samples=100)"
   ]
  },
  {
   "cell_type": "code",
   "execution_count": 233,
   "metadata": {
    "collapsed": true
   },
   "outputs": [],
   "source": [
    "with tf.Session() as sess:\n",
    "    output = sess.run(pool1, feed_dict={X:X_LCL[:5000,:,:,:]})\n",
    "    "
   ]
  },
  {
   "cell_type": "code",
   "execution_count": 234,
   "metadata": {},
   "outputs": [
    {
     "name": "stdout",
     "output_type": "stream",
     "text": [
      "(5000, 1, 13, 4)\n"
     ]
    }
   ],
   "source": [
    "print(output.shape)"
   ]
  },
  {
   "cell_type": "code",
   "execution_count": 241,
   "metadata": {},
   "outputs": [
    {
     "data": {
      "text/plain": [
       "7"
      ]
     },
     "execution_count": 241,
     "metadata": {},
     "output_type": "execute_result"
    }
   ],
   "source": [
    "133 / 19"
   ]
  },
  {
   "cell_type": "code",
   "execution_count": null,
   "metadata": {
    "collapsed": true
   },
   "outputs": [],
   "source": []
  }
 ],
 "metadata": {
  "kernelspec": {
   "display_name": "Python 2",
   "language": "python",
   "name": "python2"
  },
  "language_info": {
   "codemirror_mode": {
    "name": "ipython",
    "version": 2
   },
   "file_extension": ".py",
   "mimetype": "text/x-python",
   "name": "python",
   "nbconvert_exporter": "python",
   "pygments_lexer": "ipython2",
   "version": "2.7.13"
  }
 },
 "nbformat": 4,
 "nbformat_minor": 2
}
