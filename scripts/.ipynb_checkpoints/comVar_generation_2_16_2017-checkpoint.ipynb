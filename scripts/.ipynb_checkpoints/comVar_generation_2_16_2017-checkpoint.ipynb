{
 "cells": [
  {
   "cell_type": "code",
   "execution_count": 1,
   "metadata": {
    "collapsed": true
   },
   "outputs": [],
   "source": [
    "import matplotlib.pyplot as plt\n",
    "import numpy as np\n",
    "from sklearn.model_selection import ParameterGrid\n",
    "%matplotlib inline\n",
    "import random\n",
    "import time"
   ]
  },
  {
   "cell_type": "code",
   "execution_count": 2,
   "metadata": {
    "collapsed": false
   },
   "outputs": [
    {
     "data": {
      "text/plain": [
       "<module 'motif_processor' from 'motif_processor.pyc'>"
      ]
     },
     "execution_count": 2,
     "metadata": {},
     "output_type": "execute_result"
    }
   ],
   "source": [
    "import motif_processor\n",
    "reload(motif_processor)"
   ]
  },
  {
   "cell_type": "code",
   "execution_count": 3,
   "metadata": {
    "collapsed": false
   },
   "outputs": [],
   "source": [
    "MotifProcObj = motif_processor.MotifProcessor(ENCODE_only=True, \n",
    "                                                   cell_line=\"HepG2\", \n",
    "                                                  meme_file=\"/home/alvin/Dropbox/Lab/CNN/data/meme/HepG2_pos_steme/steme.txt\")\n",
    "motif_tensor, motif_names = MotifProcObj.generate_custom_CNN_filters(max_length = 18, padding = 0, truncate = False)\n"
   ]
  },
  {
   "cell_type": "code",
   "execution_count": 4,
   "metadata": {
    "collapsed": false
   },
   "outputs": [
    {
     "name": "stderr",
     "output_type": "stream",
     "text": [
      "Using gpu device 1: TITAN X (Pascal) (CNMeM is enabled with initial size: 95.0% of memory, cuDNN 5105)\n",
      "/home/alvin/anaconda2/lib/python2.7/site-packages/theano/sandbox/cuda/__init__.py:600: UserWarning: Your cuDNN version is more recent than the one Theano officially supports. If you see any problems, try updating Theano or downgrading cuDNN to version 5.\n",
      "  warnings.warn(warn)\n"
     ]
    }
   ],
   "source": [
    "import theano.sandbox.cuda\n",
    "theano.sandbox.cuda.use('gpu1')"
   ]
  },
  {
   "cell_type": "code",
   "execution_count": 5,
   "metadata": {
    "collapsed": true
   },
   "outputs": [],
   "source": [
    "HepG2MotifProcObj = motif_processor.MotifProcessor(ENCODE_only=False, \n",
    "                                                   cell_line=\"HepG2\", \n",
    "                                                   meme_file=\"/home/alvin/Dropbox/Lab/CNN/data/meme/HepG2_pos_steme/steme.txt\")\n",
    "HepG2_motif_tensor, HepG2_motif_names = HepG2MotifProcObj.generate_custom_CNN_filters(max_length = 18, padding = 0, truncate = False)\n",
    "\n",
    "K562MotifProcObj = motif_processor.MotifProcessor(ENCODE_only=False, \n",
    "                                                   cell_line=\"K562\", \n",
    "                                                   meme_file=\"/home/alvin/Dropbox/Lab/CNN/data/meme/K562_pos_steme/steme.txt\")\n",
    "K562_motif_tensor, K562_motif_names = K562MotifProcObj.generate_custom_CNN_filters(max_length = 18, padding = 0, truncate = False)\n",
    "\n",
    "\n",
    "LCLMotifProcObj = motif_processor.MotifProcessor(ENCODE_only=False, \n",
    "                                                   cell_line=\"LCL\", \n",
    "                                                   meme_file=\"/home/alvin/Dropbox/Lab/CNN/data/meme/LCL_pos_steme/steme.txt\")\n",
    "LCL_motif_tensor, LCL_motif_names = LCLMotifProcObj.generate_custom_CNN_filters(max_length = 18, padding = 0, truncate = False)\n",
    "MotifProcObj = motif_processor.MotifProcessor(ENCODE_only=True, \n",
    "                                                   cell_line=\"HepG2\", \n",
    "                                                  meme_file=\"/home/alvin/Dropbox/Lab/CNN/data/meme/HepG2_pos_steme/steme.txt\")\n",
    "motif_tensor, motif_names = MotifProcObj.generate_custom_CNN_filters(max_length = 18, padding = 0, truncate = False)\n"
   ]
  },
  {
   "cell_type": "code",
   "execution_count": 6,
   "metadata": {
    "collapsed": true
   },
   "outputs": [],
   "source": [
    "motifDistanceProcessorObj = motif_processor.MotifDistanceProcessor([],[],[])\n",
    "binary_mat = motifDistanceProcessorObj.process_Pouya(motif_names)"
   ]
  },
  {
   "cell_type": "code",
   "execution_count": 7,
   "metadata": {
    "collapsed": false
   },
   "outputs": [
    {
     "name": "stderr",
     "output_type": "stream",
     "text": [
      "/home/alvin/anaconda2/lib/python2.7/site-packages/theano/tensor/signal/downsample.py:6: UserWarning: downsample module has been moved to the theano.tensor.signal.pool module.\n",
      "  \"downsample module has been moved to the theano.tensor.signal.pool module.\")\n",
      "/home/alvin/anaconda2/lib/python2.7/site-packages/sklearn/cross_validation.py:44: DeprecationWarning: This module was deprecated in version 0.18 in favor of the model_selection module into which all the refactored classes and functions are moved. Also note that the interface of the new CV iterators are different from that of this module. This module will be removed in 0.20.\n",
      "  \"This module will be removed in 0.20.\", DeprecationWarning)\n",
      "/home/alvin/anaconda2/lib/python2.7/site-packages/sklearn/grid_search.py:43: DeprecationWarning: This module was deprecated in version 0.18 in favor of the model_selection module into which all the refactored classes and functions are moved. This module will be removed in 0.20.\n",
      "  DeprecationWarning)\n"
     ]
    },
    {
     "data": {
      "text/plain": [
       "<module 'common_utils' from 'common_utils.pyc'>"
      ]
     },
     "execution_count": 7,
     "metadata": {},
     "output_type": "execute_result"
    }
   ],
   "source": [
    "import common_utils\n",
    "reload(common_utils)"
   ]
  },
  {
   "cell_type": "code",
   "execution_count": 8,
   "metadata": {
    "collapsed": true
   },
   "outputs": [],
   "source": [
    "CrossValProcObj = common_utils.CrossValProcessor(output_dirs = [\"./HEPG2_act_1_31/\", \"./HEPG2_rep_1_31/\", \n",
    "                                                                      \"./K562_act_1_31/\", \"./K562_act_1_31/\",\n",
    "                                                                      \"./LCL_act_alt_1_31/\"])\n",
    "\n",
    "HepG2_binObj = CrossValProcObj.HepG2_binObj\n",
    "K562_binObj = CrossValProcObj.K562_binObj\n",
    "LCL_binObj = CrossValProcObj.LCL_binObj\n",
    "binObjs = [HepG2_binObj, K562_binObj, LCL_binObj]\n",
    "CvDicts = [CrossValProcObj.HepG2_dict, CrossValProcObj.K562_dict, CrossValProcObj.LCL_dict]\n",
    "motif_tensors = [motif_tensor, motif_tensor, motif_tensor]\n",
    "motif_names = [motif_names, motif_names, motif_names]\n",
    "names=[\"HepG2\", \"K562\", \"LCL\"]\n",
    "dirs = [\"./HepG2_2_16/\", \"./K562_2_16/\", \"./LCL_2_16/\"]\n"
   ]
  },
  {
   "cell_type": "code",
   "execution_count": 9,
   "metadata": {
    "collapsed": false
   },
   "outputs": [
    {
     "name": "stderr",
     "output_type": "stream",
     "text": [
      "Using Theano backend.\n"
     ]
    }
   ],
   "source": [
    "import cv_engine \n",
    "reload(cv_engine)\n",
    "HepG2DataConvObj = cv_engine.DataConvolver(HepG2_binObj.merged_tensor, HepG2_binObj.merged_RC_tensor, HepG2_binObj.merged_tar, motif_tensor.shape, features_mat=HepG2_binObj.features_mat, should_conv=False)\n",
    "K562DataConvObj = cv_engine.DataConvolver(K562_binObj.merged_tensor, K562_binObj.merged_RC_tensor, K562_binObj.merged_tar, motif_tensor.shape, features_mat=K562_binObj.features_mat,should_conv=False) \n",
    "LCLDataConvObj = cv_engine.DataConvolver(LCL_binObj.merged_tensor, LCL_binObj.merged_RC_tensor, LCL_binObj.merged_tar, motif_tensor.shape,features_mat=LCL_binObj.features_mat, should_conv=False) "
   ]
  },
  {
   "cell_type": "code",
   "execution_count": 13,
   "metadata": {
    "collapsed": false
   },
   "outputs": [
    {
     "data": {
      "text/plain": [
       "<module 'comVar_keras' from 'comVar_keras.pyc'>"
      ]
     },
     "execution_count": 13,
     "metadata": {},
     "output_type": "execute_result"
    }
   ],
   "source": [
    "import comVar_keras\n",
    "reload(comVar_keras)"
   ]
  },
  {
   "cell_type": "code",
   "execution_count": 14,
   "metadata": {
    "collapsed": false
   },
   "outputs": [],
   "source": [
    "binObjs = [HepG2DataConvObj,K562DataConvObj,LCLDataConvObj]\n",
    "names=['HepG2','K562','LCL']\n",
    "model_names = ['Meta', 'Double', 'Simple']"
   ]
  },
  {
   "cell_type": "code",
   "execution_count": 15,
   "metadata": {
    "collapsed": false
   },
   "outputs": [],
   "source": [
    "def process(binObj, val_binObj, name):\n",
    "    start = time.time()\n",
    "    valamount = 5000\n",
    "    MetaModel = comVar_keras.MetaKerasModel(binObj, motif_tensor, binary_mat)\n",
    "    DoubleKerasModel = comVar_keras.DoubleKerasModel(binObj, motif_tensor)\n",
    "    SimpleModel = comVar_keras.SimpleKerasModel(binObj)\n",
    "    Models = [MetaModel, DoubleKerasModel, SimpleModel]\n",
    "    model_names = ['Meta', 'Double', 'Simple']\n",
    "    pool_width = 4\n",
    "    weighted = 1\n",
    "    L2 = 0.1\n",
    "    L1 = 0\n",
    "    dropout = 0.1\n",
    "    val_set = np.arange(val_binObj.X.shape[0])\n",
    "    np.random.shuffle(val_set)\n",
    "    val_range = 5000\n",
    "    val_indices = val_set[:val_range]\n",
    "    print(val_indices[:5])\n",
    "    for model_idx, Model in enumerate(Models):\n",
    "        Model.build_model(dropout=dropout, L1=L1, L2=L2, pool_width=pool_width, weighted=weighted)\n",
    "        pos_weight, neg_weight = cv_engine.get_weights(binObj.Y)\n",
    "        train_history = Model.train(binObj.X, binObj.X_RC, binObj.Y, \n",
    "                                    neg_weight, pos_weight, \n",
    "                                    outside_eval = ([val_binObj.X[val_indices], val_binObj.X_RC[val_indices]], val_binObj.Y[val_indices])) \n",
    "        comVar_keras.dump_model(Model.model, name = \"./models/%s_%s\"%(name, model_names[model_idx]))\n",
    "        print \"Done building %s for %s in %0.05f seconds\"%(model_names[model_idx], name, time.time()-start)"
   ]
  },
  {
   "cell_type": "code",
   "execution_count": 16,
   "metadata": {
    "collapsed": false
   },
   "outputs": [
    {
     "name": "stdout",
     "output_type": "stream",
     "text": [
      "[ 7117  3769 18954 19405 13915]\n",
      "Done dumping ./models/K562_Meta\n",
      "Done building Meta for K562 in 623.21949 seconds\n",
      "Done dumping ./models/K562_Double\n",
      "Done building Double for K562 in 822.18272 seconds\n",
      "Done dumping ./models/K562_Simple\n",
      "Done building Simple for K562 in 871.22748 seconds\n"
     ]
    }
   ],
   "source": [
    "process(binObjs[1], binObjs[2], 'K562')"
   ]
  },
  {
   "cell_type": "code",
   "execution_count": 17,
   "metadata": {
    "collapsed": false
   },
   "outputs": [
    {
     "name": "stdout",
     "output_type": "stream",
     "text": [
      "[11738  4011 12293  3441  8687]\n",
      "Done dumping ./models/HepG2_Meta\n",
      "Done building Meta for HepG2 in 590.52758 seconds\n",
      "Done dumping ./models/HepG2_Double\n",
      "Done building Double for HepG2 in 773.14601 seconds\n",
      "Done dumping ./models/HepG2_Simple\n",
      "Done building Simple for HepG2 in 794.91568 seconds\n"
     ]
    }
   ],
   "source": [
    "process(binObjs[0], binObjs[1], 'HepG2')\n"
   ]
  },
  {
   "cell_type": "code",
   "execution_count": 18,
   "metadata": {
    "collapsed": false
   },
   "outputs": [
    {
     "name": "stdout",
     "output_type": "stream",
     "text": [
      "[ 6214 11693  9784  3717  7330]\n",
      "Done dumping ./models/LCL_Meta\n",
      "Done building Meta for LCL in 924.80980 seconds\n",
      "Done dumping ./models/LCL_Double\n",
      "Done building Double for LCL in 1224.19781 seconds\n",
      "Done dumping ./models/LCL_Simple\n",
      "Done building Simple for LCL in 1258.68504 seconds\n"
     ]
    }
   ],
   "source": [
    "process(binObjs[2], binObjs[1], 'LCL')\n"
   ]
  },
  {
   "cell_type": "code",
   "execution_count": null,
   "metadata": {
    "collapsed": true
   },
   "outputs": [],
   "source": []
  }
 ],
 "metadata": {
  "kernelspec": {
   "display_name": "Python 2",
   "language": "python",
   "name": "python2"
  },
  "language_info": {
   "codemirror_mode": {
    "name": "ipython",
    "version": 2
   },
   "file_extension": ".py",
   "mimetype": "text/x-python",
   "name": "python",
   "nbconvert_exporter": "python",
   "pygments_lexer": "ipython2",
   "version": "2.7.13"
  }
 },
 "nbformat": 4,
 "nbformat_minor": 2
}
