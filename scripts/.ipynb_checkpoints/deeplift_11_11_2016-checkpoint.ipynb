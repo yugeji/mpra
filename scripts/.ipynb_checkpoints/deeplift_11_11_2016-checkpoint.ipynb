{
 "cells": [
  {
   "cell_type": "code",
   "execution_count": 1,
   "metadata": {
    "collapsed": false
   },
   "outputs": [
    {
     "name": "stderr",
     "output_type": "stream",
     "text": [
      "Using Theano backend.\n",
      "Using gpu device 0: GeForce GTX 1080 (CNMeM is enabled with initial size: 82.0% of memory, cuDNN 5005)\n",
      "/home/alvin/Dropbox/Lab/CNN/deeplift/env/local/lib/python2.7/site-packages/theano/tensor/signal/downsample.py:6: UserWarning: downsample module has been moved to the theano.tensor.signal.pool module.\n",
      "  \"downsample module has been moved to the theano.tensor.signal.pool module.\")\n"
     ]
    }
   ],
   "source": [
    "from __future__ import absolute_import, division, print_function\n",
    "from keras.models import Sequential\n",
    "from keras.callbacks import EarlyStopping\n",
    "from keras.layers.core import (\n",
    "    Activation, Dense, Dropout, Flatten,\n",
    "    Permute, Reshape, TimeDistributedDense\n",
    ")\n",
    "from keras.layers.convolutional import Convolution2D, MaxPooling2D\n",
    "from keras.layers.recurrent import GRU\n",
    "from keras.regularizers import l1, l2, l1l2\n",
    "from keras.utils import np_utils\n",
    "from keras import backend as K\n",
    "import numpy as np\n",
    "import copy\n",
    "import matplotlib.pyplot as plt\n",
    "import pandas as pd\n",
    "import sys\n",
    "import os\n",
    "import time\n",
    "import re\n",
    "import numpy as np\n",
    "from collections import OrderedDict\n",
    "from sklearn.metrics import auc, log_loss, precision_recall_curve, roc_auc_score\n",
    "from sklearn.model_selection import StratifiedShuffleSplit, train_test_split"
   ]
  },
  {
   "cell_type": "code",
   "execution_count": 2,
   "metadata": {
    "collapsed": false
   },
   "outputs": [
    {
     "name": "stdout",
     "output_type": "stream",
     "text": [
      "0.3.2\n"
     ]
    }
   ],
   "source": [
    "import keras\n",
    "print(keras.__version__)"
   ]
  },
  {
   "cell_type": "markdown",
   "metadata": {},
   "source": [
    "Import all of the raw files needed for processing"
   ]
  },
  {
   "cell_type": "code",
   "execution_count": 3,
   "metadata": {
    "collapsed": true
   },
   "outputs": [],
   "source": [
    "    dna_files = [\"/home/alvin/Dropbox/Lab/CNN/data/processed_cnn/HEPG2_act_mpra_dna.txt\", \"/home/alvin/Dropbox/Lab/CNN/data/processed_cnn/HEPG2_rep_mpra_dna.txt\", \"/home/alvin/Dropbox/Lab/CNN/data/processed_cnn/K562_act_mpra_dna.txt\", \"/home/alvin/Dropbox/Lab/CNN/data/processed_cnn/K562_rep_mpra_dna.txt\", \"/home/alvin/Dropbox/Lab/CNN/data/processed_cnn/LCL/LCL_act_mpra_dna.txt\"]\n",
    "    target_files = [\"/home/alvin/Dropbox/Lab/CNN/data/processed_cnn/HEPG2_act_mpra_tar.txt\", \"/home/alvin/Dropbox/Lab/CNN/data/processed_cnn/HEPG2_rep_mpra_tar.txt\", \"/home/alvin/Dropbox/Lab/CNN/data/processed_cnn/K562_act_mpra_tar.txt\", \"/home/alvin/Dropbox/Lab/CNN/data/processed_cnn/K562_rep_mpra_tar.txt\", \"/home/alvin/Dropbox/Lab/CNN/data/processed_cnn/LCL/LCL_act_mpra_tar.txt\"]\n",
    "    anno_files = [\"/home/alvin/Dropbox/Lab/CNN/data/processed_cnn/HEPG2_act_mpra_det.txt\", \"/home/alvin/Dropbox/Lab/CNN/data/processed_cnn/HEPG2_rep_mpra_det.txt\", \"/home/alvin/Dropbox/Lab/CNN/data/processed_cnn/K562_act_mpra_det.txt\", \"/home/alvin/Dropbox/Lab/CNN/data/processed_cnn/K562_rep_mpra_det.txt\", \"/home/alvin/Dropbox/Lab/CNN/data/processed_cnn/LCL/LCL_act_mpra_det.txt\"]\n",
    "    output_dirs = [\"./HEPG2_act/\", \"./HEPG2_rep/\", \"./K562_act/\", \"./K562_rep/\", \"./LCL_act/\"]\n",
    "    names = [\"HEPG2_act\", \"HEPG2_rep\", \"K562_act\", \"K562_rep\", \"LCL_act\"]\n",
    "    status = [\"act\", \"rep\", \"act\", \"rep\", \"act\"]"
   ]
  },
  {
   "cell_type": "code",
   "execution_count": 4,
   "metadata": {
    "collapsed": true
   },
   "outputs": [],
   "source": [
    "%matplotlib inline\n",
    "import seaborn as sns; sns.set(style=\"white\", color_codes=True)\n",
    "from scipy.stats.mstats import zscore"
   ]
  },
  {
   "cell_type": "code",
   "execution_count": 57,
   "metadata": {
    "collapsed": false
   },
   "outputs": [
    {
     "data": {
      "text/plain": [
       "<module 'deeplift_11_9_2016' from 'deeplift_11_9_2016.py'>"
      ]
     },
     "execution_count": 57,
     "metadata": {},
     "output_type": "execute_result"
    }
   ],
   "source": [
    "import deeplift_11_9_2016\n",
    "reload(deeplift_11_9_2016)"
   ]
  },
  {
   "cell_type": "code",
   "execution_count": 58,
   "metadata": {
    "collapsed": true
   },
   "outputs": [],
   "source": [
    "binClassObj = deeplift_11_9_2016.BinaryClassProcessor(dna_files, target_files, anno_files, status, type = \"bin\")"
   ]
  },
  {
   "cell_type": "code",
   "execution_count": 59,
   "metadata": {
    "collapsed": false
   },
   "outputs": [],
   "source": [
    "X_train, X_test, Y_train, Y_test = binClassObj.return_train_test_chrom('chr1')"
   ]
  },
  {
   "cell_type": "code",
   "execution_count": 60,
   "metadata": {
    "collapsed": false
   },
   "outputs": [
    {
     "name": "stdout",
     "output_type": "stream",
     "text": [
      "(64000, 600)\n"
     ]
    }
   ],
   "source": [
    "reduced_X_train, reduced_X_test = binClassObj.change_tensor(X_train), binClassObj.change_tensor(X_test)\n",
    "print(reduced_X_train.shape)"
   ]
  },
  {
   "cell_type": "code",
   "execution_count": 61,
   "metadata": {
    "collapsed": false
   },
   "outputs": [],
   "source": [
    "modelObj = deeplift_11_9_2016.DenseNeuralNet()\n",
    "modelObj.init_model()\n"
   ]
  },
  {
   "cell_type": "code",
   "execution_count": 62,
   "metadata": {
    "collapsed": true
   },
   "outputs": [],
   "source": [
    "neg_weight, pos_weight = binClassObj.bin_weights()"
   ]
  },
  {
   "cell_type": "code",
   "execution_count": 70,
   "metadata": {
    "collapsed": false
   },
   "outputs": [
    {
     "name": "stdout",
     "output_type": "stream",
     "text": [
      "Train on 64000 samples, validate on 6861 samples\n",
      "Epoch 1/45\n",
      "64000/64000 [==============================] - 1s - loss: 1.6880 - val_loss: 0.6469\n",
      "Epoch 2/45\n",
      "64000/64000 [==============================] - 1s - loss: 1.7207 - val_loss: 0.6337\n",
      "Epoch 3/45\n",
      "64000/64000 [==============================] - 1s - loss: 1.6892 - val_loss: 0.6595\n",
      "Epoch 4/45\n",
      "64000/64000 [==============================] - 1s - loss: 1.6920 - val_loss: 0.6100\n",
      "Epoch 5/45\n",
      "64000/64000 [==============================] - 1s - loss: 1.7492 - val_loss: 0.6299\n",
      "Epoch 6/45\n",
      "64000/64000 [==============================] - 1s - loss: 1.6802 - val_loss: 0.6278\n",
      "Epoch 7/45\n",
      "64000/64000 [==============================] - 1s - loss: 1.6603 - val_loss: 0.6098\n",
      "Epoch 8/45\n",
      "64000/64000 [==============================] - 1s - loss: 1.6718 - val_loss: 0.6483\n",
      "Epoch 9/45\n",
      "64000/64000 [==============================] - 1s - loss: 1.6643 - val_loss: 0.6563\n",
      "Epoch 10/45\n",
      "64000/64000 [==============================] - 1s - loss: 1.6522 - val_loss: 0.6464\n",
      "Epoch 11/45\n",
      "64000/64000 [==============================] - 1s - loss: 1.6897 - val_loss: 0.6598\n",
      "Epoch 12/45\n",
      "64000/64000 [==============================] - 1s - loss: 1.6548 - val_loss: 0.6330\n",
      "Epoch 13/45\n",
      "64000/64000 [==============================] - 1s - loss: 1.6283 - val_loss: 0.6495\n",
      "Epoch 14/45\n",
      "64000/64000 [==============================] - 1s - loss: 1.7013 - val_loss: 0.6328\n",
      "Epoch 15/45\n",
      "64000/64000 [==============================] - 1s - loss: 1.7360 - val_loss: 0.6707\n",
      "Epoch 16/45\n",
      "64000/64000 [==============================] - 1s - loss: 1.7862 - val_loss: 0.5158\n",
      "Epoch 17/45\n",
      "64000/64000 [==============================] - 1s - loss: 1.7715 - val_loss: 0.6601\n",
      "Epoch 18/45\n",
      "64000/64000 [==============================] - 1s - loss: 1.7114 - val_loss: 0.5836\n",
      "Epoch 19/45\n",
      "64000/64000 [==============================] - 1s - loss: 1.7378 - val_loss: 0.6433\n",
      "Epoch 20/45\n",
      "64000/64000 [==============================] - 1s - loss: 1.7321 - val_loss: 0.6721\n",
      "Epoch 21/45\n",
      "64000/64000 [==============================] - 1s - loss: 1.7101 - val_loss: 0.6368\n",
      "Epoch 22/45\n",
      "64000/64000 [==============================] - 1s - loss: 1.6569 - val_loss: 0.6598\n",
      "Epoch 23/45\n",
      "64000/64000 [==============================] - 1s - loss: 1.6736 - val_loss: 0.6250\n",
      "Epoch 24/45\n",
      "64000/64000 [==============================] - 1s - loss: 1.6783 - val_loss: 0.6623\n",
      "Epoch 25/45\n",
      "64000/64000 [==============================] - 1s - loss: 1.6948 - val_loss: 0.6782\n",
      "Epoch 26/45\n",
      "64000/64000 [==============================] - 1s - loss: 1.6993 - val_loss: 0.6682\n",
      "Epoch 27/45\n",
      "64000/64000 [==============================] - 1s - loss: 1.6512 - val_loss: 0.6616\n",
      "Epoch 28/45\n",
      "64000/64000 [==============================] - 1s - loss: 1.6814 - val_loss: 0.6357\n",
      "Epoch 29/45\n",
      "64000/64000 [==============================] - 1s - loss: 1.6995 - val_loss: 0.6328\n",
      "Epoch 30/45\n",
      "64000/64000 [==============================] - 1s - loss: 1.6782 - val_loss: 0.6144\n",
      "Epoch 31/45\n",
      "64000/64000 [==============================] - 1s - loss: 1.6652 - val_loss: 0.6377\n",
      "Epoch 32/45\n",
      "64000/64000 [==============================] - 1s - loss: 1.6822 - val_loss: 0.6166\n",
      "Epoch 33/45\n",
      "64000/64000 [==============================] - 1s - loss: 1.7624 - val_loss: 0.6066\n",
      "Epoch 34/45\n",
      "64000/64000 [==============================] - 1s - loss: 1.7828 - val_loss: 0.6563\n",
      "Epoch 35/45\n",
      "64000/64000 [==============================] - 1s - loss: 1.6895 - val_loss: 0.5974\n",
      "Epoch 36/45\n",
      "64000/64000 [==============================] - 1s - loss: 1.7325 - val_loss: 0.6574\n",
      "Epoch 37/45\n",
      "64000/64000 [==============================] - 1s - loss: 1.7146 - val_loss: 0.6408\n",
      "Epoch 38/45\n",
      "64000/64000 [==============================] - 1s - loss: 1.7200 - val_loss: 0.5876\n",
      "Epoch 39/45\n",
      "64000/64000 [==============================] - 1s - loss: 1.6607 - val_loss: 0.6306\n",
      "Epoch 40/45\n",
      "64000/64000 [==============================] - 1s - loss: 1.6619 - val_loss: 0.6136\n",
      "Epoch 41/45\n",
      "64000/64000 [==============================] - 1s - loss: 1.7301 - val_loss: 0.6601\n",
      "Epoch 42/45\n",
      "64000/64000 [==============================] - 1s - loss: 1.7208 - val_loss: 0.6339\n",
      "Epoch 43/45\n",
      "64000/64000 [==============================] - 1s - loss: 1.7328 - val_loss: 0.6088\n",
      "Epoch 44/45\n",
      "64000/64000 [==============================] - 1s - loss: 1.7185 - val_loss: 0.5689\n",
      "Epoch 45/45\n",
      "64000/64000 [==============================] - 1s - loss: 1.7357 - val_loss: 0.6703\n"
     ]
    },
    {
     "data": {
      "text/plain": [
       "<keras.callbacks.History at 0x7f2bc438e1d0>"
      ]
     },
     "execution_count": 70,
     "metadata": {},
     "output_type": "execute_result"
    }
   ],
   "source": [
    "modelObj.model.fit(reduced_X_train, Y_train, batch_size = 100, nb_epoch=45, verbose=1, class_weight={0:neg_weight,1:pos_weight}, validation_data=(reduced_X_test, Y_test))"
   ]
  },
  {
   "cell_type": "code",
   "execution_count": 71,
   "metadata": {
    "collapsed": false
   },
   "outputs": [],
   "source": [
    "Y_predicted = modelObj.model.predict(reduced_X_test, batch_size=150)"
   ]
  },
  {
   "cell_type": "code",
   "execution_count": 72,
   "metadata": {
    "collapsed": false
   },
   "outputs": [],
   "source": [
    "classificationObj = deeplift_11_9_2016.ClassificationResult(Y_test, Y_predicted)"
   ]
  },
  {
   "cell_type": "code",
   "execution_count": 73,
   "metadata": {
    "collapsed": false
   },
   "outputs": [
    {
     "data": {
      "text/plain": [
       "[('Loss', 0.67025721054953979),\n",
       " ('Balanced_accuracy', 63.394586818981487),\n",
       " ('auROC', 0.68758439314208641),\n",
       " ('auPRC', 0.20567394061631361),\n",
       " ('auPRG', 0.5),\n",
       " ('Recall_at_5%_FDR', 0.0),\n",
       " ('Recall_at_10%_FDR', 0.0),\n",
       " ('Recall_at_20%_FDR', 0.0),\n",
       " ('Num_Positives', 853),\n",
       " ('Num_Negatives', 6008)]"
      ]
     },
     "execution_count": 73,
     "metadata": {},
     "output_type": "execute_result"
    }
   ],
   "source": [
    "classificationObj.binary(Y_test.flatten().astype(bool), Y_predicted)"
   ]
  },
  {
   "cell_type": "code",
   "execution_count": 35,
   "metadata": {
    "collapsed": false
   },
   "outputs": [
    {
     "name": "stdout",
     "output_type": "stream",
     "text": [
      "70861\n"
     ]
    }
   ],
   "source": [
    "print(len(binClassObj.merged_tensor))"
   ]
  },
  {
   "cell_type": "code",
   "execution_count": 75,
   "metadata": {
    "collapsed": false
   },
   "outputs": [
    {
     "data": {
      "text/plain": [
       "128761"
      ]
     },
     "execution_count": 75,
     "metadata": {},
     "output_type": "execute_result"
    }
   ],
   "source": [
    "modelObj.model.count_params()"
   ]
  },
  {
   "cell_type": "code",
   "execution_count": null,
   "metadata": {
    "collapsed": true
   },
   "outputs": [],
   "source": []
  }
 ],
 "metadata": {
  "kernelspec": {
   "display_name": "Python 2",
   "language": "python",
   "name": "python2"
  },
  "language_info": {
   "codemirror_mode": {
    "name": "ipython",
    "version": 2
   },
   "file_extension": ".py",
   "mimetype": "text/x-python",
   "name": "python",
   "nbconvert_exporter": "python",
   "pygments_lexer": "ipython2",
   "version": "2.7.12"
  }
 },
 "nbformat": 4,
 "nbformat_minor": 1
}
