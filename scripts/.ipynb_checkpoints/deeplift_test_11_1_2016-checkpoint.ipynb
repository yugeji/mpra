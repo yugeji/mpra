{
 "cells": [
  {
   "cell_type": "code",
   "execution_count": 1,
   "metadata": {
    "collapsed": true
   },
   "outputs": [],
   "source": [
    "import keras"
   ]
  },
  {
   "cell_type": "code",
   "execution_count": 2,
   "metadata": {
    "collapsed": false
   },
   "outputs": [
    {
     "data": {
      "text/plain": [
       "'0.3.2'"
      ]
     },
     "execution_count": 2,
     "metadata": {},
     "output_type": "execute_result"
    }
   ],
   "source": [
    "keras.__version__"
   ]
  },
  {
   "cell_type": "code",
   "execution_count": 3,
   "metadata": {
    "collapsed": false
   },
   "outputs": [
    {
     "name": "stderr",
     "output_type": "stream",
     "text": [
      "Using Theano backend.\n",
      "Using gpu device 0: GeForce GTX 1080 (CNMeM is enabled with initial size: 82.0% of memory, cuDNN 5005)\n",
      "/home/alvin/Dropbox/Lab/CNN/deeplift/env/local/lib/python2.7/site-packages/theano/tensor/signal/downsample.py:6: UserWarning: downsample module has been moved to the theano.tensor.signal.pool module.\n",
      "  \"downsample module has been moved to the theano.tensor.signal.pool module.\")\n"
     ]
    }
   ],
   "source": [
    "from __future__ import absolute_import, division, print_function\n",
    "from keras.models import Sequential\n",
    "from keras.callbacks import EarlyStopping\n",
    "from keras.layers.core import (\n",
    "    Activation, Dense, Dropout, Flatten,\n",
    "    Permute, Reshape, TimeDistributedDense\n",
    ")\n",
    "from keras.layers.convolutional import Convolution2D, MaxPooling2D\n",
    "from keras.layers.recurrent import GRU\n",
    "from keras.regularizers import l1, l2, l1l2\n",
    "from keras.utils import np_utils\n",
    "from keras import backend as K\n",
    "import numpy as np\n",
    "import copy\n",
    "import matplotlib.pyplot as plt\n",
    "import pandas as pd\n",
    "import sys\n",
    "import os\n",
    "import time\n",
    "import re\n",
    "import numpy as np\n",
    "from collections import OrderedDict\n",
    "from sklearn.metrics import auc, log_loss, precision_recall_curve, roc_auc_score\n",
    "from sklearn.model_selection import StratifiedShuffleSplit, train_test_split"
   ]
  },
  {
   "cell_type": "code",
   "execution_count": 4,
   "metadata": {
    "collapsed": true
   },
   "outputs": [],
   "source": [
    "HepG2_dna = \"/home/alvin/Dropbox/Lab/CNN/data/processed_cnn/HepG2_dna.txt\"\n",
    "HepG2_tarcat = \"/home/alvin/Dropbox/Lab/CNN/data/processed_cnn/HepG2_tar_cat.txt\"\n",
    "HepG2_tarbin = \"/home/alvin/Dropbox/Lab/CNN/data/processed_cnn/HepG2_tar_bin.txt\"\n",
    "HepG2_tarraw = \"/home/alvin/Dropbox/Lab/CNN/data/processed_cnn/HepG2_tar_raw.txt\"\n",
    "K562_dna = \"/home/alvin/Dropbox/Lab/CNN/data/processed_cnn/K562_dna.txt\"\n",
    "K562_tarcat = \"/home/alvin/Dropbox/Lab/CNN/data/processed_cnn/K562_tar_cat.txt\"\n",
    "K562_tarbin = \"/home/alvin/Dropbox/Lab/CNN/data/processed_cnn/K562_tar_bin.txt\"\n",
    "K562_tarraw = \"/home/alvin/Dropbox/Lab/CNN/data/processed_cnn/K562_tar_raw.txt\""
   ]
  },
  {
   "cell_type": "code",
   "execution_count": 5,
   "metadata": {
    "collapsed": true
   },
   "outputs": [],
   "source": [
    "%matplotlib inline\n",
    "import seaborn as sns; sns.set(style=\"white\", color_codes=True)\n",
    "from scipy.stats.mstats import zscore"
   ]
  },
  {
   "cell_type": "code",
   "execution_count": 33,
   "metadata": {
    "collapsed": false
   },
   "outputs": [
    {
     "data": {
      "text/plain": [
       "<module 'hepg2_k562_cat' from 'hepg2_k562_cat.pyc'>"
      ]
     },
     "execution_count": 33,
     "metadata": {},
     "output_type": "execute_result"
    }
   ],
   "source": [
    "import hepg2_k562_cat\n",
    "reload(hepg2_k562_cat)"
   ]
  },
  {
   "cell_type": "code",
   "execution_count": 27,
   "metadata": {
    "collapsed": false
   },
   "outputs": [],
   "source": [
    "k562_initalObj = hepg2_k562_cat.Initalizer(K562_dna, K562_tarbin, \"k562\")"
   ]
  },
  {
   "cell_type": "code",
   "execution_count": 28,
   "metadata": {
    "collapsed": false
   },
   "outputs": [
    {
     "name": "stdout",
     "output_type": "stream",
     "text": [
      "Illegal line at 1948495\n",
      "Preparation of input matrices complete\n"
     ]
    }
   ],
   "source": [
    "k562_initalObj.prepare()"
   ]
  },
  {
   "cell_type": "code",
   "execution_count": 29,
   "metadata": {
    "collapsed": true
   },
   "outputs": [],
   "source": [
    "k562X_train, k562X_test, k562Y_train, k562Y_test = k562_initalObj.return_test_train_2class()"
   ]
  },
  {
   "cell_type": "code",
   "execution_count": 30,
   "metadata": {
    "collapsed": true
   },
   "outputs": [],
   "source": [
    "k562neg_weights, k562pos_weights = k562_initalObj.get_weight_2class(k562Y_train)"
   ]
  },
  {
   "cell_type": "code",
   "execution_count": 34,
   "metadata": {
    "collapsed": true
   },
   "outputs": [],
   "source": [
    "k562_binmodel = hepg2_k562_cat.BinaryModel(verbose = 1, seq_length = 145, name = \"k562_binmodel\")\n",
    "k562_binmodel.model2()"
   ]
  },
  {
   "cell_type": "code",
   "execution_count": 35,
   "metadata": {
    "collapsed": false
   },
   "outputs": [
    {
     "name": "stdout",
     "output_type": "stream",
     "text": [
      "Train on 389700 samples, validate on 97425 samples\n",
      "Epoch 1/30\n",
      "389700/389700 [==============================] - 9s - loss: 7.7480 - val_loss: 0.7655\n",
      "Epoch 2/30\n",
      "389700/389700 [==============================] - 9s - loss: 5.9864 - val_loss: 0.7537\n",
      "Epoch 3/30\n",
      "389700/389700 [==============================] - 9s - loss: 4.7947 - val_loss: 0.7296\n",
      "Epoch 4/30\n",
      "389700/389700 [==============================] - 9s - loss: 3.9080 - val_loss: 0.7464\n",
      "Epoch 5/30\n",
      "389700/389700 [==============================] - 9s - loss: 3.2641 - val_loss: 0.7465\n",
      "Epoch 6/30\n",
      "389700/389700 [==============================] - 9s - loss: 2.8096 - val_loss: 0.7643\n",
      "Epoch 7/30\n",
      "389700/389700 [==============================] - 9s - loss: 2.4909 - val_loss: 0.7423\n",
      "Epoch 8/30\n",
      "389700/389700 [==============================] - 9s - loss: 2.2667 - val_loss: 0.8205\n",
      "Epoch 9/30\n",
      "389700/389700 [==============================] - 9s - loss: 2.0983 - val_loss: 0.7326\n",
      "Epoch 10/30\n",
      "389700/389700 [==============================] - 9s - loss: 1.9749 - val_loss: 0.7256\n",
      "Epoch 11/30\n",
      "389700/389700 [==============================] - 9s - loss: 1.8911 - val_loss: 0.7343\n",
      "Epoch 12/30\n",
      "389700/389700 [==============================] - 9s - loss: 1.8312 - val_loss: 0.7374\n",
      "Epoch 13/30\n",
      "389700/389700 [==============================] - 9s - loss: 1.7875 - val_loss: 0.7271\n",
      "Epoch 14/30\n",
      "389700/389700 [==============================] - 9s - loss: 1.7540 - val_loss: 0.7197\n",
      "Epoch 15/30\n",
      "389700/389700 [==============================] - 9s - loss: 1.7289 - val_loss: 0.7236\n",
      "Epoch 16/30\n",
      "389700/389700 [==============================] - 9s - loss: 1.7086 - val_loss: 0.7254\n",
      "Epoch 17/30\n",
      "389700/389700 [==============================] - 9s - loss: 1.6902 - val_loss: 0.7257\n",
      "Epoch 18/30\n",
      "389700/389700 [==============================] - 9s - loss: 1.6770 - val_loss: 0.7268\n",
      "Epoch 19/30\n",
      "389700/389700 [==============================] - 9s - loss: 1.6672 - val_loss: 0.7060\n",
      "Epoch 20/30\n",
      "389700/389700 [==============================] - 9s - loss: 1.6578 - val_loss: 0.7292\n",
      "Epoch 21/30\n",
      "389700/389700 [==============================] - 9s - loss: 1.6497 - val_loss: 0.7368\n",
      "Epoch 22/30\n",
      "389700/389700 [==============================] - 9s - loss: 1.6433 - val_loss: 0.7232\n",
      "Epoch 23/30\n",
      "389700/389700 [==============================] - 9s - loss: 1.6388 - val_loss: 0.7065\n",
      "Epoch 24/30\n",
      "389700/389700 [==============================] - 9s - loss: 1.6331 - val_loss: 0.7164\n",
      "Epoch 25/30\n",
      "389700/389700 [==============================] - 9s - loss: 1.6296 - val_loss: 0.7295\n",
      "Epoch 26/30\n",
      "389700/389700 [==============================] - 9s - loss: 1.6263 - val_loss: 0.7334\n",
      "Epoch 27/30\n",
      "389700/389700 [==============================] - 9s - loss: 1.6226 - val_loss: 0.7283\n",
      "Epoch 28/30\n",
      "389700/389700 [==============================] - 9s - loss: 1.6200 - val_loss: 0.7237\n",
      "Epoch 29/30\n",
      "389700/389700 [==============================] - 9s - loss: 1.6195 - val_loss: 0.7343\n",
      "Epoch 30/30\n",
      "389700/389700 [==============================] - 9s - loss: 1.6152 - val_loss: 0.7169\n"
     ]
    },
    {
     "data": {
      "text/plain": [
       "<keras.callbacks.History at 0x7f54bc190a10>"
      ]
     },
     "execution_count": 35,
     "metadata": {},
     "output_type": "execute_result"
    }
   ],
   "source": [
    "k562_binmodel.model.fit(k562X_train, k562Y_train, batch_size = 7500, nb_epoch = 30, class_weight = {0:k562neg_weights, 1:1.5*k562pos_weights}\n",
    "                         ,validation_data = (k562X_test, k562Y_test))"
   ]
  },
  {
   "cell_type": "code",
   "execution_count": 36,
   "metadata": {
    "collapsed": false
   },
   "outputs": [
    {
     "name": "stdout",
     "output_type": "stream",
     "text": [
      "97425/97425 [==============================] - 1s     \n"
     ]
    }
   ],
   "source": [
    "k562_class_result = k562_binmodel.test(k562X_test, k562Y_test)"
   ]
  },
  {
   "cell_type": "code",
   "execution_count": 37,
   "metadata": {
    "collapsed": false
   },
   "outputs": [
    {
     "data": {
      "text/plain": [
       "[('Loss', 0.71687894513200323),\n",
       " ('Balanced_accuracy', 60.123666314461154),\n",
       " ('auROC', 0.65025359225471058),\n",
       " ('auPRC', 0.47097405903092793),\n",
       " ('auPRG', 0.34821346047473561),\n",
       " ('Recall_at_5%_FDR', 0.0),\n",
       " ('Recall_at_10%_FDR', 0.0),\n",
       " ('Recall_at_20%_FDR', 0.0),\n",
       " ('Num_Positives', 36165),\n",
       " ('Num_Negatives', 61260)]"
      ]
     },
     "execution_count": 37,
     "metadata": {},
     "output_type": "execute_result"
    }
   ],
   "source": [
    "k562_class_result.binary(k562_class_result.labels.astype(bool),k562_class_result.flat_predictions)"
   ]
  },
  {
   "cell_type": "code",
   "execution_count": 38,
   "metadata": {
    "collapsed": true
   },
   "outputs": [],
   "source": [
    "import deeplift\n",
    "from deeplift.conversion import keras_conversion as kc"
   ]
  },
  {
   "cell_type": "code",
   "execution_count": 49,
   "metadata": {
    "collapsed": false
   },
   "outputs": [],
   "source": [
    "deeplift_model = kc.convert_sequential_model(\n",
    "                    k562_binmodel.model,\n",
    "                    nonlinear_mxts_mode=deeplift.blobs.NonlinearMxtsMode .DeepLIFT)"
   ]
  },
  {
   "cell_type": "code",
   "execution_count": 46,
   "metadata": {
    "collapsed": true
   },
   "outputs": [],
   "source": [
    "from deeplift import backend as B"
   ]
  },
  {
   "cell_type": "code",
   "execution_count": 50,
   "metadata": {
    "collapsed": false
   },
   "outputs": [],
   "source": [
    "find_scores_layer_idx = 0"
   ]
  },
  {
   "cell_type": "code",
   "execution_count": 52,
   "metadata": {
    "collapsed": false
   },
   "outputs": [],
   "source": [
    "deeplift_contribs_func = deeplift_model.get_target_contribs_func(\n",
    "                            find_scores_layer_idx=find_scores_layer_idx,\n",
    "                            target_layer_idx=-2)"
   ]
  },
  {
   "cell_type": "code",
   "execution_count": 53,
   "metadata": {
    "collapsed": false,
    "scrolled": true
   },
   "outputs": [
    {
     "name": "stdout",
     "output_type": "stream",
     "text": [
      "No reference provided - using zeros\n",
      "Done 0\n",
      "Done 1000\n",
      "Done 2000\n",
      "Done 3000\n",
      "Done 4000\n",
      "Done 5000\n",
      "Done 6000\n",
      "Done 7000\n",
      "Done 8000\n",
      "Done 9000\n",
      "Done 10000\n",
      "Done 11000\n",
      "Done 12000\n",
      "Done 13000\n",
      "Done 14000\n",
      "Done 15000\n",
      "Done 16000\n",
      "Done 17000\n",
      "Done 18000\n",
      "Done 19000\n",
      "Done 20000\n",
      "Done 21000\n",
      "Done 22000\n",
      "Done 23000\n",
      "Done 24000\n",
      "Done 25000\n",
      "Done 26000\n",
      "Done 27000\n",
      "Done 28000\n",
      "Done 29000\n",
      "Done 30000\n",
      "Done 31000\n",
      "Done 32000\n",
      "Done 33000\n",
      "Done 34000\n",
      "Done 35000\n",
      "Done 36000\n",
      "Done 37000\n",
      "Done 38000\n",
      "Done 39000\n",
      "Done 40000\n",
      "Done 41000\n",
      "Done 42000\n",
      "Done 43000\n",
      "Done 44000\n",
      "Done 45000\n",
      "Done 46000\n",
      "Done 47000\n",
      "Done 48000\n",
      "Done 49000\n",
      "Done 50000\n",
      "Done 51000\n",
      "Done 52000\n",
      "Done 53000\n",
      "Done 54000\n",
      "Done 55000\n",
      "Done 56000\n",
      "Done 57000\n",
      "Done 58000\n",
      "Done 59000\n",
      "Done 60000\n",
      "Done 61000\n",
      "Done 62000\n",
      "Done 63000\n",
      "Done 64000\n",
      "Done 65000\n",
      "Done 66000\n",
      "Done 67000\n",
      "Done 68000\n",
      "Done 69000\n",
      "Done 70000\n",
      "Done 71000\n",
      "Done 72000\n",
      "Done 73000\n",
      "Done 74000\n",
      "Done 75000\n",
      "Done 76000\n",
      "Done 77000\n",
      "Done 78000\n",
      "Done 79000\n",
      "Done 80000\n",
      "Done 81000\n",
      "Done 82000\n",
      "Done 83000\n",
      "Done 84000\n",
      "Done 85000\n",
      "Done 86000\n",
      "Done 87000\n",
      "Done 88000\n",
      "Done 89000\n",
      "Done 90000\n",
      "Done 91000\n",
      "Done 92000\n",
      "Done 93000\n",
      "Done 94000\n",
      "Done 95000\n",
      "Done 96000\n",
      "Done 97000\n"
     ]
    }
   ],
   "source": [
    "scores = np.array(deeplift_contribs_func(task_idx=0,\n",
    "                                         input_data_list=[k562X_test],\n",
    "                                         batch_size=100,\n",
    "                                         progress_update=1000))"
   ]
  },
  {
   "cell_type": "code",
   "execution_count": 56,
   "metadata": {
    "collapsed": false,
    "scrolled": true
   },
   "outputs": [
    {
     "data": {
      "text/plain": [
       "(97425, 1, 4, 145)"
      ]
     },
     "execution_count": 56,
     "metadata": {},
     "output_type": "execute_result"
    }
   ],
   "source": [
    "scores.shape"
   ]
  },
  {
   "cell_type": "code",
   "execution_count": 57,
   "metadata": {
    "collapsed": true
   },
   "outputs": [],
   "source": [
    "scores2 = np.squeeze(np.sum(scores, axis=2),axis=1)"
   ]
  },
  {
   "cell_type": "code",
   "execution_count": 59,
   "metadata": {
    "collapsed": false
   },
   "outputs": [
    {
     "data": {
      "text/plain": [
       "(97425, 145)"
      ]
     },
     "execution_count": 59,
     "metadata": {},
     "output_type": "execute_result"
    }
   ],
   "source": [
    "scores2.shape"
   ]
  },
  {
   "cell_type": "code",
   "execution_count": 63,
   "metadata": {
    "collapsed": false
   },
   "outputs": [
    {
     "data": {
      "text/plain": [
       "array([[[[-0.00118646, -0.        , -0.01579052, ...,  0.        ,\n",
       "           0.        ,  0.        ],\n",
       "         [ 0.        ,  0.        ,  0.        , ...,  0.        ,\n",
       "           0.        ,  0.        ],\n",
       "         [ 0.        ,  0.0091572 ,  0.        , ...,  0.        ,\n",
       "           0.        ,  0.        ],\n",
       "         [-0.        , -0.        , -0.        , ...,  0.        ,\n",
       "           0.        ,  0.        ]]],\n",
       "\n",
       "\n",
       "       [[[-0.        , -0.        , -0.        , ...,  0.        ,\n",
       "           0.        ,  0.        ],\n",
       "         [ 0.        , -0.        ,  0.        , ...,  0.        ,\n",
       "           0.        ,  0.        ],\n",
       "         [ 0.        ,  0.02066914,  0.01522873, ...,  0.        ,\n",
       "           0.        ,  0.        ],\n",
       "         [ 0.00605271, -0.        , -0.        , ...,  0.        ,\n",
       "           0.        ,  0.        ]]],\n",
       "\n",
       "\n",
       "       [[[-0.        , -0.        , -0.        , ...,  0.        ,\n",
       "           0.        ,  0.        ],\n",
       "         [ 0.        ,  0.        ,  0.        , ...,  0.        ,\n",
       "           0.        ,  0.        ],\n",
       "         [ 0.01536431,  0.        ,  0.02408363, ...,  0.        ,\n",
       "           0.        ,  0.        ],\n",
       "         [-0.        ,  0.00238965, -0.        , ...,  0.        ,\n",
       "           0.        ,  0.        ]]],\n",
       "\n",
       "\n",
       "       ..., \n",
       "       [[[-0.        , -0.        , -0.        , ...,  0.        ,\n",
       "           0.        ,  0.        ],\n",
       "         [ 0.        ,  0.        ,  0.        , ...,  0.        ,\n",
       "           0.        ,  0.        ],\n",
       "         [ 0.01182667,  0.00645967,  0.00992641, ...,  0.        ,\n",
       "           0.        ,  0.        ],\n",
       "         [-0.        , -0.        , -0.        , ...,  0.        ,\n",
       "           0.        ,  0.        ]]],\n",
       "\n",
       "\n",
       "       [[[ 0.        ,  0.00284901,  0.        , ...,  0.        ,\n",
       "           0.        ,  0.        ],\n",
       "         [-0.        , -0.        , -0.        , ...,  0.        ,\n",
       "           0.        ,  0.        ],\n",
       "         [-0.        , -0.        ,  0.0022554 , ...,  0.        ,\n",
       "           0.        ,  0.        ],\n",
       "         [ 0.00296127,  0.        ,  0.        , ...,  0.        ,\n",
       "           0.        ,  0.        ]]],\n",
       "\n",
       "\n",
       "       [[[-0.        ,  0.00157352, -0.        , ...,  0.        ,\n",
       "           0.        ,  0.        ],\n",
       "         [ 0.00030965,  0.        ,  0.        , ...,  0.        ,\n",
       "           0.        ,  0.        ],\n",
       "         [ 0.        ,  0.        ,  0.00108337, ...,  0.        ,\n",
       "           0.        ,  0.        ],\n",
       "         [-0.        , -0.        , -0.        , ...,  0.        ,\n",
       "           0.        ,  0.        ]]]], dtype=float32)"
      ]
     },
     "execution_count": 63,
     "metadata": {},
     "output_type": "execute_result"
    }
   ],
   "source": [
    "scores"
   ]
  },
  {
   "cell_type": "code",
   "execution_count": 60,
   "metadata": {
    "collapsed": false
   },
   "outputs": [
    {
     "data": {
      "text/plain": [
       "<module 'deeplift.visualization.viz_sequence' from '/home/alvin/Dropbox/Lab/CNN/deeplift/deeplift/deeplift/visualization/viz_sequence.pyc'>"
      ]
     },
     "execution_count": 60,
     "metadata": {},
     "output_type": "execute_result"
    }
   ],
   "source": [
    "from deeplift.visualization import viz_sequence\n",
    "reload(viz_sequence)"
   ]
  },
  {
   "cell_type": "code",
   "execution_count": 65,
   "metadata": {
    "collapsed": false,
    "scrolled": true
   },
   "outputs": [],
   "source": [
    "test_plot = k562X_test[0]*scores[0]"
   ]
  },
  {
   "cell_type": "code",
   "execution_count": 67,
   "metadata": {
    "collapsed": false
   },
   "outputs": [
    {
     "data": {
      "image/png": "[encoded data removed]",
      "text/plain": [
       "<matplotlib.figure.Figure at 0x7f54b7c148d0>"
      ]
     },
     "metadata": {},
     "output_type": "display_data"
    }
   ],
   "source": [
    "viz_sequence.plot_weights(test_plot, subticks_frequency=10)"
   ]
  },
  {
   "cell_type": "code",
   "execution_count": null,
   "metadata": {
    "collapsed": true
   },
   "outputs": [],
   "source": []
  }
 ],
 "metadata": {
  "kernelspec": {
   "display_name": "Python 2",
   "language": "python",
   "name": "python2"
  },
  "language_info": {
   "codemirror_mode": {
    "name": "ipython",
    "version": 2
   },
   "file_extension": ".py",
   "mimetype": "text/x-python",
   "name": "python",
   "nbconvert_exporter": "python",
   "pygments_lexer": "ipython2",
   "version": "2.7.12"
  }
 },
 "nbformat": 4,
 "nbformat_minor": 1
}
