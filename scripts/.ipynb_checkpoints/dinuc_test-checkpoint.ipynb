{
 "cells": [
  {
   "cell_type": "code",
   "execution_count": 1,
   "metadata": {
    "collapsed": true
   },
   "outputs": [],
   "source": [
    "%load_ext autoreload \n",
    "%autoreload 2\n",
    "from IPython.display import Image\n",
    "%matplotlib inline"
   ]
  },
  {
   "cell_type": "code",
   "execution_count": 2,
   "metadata": {
    "collapsed": true
   },
   "outputs": [],
   "source": [
    "import matplotlib.pyplot as plt \n",
    "import numpy as np\n",
    "import time"
   ]
  },
  {
   "cell_type": "code",
   "execution_count": 4,
   "metadata": {},
   "outputs": [
    {
     "data": {
      "text/plain": [
       "<module 'motif_processor' from 'motif_processor.pyc'>"
      ]
     },
     "execution_count": 4,
     "metadata": {},
     "output_type": "execute_result"
    }
   ],
   "source": [
    "import motif_processor\n",
    "reload(motif_processor)"
   ]
  },
  {
   "cell_type": "code",
   "execution_count": 11,
   "metadata": {},
   "outputs": [
    {
     "data": {
      "text/plain": [
       "<module 'common_utils' from 'common_utils.pyc'>"
      ]
     },
     "execution_count": 11,
     "metadata": {},
     "output_type": "execute_result"
    }
   ],
   "source": [
    "import common_utils \n",
    "reload(common_utils)"
   ]
  },
  {
   "cell_type": "code",
   "execution_count": 12,
   "metadata": {},
   "outputs": [
    {
     "name": "stdout",
     "output_type": "stream",
     "text": [
      "/home/alvin/Dropbox/Lab/CNN/data/processed_cnn/HEPG2_act_mpra_dna.txt\n",
      "original\n",
      "/home/alvin/Dropbox/Lab/CNN/data/processed_cnn/K562_act_mpra_dna.txt\n",
      "original\n",
      "/home/alvin/Dropbox/Lab/CNN/data/processed_cnn/LCL_act_mpra_dna.txt\n",
      "original\n",
      "31.4714078903\n"
     ]
    }
   ],
   "source": [
    "start = time.time()\n",
    "CrossValProcObj = common_utils.CrossValProcessor(output_dirs = [\"./HEPG2_act_1_25/\", \"./HEPG2_rep_1_25/\", \n",
    "                                                                      \"./K562_act_1_25/\", \"./K562_act_1_25/\",\n",
    "                                                                      \"./LCL_act_alt_1_25/\"])\n",
    "print(time.time()-start)"
   ]
  },
  {
   "cell_type": "code",
   "execution_count": 16,
   "metadata": {},
   "outputs": [
    {
     "data": {
      "text/plain": [
       "<module 'pathnet' from 'pathnet.pyc'>"
      ]
     },
     "execution_count": 16,
     "metadata": {},
     "output_type": "execute_result"
    }
   ],
   "source": [
    "import pathnet\n",
    "reload(pathnet)"
   ]
  },
  {
   "cell_type": "code",
   "execution_count": 17,
   "metadata": {
    "collapsed": true
   },
   "outputs": [],
   "source": [
    "X_LCL=CrossValProcObj.LCL_binObj.merged_tensor\n",
    "X_RC_LCL=CrossValProcObj.LCL_binObj.merged_RC_tensor\n",
    "Y_LCL=CrossValProcObj.LCL_binObj.merged_tar\n",
    "test_dict = {'X': X_LCL, 'X_RC': X_RC_LCL, 'Y': Y_LCL}"
   ]
  },
  {
   "cell_type": "code",
   "execution_count": 19,
   "metadata": {},
   "outputs": [],
   "source": [
    "X_HepG2=CrossValProcObj.HepG2_binObj.merged_tensor\n",
    "X_RC_HepG2=CrossValProcObj.HepG2_binObj.merged_RC_tensor\n",
    "Y_HepG2=CrossValProcObj.HepG2_binObj.merged_tar\n"
   ]
  },
  {
   "cell_type": "code",
   "execution_count": 20,
   "metadata": {
    "collapsed": true
   },
   "outputs": [],
   "source": [
    "from pathnet import SimpleCNNModel"
   ]
  },
  {
   "cell_type": "code",
   "execution_count": 39,
   "metadata": {
    "collapsed": true
   },
   "outputs": [],
   "source": [
    "simpleCNNobj = SimpleCNNModel(X_HepG2, X_RC_HepG2)"
   ]
  },
  {
   "cell_type": "code",
   "execution_count": 40,
   "metadata": {},
   "outputs": [
    {
     "name": "stderr",
     "output_type": "stream",
     "text": [
      "pathnet.py:325: UserWarning: Update your `Conv2D` call to the Keras 2 API: `Conv2D(activation=<function ..., kernel_regularizer=<keras.reg..., filters=160, kernel_size=(4, 18))`\n",
      "  self.conv_layer = Convolution2D(nb_filter=conv_filters, nb_row=4, nb_col=18, activation=relu, W_regularizer=l1_l2(L1,L2))\n",
      "pathnet.py:334: UserWarning: The `merge` function is deprecated and will be removed after 08/2017. Use instead layers from `keras.layers.merge`, e.g. `add`, `concatenate`, etc.\n",
      "  self.X_merged = merge([self.X_max_out, self.X_RC_max_out], mode=merge_mode)\n",
      "/home/alvin/anaconda2/lib/python2.7/site-packages/keras/legacy/layers.py:460: UserWarning: The `Merge` layer is deprecated and will be removed after 08/2017. Use instead layers from `keras.layers.merge`, e.g. `add`, `concatenate`, etc.\n",
      "  name=name)\n",
      "pathnet.py:345: UserWarning: Update your `Dense` call to the Keras 2 API: `Dense(4, activation=\"relu\", kernel_regularizer=<keras.reg...)`\n",
      "  self.X_feat_new = Dense(units, activation ='relu', W_regularizer=l1_l2(L1,L2))(self.X_feat_concat_dropout)\n",
      "pathnet.py:346: UserWarning: Update your `Dense` call to the Keras 2 API: `Dense(1, activation=\"sigmoid\", kernel_regularizer=<keras.reg...)`\n",
      "  self.predictions = Dense(1, activation='sigmoid', W_regularizer=l1_l2(L1,L2))(self.X_feat_new)\n",
      "pathnet.py:347: UserWarning: Update your `Model` call to the Keras 2 API: `Model(outputs=sigmoid.0, inputs=[/Input, /...)`\n",
      "  self.model = keras.engine.training.Model(input=[self.X, self.X_RC],output=self.predictions)\n"
     ]
    }
   ],
   "source": [
    "simpleCNNobj.build_model()"
   ]
  },
  {
   "cell_type": "code",
   "execution_count": 30,
   "metadata": {},
   "outputs": [
    {
     "name": "stdout",
     "output_type": "stream",
     "text": [
      "Object `keras.layers` not found.\n"
     ]
    }
   ],
   "source": [
    "?keras.layers"
   ]
  },
  {
   "cell_type": "code",
   "execution_count": 37,
   "metadata": {
    "collapsed": true
   },
   "outputs": [],
   "source": [
    "from keras import layers"
   ]
  },
  {
   "cell_type": "code",
   "execution_count": 38,
   "metadata": {},
   "outputs": [
    {
     "ename": "AttributeError",
     "evalue": "'function' object has no attribute 'Add'",
     "output_type": "error",
     "traceback": [
      "\u001b[0;31m---------------------------------------------------------------------------\u001b[0m",
      "\u001b[0;31mAttributeError\u001b[0m                            Traceback (most recent call last)",
      "\u001b[0;32m<ipython-input-38-52eacc34727c>\u001b[0m in \u001b[0;36m<module>\u001b[0;34m()\u001b[0m\n\u001b[0;32m----> 1\u001b[0;31m \u001b[0mlayers\u001b[0m\u001b[0;34m.\u001b[0m\u001b[0mmerge\u001b[0m\u001b[0;34m.\u001b[0m\u001b[0mAdd\u001b[0m\u001b[0;34m(\u001b[0m\u001b[0;34m)\u001b[0m\u001b[0;34m\u001b[0m\u001b[0m\n\u001b[0m",
      "\u001b[0;31mAttributeError\u001b[0m: 'function' object has no attribute 'Add'"
     ]
    }
   ],
   "source": [
    "layers.merge.Add()"
   ]
  },
  {
   "cell_type": "code",
   "execution_count": 41,
   "metadata": {
    "collapsed": true
   },
   "outputs": [],
   "source": [
    "from keras.layers.merge import add"
   ]
  },
  {
   "cell_type": "code",
   "execution_count": 35,
   "metadata": {
    "collapsed": true
   },
   "outputs": [],
   "source": [
    "?merge"
   ]
  },
  {
   "cell_type": "code",
   "execution_count": null,
   "metadata": {
    "collapsed": true
   },
   "outputs": [],
   "source": []
  }
 ],
 "metadata": {
  "kernelspec": {
   "display_name": "Python 2",
   "language": "python",
   "name": "python2"
  },
  "language_info": {
   "codemirror_mode": {
    "name": "ipython",
    "version": 2
   },
   "file_extension": ".py",
   "mimetype": "text/x-python",
   "name": "python",
   "nbconvert_exporter": "python",
   "pygments_lexer": "ipython2",
   "version": "2.7.13"
  }
 },
 "nbformat": 4,
 "nbformat_minor": 2
}
