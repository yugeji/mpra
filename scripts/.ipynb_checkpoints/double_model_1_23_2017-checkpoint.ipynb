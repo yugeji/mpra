{
 "cells": [
  {
   "cell_type": "code",
   "execution_count": 1,
   "metadata": {
    "collapsed": false
   },
   "outputs": [
    {
     "name": "stderr",
     "output_type": "stream",
     "text": [
      "Using Theano backend.\n",
      "Using gpu device 0: TITAN X (Pascal) (CNMeM is disabled, cuDNN 5105)\n",
      "/home/alvin/anaconda2/lib/python2.7/site-packages/theano/sandbox/cuda/__init__.py:600: UserWarning: Your cuDNN version is more recent than the one Theano officially supports. If you see any problems, try updating Theano or downgrading cuDNN to version 5.\n",
      "  warnings.warn(warn)\n"
     ]
    }
   ],
   "source": [
    "import os\n",
    "import sys \n",
    "import matplotlib.pyplot as plt\n",
    "%matplotlib inline\n",
    "import numpy as np\n",
    "from sklearn.preprocessing import StandardScaler\n",
    "import keras"
   ]
  },
  {
   "cell_type": "code",
   "execution_count": 2,
   "metadata": {
    "collapsed": true
   },
   "outputs": [],
   "source": [
    "import theano"
   ]
  },
  {
   "cell_type": "code",
   "execution_count": 3,
   "metadata": {
    "collapsed": false
   },
   "outputs": [
    {
     "data": {
      "text/plain": [
       "<module 'motif_processor' from 'motif_processor.pyc'>"
      ]
     },
     "execution_count": 3,
     "metadata": {},
     "output_type": "execute_result"
    }
   ],
   "source": [
    "import motif_processor\n",
    "reload(motif_processor)"
   ]
  },
  {
   "cell_type": "code",
   "execution_count": 4,
   "metadata": {
    "collapsed": true
   },
   "outputs": [],
   "source": [
    "HepG2MotifProcObj = motif_processor.MotifProcessor(ENCODE_only=False, \n",
    "                                                   cell_line=\"HepG2\", \n",
    "                                                   meme_file=\"/home/alvin/Dropbox/Lab/CNN/data/meme/HepG2_pos_steme/steme.txt\")\n",
    "HepG2_motif_tensor, HepG2_motif_names = HepG2MotifProcObj.generate_custom_CNN_filters(max_length = 18, padding = 0, truncate = False)\n",
    "\n",
    "K562MotifProcObj = motif_processor.MotifProcessor(ENCODE_only=False, \n",
    "                                                   cell_line=\"K562\", \n",
    "                                                   meme_file=\"/home/alvin/Dropbox/Lab/CNN/data/meme/K562_pos_steme/steme.txt\")\n",
    "K562_motif_tensor, K562_motif_names = K562MotifProcObj.generate_custom_CNN_filters(max_length = 18, padding = 0, truncate = False)\n",
    "\n",
    "\n",
    "LCLMotifProcObj = motif_processor.MotifProcessor(ENCODE_only=False, \n",
    "                                                   cell_line=\"LCL\", \n",
    "                                                   meme_file=\"/home/alvin/Dropbox/Lab/CNN/data/meme/LCL_pos_steme/steme.txt\")\n",
    "LCL_motif_tensor, LCL_motif_names = LCLMotifProcObj.generate_custom_CNN_filters(max_length = 18, padding = 0, truncate = False)"
   ]
  },
  {
   "cell_type": "code",
   "execution_count": 5,
   "metadata": {
    "collapsed": false,
    "scrolled": true
   },
   "outputs": [
    {
     "name": "stderr",
     "output_type": "stream",
     "text": [
      "/home/alvin/anaconda2/lib/python2.7/site-packages/theano/tensor/signal/downsample.py:6: UserWarning: downsample module has been moved to the theano.tensor.signal.pool module.\n",
      "  \"downsample module has been moved to the theano.tensor.signal.pool module.\")\n",
      "/home/alvin/anaconda2/lib/python2.7/site-packages/sklearn/cross_validation.py:44: DeprecationWarning: This module was deprecated in version 0.18 in favor of the model_selection module into which all the refactored classes and functions are moved. Also note that the interface of the new CV iterators are different from that of this module. This module will be removed in 0.20.\n",
      "  \"This module will be removed in 0.20.\", DeprecationWarning)\n",
      "/home/alvin/anaconda2/lib/python2.7/site-packages/sklearn/grid_search.py:43: DeprecationWarning: This module was deprecated in version 0.18 in favor of the model_selection module into which all the refactored classes and functions are moved. This module will be removed in 0.20.\n",
      "  DeprecationWarning)\n"
     ]
    },
    {
     "data": {
      "text/plain": [
       "<module 'common_utils' from 'common_utils.pyc'>"
      ]
     },
     "execution_count": 5,
     "metadata": {},
     "output_type": "execute_result"
    }
   ],
   "source": [
    "import common_utils \n",
    "reload(common_utils)"
   ]
  },
  {
   "cell_type": "code",
   "execution_count": 286,
   "metadata": {
    "collapsed": true
   },
   "outputs": [],
   "source": [
    "import pickle\n",
    "import time"
   ]
  },
  {
   "cell_type": "code",
   "execution_count": 287,
   "metadata": {
    "collapsed": false
   },
   "outputs": [
    {
     "name": "stdout",
     "output_type": "stream",
     "text": [
      "29.7579989433\n"
     ]
    }
   ],
   "source": [
    "start = time.time()\n",
    "CrossValProcObj = common_utils.CrossValProcessor(output_dirs = [\"./HEPG2_act_1_25/\", \"./HEPG2_rep_1_25/\", \n",
    "                                                                      \"./K562_act_1_25/\", \"./K562_act_1_25/\",\n",
    "                                                                      \"./LCL_act_alt_1_25/\"])\n",
    "print(time.time()-start)"
   ]
  },
  {
   "cell_type": "code",
   "execution_count": 284,
   "metadata": {
    "collapsed": false
   },
   "outputs": [
    {
     "ename": "KeyboardInterrupt",
     "evalue": "",
     "output_type": "error",
     "traceback": [
      "\u001b[0;31m---------------------------------------------------------------------------\u001b[0m",
      "\u001b[0;31mKeyboardInterrupt\u001b[0m                         Traceback (most recent call last)",
      "\u001b[0;32m<ipython-input-284-06e8f1a9c92f>\u001b[0m in \u001b[0;36m<module>\u001b[0;34m()\u001b[0m\n\u001b[0;32m----> 1\u001b[0;31m \u001b[0mpickle\u001b[0m\u001b[0;34m.\u001b[0m\u001b[0mdump\u001b[0m\u001b[0;34m(\u001b[0m\u001b[0mCrossValProcObj\u001b[0m\u001b[0;34m,\u001b[0m \u001b[0mopen\u001b[0m\u001b[0;34m(\u001b[0m \u001b[0;34m\"CrossValObj.pickle\"\u001b[0m\u001b[0;34m,\u001b[0m \u001b[0;34m\"wb\"\u001b[0m \u001b[0;34m)\u001b[0m \u001b[0;34m)\u001b[0m\u001b[0;34m\u001b[0m\u001b[0m\n\u001b[0m",
      "\u001b[0;32m/home/alvin/anaconda2/lib/python2.7/pickle.pyc\u001b[0m in \u001b[0;36mdump\u001b[0;34m(obj, file, protocol)\u001b[0m\n\u001b[1;32m   1374\u001b[0m \u001b[0;34m\u001b[0m\u001b[0m\n\u001b[1;32m   1375\u001b[0m \u001b[0;32mdef\u001b[0m \u001b[0mdump\u001b[0m\u001b[0;34m(\u001b[0m\u001b[0mobj\u001b[0m\u001b[0;34m,\u001b[0m \u001b[0mfile\u001b[0m\u001b[0;34m,\u001b[0m \u001b[0mprotocol\u001b[0m\u001b[0;34m=\u001b[0m\u001b[0mNone\u001b[0m\u001b[0;34m)\u001b[0m\u001b[0;34m:\u001b[0m\u001b[0;34m\u001b[0m\u001b[0m\n\u001b[0;32m-> 1376\u001b[0;31m     \u001b[0mPickler\u001b[0m\u001b[0;34m(\u001b[0m\u001b[0mfile\u001b[0m\u001b[0;34m,\u001b[0m \u001b[0mprotocol\u001b[0m\u001b[0;34m)\u001b[0m\u001b[0;34m.\u001b[0m\u001b[0mdump\u001b[0m\u001b[0;34m(\u001b[0m\u001b[0mobj\u001b[0m\u001b[0;34m)\u001b[0m\u001b[0;34m\u001b[0m\u001b[0m\n\u001b[0m\u001b[1;32m   1377\u001b[0m \u001b[0;34m\u001b[0m\u001b[0m\n\u001b[1;32m   1378\u001b[0m \u001b[0;32mdef\u001b[0m \u001b[0mdumps\u001b[0m\u001b[0;34m(\u001b[0m\u001b[0mobj\u001b[0m\u001b[0;34m,\u001b[0m \u001b[0mprotocol\u001b[0m\u001b[0;34m=\u001b[0m\u001b[0mNone\u001b[0m\u001b[0;34m)\u001b[0m\u001b[0;34m:\u001b[0m\u001b[0;34m\u001b[0m\u001b[0m\n",
      "\u001b[0;32m/home/alvin/anaconda2/lib/python2.7/pickle.pyc\u001b[0m in \u001b[0;36mdump\u001b[0;34m(self, obj)\u001b[0m\n\u001b[1;32m    222\u001b[0m         \u001b[0;32mif\u001b[0m \u001b[0mself\u001b[0m\u001b[0;34m.\u001b[0m\u001b[0mproto\u001b[0m \u001b[0;34m>=\u001b[0m \u001b[0;36m2\u001b[0m\u001b[0;34m:\u001b[0m\u001b[0;34m\u001b[0m\u001b[0m\n\u001b[1;32m    223\u001b[0m             \u001b[0mself\u001b[0m\u001b[0;34m.\u001b[0m\u001b[0mwrite\u001b[0m\u001b[0;34m(\u001b[0m\u001b[0mPROTO\u001b[0m \u001b[0;34m+\u001b[0m \u001b[0mchr\u001b[0m\u001b[0;34m(\u001b[0m\u001b[0mself\u001b[0m\u001b[0;34m.\u001b[0m\u001b[0mproto\u001b[0m\u001b[0;34m)\u001b[0m\u001b[0;34m)\u001b[0m\u001b[0;34m\u001b[0m\u001b[0m\n\u001b[0;32m--> 224\u001b[0;31m         \u001b[0mself\u001b[0m\u001b[0;34m.\u001b[0m\u001b[0msave\u001b[0m\u001b[0;34m(\u001b[0m\u001b[0mobj\u001b[0m\u001b[0;34m)\u001b[0m\u001b[0;34m\u001b[0m\u001b[0m\n\u001b[0m\u001b[1;32m    225\u001b[0m         \u001b[0mself\u001b[0m\u001b[0;34m.\u001b[0m\u001b[0mwrite\u001b[0m\u001b[0;34m(\u001b[0m\u001b[0mSTOP\u001b[0m\u001b[0;34m)\u001b[0m\u001b[0;34m\u001b[0m\u001b[0m\n\u001b[1;32m    226\u001b[0m \u001b[0;34m\u001b[0m\u001b[0m\n",
      "\u001b[0;32m/home/alvin/anaconda2/lib/python2.7/pickle.pyc\u001b[0m in \u001b[0;36msave\u001b[0;34m(self, obj)\u001b[0m\n\u001b[1;32m    329\u001b[0m \u001b[0;34m\u001b[0m\u001b[0m\n\u001b[1;32m    330\u001b[0m         \u001b[0;31m# Save the reduce() output and finally memoize the object\u001b[0m\u001b[0;34m\u001b[0m\u001b[0;34m\u001b[0m\u001b[0m\n\u001b[0;32m--> 331\u001b[0;31m         \u001b[0mself\u001b[0m\u001b[0;34m.\u001b[0m\u001b[0msave_reduce\u001b[0m\u001b[0;34m(\u001b[0m\u001b[0mobj\u001b[0m\u001b[0;34m=\u001b[0m\u001b[0mobj\u001b[0m\u001b[0;34m,\u001b[0m \u001b[0;34m*\u001b[0m\u001b[0mrv\u001b[0m\u001b[0;34m)\u001b[0m\u001b[0;34m\u001b[0m\u001b[0m\n\u001b[0m\u001b[1;32m    332\u001b[0m \u001b[0;34m\u001b[0m\u001b[0m\n\u001b[1;32m    333\u001b[0m     \u001b[0;32mdef\u001b[0m \u001b[0mpersistent_id\u001b[0m\u001b[0;34m(\u001b[0m\u001b[0mself\u001b[0m\u001b[0;34m,\u001b[0m \u001b[0mobj\u001b[0m\u001b[0;34m)\u001b[0m\u001b[0;34m:\u001b[0m\u001b[0;34m\u001b[0m\u001b[0m\n",
      "\u001b[0;32m/home/alvin/anaconda2/lib/python2.7/pickle.pyc\u001b[0m in \u001b[0;36msave_reduce\u001b[0;34m(self, func, args, state, listitems, dictitems, obj)\u001b[0m\n\u001b[1;32m    423\u001b[0m \u001b[0;34m\u001b[0m\u001b[0m\n\u001b[1;32m    424\u001b[0m         \u001b[0;32mif\u001b[0m \u001b[0mstate\u001b[0m \u001b[0;32mis\u001b[0m \u001b[0;32mnot\u001b[0m \u001b[0mNone\u001b[0m\u001b[0;34m:\u001b[0m\u001b[0;34m\u001b[0m\u001b[0m\n\u001b[0;32m--> 425\u001b[0;31m             \u001b[0msave\u001b[0m\u001b[0;34m(\u001b[0m\u001b[0mstate\u001b[0m\u001b[0;34m)\u001b[0m\u001b[0;34m\u001b[0m\u001b[0m\n\u001b[0m\u001b[1;32m    426\u001b[0m             \u001b[0mwrite\u001b[0m\u001b[0;34m(\u001b[0m\u001b[0mBUILD\u001b[0m\u001b[0;34m)\u001b[0m\u001b[0;34m\u001b[0m\u001b[0m\n\u001b[1;32m    427\u001b[0m \u001b[0;34m\u001b[0m\u001b[0m\n",
      "\u001b[0;32m/home/alvin/anaconda2/lib/python2.7/pickle.pyc\u001b[0m in \u001b[0;36msave\u001b[0;34m(self, obj)\u001b[0m\n\u001b[1;32m    284\u001b[0m         \u001b[0mf\u001b[0m \u001b[0;34m=\u001b[0m \u001b[0mself\u001b[0m\u001b[0;34m.\u001b[0m\u001b[0mdispatch\u001b[0m\u001b[0;34m.\u001b[0m\u001b[0mget\u001b[0m\u001b[0;34m(\u001b[0m\u001b[0mt\u001b[0m\u001b[0;34m)\u001b[0m\u001b[0;34m\u001b[0m\u001b[0m\n\u001b[1;32m    285\u001b[0m         \u001b[0;32mif\u001b[0m \u001b[0mf\u001b[0m\u001b[0;34m:\u001b[0m\u001b[0;34m\u001b[0m\u001b[0m\n\u001b[0;32m--> 286\u001b[0;31m             \u001b[0mf\u001b[0m\u001b[0;34m(\u001b[0m\u001b[0mself\u001b[0m\u001b[0;34m,\u001b[0m \u001b[0mobj\u001b[0m\u001b[0;34m)\u001b[0m \u001b[0;31m# Call unbound method with explicit self\u001b[0m\u001b[0;34m\u001b[0m\u001b[0m\n\u001b[0m\u001b[1;32m    287\u001b[0m             \u001b[0;32mreturn\u001b[0m\u001b[0;34m\u001b[0m\u001b[0m\n\u001b[1;32m    288\u001b[0m \u001b[0;34m\u001b[0m\u001b[0m\n",
      "\u001b[0;32m/home/alvin/anaconda2/lib/python2.7/pickle.pyc\u001b[0m in \u001b[0;36msave_dict\u001b[0;34m(self, obj)\u001b[0m\n\u001b[1;32m    653\u001b[0m \u001b[0;34m\u001b[0m\u001b[0m\n\u001b[1;32m    654\u001b[0m         \u001b[0mself\u001b[0m\u001b[0;34m.\u001b[0m\u001b[0mmemoize\u001b[0m\u001b[0;34m(\u001b[0m\u001b[0mobj\u001b[0m\u001b[0;34m)\u001b[0m\u001b[0;34m\u001b[0m\u001b[0m\n\u001b[0;32m--> 655\u001b[0;31m         \u001b[0mself\u001b[0m\u001b[0;34m.\u001b[0m\u001b[0m_batch_setitems\u001b[0m\u001b[0;34m(\u001b[0m\u001b[0mobj\u001b[0m\u001b[0;34m.\u001b[0m\u001b[0miteritems\u001b[0m\u001b[0;34m(\u001b[0m\u001b[0;34m)\u001b[0m\u001b[0;34m)\u001b[0m\u001b[0;34m\u001b[0m\u001b[0m\n\u001b[0m\u001b[1;32m    656\u001b[0m \u001b[0;34m\u001b[0m\u001b[0m\n\u001b[1;32m    657\u001b[0m     \u001b[0mdispatch\u001b[0m\u001b[0;34m[\u001b[0m\u001b[0mDictionaryType\u001b[0m\u001b[0;34m]\u001b[0m \u001b[0;34m=\u001b[0m \u001b[0msave_dict\u001b[0m\u001b[0;34m\u001b[0m\u001b[0m\n",
      "\u001b[0;32m/home/alvin/anaconda2/lib/python2.7/pickle.pyc\u001b[0m in \u001b[0;36m_batch_setitems\u001b[0;34m(self, items)\u001b[0m\n\u001b[1;32m    667\u001b[0m             \u001b[0;32mfor\u001b[0m \u001b[0mk\u001b[0m\u001b[0;34m,\u001b[0m \u001b[0mv\u001b[0m \u001b[0;32min\u001b[0m \u001b[0mitems\u001b[0m\u001b[0;34m:\u001b[0m\u001b[0;34m\u001b[0m\u001b[0m\n\u001b[1;32m    668\u001b[0m                 \u001b[0msave\u001b[0m\u001b[0;34m(\u001b[0m\u001b[0mk\u001b[0m\u001b[0;34m)\u001b[0m\u001b[0;34m\u001b[0m\u001b[0m\n\u001b[0;32m--> 669\u001b[0;31m                 \u001b[0msave\u001b[0m\u001b[0;34m(\u001b[0m\u001b[0mv\u001b[0m\u001b[0;34m)\u001b[0m\u001b[0;34m\u001b[0m\u001b[0m\n\u001b[0m\u001b[1;32m    670\u001b[0m                 \u001b[0mwrite\u001b[0m\u001b[0;34m(\u001b[0m\u001b[0mSETITEM\u001b[0m\u001b[0;34m)\u001b[0m\u001b[0;34m\u001b[0m\u001b[0m\n\u001b[1;32m    671\u001b[0m             \u001b[0;32mreturn\u001b[0m\u001b[0;34m\u001b[0m\u001b[0m\n",
      "\u001b[0;32m/home/alvin/anaconda2/lib/python2.7/pickle.pyc\u001b[0m in \u001b[0;36msave\u001b[0;34m(self, obj)\u001b[0m\n\u001b[1;32m    284\u001b[0m         \u001b[0mf\u001b[0m \u001b[0;34m=\u001b[0m \u001b[0mself\u001b[0m\u001b[0;34m.\u001b[0m\u001b[0mdispatch\u001b[0m\u001b[0;34m.\u001b[0m\u001b[0mget\u001b[0m\u001b[0;34m(\u001b[0m\u001b[0mt\u001b[0m\u001b[0;34m)\u001b[0m\u001b[0;34m\u001b[0m\u001b[0m\n\u001b[1;32m    285\u001b[0m         \u001b[0;32mif\u001b[0m \u001b[0mf\u001b[0m\u001b[0;34m:\u001b[0m\u001b[0;34m\u001b[0m\u001b[0m\n\u001b[0;32m--> 286\u001b[0;31m             \u001b[0mf\u001b[0m\u001b[0;34m(\u001b[0m\u001b[0mself\u001b[0m\u001b[0;34m,\u001b[0m \u001b[0mobj\u001b[0m\u001b[0;34m)\u001b[0m \u001b[0;31m# Call unbound method with explicit self\u001b[0m\u001b[0;34m\u001b[0m\u001b[0m\n\u001b[0m\u001b[1;32m    287\u001b[0m             \u001b[0;32mreturn\u001b[0m\u001b[0;34m\u001b[0m\u001b[0m\n\u001b[1;32m    288\u001b[0m \u001b[0;34m\u001b[0m\u001b[0m\n",
      "\u001b[0;32m/home/alvin/anaconda2/lib/python2.7/pickle.pyc\u001b[0m in \u001b[0;36msave_dict\u001b[0;34m(self, obj)\u001b[0m\n\u001b[1;32m    653\u001b[0m \u001b[0;34m\u001b[0m\u001b[0m\n\u001b[1;32m    654\u001b[0m         \u001b[0mself\u001b[0m\u001b[0;34m.\u001b[0m\u001b[0mmemoize\u001b[0m\u001b[0;34m(\u001b[0m\u001b[0mobj\u001b[0m\u001b[0;34m)\u001b[0m\u001b[0;34m\u001b[0m\u001b[0m\n\u001b[0;32m--> 655\u001b[0;31m         \u001b[0mself\u001b[0m\u001b[0;34m.\u001b[0m\u001b[0m_batch_setitems\u001b[0m\u001b[0;34m(\u001b[0m\u001b[0mobj\u001b[0m\u001b[0;34m.\u001b[0m\u001b[0miteritems\u001b[0m\u001b[0;34m(\u001b[0m\u001b[0;34m)\u001b[0m\u001b[0;34m)\u001b[0m\u001b[0;34m\u001b[0m\u001b[0m\n\u001b[0m\u001b[1;32m    656\u001b[0m \u001b[0;34m\u001b[0m\u001b[0m\n\u001b[1;32m    657\u001b[0m     \u001b[0mdispatch\u001b[0m\u001b[0;34m[\u001b[0m\u001b[0mDictionaryType\u001b[0m\u001b[0;34m]\u001b[0m \u001b[0;34m=\u001b[0m \u001b[0msave_dict\u001b[0m\u001b[0;34m\u001b[0m\u001b[0m\n",
      "\u001b[0;32m/home/alvin/anaconda2/lib/python2.7/pickle.pyc\u001b[0m in \u001b[0;36m_batch_setitems\u001b[0;34m(self, items)\u001b[0m\n\u001b[1;32m    667\u001b[0m             \u001b[0;32mfor\u001b[0m \u001b[0mk\u001b[0m\u001b[0;34m,\u001b[0m \u001b[0mv\u001b[0m \u001b[0;32min\u001b[0m \u001b[0mitems\u001b[0m\u001b[0;34m:\u001b[0m\u001b[0;34m\u001b[0m\u001b[0m\n\u001b[1;32m    668\u001b[0m                 \u001b[0msave\u001b[0m\u001b[0;34m(\u001b[0m\u001b[0mk\u001b[0m\u001b[0;34m)\u001b[0m\u001b[0;34m\u001b[0m\u001b[0m\n\u001b[0;32m--> 669\u001b[0;31m                 \u001b[0msave\u001b[0m\u001b[0;34m(\u001b[0m\u001b[0mv\u001b[0m\u001b[0;34m)\u001b[0m\u001b[0;34m\u001b[0m\u001b[0m\n\u001b[0m\u001b[1;32m    670\u001b[0m                 \u001b[0mwrite\u001b[0m\u001b[0;34m(\u001b[0m\u001b[0mSETITEM\u001b[0m\u001b[0;34m)\u001b[0m\u001b[0;34m\u001b[0m\u001b[0m\n\u001b[1;32m    671\u001b[0m             \u001b[0;32mreturn\u001b[0m\u001b[0;34m\u001b[0m\u001b[0m\n",
      "\u001b[0;32m/home/alvin/anaconda2/lib/python2.7/pickle.pyc\u001b[0m in \u001b[0;36msave\u001b[0;34m(self, obj)\u001b[0m\n\u001b[1;32m    284\u001b[0m         \u001b[0mf\u001b[0m \u001b[0;34m=\u001b[0m \u001b[0mself\u001b[0m\u001b[0;34m.\u001b[0m\u001b[0mdispatch\u001b[0m\u001b[0;34m.\u001b[0m\u001b[0mget\u001b[0m\u001b[0;34m(\u001b[0m\u001b[0mt\u001b[0m\u001b[0;34m)\u001b[0m\u001b[0;34m\u001b[0m\u001b[0m\n\u001b[1;32m    285\u001b[0m         \u001b[0;32mif\u001b[0m \u001b[0mf\u001b[0m\u001b[0;34m:\u001b[0m\u001b[0;34m\u001b[0m\u001b[0m\n\u001b[0;32m--> 286\u001b[0;31m             \u001b[0mf\u001b[0m\u001b[0;34m(\u001b[0m\u001b[0mself\u001b[0m\u001b[0;34m,\u001b[0m \u001b[0mobj\u001b[0m\u001b[0;34m)\u001b[0m \u001b[0;31m# Call unbound method with explicit self\u001b[0m\u001b[0;34m\u001b[0m\u001b[0m\n\u001b[0m\u001b[1;32m    287\u001b[0m             \u001b[0;32mreturn\u001b[0m\u001b[0;34m\u001b[0m\u001b[0m\n\u001b[1;32m    288\u001b[0m \u001b[0;34m\u001b[0m\u001b[0m\n",
      "\u001b[0;32m/home/alvin/anaconda2/lib/python2.7/pickle.pyc\u001b[0m in \u001b[0;36msave_dict\u001b[0;34m(self, obj)\u001b[0m\n\u001b[1;32m    653\u001b[0m \u001b[0;34m\u001b[0m\u001b[0m\n\u001b[1;32m    654\u001b[0m         \u001b[0mself\u001b[0m\u001b[0;34m.\u001b[0m\u001b[0mmemoize\u001b[0m\u001b[0;34m(\u001b[0m\u001b[0mobj\u001b[0m\u001b[0;34m)\u001b[0m\u001b[0;34m\u001b[0m\u001b[0m\n\u001b[0;32m--> 655\u001b[0;31m         \u001b[0mself\u001b[0m\u001b[0;34m.\u001b[0m\u001b[0m_batch_setitems\u001b[0m\u001b[0;34m(\u001b[0m\u001b[0mobj\u001b[0m\u001b[0;34m.\u001b[0m\u001b[0miteritems\u001b[0m\u001b[0;34m(\u001b[0m\u001b[0;34m)\u001b[0m\u001b[0;34m)\u001b[0m\u001b[0;34m\u001b[0m\u001b[0m\n\u001b[0m\u001b[1;32m    656\u001b[0m \u001b[0;34m\u001b[0m\u001b[0m\n\u001b[1;32m    657\u001b[0m     \u001b[0mdispatch\u001b[0m\u001b[0;34m[\u001b[0m\u001b[0mDictionaryType\u001b[0m\u001b[0;34m]\u001b[0m \u001b[0;34m=\u001b[0m \u001b[0msave_dict\u001b[0m\u001b[0;34m\u001b[0m\u001b[0m\n",
      "\u001b[0;32m/home/alvin/anaconda2/lib/python2.7/pickle.pyc\u001b[0m in \u001b[0;36m_batch_setitems\u001b[0;34m(self, items)\u001b[0m\n\u001b[1;32m    667\u001b[0m             \u001b[0;32mfor\u001b[0m \u001b[0mk\u001b[0m\u001b[0;34m,\u001b[0m \u001b[0mv\u001b[0m \u001b[0;32min\u001b[0m \u001b[0mitems\u001b[0m\u001b[0;34m:\u001b[0m\u001b[0;34m\u001b[0m\u001b[0m\n\u001b[1;32m    668\u001b[0m                 \u001b[0msave\u001b[0m\u001b[0;34m(\u001b[0m\u001b[0mk\u001b[0m\u001b[0;34m)\u001b[0m\u001b[0;34m\u001b[0m\u001b[0m\n\u001b[0;32m--> 669\u001b[0;31m                 \u001b[0msave\u001b[0m\u001b[0;34m(\u001b[0m\u001b[0mv\u001b[0m\u001b[0;34m)\u001b[0m\u001b[0;34m\u001b[0m\u001b[0m\n\u001b[0m\u001b[1;32m    670\u001b[0m                 \u001b[0mwrite\u001b[0m\u001b[0;34m(\u001b[0m\u001b[0mSETITEM\u001b[0m\u001b[0;34m)\u001b[0m\u001b[0;34m\u001b[0m\u001b[0m\n\u001b[1;32m    671\u001b[0m             \u001b[0;32mreturn\u001b[0m\u001b[0;34m\u001b[0m\u001b[0m\n",
      "\u001b[0;32m/home/alvin/anaconda2/lib/python2.7/pickle.pyc\u001b[0m in \u001b[0;36msave\u001b[0;34m(self, obj)\u001b[0m\n\u001b[1;32m    329\u001b[0m \u001b[0;34m\u001b[0m\u001b[0m\n\u001b[1;32m    330\u001b[0m         \u001b[0;31m# Save the reduce() output and finally memoize the object\u001b[0m\u001b[0;34m\u001b[0m\u001b[0;34m\u001b[0m\u001b[0m\n\u001b[0;32m--> 331\u001b[0;31m         \u001b[0mself\u001b[0m\u001b[0;34m.\u001b[0m\u001b[0msave_reduce\u001b[0m\u001b[0;34m(\u001b[0m\u001b[0mobj\u001b[0m\u001b[0;34m=\u001b[0m\u001b[0mobj\u001b[0m\u001b[0;34m,\u001b[0m \u001b[0;34m*\u001b[0m\u001b[0mrv\u001b[0m\u001b[0;34m)\u001b[0m\u001b[0;34m\u001b[0m\u001b[0m\n\u001b[0m\u001b[1;32m    332\u001b[0m \u001b[0;34m\u001b[0m\u001b[0m\n\u001b[1;32m    333\u001b[0m     \u001b[0;32mdef\u001b[0m \u001b[0mpersistent_id\u001b[0m\u001b[0;34m(\u001b[0m\u001b[0mself\u001b[0m\u001b[0;34m,\u001b[0m \u001b[0mobj\u001b[0m\u001b[0;34m)\u001b[0m\u001b[0;34m:\u001b[0m\u001b[0;34m\u001b[0m\u001b[0m\n",
      "\u001b[0;32m/home/alvin/anaconda2/lib/python2.7/pickle.pyc\u001b[0m in \u001b[0;36msave_reduce\u001b[0;34m(self, func, args, state, listitems, dictitems, obj)\u001b[0m\n\u001b[1;32m    423\u001b[0m \u001b[0;34m\u001b[0m\u001b[0m\n\u001b[1;32m    424\u001b[0m         \u001b[0;32mif\u001b[0m \u001b[0mstate\u001b[0m \u001b[0;32mis\u001b[0m \u001b[0;32mnot\u001b[0m \u001b[0mNone\u001b[0m\u001b[0;34m:\u001b[0m\u001b[0;34m\u001b[0m\u001b[0m\n\u001b[0;32m--> 425\u001b[0;31m             \u001b[0msave\u001b[0m\u001b[0;34m(\u001b[0m\u001b[0mstate\u001b[0m\u001b[0;34m)\u001b[0m\u001b[0;34m\u001b[0m\u001b[0m\n\u001b[0m\u001b[1;32m    426\u001b[0m             \u001b[0mwrite\u001b[0m\u001b[0;34m(\u001b[0m\u001b[0mBUILD\u001b[0m\u001b[0;34m)\u001b[0m\u001b[0;34m\u001b[0m\u001b[0m\n\u001b[1;32m    427\u001b[0m \u001b[0;34m\u001b[0m\u001b[0m\n",
      "\u001b[0;32m/home/alvin/anaconda2/lib/python2.7/pickle.pyc\u001b[0m in \u001b[0;36msave\u001b[0;34m(self, obj)\u001b[0m\n\u001b[1;32m    284\u001b[0m         \u001b[0mf\u001b[0m \u001b[0;34m=\u001b[0m \u001b[0mself\u001b[0m\u001b[0;34m.\u001b[0m\u001b[0mdispatch\u001b[0m\u001b[0;34m.\u001b[0m\u001b[0mget\u001b[0m\u001b[0;34m(\u001b[0m\u001b[0mt\u001b[0m\u001b[0;34m)\u001b[0m\u001b[0;34m\u001b[0m\u001b[0m\n\u001b[1;32m    285\u001b[0m         \u001b[0;32mif\u001b[0m \u001b[0mf\u001b[0m\u001b[0;34m:\u001b[0m\u001b[0;34m\u001b[0m\u001b[0m\n\u001b[0;32m--> 286\u001b[0;31m             \u001b[0mf\u001b[0m\u001b[0;34m(\u001b[0m\u001b[0mself\u001b[0m\u001b[0;34m,\u001b[0m \u001b[0mobj\u001b[0m\u001b[0;34m)\u001b[0m \u001b[0;31m# Call unbound method with explicit self\u001b[0m\u001b[0;34m\u001b[0m\u001b[0m\n\u001b[0m\u001b[1;32m    287\u001b[0m             \u001b[0;32mreturn\u001b[0m\u001b[0;34m\u001b[0m\u001b[0m\n\u001b[1;32m    288\u001b[0m \u001b[0;34m\u001b[0m\u001b[0m\n",
      "\u001b[0;32m/home/alvin/anaconda2/lib/python2.7/pickle.pyc\u001b[0m in \u001b[0;36msave_tuple\u001b[0;34m(self, obj)\u001b[0m\n\u001b[1;32m    566\u001b[0m         \u001b[0mwrite\u001b[0m\u001b[0;34m(\u001b[0m\u001b[0mMARK\u001b[0m\u001b[0;34m)\u001b[0m\u001b[0;34m\u001b[0m\u001b[0m\n\u001b[1;32m    567\u001b[0m         \u001b[0;32mfor\u001b[0m \u001b[0melement\u001b[0m \u001b[0;32min\u001b[0m \u001b[0mobj\u001b[0m\u001b[0;34m:\u001b[0m\u001b[0;34m\u001b[0m\u001b[0m\n\u001b[0;32m--> 568\u001b[0;31m             \u001b[0msave\u001b[0m\u001b[0;34m(\u001b[0m\u001b[0melement\u001b[0m\u001b[0;34m)\u001b[0m\u001b[0;34m\u001b[0m\u001b[0m\n\u001b[0m\u001b[1;32m    569\u001b[0m \u001b[0;34m\u001b[0m\u001b[0m\n\u001b[1;32m    570\u001b[0m         \u001b[0;32mif\u001b[0m \u001b[0mid\u001b[0m\u001b[0;34m(\u001b[0m\u001b[0mobj\u001b[0m\u001b[0;34m)\u001b[0m \u001b[0;32min\u001b[0m \u001b[0mmemo\u001b[0m\u001b[0;34m:\u001b[0m\u001b[0;34m\u001b[0m\u001b[0m\n",
      "\u001b[0;32m/home/alvin/anaconda2/lib/python2.7/pickle.pyc\u001b[0m in \u001b[0;36msave\u001b[0;34m(self, obj)\u001b[0m\n\u001b[1;32m    284\u001b[0m         \u001b[0mf\u001b[0m \u001b[0;34m=\u001b[0m \u001b[0mself\u001b[0m\u001b[0;34m.\u001b[0m\u001b[0mdispatch\u001b[0m\u001b[0;34m.\u001b[0m\u001b[0mget\u001b[0m\u001b[0;34m(\u001b[0m\u001b[0mt\u001b[0m\u001b[0;34m)\u001b[0m\u001b[0;34m\u001b[0m\u001b[0m\n\u001b[1;32m    285\u001b[0m         \u001b[0;32mif\u001b[0m \u001b[0mf\u001b[0m\u001b[0;34m:\u001b[0m\u001b[0;34m\u001b[0m\u001b[0m\n\u001b[0;32m--> 286\u001b[0;31m             \u001b[0mf\u001b[0m\u001b[0;34m(\u001b[0m\u001b[0mself\u001b[0m\u001b[0;34m,\u001b[0m \u001b[0mobj\u001b[0m\u001b[0;34m)\u001b[0m \u001b[0;31m# Call unbound method with explicit self\u001b[0m\u001b[0;34m\u001b[0m\u001b[0m\n\u001b[0m\u001b[1;32m    287\u001b[0m             \u001b[0;32mreturn\u001b[0m\u001b[0;34m\u001b[0m\u001b[0m\n\u001b[1;32m    288\u001b[0m \u001b[0;34m\u001b[0m\u001b[0m\n",
      "\u001b[0;32m/home/alvin/anaconda2/lib/python2.7/pickle.pyc\u001b[0m in \u001b[0;36msave_string\u001b[0;34m(self, obj, pack)\u001b[0m\n\u001b[1;32m    492\u001b[0m                 \u001b[0mself\u001b[0m\u001b[0;34m.\u001b[0m\u001b[0mwrite\u001b[0m\u001b[0;34m(\u001b[0m\u001b[0mBINSTRING\u001b[0m \u001b[0;34m+\u001b[0m \u001b[0mpack\u001b[0m\u001b[0;34m(\u001b[0m\u001b[0;34m\"<i\"\u001b[0m\u001b[0;34m,\u001b[0m \u001b[0mn\u001b[0m\u001b[0;34m)\u001b[0m \u001b[0;34m+\u001b[0m \u001b[0mobj\u001b[0m\u001b[0;34m)\u001b[0m\u001b[0;34m\u001b[0m\u001b[0m\n\u001b[1;32m    493\u001b[0m         \u001b[0;32melse\u001b[0m\u001b[0;34m:\u001b[0m\u001b[0;34m\u001b[0m\u001b[0m\n\u001b[0;32m--> 494\u001b[0;31m             \u001b[0mself\u001b[0m\u001b[0;34m.\u001b[0m\u001b[0mwrite\u001b[0m\u001b[0;34m(\u001b[0m\u001b[0mSTRING\u001b[0m \u001b[0;34m+\u001b[0m \u001b[0mrepr\u001b[0m\u001b[0;34m(\u001b[0m\u001b[0mobj\u001b[0m\u001b[0;34m)\u001b[0m \u001b[0;34m+\u001b[0m \u001b[0;34m'\\n'\u001b[0m\u001b[0;34m)\u001b[0m\u001b[0;34m\u001b[0m\u001b[0m\n\u001b[0m\u001b[1;32m    495\u001b[0m         \u001b[0mself\u001b[0m\u001b[0;34m.\u001b[0m\u001b[0mmemoize\u001b[0m\u001b[0;34m(\u001b[0m\u001b[0mobj\u001b[0m\u001b[0;34m)\u001b[0m\u001b[0;34m\u001b[0m\u001b[0m\n\u001b[1;32m    496\u001b[0m     \u001b[0mdispatch\u001b[0m\u001b[0;34m[\u001b[0m\u001b[0mStringType\u001b[0m\u001b[0;34m]\u001b[0m \u001b[0;34m=\u001b[0m \u001b[0msave_string\u001b[0m\u001b[0;34m\u001b[0m\u001b[0m\n",
      "\u001b[0;31mKeyboardInterrupt\u001b[0m: "
     ]
    }
   ],
   "source": [
    "pickle.dump(CrossValProcObj, open( \"CrossValObj.pickle\", \"wb\" ) )"
   ]
  },
  {
   "cell_type": "code",
   "execution_count": 292,
   "metadata": {
    "collapsed": false
   },
   "outputs": [
    {
     "name": "stdout",
     "output_type": "stream",
     "text": [
      "5\n"
     ]
    }
   ],
   "source": [
    "d = 5\n",
    "def printd():\n",
    "    print d\n",
    "printd()"
   ]
  },
  {
   "cell_type": "code",
   "execution_count": 7,
   "metadata": {
    "collapsed": false
   },
   "outputs": [
    {
     "data": {
      "text/plain": [
       "<module 'double_layer_conv_model_1_23_2017' from 'double_layer_conv_model_1_23_2017.pyc'>"
      ]
     },
     "execution_count": 7,
     "metadata": {},
     "output_type": "execute_result"
    }
   ],
   "source": [
    "import double_layer_conv_model_1_23_2017\n",
    "reload(double_layer_conv_model_1_23_2017)"
   ]
  },
  {
   "cell_type": "code",
   "execution_count": 8,
   "metadata": {
    "collapsed": true
   },
   "outputs": [],
   "source": [
    "HepG2ConvLayer = double_layer_conv_model_1_23_2017.ConvLayer(HepG2_motif_tensor)"
   ]
  },
  {
   "cell_type": "code",
   "execution_count": 48,
   "metadata": {
    "collapsed": false
   },
   "outputs": [
    {
     "data": {
      "text/plain": [
       "dtype('float64')"
      ]
     },
     "execution_count": 48,
     "metadata": {},
     "output_type": "execute_result"
    }
   ],
   "source": [
    "CrossValProcObj.HepG2_binObj.merged_tensor.dtype"
   ]
  },
  {
   "cell_type": "code",
   "execution_count": 12,
   "metadata": {
    "collapsed": false
   },
   "outputs": [],
   "source": [
    "HepG2DataObj = double_layer_conv_model_1_23_2017.DataConvolver(X=CrossValProcObj.HepG2_binObj.merged_tensor, X_RC=CrossValProcObj.HepG2_binObj.merged_RC_tensor, \n",
    "                                                        Y=CrossValProcObj.HepG2_binObj.merged_tar, \n",
    "                                                    motif_shape=HepG2_motif_tensor.shape, should_conv=False, features_df= CrossValProcObj.HepG2_binObj.feature_df)\n"
   ]
  },
  {
   "cell_type": "code",
   "execution_count": 13,
   "metadata": {
    "collapsed": true
   },
   "outputs": [],
   "source": [
    "LCLDataObj = double_layer_conv_model_1_23_2017.DataConvolver(X=CrossValProcObj.LCL_binObj.merged_tensor, X_RC=CrossValProcObj.LCL_binObj.merged_RC_tensor, \n",
    "                                                        Y=CrossValProcObj.LCL_binObj.merged_tar, \n",
    "                                                    motif_shape=LCL_motif_tensor.shape, should_conv=False, features_df= CrossValProcObj.LCL_binObj.feature_df)\n"
   ]
  },
  {
   "cell_type": "code",
   "execution_count": 14,
   "metadata": {
    "collapsed": false
   },
   "outputs": [],
   "source": [
    "def scaler(X):\n",
    "    std = StandardScaler()\n",
    "    std.fit(X)\n",
    "    return std.transform(X)"
   ]
  },
  {
   "cell_type": "code",
   "execution_count": null,
   "metadata": {
    "collapsed": true
   },
   "outputs": [],
   "source": [
    "def get_weights\n",
    "pos_weight = float(len())"
   ]
  },
  {
   "cell_type": "code",
   "execution_count": 279,
   "metadata": {
    "collapsed": false
   },
   "outputs": [
    {
     "data": {
      "text/plain": [
       "phastCon46wayPlacental    1.0\n",
       "ARID3A                    1.0\n",
       "ATF1                      1.0\n",
       "ATF2                      1.0\n",
       "ATF3                      1.0\n",
       "BACH1                     1.0\n",
       "BATF                      1.0\n",
       "BCL11A                    1.0\n",
       "BCL3                      1.0\n",
       "BCLAF1                    1.0\n",
       "BDP1                      1.0\n",
       "BHLHE40                   1.0\n",
       "BRCA1                     1.0\n",
       "BRF1                      1.0\n",
       "BRF2                      1.0\n",
       "CBX3                      1.0\n",
       "CCNT2                     1.0\n",
       "CEBPB                     1.0\n",
       "CEBPD                     1.0\n",
       "CHD1                      1.0\n",
       "CHD2                      1.0\n",
       "CREB1                     1.0\n",
       "CTBP2                     1.0\n",
       "CTCF                      1.0\n",
       "CTCFL                     1.0\n",
       "E2F1                      1.0\n",
       "E2F4                      1.0\n",
       "E2F6                      1.0\n",
       "EBF1                      1.0\n",
       "EGR1                      1.0\n",
       "                         ... \n",
       "ERVL-MaLR                 1.0\n",
       "Gypsy                     1.0\n",
       "Helitron                  1.0\n",
       "L1                        1.0\n",
       "L2                        1.0\n",
       "LTR                       1.0\n",
       "Low_complexity            1.0\n",
       "MIR                       1.0\n",
       "MuDR                      1.0\n",
       "Other                     1.0\n",
       "RNA                       1.0\n",
       "RTE                       1.0\n",
       "RTE-BovB                  1.0\n",
       "SINE                      1.0\n",
       "Satellite                 1.0\n",
       "Simple_repeat             1.0\n",
       "TcMar                     1.0\n",
       "TcMar-Mariner             1.0\n",
       "TcMar-Tc2                 1.0\n",
       "TcMar-Tigger              1.0\n",
       "hAT                       1.0\n",
       "hAT-Blackjack             1.0\n",
       "hAT-Charlie               1.0\n",
       "hAT-Tip100                1.0\n",
       "rRNA                      1.0\n",
       "scRNA                     1.0\n",
       "snRNA                     1.0\n",
       "srpRNA                    1.0\n",
       "tRNA                      1.0\n",
       "telo                      1.0\n",
       "dtype: float64"
      ]
     },
     "execution_count": 279,
     "metadata": {},
     "output_type": "execute_result"
    }
   ],
   "source": [
    "CrossValProcObj.HepG2_binObj.feature_df.max()"
   ]
  },
  {
   "cell_type": "code",
   "execution_count": 255,
   "metadata": {
    "collapsed": false
   },
   "outputs": [
    {
     "data": {
      "text/plain": [
       "<module 'double_layer_conv_model_1_23_2017' from 'double_layer_conv_model_1_23_2017.pyc'>"
      ]
     },
     "execution_count": 255,
     "metadata": {},
     "output_type": "execute_result"
    }
   ],
   "source": [
    "import double_layer_conv_model_1_23_2017\n",
    "reload(double_layer_conv_model_1_23_2017)"
   ]
  },
  {
   "cell_type": "code",
   "execution_count": 256,
   "metadata": {
    "collapsed": false
   },
   "outputs": [],
   "source": [
    "DoubleKerasModelObj = double_layer_conv_model_1_23_2017.DoubleKerasModel(HepG2DataObj, HepG2_motif_tensor)"
   ]
  },
  {
   "cell_type": "code",
   "execution_count": 257,
   "metadata": {
    "collapsed": false
   },
   "outputs": [
    {
     "name": "stdout",
     "output_type": "stream",
     "text": [
      "{'trainable': True, 'name': 'shared_motif_layer', 'input_shape': (1, 4, 150)}\n",
      "Elemwise{mul,no_inplace}.0\n",
      "Elemwise{mul,no_inplace}.0\n"
     ]
    }
   ],
   "source": [
    "DoubleKerasModelObj.build_model(pool_width=5, extra_conv=False)"
   ]
  },
  {
   "cell_type": "code",
   "execution_count": 258,
   "metadata": {
    "collapsed": false
   },
   "outputs": [],
   "source": [
    "pos_weight, neg_weight = double_layer_conv_model_1_23_2017.get_weights(HepG2DataObj.Y)"
   ]
  },
  {
   "cell_type": "code",
   "execution_count": 259,
   "metadata": {
    "collapsed": false
   },
   "outputs": [
    {
     "name": "stdout",
     "output_type": "stream",
     "text": [
      "1.16138576064\n"
     ]
    }
   ],
   "source": [
    "print neg_weight"
   ]
  },
  {
   "cell_type": "code",
   "execution_count": 260,
   "metadata": {
    "collapsed": false
   },
   "outputs": [],
   "source": [
    "DoubleKerasModelObj.train(HepG2DataObj.X, HepG2DataObj.X_RC, scaler(HepG2DataObj.features_mat), HepG2DataObj.Y,\n",
    "                    neg_weight,pos_weight,verbose=False)"
   ]
  },
  {
   "cell_type": "code",
   "execution_count": 261,
   "metadata": {
    "collapsed": false
   },
   "outputs": [],
   "source": [
    "LCL_pred = DoubleKerasModelObj.predict(LCLDataObj.X, LCLDataObj.X_RC, scaler(LCLDataObj.features_mat), batch_size=100)"
   ]
  },
  {
   "cell_type": "code",
   "execution_count": 262,
   "metadata": {
    "collapsed": false
   },
   "outputs": [
    {
     "name": "stdout",
     "output_type": "stream",
     "text": [
      "0.4908\t60.7761\t0.7085\t0.3638\t0.7520\t0.0007\t3.1408\t9.7112\t12.9603\t2770.0000\t18100.0000\n"
     ]
    }
   ],
   "source": [
    "PredLCL = common_utils.ClassificationResult(LCLDataObj.Y, LCL_pred.flatten())\n",
    "print(PredLCL)"
   ]
  },
  {
   "cell_type": "code",
   "execution_count": 280,
   "metadata": {
    "collapsed": false
   },
   "outputs": [
    {
     "data": {
      "text/plain": [
       "(2152,)"
      ]
     },
     "execution_count": 280,
     "metadata": {},
     "output_type": "execute_result"
    }
   ],
   "source": [
    "DoubleKerasModelObj.model.layers[2].get_weights()[0].shape"
   ]
  },
  {
   "cell_type": "code",
   "execution_count": 270,
   "metadata": {
    "collapsed": false
   },
   "outputs": [
    {
     "data": {
      "text/plain": [
       "[<keras.engine.topology.InputLayer at 0x7f4dba57d2d0>,\n",
       " <keras.engine.topology.InputLayer at 0x7f4dc41ec290>,\n",
       " <double_layer_conv_model_1_23_2017.MotifLayer at 0x7f4dc41ec510>,\n",
       " <keras.layers.pooling.MaxPooling2D at 0x7f4e363c5590>,\n",
       " <keras.layers.pooling.MaxPooling2D at 0x7f4e363c55d0>,\n",
       " <keras.engine.topology.Merge at 0x7f4e363c58d0>,\n",
       " <keras.layers.core.Flatten at 0x7f4e363c5ad0>,\n",
       " <keras.engine.topology.InputLayer at 0x7f4e363c5e90>,\n",
       " <keras.engine.topology.Merge at 0x7f4e364ea2d0>,\n",
       " <keras.layers.core.Dense at 0x7f4e36405c90>]"
      ]
     },
     "execution_count": 270,
     "metadata": {},
     "output_type": "execute_result"
    }
   ],
   "source": [
    "DoubleKerasModelObj.model.layers"
   ]
  },
  {
   "cell_type": "code",
   "execution_count": 274,
   "metadata": {
    "collapsed": false
   },
   "outputs": [
    {
     "data": {
      "text/plain": [
       "(array([ 109.,  117.,  109.,  113.,   92.,  102.,   82.,  100.,   97.,\n",
       "         202.,   99.,  111.,  112.,   93.,  104.,  103.,   88.,  120.,\n",
       "          96.,  103.]),\n",
       " array([-0.22562294, -0.2015976 , -0.17757227, -0.15354693, -0.1295216 ,\n",
       "        -0.10549626, -0.08147093, -0.05744559, -0.03342026, -0.00939492,\n",
       "         0.01463041,  0.03865575,  0.06268108,  0.08670642,  0.11073176,\n",
       "         0.13475709,  0.15878243,  0.18280776,  0.2068331 ,  0.23085843,\n",
       "         0.25488377]),\n",
       " <a list of 20 Patch objects>)"
      ]
     },
     "execution_count": 274,
     "metadata": {},
     "output_type": "execute_result"
    },
    {
     "data": {
      "image/png": "[encoded data removed]",
      "text/plain": [
       "<matplotlib.figure.Figure at 0x7f4e36b70f90>"
      ]
     },
     "metadata": {},
     "output_type": "display_data"
    }
   ],
   "source": [
    "plt.hist(DoubleKerasModelObj.model.layers[2].get_weights()[0],bins=20)"
   ]
  },
  {
   "cell_type": "code",
   "execution_count": 290,
   "metadata": {
    "collapsed": false
   },
   "outputs": [
    {
     "data": {
      "text/plain": [
       "0.70851074057083596"
      ]
     },
     "execution_count": 290,
     "metadata": {},
     "output_type": "execute_result"
    }
   ],
   "source": [
    "PredLCL.results[2][1]"
   ]
  },
  {
   "cell_type": "code",
   "execution_count": 552,
   "metadata": {
    "collapsed": false,
    "scrolled": true
   },
   "outputs": [
    {
     "name": "stdout",
     "output_type": "stream",
     "text": [
      "Starting pool size 10\n",
      "Epoch 0 completed in 1485219506.55, last epoch cost: 0.54472\n",
      "Epoch 5 completed in 1485219511.57, last epoch cost: 0.37972\n",
      "Epoch 10 completed in 1485219516.59, last epoch cost: 0.35959\n",
      "Epoch 15 completed in 1485219521.57, last epoch cost: 0.34570\n",
      "Epoch 20 completed in 1485219526.61, last epoch cost: 0.33266\n",
      "Epoch 25 completed in 1485219531.70, last epoch cost: 0.32613\n",
      "0.3708\t57.7208\t0.6520\t0.3383\t0.7161\t0.0007\t1.5523\t6.7509\t12.8159\t2770.0000\t18100.0000\n",
      "Starting pool size 20\n",
      "Epoch 0 completed in 1485219541.04, last epoch cost: 0.54323\n",
      "Epoch 5 completed in 1485219545.75, last epoch cost: 0.37101\n",
      "Epoch 10 completed in 1485219550.52, last epoch cost: 0.34622\n",
      "Epoch 15 completed in 1485219555.31, last epoch cost: 0.33173\n",
      "Epoch 20 completed in 1485219560.01, last epoch cost: 0.32561\n",
      "Epoch 25 completed in 1485219564.67, last epoch cost: 0.31525\n",
      "0.3720\t57.3069\t0.6443\t0.3347\t0.7068\t0.0004\t4.8375\t7.6173\t11.9495\t2770.0000\t18100.0000\n",
      "Starting pool size 30\n",
      "Epoch 0 completed in 1485219573.95, last epoch cost: 0.58624\n",
      "Epoch 5 completed in 1485219578.96, last epoch cost: 0.38419\n",
      "Epoch 10 completed in 1485219583.97, last epoch cost: 0.35772\n",
      "Epoch 15 completed in 1485219588.98, last epoch cost: 0.33853\n",
      "Epoch 20 completed in 1485219594.03, last epoch cost: 0.33067\n",
      "Epoch 25 completed in 1485219599.14, last epoch cost: 0.32217\n",
      "0.3715\t57.4708\t0.6442\t0.3332\t0.7054\t0.0004\t2.5271\t6.3538\t11.5884\t2770.0000\t18100.0000\n",
      "Starting pool size 40\n",
      "Epoch 0 completed in 1485219609.04, last epoch cost: 0.70835\n",
      "Epoch 5 completed in 1485219614.21, last epoch cost: 0.39596\n",
      "Epoch 10 completed in 1485219619.43, last epoch cost: 0.35877\n",
      "Epoch 15 completed in 1485219624.70, last epoch cost: 0.33846\n",
      "Epoch 20 completed in 1485219630.10, last epoch cost: 0.32914\n",
      "Epoch 25 completed in 1485219635.45, last epoch cost: 0.32043\n",
      "0.3673\t57.2606\t0.6462\t0.3282\t0.6883\t0.0004\t0.2888\t8.3394\t12.3105\t2770.0000\t18100.0000\n",
      "Starting pool size 50\n",
      "Epoch 0 completed in 1485219645.26, last epoch cost: 0.66157\n",
      "Epoch 5 completed in 1485219650.13, last epoch cost: 0.39369\n",
      "Epoch 10 completed in 1485219654.96, last epoch cost: 0.35656\n",
      "Epoch 15 completed in 1485219659.85, last epoch cost: 0.33820\n",
      "Epoch 20 completed in 1485219665.14, last epoch cost: 0.33054\n",
      "Epoch 25 completed in 1485219670.07, last epoch cost: 0.31884\n",
      "0.3735\t57.1833\t0.6446\t0.3262\t0.7034\t0.0004\t0.8664\t1.4440\t8.9892\t2770.0000\t18100.0000\n",
      "Starting pool size 60\n",
      "Epoch 0 completed in 1485219679.55, last epoch cost: 0.69628\n",
      "Epoch 5 completed in 1485219684.62, last epoch cost: 0.40344\n",
      "Epoch 10 completed in 1485219689.88, last epoch cost: 0.35630\n",
      "Epoch 15 completed in 1485219695.19, last epoch cost: 0.33942\n",
      "Epoch 20 completed in 1485219700.41, last epoch cost: 0.32963\n",
      "Epoch 25 completed in 1485219705.64, last epoch cost: 0.32089\n",
      "0.3702\t57.4515\t0.6462\t0.3330\t0.7100\t0.0000\t2.3466\t6.8953\t11.6606\t2770.0000\t18100.0000\n",
      "Starting pool size 133\n",
      "Epoch 0 completed in 1485219715.87, last epoch cost: 0.65531\n",
      "Epoch 5 completed in 1485219721.26, last epoch cost: 0.41446\n",
      "Epoch 10 completed in 1485219726.79, last epoch cost: 0.35756\n",
      "Epoch 15 completed in 1485219732.28, last epoch cost: 0.34027\n",
      "Epoch 20 completed in 1485219737.88, last epoch cost: 0.32437\n",
      "Epoch 25 completed in 1485219743.39, last epoch cost: 0.32020\n",
      "0.3720\t57.6277\t0.6327\t0.3302\t0.7001\t0.0004\t2.9964\t5.9206\t11.9134\t2770.0000\t18100.0000\n"
     ]
    }
   ],
   "source": [
    "pool_sizes = (10,20,30,40,50,60,133)\n",
    "for pool_size in pool_sizes:\n",
    "    print(\"Starting pool size %i\"%(pool_size))\n",
    "    DoubleModelObj.model2(L2_W1 = 0.0001, L2_W2 = 0.0001, pool_size = pool_size, gd_algorithm = \"adam\", gd_learning_rate = 0.00001)\n",
    "    DoubleModelObj.compile_test()\n",
    "    DoubleModelObj.fit(DataObj.X, scaler(DataObj.features_mat), DataObj.Y, n_epochs = 30, minibatch_size=150)\n",
    "    predOutput = DoubleModelObj.predict(LCLDataObj_HepG2.X, scaler(LCLDataObj_HepG2.features_mat))\n",
    "    PredLCL = common_utils.ClassificationResult(LCLDataObj_HepG2.Y, predOutput)\n",
    "    print PredLCL"
   ]
  },
  {
   "cell_type": "code",
   "execution_count": 569,
   "metadata": {
    "collapsed": false,
    "scrolled": true
   },
   "outputs": [
    {
     "name": "stdout",
     "output_type": "stream",
     "text": [
      "Starting pool size 10\n"
     ]
    },
    {
     "name": "stderr",
     "output_type": "stream",
     "text": [
      "double_layer_conv_model_1_23_2017.py:487: UserWarning: theano.function was asked to create a function computing outputs given certain inputs, but the provided input variable at index 1 is not part of the computational graph needed to compute the outputs: X_RC.\n",
      "To make this warning into an error, you can pass the parameter on_unused_input='raise' to theano.function. To disable it completely, use on_unused_input='ignore'.\n",
      "  self.train_model = theano.function([self.X, self.X_RC, self.F,self.Y], self.cost, updates = self.updates, on_unused_input='warn')\n",
      "double_layer_conv_model_1_23_2017.py:488: UserWarning: theano.function was asked to create a function computing outputs given certain inputs, but the provided input variable at index 1 is not part of the computational graph needed to compute the outputs: X_RC.\n",
      "To make this warning into an error, you can pass the parameter on_unused_input='raise' to theano.function. To disable it completely, use on_unused_input='ignore'.\n",
      "  self.debug_train_model = theano.function([self.X,self.X_RC,self.F,self.Y], self.cost, updates = self.updates, on_unused_input='warn', mode = NanGuardMode(nan_is_error=True, inf_is_error=True, big_is_error=True))\n",
      "double_layer_conv_model_1_23_2017.py:489: UserWarning: theano.function was asked to create a function computing outputs given certain inputs, but the provided input variable at index 1 is not part of the computational graph needed to compute the outputs: X_RC.\n",
      "To make this warning into an error, you can pass the parameter on_unused_input='raise' to theano.function. To disable it completely, use on_unused_input='ignore'.\n",
      "  self.predict_model = theano.function([self.X,self.X_RC, self.F], self.output, on_unused_input='warn')\n"
     ]
    },
    {
     "name": "stdout",
     "output_type": "stream",
     "text": [
      "Epoch 0 completed in 1485220677.32, last epoch cost: 0.54472\n",
      "Epoch 5 completed in 1485220682.63, last epoch cost: 0.37972\n",
      "Epoch 10 completed in 1485220687.79, last epoch cost: 0.35959\n",
      "Epoch 15 completed in 1485220692.98, last epoch cost: 0.34570\n",
      "Epoch 20 completed in 1485220698.25, last epoch cost: 0.33266\n",
      "Epoch 25 completed in 1485220703.38, last epoch cost: 0.32613\n",
      "0.3708\t57.7208\t0.6520\t0.3383\t0.7161\t0.0007\t1.5523\t6.7509\t12.8159\t2770.0000\t18100.0000\n",
      "Starting pool size 20\n",
      "Epoch 0 completed in 1485220712.02, last epoch cost: 0.54323\n",
      "Epoch 5 completed in 1485220716.96, last epoch cost: 0.37101\n",
      "Epoch 10 completed in 1485220721.91, last epoch cost: 0.34622\n",
      "Epoch 15 completed in 1485220726.77, last epoch cost: 0.33173\n",
      "Epoch 20 completed in 1485220731.62, last epoch cost: 0.32561\n",
      "Epoch 25 completed in 1485220736.47, last epoch cost: 0.31525\n",
      "0.3720\t57.3069\t0.6443\t0.3347\t0.7068\t0.0004\t4.8375\t7.6173\t11.9495\t2770.0000\t18100.0000\n",
      "Starting pool size 30\n",
      "Epoch 0 completed in 1485220744.92, last epoch cost: 0.58624\n",
      "Epoch 5 completed in 1485220750.28, last epoch cost: 0.38419\n",
      "Epoch 10 completed in 1485220755.44, last epoch cost: 0.35772\n",
      "Epoch 15 completed in 1485220760.60, last epoch cost: 0.33853\n",
      "Epoch 20 completed in 1485220765.75, last epoch cost: 0.33067\n",
      "Epoch 25 completed in 1485220770.92, last epoch cost: 0.32217\n",
      "0.3715\t57.4708\t0.6442\t0.3332\t0.7054\t0.0004\t2.5271\t6.3538\t11.5884\t2770.0000\t18100.0000\n",
      "Starting pool size 40\n",
      "Epoch 0 completed in 1485220779.75, last epoch cost: 0.70835\n",
      "Epoch 5 completed in 1485220785.08, last epoch cost: 0.39596\n",
      "Epoch 10 completed in 1485220790.44, last epoch cost: 0.35877\n",
      "Epoch 15 completed in 1485220795.87, last epoch cost: 0.33846\n",
      "Epoch 20 completed in 1485220801.31, last epoch cost: 0.32914\n",
      "Epoch 25 completed in 1485220806.77, last epoch cost: 0.32043\n",
      "0.3673\t57.2606\t0.6462\t0.3282\t0.6883\t0.0004\t0.2888\t8.3394\t12.3105\t2770.0000\t18100.0000\n",
      "Starting pool size 50\n",
      "Epoch 0 completed in 1485220815.80, last epoch cost: 0.66157\n",
      "Epoch 5 completed in 1485220820.77, last epoch cost: 0.39369\n",
      "Epoch 10 completed in 1485220825.68, last epoch cost: 0.35656\n",
      "Epoch 15 completed in 1485220830.74, last epoch cost: 0.33820\n",
      "Epoch 20 completed in 1485220835.71, last epoch cost: 0.33054\n",
      "Epoch 25 completed in 1485220840.69, last epoch cost: 0.31884\n",
      "0.3735\t57.1833\t0.6446\t0.3262\t0.7034\t0.0004\t0.8664\t1.4440\t8.9892\t2770.0000\t18100.0000\n",
      "Starting pool size 60\n",
      "Epoch 0 completed in 1485220849.37, last epoch cost: 0.69628\n",
      "Epoch 5 completed in 1485220854.58, last epoch cost: 0.40344\n",
      "Epoch 10 completed in 1485220859.92, last epoch cost: 0.35630\n",
      "Epoch 15 completed in 1485220865.42, last epoch cost: 0.33942\n",
      "Epoch 20 completed in 1485220871.00, last epoch cost: 0.32963\n",
      "Epoch 25 completed in 1485220876.49, last epoch cost: 0.32089\n",
      "0.3702\t57.4515\t0.6462\t0.3330\t0.7100\t0.0000\t2.3466\t6.8953\t11.6606\t2770.0000\t18100.0000\n",
      "Starting pool size 133\n",
      "Epoch 0 completed in 1485220885.36, last epoch cost: 0.65531\n",
      "Epoch 5 completed in 1485220890.96, last epoch cost: 0.41446\n",
      "Epoch 10 completed in 1485220896.60, last epoch cost: 0.35756\n",
      "Epoch 15 completed in 1485220902.30, last epoch cost: 0.34027\n",
      "Epoch 20 completed in 1485220908.09, last epoch cost: 0.32437\n",
      "Epoch 25 completed in 1485220913.88, last epoch cost: 0.32020\n",
      "0.3720\t57.6277\t0.6327\t0.3302\t0.7001\t0.0004\t2.9964\t5.9206\t11.9134\t2770.0000\t18100.0000\n"
     ]
    }
   ],
   "source": [
    "DoubleModelObj = double_layer_conv_model_1_23_2017.DoubleModel(DataObj, HepG2_motif_tensor, RC=True)\n",
    "pool_sizes = (10,20,30,40,50,60,133)\n",
    "for pool_size in pool_sizes:\n",
    "    print(\"Starting pool size %i\"%(pool_size))\n",
    "    DoubleModelObj.model_RC(L2_W1 = 0.0001, L2_W2 = 0.0001, pool_size = pool_size, gd_algorithm = \"adam\", gd_learning_rate = 0.00001)\n",
    "    DoubleModelObj.fit2(DataObj.X, DataObj.X_RC, scaler(DataObj.features_mat), DataObj.Y, n_epochs = 30, minibatch_size=150)\n",
    "    predOutput = DoubleModelObj.predict2(LCLDataObj_HepG2.X, LCLDataObj_HepG2.X_RC, scaler(LCLDataObj_HepG2.features_mat))\n",
    "    PredLCL = common_utils.ClassificationResult(LCLDataObj_HepG2.Y, predOutput)\n",
    "    print PredLCL"
   ]
  },
  {
   "cell_type": "code",
   "execution_count": 579,
   "metadata": {
    "collapsed": false
   },
   "outputs": [
    {
     "name": "stdout",
     "output_type": "stream",
     "text": [
      "Starting pool size 10\n"
     ]
    },
    {
     "ename": "ValueError",
     "evalue": "Input contains NaN, infinity or a value too large for dtype('float64').",
     "output_type": "error",
     "traceback": [
      "\u001b[0;31m---------------------------------------------------------------------------\u001b[0m",
      "\u001b[0;31mValueError\u001b[0m                                Traceback (most recent call last)",
      "\u001b[0;32m<ipython-input-579-d29a634cbf8e>\u001b[0m in \u001b[0;36m<module>\u001b[0;34m()\u001b[0m\n\u001b[1;32m      6\u001b[0m     \u001b[0mDoubleModelObj\u001b[0m\u001b[0;34m.\u001b[0m\u001b[0mfit2\u001b[0m\u001b[0;34m(\u001b[0m\u001b[0mDataObj\u001b[0m\u001b[0;34m.\u001b[0m\u001b[0mX\u001b[0m\u001b[0;34m,\u001b[0m \u001b[0mDataObj\u001b[0m\u001b[0;34m.\u001b[0m\u001b[0mX_RC\u001b[0m\u001b[0;34m,\u001b[0m \u001b[0mscaler\u001b[0m\u001b[0;34m(\u001b[0m\u001b[0mDataObj\u001b[0m\u001b[0;34m.\u001b[0m\u001b[0mfeatures_mat\u001b[0m\u001b[0;34m)\u001b[0m\u001b[0;34m,\u001b[0m \u001b[0mDataObj\u001b[0m\u001b[0;34m.\u001b[0m\u001b[0mY\u001b[0m\u001b[0;34m,\u001b[0m \u001b[0mn_epochs\u001b[0m \u001b[0;34m=\u001b[0m \u001b[0;36m30\u001b[0m\u001b[0;34m,\u001b[0m \u001b[0mminibatch_size\u001b[0m\u001b[0;34m=\u001b[0m\u001b[0;36m150\u001b[0m\u001b[0;34m)\u001b[0m\u001b[0;34m\u001b[0m\u001b[0m\n\u001b[1;32m      7\u001b[0m     \u001b[0mpredOutput\u001b[0m \u001b[0;34m=\u001b[0m \u001b[0mDoubleModelObj\u001b[0m\u001b[0;34m.\u001b[0m\u001b[0mpredict2\u001b[0m\u001b[0;34m(\u001b[0m\u001b[0mLCLDataObj_HepG2\u001b[0m\u001b[0;34m.\u001b[0m\u001b[0mX\u001b[0m\u001b[0;34m,\u001b[0m \u001b[0mLCLDataObj_HepG2\u001b[0m\u001b[0;34m.\u001b[0m\u001b[0mX_RC\u001b[0m\u001b[0;34m,\u001b[0m \u001b[0mscaler\u001b[0m\u001b[0;34m(\u001b[0m\u001b[0mLCLDataObj_HepG2\u001b[0m\u001b[0;34m.\u001b[0m\u001b[0mfeatures_mat\u001b[0m\u001b[0;34m)\u001b[0m\u001b[0;34m)\u001b[0m\u001b[0;34m\u001b[0m\u001b[0m\n\u001b[0;32m----> 8\u001b[0;31m     \u001b[0mPredLCL\u001b[0m \u001b[0;34m=\u001b[0m \u001b[0mcommon_utils\u001b[0m\u001b[0;34m.\u001b[0m\u001b[0mClassificationResult\u001b[0m\u001b[0;34m(\u001b[0m\u001b[0mLCLDataObj_HepG2\u001b[0m\u001b[0;34m.\u001b[0m\u001b[0mY\u001b[0m\u001b[0;34m,\u001b[0m \u001b[0mpredOutput\u001b[0m\u001b[0;34m)\u001b[0m\u001b[0;34m\u001b[0m\u001b[0m\n\u001b[0m\u001b[1;32m      9\u001b[0m     \u001b[0;32mprint\u001b[0m \u001b[0mPredLCL\u001b[0m\u001b[0;34m\u001b[0m\u001b[0m\n",
      "\u001b[0;32m/home/alvin/Dropbox/Lab/CNN/scripts/common_utils.pyc\u001b[0m in \u001b[0;36m__init__\u001b[0;34m(self, labels, predictions, name)\u001b[0m\n\u001b[1;32m    384\u001b[0m         \u001b[0mself\u001b[0m\u001b[0;34m.\u001b[0m\u001b[0mflat_labels\u001b[0m \u001b[0;34m=\u001b[0m \u001b[0mlabels\u001b[0m\u001b[0;34m.\u001b[0m\u001b[0mflatten\u001b[0m\u001b[0;34m(\u001b[0m\u001b[0;34m)\u001b[0m\u001b[0;34m\u001b[0m\u001b[0m\n\u001b[1;32m    385\u001b[0m         \u001b[0mself\u001b[0m\u001b[0;34m.\u001b[0m\u001b[0mresults\u001b[0m \u001b[0;34m=\u001b[0m \u001b[0;34m[\u001b[0m\u001b[0;34m]\u001b[0m\u001b[0;34m\u001b[0m\u001b[0m\n\u001b[0;32m--> 386\u001b[0;31m         \u001b[0mself\u001b[0m\u001b[0;34m.\u001b[0m\u001b[0mself_binary\u001b[0m\u001b[0;34m(\u001b[0m\u001b[0;34m)\u001b[0m\u001b[0;34m\u001b[0m\u001b[0m\n\u001b[0m\u001b[1;32m    387\u001b[0m \u001b[0;34m\u001b[0m\u001b[0m\n\u001b[1;32m    388\u001b[0m     \u001b[0;32mdef\u001b[0m \u001b[0mself_binary\u001b[0m\u001b[0;34m(\u001b[0m\u001b[0mself\u001b[0m\u001b[0;34m)\u001b[0m\u001b[0;34m:\u001b[0m\u001b[0;34m\u001b[0m\u001b[0m\n",
      "\u001b[0;32m/home/alvin/Dropbox/Lab/CNN/scripts/common_utils.pyc\u001b[0m in \u001b[0;36mself_binary\u001b[0;34m(self)\u001b[0m\n\u001b[1;32m    387\u001b[0m \u001b[0;34m\u001b[0m\u001b[0m\n\u001b[1;32m    388\u001b[0m     \u001b[0;32mdef\u001b[0m \u001b[0mself_binary\u001b[0m\u001b[0;34m(\u001b[0m\u001b[0mself\u001b[0m\u001b[0;34m)\u001b[0m\u001b[0;34m:\u001b[0m\u001b[0;34m\u001b[0m\u001b[0m\n\u001b[0;32m--> 389\u001b[0;31m         \u001b[0mself\u001b[0m\u001b[0;34m.\u001b[0m\u001b[0mresults\u001b[0m \u001b[0;34m=\u001b[0m \u001b[0mself\u001b[0m\u001b[0;34m.\u001b[0m\u001b[0mbinary\u001b[0m\u001b[0;34m(\u001b[0m\u001b[0mself\u001b[0m\u001b[0;34m.\u001b[0m\u001b[0mlabels\u001b[0m\u001b[0;34m,\u001b[0m \u001b[0mself\u001b[0m\u001b[0;34m.\u001b[0m\u001b[0mpredictions\u001b[0m\u001b[0;34m)\u001b[0m\u001b[0;34m\u001b[0m\u001b[0m\n\u001b[0m\u001b[1;32m    390\u001b[0m \u001b[0;34m\u001b[0m\u001b[0m\n\u001b[1;32m    391\u001b[0m     \u001b[0;32mdef\u001b[0m \u001b[0mother_binary\u001b[0m\u001b[0;34m(\u001b[0m\u001b[0mself\u001b[0m\u001b[0;34m,\u001b[0m \u001b[0mlabels\u001b[0m\u001b[0;34m,\u001b[0m \u001b[0mpredictions\u001b[0m\u001b[0;34m)\u001b[0m\u001b[0;34m:\u001b[0m\u001b[0;34m\u001b[0m\u001b[0m\n",
      "\u001b[0;32m/home/alvin/Dropbox/Lab/CNN/scripts/common_utils.pyc\u001b[0m in \u001b[0;36mbinary\u001b[0;34m(self, labels, predictions)\u001b[0m\n\u001b[1;32m    447\u001b[0m         results = [('Loss', loss(labels, predictions)), (\n\u001b[1;32m    448\u001b[0m             'Balanced_accuracy', balanced_accuracy(\n\u001b[0;32m--> 449\u001b[0;31m                 labels, predictions)), ('auROC', auROC(labels, predictions)),\n\u001b[0m\u001b[1;32m    450\u001b[0m                    \u001b[0;34m(\u001b[0m\u001b[0;34m'auPRC'\u001b[0m\u001b[0;34m,\u001b[0m \u001b[0mauPRC\u001b[0m\u001b[0;34m(\u001b[0m\u001b[0mlabels\u001b[0m\u001b[0;34m,\u001b[0m \u001b[0mpredictions\u001b[0m\u001b[0;34m)\u001b[0m\u001b[0;34m)\u001b[0m\u001b[0;34m,\u001b[0m\u001b[0;34m\u001b[0m\u001b[0m\n\u001b[1;32m    451\u001b[0m                    \u001b[0;34m(\u001b[0m\u001b[0;34m'auPRG'\u001b[0m\u001b[0;34m,\u001b[0m \u001b[0mauPRG\u001b[0m\u001b[0;34m(\u001b[0m\u001b[0mlabels\u001b[0m\u001b[0;34m,\u001b[0m \u001b[0mpredictions\u001b[0m\u001b[0;34m)\u001b[0m\u001b[0;34m)\u001b[0m\u001b[0;34m,\u001b[0m\u001b[0;34m\u001b[0m\u001b[0m\n",
      "\u001b[0;32m/home/alvin/Dropbox/Lab/CNN/scripts/common_utils.pyc\u001b[0m in \u001b[0;36mauROC\u001b[0;34m(labels, predictions)\u001b[0m\n\u001b[1;32m    422\u001b[0m \u001b[0;34m\u001b[0m\u001b[0m\n\u001b[1;32m    423\u001b[0m         \u001b[0;32mdef\u001b[0m \u001b[0mauROC\u001b[0m\u001b[0;34m(\u001b[0m\u001b[0mlabels\u001b[0m\u001b[0;34m,\u001b[0m \u001b[0mpredictions\u001b[0m\u001b[0;34m)\u001b[0m\u001b[0;34m:\u001b[0m\u001b[0;34m\u001b[0m\u001b[0m\n\u001b[0;32m--> 424\u001b[0;31m             \u001b[0;32mreturn\u001b[0m \u001b[0mroc_auc_score\u001b[0m\u001b[0;34m(\u001b[0m\u001b[0mlabels\u001b[0m\u001b[0;34m,\u001b[0m \u001b[0mpredictions\u001b[0m\u001b[0;34m)\u001b[0m\u001b[0;34m\u001b[0m\u001b[0m\n\u001b[0m\u001b[1;32m    425\u001b[0m \u001b[0;34m\u001b[0m\u001b[0m\n\u001b[1;32m    426\u001b[0m         \u001b[0;32mdef\u001b[0m \u001b[0mauPRC\u001b[0m\u001b[0;34m(\u001b[0m\u001b[0mlabels\u001b[0m\u001b[0;34m,\u001b[0m \u001b[0mpredictions\u001b[0m\u001b[0;34m)\u001b[0m\u001b[0;34m:\u001b[0m\u001b[0;34m\u001b[0m\u001b[0m\n",
      "\u001b[0;32m/home/alvin/anaconda2/lib/python2.7/site-packages/sklearn/metrics/ranking.pyc\u001b[0m in \u001b[0;36mroc_auc_score\u001b[0;34m(y_true, y_score, average, sample_weight)\u001b[0m\n\u001b[1;32m    258\u001b[0m     return _average_binary_score(\n\u001b[1;32m    259\u001b[0m         \u001b[0m_binary_roc_auc_score\u001b[0m\u001b[0;34m,\u001b[0m \u001b[0my_true\u001b[0m\u001b[0;34m,\u001b[0m \u001b[0my_score\u001b[0m\u001b[0;34m,\u001b[0m \u001b[0maverage\u001b[0m\u001b[0;34m,\u001b[0m\u001b[0;34m\u001b[0m\u001b[0m\n\u001b[0;32m--> 260\u001b[0;31m         sample_weight=sample_weight)\n\u001b[0m\u001b[1;32m    261\u001b[0m \u001b[0;34m\u001b[0m\u001b[0m\n\u001b[1;32m    262\u001b[0m \u001b[0;34m\u001b[0m\u001b[0m\n",
      "\u001b[0;32m/home/alvin/anaconda2/lib/python2.7/site-packages/sklearn/metrics/base.pyc\u001b[0m in \u001b[0;36m_average_binary_score\u001b[0;34m(binary_metric, y_true, y_score, average, sample_weight)\u001b[0m\n\u001b[1;32m     82\u001b[0m \u001b[0;34m\u001b[0m\u001b[0m\n\u001b[1;32m     83\u001b[0m     \u001b[0;32mif\u001b[0m \u001b[0my_type\u001b[0m \u001b[0;34m==\u001b[0m \u001b[0;34m\"binary\"\u001b[0m\u001b[0;34m:\u001b[0m\u001b[0;34m\u001b[0m\u001b[0m\n\u001b[0;32m---> 84\u001b[0;31m         \u001b[0;32mreturn\u001b[0m \u001b[0mbinary_metric\u001b[0m\u001b[0;34m(\u001b[0m\u001b[0my_true\u001b[0m\u001b[0;34m,\u001b[0m \u001b[0my_score\u001b[0m\u001b[0;34m,\u001b[0m \u001b[0msample_weight\u001b[0m\u001b[0;34m=\u001b[0m\u001b[0msample_weight\u001b[0m\u001b[0;34m)\u001b[0m\u001b[0;34m\u001b[0m\u001b[0m\n\u001b[0m\u001b[1;32m     85\u001b[0m \u001b[0;34m\u001b[0m\u001b[0m\n\u001b[1;32m     86\u001b[0m     \u001b[0mcheck_consistent_length\u001b[0m\u001b[0;34m(\u001b[0m\u001b[0my_true\u001b[0m\u001b[0;34m,\u001b[0m \u001b[0my_score\u001b[0m\u001b[0;34m,\u001b[0m \u001b[0msample_weight\u001b[0m\u001b[0;34m)\u001b[0m\u001b[0;34m\u001b[0m\u001b[0m\n",
      "\u001b[0;32m/home/alvin/anaconda2/lib/python2.7/site-packages/sklearn/metrics/ranking.pyc\u001b[0m in \u001b[0;36m_binary_roc_auc_score\u001b[0;34m(y_true, y_score, sample_weight)\u001b[0m\n\u001b[1;32m    253\u001b[0m \u001b[0;34m\u001b[0m\u001b[0m\n\u001b[1;32m    254\u001b[0m         fpr, tpr, tresholds = roc_curve(y_true, y_score,\n\u001b[0;32m--> 255\u001b[0;31m                                         sample_weight=sample_weight)\n\u001b[0m\u001b[1;32m    256\u001b[0m         \u001b[0;32mreturn\u001b[0m \u001b[0mauc\u001b[0m\u001b[0;34m(\u001b[0m\u001b[0mfpr\u001b[0m\u001b[0;34m,\u001b[0m \u001b[0mtpr\u001b[0m\u001b[0;34m,\u001b[0m \u001b[0mreorder\u001b[0m\u001b[0;34m=\u001b[0m\u001b[0mTrue\u001b[0m\u001b[0;34m)\u001b[0m\u001b[0;34m\u001b[0m\u001b[0m\n\u001b[1;32m    257\u001b[0m \u001b[0;34m\u001b[0m\u001b[0m\n",
      "\u001b[0;32m/home/alvin/anaconda2/lib/python2.7/site-packages/sklearn/metrics/ranking.pyc\u001b[0m in \u001b[0;36mroc_curve\u001b[0;34m(y_true, y_score, pos_label, sample_weight, drop_intermediate)\u001b[0m\n\u001b[1;32m    503\u001b[0m     \"\"\"\n\u001b[1;32m    504\u001b[0m     fps, tps, thresholds = _binary_clf_curve(\n\u001b[0;32m--> 505\u001b[0;31m         y_true, y_score, pos_label=pos_label, sample_weight=sample_weight)\n\u001b[0m\u001b[1;32m    506\u001b[0m \u001b[0;34m\u001b[0m\u001b[0m\n\u001b[1;32m    507\u001b[0m     \u001b[0;31m# Attempt to drop thresholds corresponding to points in between and\u001b[0m\u001b[0;34m\u001b[0m\u001b[0;34m\u001b[0m\u001b[0m\n",
      "\u001b[0;32m/home/alvin/anaconda2/lib/python2.7/site-packages/sklearn/metrics/ranking.pyc\u001b[0m in \u001b[0;36m_binary_clf_curve\u001b[0;34m(y_true, y_score, pos_label, sample_weight)\u001b[0m\n\u001b[1;32m    299\u001b[0m     \u001b[0my_score\u001b[0m \u001b[0;34m=\u001b[0m \u001b[0mcolumn_or_1d\u001b[0m\u001b[0;34m(\u001b[0m\u001b[0my_score\u001b[0m\u001b[0;34m)\u001b[0m\u001b[0;34m\u001b[0m\u001b[0m\n\u001b[1;32m    300\u001b[0m     \u001b[0massert_all_finite\u001b[0m\u001b[0;34m(\u001b[0m\u001b[0my_true\u001b[0m\u001b[0;34m)\u001b[0m\u001b[0;34m\u001b[0m\u001b[0m\n\u001b[0;32m--> 301\u001b[0;31m     \u001b[0massert_all_finite\u001b[0m\u001b[0;34m(\u001b[0m\u001b[0my_score\u001b[0m\u001b[0;34m)\u001b[0m\u001b[0;34m\u001b[0m\u001b[0m\n\u001b[0m\u001b[1;32m    302\u001b[0m \u001b[0;34m\u001b[0m\u001b[0m\n\u001b[1;32m    303\u001b[0m     \u001b[0;32mif\u001b[0m \u001b[0msample_weight\u001b[0m \u001b[0;32mis\u001b[0m \u001b[0;32mnot\u001b[0m \u001b[0mNone\u001b[0m\u001b[0;34m:\u001b[0m\u001b[0;34m\u001b[0m\u001b[0m\n",
      "\u001b[0;32m/home/alvin/anaconda2/lib/python2.7/site-packages/sklearn/utils/validation.pyc\u001b[0m in \u001b[0;36massert_all_finite\u001b[0;34m(X)\u001b[0m\n\u001b[1;32m     63\u001b[0m \u001b[0;34m\u001b[0m\u001b[0m\n\u001b[1;32m     64\u001b[0m     Input MUST be an np.ndarray instance or a scipy.sparse matrix.\"\"\"\n\u001b[0;32m---> 65\u001b[0;31m     \u001b[0m_assert_all_finite\u001b[0m\u001b[0;34m(\u001b[0m\u001b[0mX\u001b[0m\u001b[0;34m.\u001b[0m\u001b[0mdata\u001b[0m \u001b[0;32mif\u001b[0m \u001b[0msp\u001b[0m\u001b[0;34m.\u001b[0m\u001b[0missparse\u001b[0m\u001b[0;34m(\u001b[0m\u001b[0mX\u001b[0m\u001b[0;34m)\u001b[0m \u001b[0;32melse\u001b[0m \u001b[0mX\u001b[0m\u001b[0;34m)\u001b[0m\u001b[0;34m\u001b[0m\u001b[0m\n\u001b[0m\u001b[1;32m     66\u001b[0m \u001b[0;34m\u001b[0m\u001b[0m\n\u001b[1;32m     67\u001b[0m \u001b[0;34m\u001b[0m\u001b[0m\n",
      "\u001b[0;32m/home/alvin/anaconda2/lib/python2.7/site-packages/sklearn/utils/validation.pyc\u001b[0m in \u001b[0;36m_assert_all_finite\u001b[0;34m(X)\u001b[0m\n\u001b[1;32m     56\u001b[0m             and not np.isfinite(X).all()):\n\u001b[1;32m     57\u001b[0m         raise ValueError(\"Input contains NaN, infinity\"\n\u001b[0;32m---> 58\u001b[0;31m                          \" or a value too large for %r.\" % X.dtype)\n\u001b[0m\u001b[1;32m     59\u001b[0m \u001b[0;34m\u001b[0m\u001b[0m\n\u001b[1;32m     60\u001b[0m \u001b[0;34m\u001b[0m\u001b[0m\n",
      "\u001b[0;31mValueError\u001b[0m: Input contains NaN, infinity or a value too large for dtype('float64')."
     ]
    }
   ],
   "source": [
    "DoubleModelObj = double_layer_conv_model_1_23_2017.DoubleModel(DataObj, HepG2_motif_tensor, RC=True)\n",
    "pool_sizes = (10,20,30,40,50,60,133)\n",
    "for pool_size in pool_sizes:\n",
    "    print(\"Starting pool size %i\"%(pool_size))\n",
    "    DoubleModelObj.model_RC2(L2_W2 = 0.01, pool_size = pool_size, gd_algorithm = \"gd\", gd_learning_rate = 0.00001)\n",
    "    DoubleModelObj.fit2(DataObj.X, DataObj.X_RC, scaler(DataObj.features_mat), DataObj.Y, n_epochs = 30, minibatch_size=150)\n",
    "    predOutput = DoubleModelObj.predict2(LCLDataObj_HepG2.X, LCLDataObj_HepG2.X_RC, scaler(LCLDataObj_HepG2.features_mat))\n",
    "    PredLCL = common_utils.ClassificationResult(LCLDataObj_HepG2.Y, predOutput)\n",
    "    print PredLCL"
   ]
  },
  {
   "cell_type": "code",
   "execution_count": null,
   "metadata": {
    "collapsed": true
   },
   "outputs": [],
   "source": [
    "DoubleModelObj = double_layer_conv_model_1_23_2017.DoubleModel(DataObj, HepG2_motif_tensor, RC=True)"
   ]
  },
  {
   "cell_type": "code",
   "execution_count": 584,
   "metadata": {
    "collapsed": false
   },
   "outputs": [
    {
     "data": {
      "text/plain": [
       "(2152, 1, 4, 18)"
      ]
     },
     "execution_count": 584,
     "metadata": {},
     "output_type": "execute_result"
    }
   ],
   "source": [
    "HepG2_motif_tensor.shape"
   ]
  },
  {
   "cell_type": "code",
   "execution_count": 583,
   "metadata": {
    "collapsed": false
   },
   "outputs": [
    {
     "name": "stdout",
     "output_type": "stream",
     "text": [
      "Starting lr 0.0000001 L2 0.00000000\n",
      "nan\n",
      "Starting lr 0.0000001 L2 0.00000100\n",
      "nan\n",
      "Starting lr 0.0000001 L2 0.00001000\n",
      "nan\n",
      "Starting lr 0.0000001 L2 0.00010000\n",
      "nan\n",
      "Starting lr 0.0000001 L2 0.00100000\n",
      "nan\n",
      "Starting lr 0.0000001 L2 0.01000000\n",
      "nan\n",
      "Starting lr 0.0000001 L2 0.10000000\n",
      "nan\n",
      "Starting lr 0.0000001 L2 0.50000000\n",
      "nan\n",
      "Starting lr 0.0000001 L2 1.00000000\n",
      "nan\n",
      "Starting lr 0.0000001 L2 10.00000000\n",
      "nan\n",
      "Starting lr 0.0000001 L2 100.00000000\n",
      "nan\n",
      "Starting lr 0.0000001 L2 1000.00000000\n",
      "nan\n",
      "Starting lr 0.0000010 L2 0.00000000\n",
      "nan\n",
      "Starting lr 0.0000010 L2 0.00000100\n",
      "nan\n",
      "Starting lr 0.0000010 L2 0.00001000\n",
      "nan\n",
      "Starting lr 0.0000010 L2 0.00010000\n",
      "nan\n",
      "Starting lr 0.0000010 L2 0.00100000\n",
      "nan\n",
      "Starting lr 0.0000010 L2 0.01000000\n",
      "nan\n",
      "Starting lr 0.0000010 L2 0.10000000\n",
      "nan\n",
      "Starting lr 0.0000010 L2 0.50000000\n",
      "nan\n",
      "Starting lr 0.0000010 L2 1.00000000\n",
      "nan\n",
      "Starting lr 0.0000010 L2 10.00000000\n",
      "nan\n",
      "Starting lr 0.0000010 L2 100.00000000\n",
      "nan\n",
      "Starting lr 0.0000010 L2 1000.00000000\n"
     ]
    },
    {
     "ename": "KeyboardInterrupt",
     "evalue": "",
     "output_type": "error",
     "traceback": [
      "\u001b[0;31m---------------------------------------------------------------------------\u001b[0m",
      "\u001b[0;31mKeyboardInterrupt\u001b[0m                         Traceback (most recent call last)",
      "\u001b[0;32m<ipython-input-583-22c80ed9c165>\u001b[0m in \u001b[0;36m<module>\u001b[0;34m()\u001b[0m\n\u001b[1;32m      6\u001b[0m         \u001b[0;32mprint\u001b[0m\u001b[0;34m(\u001b[0m\u001b[0;34m\"Starting lr %0.07f L2 %0.08f\"\u001b[0m\u001b[0;34m%\u001b[0m\u001b[0;34m(\u001b[0m\u001b[0mlr\u001b[0m\u001b[0;34m,\u001b[0m \u001b[0ml2\u001b[0m\u001b[0;34m)\u001b[0m\u001b[0;34m)\u001b[0m\u001b[0;34m\u001b[0m\u001b[0m\n\u001b[1;32m      7\u001b[0m         \u001b[0mDoubleModelObj\u001b[0m\u001b[0;34m.\u001b[0m\u001b[0mmodel_RC2\u001b[0m\u001b[0;34m(\u001b[0m\u001b[0mL2_W2\u001b[0m \u001b[0;34m=\u001b[0m \u001b[0ml2\u001b[0m\u001b[0;34m,\u001b[0m \u001b[0mpool_size\u001b[0m \u001b[0;34m=\u001b[0m \u001b[0mpool_size\u001b[0m\u001b[0;34m,\u001b[0m \u001b[0mgd_algorithm\u001b[0m \u001b[0;34m=\u001b[0m \u001b[0;34m\"gd\"\u001b[0m\u001b[0;34m,\u001b[0m \u001b[0mgd_learning_rate\u001b[0m \u001b[0;34m=\u001b[0m \u001b[0mlr\u001b[0m\u001b[0;34m)\u001b[0m\u001b[0;34m\u001b[0m\u001b[0m\n\u001b[0;32m----> 8\u001b[0;31m         \u001b[0mDoubleModelObj\u001b[0m\u001b[0;34m.\u001b[0m\u001b[0mfit2\u001b[0m\u001b[0;34m(\u001b[0m\u001b[0mDataObj\u001b[0m\u001b[0;34m.\u001b[0m\u001b[0mX\u001b[0m\u001b[0;34m,\u001b[0m \u001b[0mDataObj\u001b[0m\u001b[0;34m.\u001b[0m\u001b[0mX_RC\u001b[0m\u001b[0;34m,\u001b[0m \u001b[0mscaler\u001b[0m\u001b[0;34m(\u001b[0m\u001b[0mDataObj\u001b[0m\u001b[0;34m.\u001b[0m\u001b[0mfeatures_mat\u001b[0m\u001b[0;34m)\u001b[0m\u001b[0;34m,\u001b[0m \u001b[0mDataObj\u001b[0m\u001b[0;34m.\u001b[0m\u001b[0mY\u001b[0m\u001b[0;34m,\u001b[0m \u001b[0mn_epochs\u001b[0m \u001b[0;34m=\u001b[0m \u001b[0;36m30\u001b[0m\u001b[0;34m,\u001b[0m \u001b[0mminibatch_size\u001b[0m\u001b[0;34m=\u001b[0m\u001b[0;36m100\u001b[0m\u001b[0;34m,\u001b[0m \u001b[0mdebug\u001b[0m\u001b[0;34m=\u001b[0m\u001b[0mTrue\u001b[0m\u001b[0;34m)\u001b[0m\u001b[0;34m\u001b[0m\u001b[0m\n\u001b[0m\u001b[1;32m      9\u001b[0m         \u001b[0;31m#predOutput = DoubleModelObj.predict2(LCLDataObj_HepG2.X, LCLDataObj_HepG2.X_RC, scaler(LCLDataObj_HepG2.features_mat))\u001b[0m\u001b[0;34m\u001b[0m\u001b[0;34m\u001b[0m\u001b[0m\n\u001b[1;32m     10\u001b[0m         \u001b[0;31m#PredLCL = common_utils.ClassificationResult(LCLDataObj_HepG2.Y, predOutput)\u001b[0m\u001b[0;34m\u001b[0m\u001b[0;34m\u001b[0m\u001b[0m\n",
      "\u001b[0;32m/home/alvin/Dropbox/Lab/CNN/scripts/double_layer_conv_model_1_23_2017.py\u001b[0m in \u001b[0;36mfit2\u001b[0;34m(self, X, X_RC, F, Y, n_epochs, minibatch_size, debug)\u001b[0m\n\u001b[1;32m    619\u001b[0m                 \u001b[0mend\u001b[0m \u001b[0;34m=\u001b[0m \u001b[0;34m(\u001b[0m\u001b[0mminibatch_idx\u001b[0m\u001b[0;34m+\u001b[0m\u001b[0;36m1\u001b[0m\u001b[0;34m)\u001b[0m\u001b[0;34m*\u001b[0m\u001b[0mminibatch_size\u001b[0m\u001b[0;34m\u001b[0m\u001b[0m\n\u001b[1;32m    620\u001b[0m                 \u001b[0ms\u001b[0m \u001b[0;34m=\u001b[0m \u001b[0mindices\u001b[0m\u001b[0;34m[\u001b[0m\u001b[0mstart\u001b[0m\u001b[0;34m:\u001b[0m\u001b[0mend\u001b[0m\u001b[0;34m]\u001b[0m\u001b[0;34m\u001b[0m\u001b[0m\n\u001b[0;32m--> 621\u001b[0;31m                 \u001b[0mcost\u001b[0m \u001b[0;34m=\u001b[0m \u001b[0mself\u001b[0m\u001b[0;34m.\u001b[0m\u001b[0mtrain_model\u001b[0m\u001b[0;34m(\u001b[0m\u001b[0mX\u001b[0m\u001b[0;34m[\u001b[0m\u001b[0ms\u001b[0m\u001b[0;34m]\u001b[0m\u001b[0;34m,\u001b[0m \u001b[0mX_RC\u001b[0m\u001b[0;34m[\u001b[0m\u001b[0ms\u001b[0m\u001b[0;34m]\u001b[0m\u001b[0;34m,\u001b[0m \u001b[0mF\u001b[0m\u001b[0;34m[\u001b[0m\u001b[0ms\u001b[0m\u001b[0;34m]\u001b[0m\u001b[0;34m,\u001b[0m \u001b[0mY\u001b[0m\u001b[0;34m[\u001b[0m\u001b[0ms\u001b[0m\u001b[0;34m]\u001b[0m\u001b[0;34m)\u001b[0m\u001b[0;34m\u001b[0m\u001b[0m\n\u001b[0m\u001b[1;32m    622\u001b[0m                 \u001b[0mself\u001b[0m\u001b[0;34m.\u001b[0m\u001b[0mcosts\u001b[0m\u001b[0;34m.\u001b[0m\u001b[0mappend\u001b[0m\u001b[0;34m(\u001b[0m\u001b[0mcost\u001b[0m\u001b[0;34m)\u001b[0m\u001b[0;34m\u001b[0m\u001b[0m\n\u001b[1;32m    623\u001b[0m                 \u001b[0;32mif\u001b[0m \u001b[0mdebug\u001b[0m \u001b[0;32mand\u001b[0m \u001b[0mminibatch_idx\u001b[0m \u001b[0;34m>\u001b[0m \u001b[0;36m28\u001b[0m\u001b[0;34m:\u001b[0m\u001b[0;34m\u001b[0m\u001b[0m\n",
      "\u001b[0;32m/home/alvin/anaconda2/lib/python2.7/site-packages/theano/compile/function_module.pyc\u001b[0m in \u001b[0;36m__call__\u001b[0;34m(self, *args, **kwargs)\u001b[0m\n\u001b[1;32m    857\u001b[0m         \u001b[0mt0_fn\u001b[0m \u001b[0;34m=\u001b[0m \u001b[0mtime\u001b[0m\u001b[0;34m.\u001b[0m\u001b[0mtime\u001b[0m\u001b[0;34m(\u001b[0m\u001b[0;34m)\u001b[0m\u001b[0;34m\u001b[0m\u001b[0m\n\u001b[1;32m    858\u001b[0m         \u001b[0;32mtry\u001b[0m\u001b[0;34m:\u001b[0m\u001b[0;34m\u001b[0m\u001b[0m\n\u001b[0;32m--> 859\u001b[0;31m             \u001b[0moutputs\u001b[0m \u001b[0;34m=\u001b[0m \u001b[0mself\u001b[0m\u001b[0;34m.\u001b[0m\u001b[0mfn\u001b[0m\u001b[0;34m(\u001b[0m\u001b[0;34m)\u001b[0m\u001b[0;34m\u001b[0m\u001b[0m\n\u001b[0m\u001b[1;32m    860\u001b[0m         \u001b[0;32mexcept\u001b[0m \u001b[0mException\u001b[0m\u001b[0;34m:\u001b[0m\u001b[0;34m\u001b[0m\u001b[0m\n\u001b[1;32m    861\u001b[0m             \u001b[0;32mif\u001b[0m \u001b[0mhasattr\u001b[0m\u001b[0;34m(\u001b[0m\u001b[0mself\u001b[0m\u001b[0;34m.\u001b[0m\u001b[0mfn\u001b[0m\u001b[0;34m,\u001b[0m \u001b[0;34m'position_of_error'\u001b[0m\u001b[0;34m)\u001b[0m\u001b[0;34m:\u001b[0m\u001b[0;34m\u001b[0m\u001b[0m\n",
      "\u001b[0;31mKeyboardInterrupt\u001b[0m: "
     ]
    }
   ],
   "source": [
    "DoubleModelObj = double_layer_conv_model_1_23_2017.DoubleModel(DataObj, HepG2_motif_tensor, RC=True)\n",
    "learning_rates = [0.0000001, 0.000001, 0.00001,0.00005, 0.0001,0.0005, 0.001, 0.005, 0.01, 0.05, 0.1, 0.5, 1, 5, 10]\n",
    "L2 = [0, 0.000001, 0.00001, 0.0001, 0.001, 0.01, 0.1, 0.5, 1, 10, 100, 1000]\n",
    "for lr in learning_rates:\n",
    "    for l2 in L2:\n",
    "        print(\"Starting lr %0.07f L2 %0.08f\"%(lr, l2))\n",
    "        DoubleModelObj.model_RC2(L2_W2 = l2, pool_size = pool_size, gd_algorithm = \"gd\", gd_learning_rate = lr)\n",
    "        DoubleModelObj.fit2(DataObj.X, DataObj.X_RC, scaler(DataObj.features_mat), DataObj.Y, n_epochs = 30, minibatch_size=100, debug=True)\n",
    "        #predOutput = DoubleModelObj.predict2(LCLDataObj_HepG2.X, LCLDataObj_HepG2.X_RC, scaler(LCLDataObj_HepG2.features_mat))\n",
    "        #PredLCL = common_utils.ClassificationResult(LCLDataObj_HepG2.Y, predOutput)\n",
    "        #print PredLCL"
   ]
  },
  {
   "cell_type": "code",
   "execution_count": 325,
   "metadata": {
    "collapsed": false
   },
   "outputs": [
    {
     "data": {
      "text/plain": [
       "10.0"
      ]
     },
     "execution_count": 325,
     "metadata": {},
     "output_type": "execute_result"
    }
   ],
   "source": [
    "learning_rates = [0.000001, 0.00001,0.00005, 0.0001,0.0005, 0.001, 0.005, 0.01, 0.05, 0.1, 0.5, 1, 5, 10]\n",
    "L2 = [0, 0.000001, 0.00001, 0.0001, 0.001, 0.01, 0.1, 0.5, 1, 10, 100, 1000]\n",
    "for lr in learning_rates:\n",
    "    for l2_w1 in L2:\n",
    "        for l2_w2 in L2:\n",
    "        print(\"Starting lr %0.07f L2 %0.08f\"%(lr, l2))\n",
    "        DoubleModelObj = double_layer_conv_model_1_23_2017.DoubleModel(DataObj, HepG2_motif_tensor, RC=False)\n",
    "        DoubleModelObj.model(L2_W1 = l2_w1, L2_W2 = l2_w2, gd_algorithm = \"gd\", gd_learning_rate = lr)\n",
    "        DoubleModelObj.fit(DataObj.X, np.clip(scaler(DataObj.features_mat),-30,30), DataObj.Y, n_epochs = 25, minibatch_size=200)"
   ]
  },
  {
   "cell_type": "code",
   "execution_count": 92,
   "metadata": {
    "collapsed": false
   },
   "outputs": [
    {
     "data": {
      "text/plain": [
       "(50, 2152, 1, 1)"
      ]
     },
     "execution_count": 92,
     "metadata": {},
     "output_type": "execute_result"
    }
   ],
   "source": [
    "DoubleModelObj.debug_train_model()"
   ]
  },
  {
   "cell_type": "code",
   "execution_count": 93,
   "metadata": {
    "collapsed": false
   },
   "outputs": [],
   "source": [
    "reduced = DoubleModelObj.reduced_test(DataObj.X[:5000])"
   ]
  },
  {
   "cell_type": "code",
   "execution_count": 106,
   "metadata": {
    "collapsed": false
   },
   "outputs": [],
   "source": [
    "concat_out = DoubleModelObj.concat_test(DataObj.X[:5000], DataObj.features_mat[:5000])"
   ]
  },
  {
   "cell_type": "code",
   "execution_count": 122,
   "metadata": {
    "collapsed": false
   },
   "outputs": [],
   "source": [
    "func_out = DoubleModelObj.func(DataObj.X[:5000], scaler(DataObj.features_mat[:5000])"
   ]
  },
  {
   "cell_type": "code",
   "execution_count": 273,
   "metadata": {
    "collapsed": false,
    "scrolled": false
   },
   "outputs": [],
   "source": [
    "rands = np.random.choice(DataObj.X.shape[0], 100)\n",
    "current_cost = DoubleModelObj.debug_train_model(DataObj.X[rands], scaler(DataObj.features_mat[rands]), DataObj.Y[rands])"
   ]
  },
  {
   "cell_type": "code",
   "execution_count": 462,
   "metadata": {
    "collapsed": false
   },
   "outputs": [
    {
     "data": {
      "text/plain": [
       "[array([ -1.04085200e-01,  -2.68846770e-06,  -6.33673668e-02, ...,\n",
       "         -3.21059110e-06,  -5.49027324e-02,  -6.90858513e-02], dtype=float32),\n",
       " array([ -9.86190662e-02,   5.92515380e-06,  -1.49377212e-02, ...,\n",
       "         -8.31465786e-06,  -1.49594592e-02,   3.22855135e-06], dtype=float32),\n",
       " CudaNdarray([-0.44520557])]"
      ]
     },
     "execution_count": 462,
     "metadata": {},
     "output_type": "execute_result"
    }
   ],
   "source": [
    "DoubleModelObj.grad_test(DataObj.X[:150], scaler(DataObj.features_mat[:150]), DataObj.Y[:150])"
   ]
  },
  {
   "cell_type": "code",
   "execution_count": 463,
   "metadata": {
    "collapsed": false,
    "scrolled": true
   },
   "outputs": [
    {
     "data": {
      "text/plain": [
       "array([ 0.0379005 , -0.01344234,  0.00582187, ..., -0.01605296,\n",
       "        0.02256448,  0.02452952], dtype=float32)"
      ]
     },
     "execution_count": 463,
     "metadata": {},
     "output_type": "execute_result"
    }
   ],
   "source": [
    "DoubleModelObj.W1.get_value()"
   ]
  },
  {
   "cell_type": "code",
   "execution_count": 464,
   "metadata": {
    "collapsed": false
   },
   "outputs": [
    {
     "data": {
      "text/plain": [
       "array([ 0.04000086,  0.02962577,  0.02468929, ..., -0.04157329,\n",
       "        0.00542399,  0.01614276], dtype=float32)"
      ]
     },
     "execution_count": 464,
     "metadata": {},
     "output_type": "execute_result"
    }
   ],
   "source": [
    "DoubleModelObj.W2.get_value()"
   ]
  },
  {
   "cell_type": "code",
   "execution_count": 465,
   "metadata": {
    "collapsed": false,
    "scrolled": true
   },
   "outputs": [
    {
     "data": {
      "text/plain": [
       "array(0.6520048438369607)"
      ]
     },
     "execution_count": 465,
     "metadata": {},
     "output_type": "execute_result"
    }
   ],
   "source": [
    "DoubleModelObj.debug_train_model(DataObj.X[:150], scaler(DataObj.features_mat[:150]), DataObj.Y[:150])"
   ]
  },
  {
   "cell_type": "code",
   "execution_count": 466,
   "metadata": {
    "collapsed": false,
    "scrolled": true
   },
   "outputs": [
    {
     "data": {
      "text/plain": [
       "array([ 0.03790154, -0.01344234,  0.00582251, ..., -0.01605296,\n",
       "        0.02256503,  0.02453022], dtype=float32)"
      ]
     },
     "execution_count": 466,
     "metadata": {},
     "output_type": "execute_result"
    }
   ],
   "source": [
    "DoubleModelObj.W1.get_value()"
   ]
  },
  {
   "cell_type": "code",
   "execution_count": 467,
   "metadata": {
    "collapsed": false
   },
   "outputs": [
    {
     "data": {
      "text/plain": [
       "array([ 0.04000185,  0.02962577,  0.02468944, ..., -0.04157329,\n",
       "        0.00542414,  0.01614276], dtype=float32)"
      ]
     },
     "execution_count": 467,
     "metadata": {},
     "output_type": "execute_result"
    }
   ],
   "source": [
    "DoubleModelObj.W2.get_value()"
   ]
  },
  {
   "cell_type": "code",
   "execution_count": 468,
   "metadata": {
    "collapsed": false,
    "scrolled": false
   },
   "outputs": [
    {
     "data": {
      "text/plain": [
       "[array([ -1.04014307e-01,  -2.68846770e-06,  -6.31935447e-02, ...,\n",
       "         -3.21059110e-06,  -5.40719815e-02,  -6.81831688e-02], dtype=float32),\n",
       " array([ -9.85521972e-02,   5.92515380e-06,  -1.48982666e-02, ...,\n",
       "         -8.31465786e-06,   1.08482789e-06,   3.22855135e-06], dtype=float32),\n",
       " CudaNdarray([-0.44567123])]"
      ]
     },
     "execution_count": 468,
     "metadata": {},
     "output_type": "execute_result"
    }
   ],
   "source": [
    "DoubleModelObj.grad_test(DataObj.X[150:300], scaler(DataObj.features_mat[150:300]), DataObj.Y[150:300])"
   ]
  },
  {
   "cell_type": "code",
   "execution_count": 470,
   "metadata": {
    "collapsed": false
   },
   "outputs": [
    {
     "data": {
      "text/plain": [
       "array(0.6683121668064268)"
      ]
     },
     "execution_count": 470,
     "metadata": {},
     "output_type": "execute_result"
    }
   ],
   "source": [
    "DoubleModelObj.debug_train_model(DataObj.X[150:300], scaler(DataObj.features_mat[150:300]), DataObj.Y[150:300])"
   ]
  },
  {
   "cell_type": "code",
   "execution_count": 471,
   "metadata": {
    "collapsed": false
   },
   "outputs": [
    {
     "data": {
      "text/plain": [
       "array([ 0.03790258, -0.01344234,  0.00582314, ..., -0.01605296,\n",
       "        0.02256557,  0.0245309 ], dtype=float32)"
      ]
     },
     "execution_count": 471,
     "metadata": {},
     "output_type": "execute_result"
    }
   ],
   "source": [
    "DoubleModelObj.W1.get_value()"
   ]
  },
  {
   "cell_type": "code",
   "execution_count": 472,
   "metadata": {
    "collapsed": false
   },
   "outputs": [
    {
     "data": {
      "text/plain": [
       "array([ 0.04000284,  0.02962577,  0.02468959, ..., -0.04157329,\n",
       "        0.00542414,  0.01614276], dtype=float32)"
      ]
     },
     "execution_count": 472,
     "metadata": {},
     "output_type": "execute_result"
    }
   ],
   "source": [
    "DoubleModelObj.W2.get_value()"
   ]
  },
  {
   "cell_type": "code",
   "execution_count": null,
   "metadata": {
    "collapsed": true
   },
   "outputs": [],
   "source": []
  }
 ],
 "metadata": {
  "kernelspec": {
   "display_name": "Python [conda root]",
   "language": "python",
   "name": "conda-root-py"
  },
  "language_info": {
   "codemirror_mode": {
    "name": "ipython",
    "version": 2
   },
   "file_extension": ".py",
   "mimetype": "text/x-python",
   "name": "python",
   "nbconvert_exporter": "python",
   "pygments_lexer": "ipython2",
   "version": "2.7.12"
  }
 },
 "nbformat": 4,
 "nbformat_minor": 2
}
