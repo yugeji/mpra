{
 "cells": [
  {
   "cell_type": "code",
   "execution_count": 1,
   "metadata": {
    "collapsed": false
   },
   "outputs": [
    {
     "name": "stderr",
     "output_type": "stream",
     "text": [
      "Using Theano backend.\n",
      "Using gpu device 0: GeForce GTX 1080 (CNMeM is enabled with initial size: 79.0% of memory, cuDNN 5005)\n"
     ]
    },
    {
     "name": "stdout",
     "output_type": "stream",
     "text": [
      "1.0.7\n"
     ]
    },
    {
     "name": "stderr",
     "output_type": "stream",
     "text": [
      "/usr/local/lib/python2.7/dist-packages/sklearn/cross_validation.py:44: DeprecationWarning: This module was deprecated in version 0.18 in favor of the model_selection module into which all the refactored classes and functions are moved. Also note that the interface of the new CV iterators are different from that of this module. This module will be removed in 0.20.\n",
      "  \"This module will be removed in 0.20.\", DeprecationWarning)\n",
      "/usr/local/lib/python2.7/dist-packages/sklearn/grid_search.py:43: DeprecationWarning: This module was deprecated in version 0.18 in favor of the model_selection module into which all the refactored classes and functions are moved. This module will be removed in 0.20.\n",
      "  DeprecationWarning)\n"
     ]
    }
   ],
   "source": [
    "from __future__ import absolute_import, division, print_function\n",
    "from keras.models import Sequential\n",
    "from keras.callbacks import EarlyStopping\n",
    "from keras.layers.core import (Activation, Dense, Dropout, Flatten, Permute,\n",
    "                               Reshape, TimeDistributedDense)\n",
    "from keras.layers.convolutional import Convolution2D, MaxPooling2D\n",
    "from keras.layers.recurrent import GRU\n",
    "from keras.regularizers import l1, l2, l1l2\n",
    "from keras.utils import np_utils\n",
    "from keras import backend as K\n",
    "import numpy as np\n",
    "import copy\n",
    "import matplotlib.pyplot as plt\n",
    "import pandas as pd\n",
    "import sys\n",
    "import os\n",
    "import time\n",
    "import re\n",
    "import numpy as np\n",
    "from collections import OrderedDict\n",
    "from sklearn.metrics import auc, log_loss, precision_recall_curve, roc_auc_score\n",
    "from prg.prg import create_prg_curve, calc_auprg\n",
    "from sklearn.grid_search import ParameterGrid\n",
    "from sklearn.model_selection import StratifiedShuffleSplit\n",
    "from keras.utils.np_utils import to_categorical\n",
    "from keras.layers.normalization import BatchNormalization\n",
    "import keras\n",
    "print(keras.__version__)"
   ]
  },
  {
   "cell_type": "code",
   "execution_count": 2,
   "metadata": {
    "collapsed": true
   },
   "outputs": [],
   "source": [
    "%matplotlib inline\n",
    "import seaborn as sns; sns.set(style=\"white\", color_codes=True)\n",
    "from scipy.stats.mstats import zscore"
   ]
  },
  {
   "cell_type": "code",
   "execution_count": 3,
   "metadata": {
    "collapsed": false
   },
   "outputs": [
    {
     "data": {
      "text/plain": [
       "<module 'motif_processor' from 'motif_processor.pyc'>"
      ]
     },
     "execution_count": 3,
     "metadata": {},
     "output_type": "execute_result"
    }
   ],
   "source": [
    "import motif_processor\n",
    "reload(motif_processor) "
   ]
  },
  {
   "cell_type": "code",
   "execution_count": 4,
   "metadata": {
    "collapsed": false
   },
   "outputs": [
    {
     "name": "stdout",
     "output_type": "stream",
     "text": [
      "2065\n",
      "2065\n"
     ]
    }
   ],
   "source": [
    "    processorObj = motif_processor.MotifProcessor()\n",
    "    print(len(processorObj.all_motifs))\n",
    "    print(len(processorObj.motif_names))"
   ]
  },
  {
   "cell_type": "code",
   "execution_count": 5,
   "metadata": {
    "collapsed": false
   },
   "outputs": [
    {
     "data": {
      "text/plain": [
       "['MSC_1', 'TFEC_1', 'CREB3L1_4', 'HNF4_known26', 'RARB_4']"
      ]
     },
     "execution_count": 5,
     "metadata": {},
     "output_type": "execute_result"
    }
   ],
   "source": [
    "processorObj.motif_names[-5:]"
   ]
  },
  {
   "cell_type": "code",
   "execution_count": 6,
   "metadata": {
    "collapsed": false
   },
   "outputs": [],
   "source": [
    "max_weight, dist = processorObj.find_length_distributions()"
   ]
  },
  {
   "cell_type": "code",
   "execution_count": 7,
   "metadata": {
    "collapsed": false
   },
   "outputs": [
    {
     "data": {
      "text/plain": [
       "<matplotlib.text.Text at 0x7fcced327c10>"
      ]
     },
     "execution_count": 7,
     "metadata": {},
     "output_type": "execute_result"
    },
    {
     "data": {
      "image/png": "[encoded data removed]",
      "text/plain": [
       "<matplotlib.figure.Figure at 0x7fccedf28890>"
      ]
     },
     "metadata": {},
     "output_type": "display_data"
    }
   ],
   "source": [
    "plt.hist(dist, bins=50)\n",
    "plt.title('Length distribution of motifs')\n",
    "plt.xlabel('Length of motif')\n",
    "plt.ylabel('Number of motifs')"
   ]
  },
  {
   "cell_type": "code",
   "execution_count": 8,
   "metadata": {
    "collapsed": false
   },
   "outputs": [
    {
     "data": {
      "text/plain": [
       "10"
      ]
     },
     "execution_count": 8,
     "metadata": {},
     "output_type": "execute_result"
    }
   ],
   "source": [
    "len(processorObj.all_motifs[0])"
   ]
  },
  {
   "cell_type": "code",
   "execution_count": 9,
   "metadata": {
    "collapsed": false
   },
   "outputs": [
    {
     "data": {
      "text/plain": [
       "[['0.008511', '0.004255', '0.987234', '0.000000'],\n",
       " ['0.902127', '0.012766', '0.038298', '0.046809'],\n",
       " ['0.455319', '0.072340', '0.344681', '0.127660'],\n",
       " ['0.251064', '0.085106', '0.085106', '0.578724'],\n",
       " ['0.000000', '0.046809', '0.012766', '0.940425'],\n",
       " ['0.000000', '0.000000', '1.000000', '0.000000'],\n",
       " ['0.038298', '0.021277', '0.029787', '0.910638'],\n",
       " ['0.944681', '0.004255', '0.051064', '0.000000'],\n",
       " ['0.000000', '0.000000', '1.000000', '0.000000'],\n",
       " ['0.000000', '0.000000', '0.012766', '0.987234']]"
      ]
     },
     "execution_count": 9,
     "metadata": {},
     "output_type": "execute_result"
    }
   ],
   "source": [
    "processorObj.all_motifs[0]"
   ]
  },
  {
   "cell_type": "code",
   "execution_count": 10,
   "metadata": {
    "collapsed": false,
    "scrolled": true
   },
   "outputs": [],
   "source": [
    "my_tensor, motif_names = processorObj.generate_filters()"
   ]
  },
  {
   "cell_type": "code",
   "execution_count": 11,
   "metadata": {
    "collapsed": false
   },
   "outputs": [
    {
     "data": {
      "text/plain": [
       "(1953, 4, 18)"
      ]
     },
     "execution_count": 11,
     "metadata": {},
     "output_type": "execute_result"
    }
   ],
   "source": [
    "my_tensor.shape"
   ]
  },
  {
   "cell_type": "code",
   "execution_count": 12,
   "metadata": {
    "collapsed": false
   },
   "outputs": [
    {
     "data": {
      "text/plain": [
       "(4, 18)"
      ]
     },
     "execution_count": 12,
     "metadata": {},
     "output_type": "execute_result"
    }
   ],
   "source": [
    "my_tensor[0].shape"
   ]
  },
  {
   "cell_type": "code",
   "execution_count": 13,
   "metadata": {
    "collapsed": false
   },
   "outputs": [
    {
     "data": {
      "text/plain": [
       "(1953, 4, 18)"
      ]
     },
     "execution_count": 13,
     "metadata": {},
     "output_type": "execute_result"
    }
   ],
   "source": [
    "my_tensor.shape"
   ]
  },
  {
   "cell_type": "code",
   "execution_count": 53,
   "metadata": {
    "collapsed": false
   },
   "outputs": [
    {
     "data": {
      "text/plain": [
       "array([[ 0.25    ,  0.25    ,  0.25    ,  0.25    ],\n",
       "       [ 0.25    ,  0.25    ,  0.25    ,  0.25    ],\n",
       "       [ 0.25    ,  0.25    ,  0.25    ,  0.25    ],\n",
       "       [ 0.25    ,  0.25    ,  0.25    ,  0.25    ],\n",
       "       [ 0.418269,  0.168269,  0.413462,  0.      ],\n",
       "       [ 0.      ,  0.      ,  0.      ,  1.      ],\n",
       "       [ 0.      ,  0.      ,  0.927885,  0.072115],\n",
       "       [ 0.980769,  0.      ,  0.019231,  0.      ],\n",
       "       [ 0.004808,  0.937499,  0.019231,  0.038462],\n",
       "       [ 0.081731,  0.033654,  0.879807,  0.004808],\n",
       "       [ 0.      ,  0.      ,  0.      ,  1.      ],\n",
       "       [ 0.072115,  0.927885,  0.      ,  0.      ],\n",
       "       [ 0.995192,  0.      ,  0.      ,  0.004808],\n",
       "       [ 0.004808,  0.461538,  0.096154,  0.4375  ],\n",
       "       [ 0.25    ,  0.25    ,  0.25    ,  0.25    ],\n",
       "       [ 0.25    ,  0.25    ,  0.25    ,  0.25    ],\n",
       "       [ 0.25    ,  0.25    ,  0.25    ,  0.25    ],\n",
       "       [ 0.25    ,  0.25    ,  0.25    ,  0.25    ]])"
      ]
     },
     "execution_count": 53,
     "metadata": {},
     "output_type": "execute_result"
    }
   ],
   "source": [
    "processorObj.matrix[3].T"
   ]
  },
  {
   "cell_type": "code",
   "execution_count": 188,
   "metadata": {
    "collapsed": false
   },
   "outputs": [
    {
     "data": {
      "text/plain": [
       "<module 'motif_model' from 'motif_model.py'>"
      ]
     },
     "execution_count": 188,
     "metadata": {},
     "output_type": "execute_result"
    }
   ],
   "source": [
    "import motif_model \n",
    "reload(motif_model) "
   ]
  },
  {
   "cell_type": "code",
   "execution_count": 203,
   "metadata": {
    "collapsed": false
   },
   "outputs": [],
   "source": [
    "motifModel = motif_model.SimpleMotifModel(my_tensor)"
   ]
  },
  {
   "cell_type": "code",
   "execution_count": 204,
   "metadata": {
    "collapsed": false
   },
   "outputs": [
    {
     "data": {
      "text/plain": [
       "18"
      ]
     },
     "execution_count": 204,
     "metadata": {},
     "output_type": "execute_result"
    }
   ],
   "source": [
    "motifModel.motif_width"
   ]
  },
  {
   "cell_type": "code",
   "execution_count": 205,
   "metadata": {
    "collapsed": false
   },
   "outputs": [],
   "source": [
    "motifModel.init_model()"
   ]
  },
  {
   "cell_type": "code",
   "execution_count": 181,
   "metadata": {
    "collapsed": false
   },
   "outputs": [
    {
     "name": "stdout",
     "output_type": "stream",
     "text": [
      "convolution2d_27\n",
      "activation_52\n",
      "convolution2d_28\n",
      "activation_53\n",
      "maxpooling2d_17\n",
      "flatten_14\n",
      "dense_41\n",
      "activation_54\n",
      "batchnormalization_21\n",
      "dropout_21\n",
      "dense_42\n",
      "activation_55\n"
     ]
    }
   ],
   "source": [
    "for layer in motifModel.model.layers:\n",
    "    g=layer.get_config()\n",
    "    h=layer.get_weights()\n",
    "    print (g['name']) \n",
    "   \n"
   ]
  },
  {
   "cell_type": "code",
   "execution_count": 123,
   "metadata": {
    "collapsed": true
   },
   "outputs": [],
   "source": [
    "    dna_files = [\"/home/alvin/Dropbox/Lab/CNN/data/processed_cnn/HEPG2_act_mpra_dna.txt\", \"/home/alvin/Dropbox/Lab/CNN/data/processed_cnn/HEPG2_rep_mpra_dna.txt\", \"/home/alvin/Dropbox/Lab/CNN/data/processed_cnn/K562_act_mpra_dna.txt\", \"/home/alvin/Dropbox/Lab/CNN/data/processed_cnn/K562_rep_mpra_dna.txt\", \"/home/alvin/Dropbox/Lab/CNN/data/processed_cnn/LCL/LCL_act_mpra_dna.txt\"]\n",
    "    target_files = [\"/home/alvin/Dropbox/Lab/CNN/data/processed_cnn/HEPG2_act_mpra_tar.txt\", \"/home/alvin/Dropbox/Lab/CNN/data/processed_cnn/HEPG2_rep_mpra_tar.txt\", \"/home/alvin/Dropbox/Lab/CNN/data/processed_cnn/K562_act_mpra_tar.txt\", \"/home/alvin/Dropbox/Lab/CNN/data/processed_cnn/K562_rep_mpra_tar.txt\", \"/home/alvin/Dropbox/Lab/CNN/data/processed_cnn/LCL/LCL_act_mpra_tar.txt\"]\n",
    "    anno_files = [\"/home/alvin/Dropbox/Lab/CNN/data/processed_cnn/HEPG2_act_mpra_det.txt\", \"/home/alvin/Dropbox/Lab/CNN/data/processed_cnn/HEPG2_rep_mpra_det.txt\", \"/home/alvin/Dropbox/Lab/CNN/data/processed_cnn/K562_act_mpra_det.txt\", \"/home/alvin/Dropbox/Lab/CNN/data/processed_cnn/K562_rep_mpra_det.txt\", \"/home/alvin/Dropbox/Lab/CNN/data/processed_cnn/LCL/LCL_act_mpra_det.txt\"]\n",
    "    output_dirs = [\"./HEPG2_act/\", \"./HEPG2_rep/\", \"./K562_act/\", \"./K562_rep/\", \"./LCL_act/\"]\n",
    "    names = [\"HEPG2_act\", \"HEPG2_rep\", \"K562_act\", \"K562_rep\", \"LCL_act\"]\n",
    "    status = [\"act\", \"rep\", \"act\", \"rep\", \"act\"]"
   ]
  },
  {
   "cell_type": "code",
   "execution_count": 124,
   "metadata": {
    "collapsed": true
   },
   "outputs": [],
   "source": [
    "binClassObj = motif_model.BinaryClassProcessor(dna_files, target_files, anno_files, status, type = \"bin\")"
   ]
  },
  {
   "cell_type": "code",
   "execution_count": 125,
   "metadata": {
    "collapsed": true
   },
   "outputs": [],
   "source": [
    "X_train, X_test, Y_train, Y_test = binClassObj.return_train_test_chrom('chr1')"
   ]
  },
  {
   "cell_type": "code",
   "execution_count": 126,
   "metadata": {
    "collapsed": false
   },
   "outputs": [],
   "source": [
    "neg, pos = binClassObj.bin_weights()"
   ]
  },
  {
   "cell_type": "code",
   "execution_count": 139,
   "metadata": {
    "collapsed": false
   },
   "outputs": [
    {
     "name": "stdout",
     "output_type": "stream",
     "text": [
      "[1 1 1 ..., 0 0 0]\n"
     ]
    }
   ],
   "source": [
    "print(Y_train.astype(int))"
   ]
  },
  {
   "cell_type": "code",
   "execution_count": 206,
   "metadata": {
    "collapsed": false,
    "scrolled": true
   },
   "outputs": [
    {
     "name": "stdout",
     "output_type": "stream",
     "text": [
      "Train on 64000 samples, validate on 6861 samples\n",
      "Epoch 1/13\n",
      "64000/64000 [==============================] - 6s - loss: 1.5175 - val_loss: 1.2344\n",
      "Epoch 2/13\n",
      "64000/64000 [==============================] - 6s - loss: 1.3230 - val_loss: 0.9913\n",
      "Epoch 3/13\n",
      "64000/64000 [==============================] - 6s - loss: 1.2844 - val_loss: 0.7654\n",
      "Epoch 4/13\n",
      "64000/64000 [==============================] - 6s - loss: 1.2623 - val_loss: 0.6686\n",
      "Epoch 5/13\n",
      "64000/64000 [==============================] - 6s - loss: 1.2463 - val_loss: 0.4470\n",
      "Epoch 6/13\n",
      "64000/64000 [==============================] - 6s - loss: 1.2341 - val_loss: 0.4965\n",
      "Epoch 7/13\n",
      "64000/64000 [==============================] - 6s - loss: 1.2256 - val_loss: 0.4278\n",
      "Epoch 8/13\n",
      "64000/64000 [==============================] - 6s - loss: 1.2172 - val_loss: 0.3936\n",
      "Epoch 9/13\n",
      "64000/64000 [==============================] - 6s - loss: 1.2079 - val_loss: 0.3779\n",
      "Epoch 10/13\n",
      "64000/64000 [==============================] - 6s - loss: 1.2016 - val_loss: 0.3664\n",
      "Epoch 11/13\n",
      "64000/64000 [==============================] - 6s - loss: 1.1948 - val_loss: 0.4230\n",
      "Epoch 12/13\n",
      "64000/64000 [==============================] - 6s - loss: 1.1899 - val_loss: 0.4281\n",
      "Epoch 13/13\n",
      "64000/64000 [==============================] - 6s - loss: 1.1840 - val_loss: 0.4170\n"
     ]
    },
    {
     "data": {
      "text/plain": [
       "<keras.callbacks.History at 0x7fccbc056a50>"
      ]
     },
     "execution_count": 206,
     "metadata": {},
     "output_type": "execute_result"
    }
   ],
   "source": [
    "motifModel.model.fit(X_train,  Y_train.astype(int), nb_epoch = 13, verbose =1, batch_size = 5000, class_weight = {0:neg,1:pos}, validation_data=(X_test, Y_test) )"
   ]
  },
  {
   "cell_type": "code",
   "execution_count": 116,
   "metadata": {
    "collapsed": false,
    "scrolled": true
   },
   "outputs": [
    {
     "name": "stdout",
     "output_type": "stream",
     "text": [
      "[array([[[[ 0.25      ,  0.25      ,  0.25      , ...,  0.25      ,\n",
      "           0.25      ,  0.25      ],\n",
      "         [ 0.25      ,  0.25      ,  0.25      , ...,  0.25      ,\n",
      "           0.25      ,  0.25      ],\n",
      "         [ 0.25      ,  0.25      ,  0.25      , ...,  0.25      ,\n",
      "           0.25      ,  0.25      ],\n",
      "         [ 0.25      ,  0.25      ,  0.25      , ...,  0.25      ,\n",
      "           0.25      ,  0.25      ]]],\n",
      "\n",
      "\n",
      "       [[[ 0.25      ,  0.25      ,  0.25      , ...,  0.25      ,\n",
      "           0.25      ,  0.25      ],\n",
      "         [ 0.25      ,  0.25      ,  0.25      , ...,  0.25      ,\n",
      "           0.25      ,  0.25      ],\n",
      "         [ 0.25      ,  0.25      ,  0.25      , ...,  0.25      ,\n",
      "           0.25      ,  0.25      ],\n",
      "         [ 0.25      ,  0.25      ,  0.25      , ...,  0.25      ,\n",
      "           0.25      ,  0.25      ]]],\n",
      "\n",
      "\n",
      "       [[[ 0.25      ,  0.25      ,  0.25      , ...,  0.25      ,\n",
      "           0.25      ,  0.25      ],\n",
      "         [ 0.25      ,  0.25      ,  0.25      , ...,  0.25      ,\n",
      "           0.25      ,  0.25      ],\n",
      "         [ 0.25      ,  0.25      ,  0.25      , ...,  0.25      ,\n",
      "           0.25      ,  0.25      ],\n",
      "         [ 0.25      ,  0.25      ,  0.25      , ...,  0.25      ,\n",
      "           0.25      ,  0.25      ]]],\n",
      "\n",
      "\n",
      "       ..., \n",
      "       [[[ 0.25      ,  0.25      ,  0.31818199, ...,  0.83333302,\n",
      "           0.25      ,  0.25      ],\n",
      "         [ 0.25      ,  0.25      ,  0.19697   , ...,  0.064103  ,\n",
      "           0.25      ,  0.25      ],\n",
      "         [ 0.25      ,  0.25      ,  0.30303001, ...,  0.076923  ,\n",
      "           0.25      ,  0.25      ],\n",
      "         [ 0.25      ,  0.25      ,  0.18181799, ...,  0.025641  ,\n",
      "           0.25      ,  0.25      ]]],\n",
      "\n",
      "\n",
      "       [[[ 0.25      ,  0.25      ,  0.20430601, ...,  0.25      ,\n",
      "           0.25      ,  0.25      ],\n",
      "         [ 0.25      ,  0.25      ,  0.486981  , ...,  0.25      ,\n",
      "           0.25      ,  0.25      ],\n",
      "         [ 0.25      ,  0.25      ,  0.13938101, ...,  0.25      ,\n",
      "           0.25      ,  0.25      ],\n",
      "         [ 0.25      ,  0.25      ,  0.169333  , ...,  0.25      ,\n",
      "           0.25      ,  0.25      ]]],\n",
      "\n",
      "\n",
      "       [[[ 0.25      ,  0.86363602,  0.89999998, ...,  0.        ,\n",
      "           1.        ,  0.25      ],\n",
      "         [ 0.25      ,  0.        ,  0.1       , ...,  1.        ,\n",
      "           0.        ,  0.25      ],\n",
      "         [ 0.25      ,  0.045455  ,  0.        , ...,  0.        ,\n",
      "           0.        ,  0.25      ],\n",
      "         [ 0.25      ,  0.090909  ,  0.        , ...,  0.        ,\n",
      "           0.        ,  0.25      ]]]], dtype=float32)]\n"
     ]
    }
   ],
   "source": [
    "print(motifModel.model.layers[0].get_weights())"
   ]
  },
  {
   "cell_type": "code",
   "execution_count": 207,
   "metadata": {
    "collapsed": false
   },
   "outputs": [],
   "source": [
    "results = motifModel.model.predict(X_test)"
   ]
  },
  {
   "cell_type": "code",
   "execution_count": 208,
   "metadata": {
    "collapsed": true
   },
   "outputs": [],
   "source": [
    "newClassResult = motif_model.ClassificationResult(Y_test, results)"
   ]
  },
  {
   "cell_type": "code",
   "execution_count": 209,
   "metadata": {
    "collapsed": false
   },
   "outputs": [
    {
     "data": {
      "text/plain": [
       "[('Loss', 0.41703912743120275),\n",
       " ('Balanced_accuracy', 93.783704999271237),\n",
       " ('auROC', 0.68354562029837518),\n",
       " ('auPRC', 0.2121215114414535),\n",
       " ('auPRG', 0.53734119304798622),\n",
       " ('Recall_at_5%_FDR', 0.23446658851113714),\n",
       " ('Recall_at_10%_FDR', 0.23446658851113714),\n",
       " ('Recall_at_20%_FDR', 0.23446658851113714),\n",
       " ('Num_Positives', 853),\n",
       " ('Num_Negatives', 6008)]"
      ]
     },
     "execution_count": 209,
     "metadata": {},
     "output_type": "execute_result"
    }
   ],
   "source": [
    "newClassResult.binary(Y_test.astype(int).flatten(), results.flatten())"
   ]
  },
  {
   "cell_type": "code",
   "execution_count": 210,
   "metadata": {
    "collapsed": false
   },
   "outputs": [
    {
     "data": {
      "text/plain": [
       "array([ 1.,  1.,  1., ...,  0.,  0.,  1.])"
      ]
     },
     "execution_count": 210,
     "metadata": {},
     "output_type": "execute_result"
    }
   ],
   "source": [
    "Y_test.flatten()"
   ]
  },
  {
   "cell_type": "code",
   "execution_count": 211,
   "metadata": {
    "collapsed": false
   },
   "outputs": [
    {
     "data": {
      "text/plain": [
       "array([ 0.54416966,  0.34357974,  0.72191691, ...,  0.03348216,\n",
       "        0.06726027,  0.23577698], dtype=float32)"
      ]
     },
     "execution_count": 211,
     "metadata": {},
     "output_type": "execute_result"
    }
   ],
   "source": [
    "results.flatten()"
   ]
  },
  {
   "cell_type": "code",
   "execution_count": null,
   "metadata": {
    "collapsed": true
   },
   "outputs": [],
   "source": []
  }
 ],
 "metadata": {
  "kernelspec": {
   "display_name": "Python 2",
   "language": "python",
   "name": "python2"
  },
  "language_info": {
   "codemirror_mode": {
    "name": "ipython",
    "version": 2
   },
   "file_extension": ".py",
   "mimetype": "text/x-python",
   "name": "python",
   "nbconvert_exporter": "python",
   "pygments_lexer": "ipython2",
   "version": "2.7.12"
  }
 },
 "nbformat": 4,
 "nbformat_minor": 1
}
