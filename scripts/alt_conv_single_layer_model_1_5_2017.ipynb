{
 "cells": [
  {
   "cell_type": "code",
   "execution_count": 5,
   "metadata": {
    "collapsed": false
   },
   "outputs": [],
   "source": [
    "import os\n",
    "import sys\n",
    "import numpy as np\n",
    "import copy\n",
    "import matplotlib.pyplot as plt\n",
    "import pandas as pd\n",
    "import time\n",
    "import pickle\n",
    "import theano\n",
    "from theano import tensor as T\n",
    "from theano.tensor.nnet import conv2d\n",
    "from theano.tensor.nnet.nnet import sigmoid, softmax, relu, binary_crossentropy, categorical_crossentropy\n",
    "from theano.tensor.signal.downsample import max_pool_2d\n",
    "from theano.sandbox.rng_mrg import MRG_RandomStreams as RandomStream\n",
    "from theano.compile.nanguardmode import NanGuardMode\n",
    "from theano.compile.debugmode import DebugMode\n",
    "from collections import OrderedDict\n",
    "from sklearn.metrics import auc, log_loss, precision_recall_curve, roc_auc_score\n",
    "from prg.prg import create_prg_curve, calc_auprg\n",
    "from theano import pp\n",
    "from sklearn.grid_search import ParameterGrid\n",
    "from sklearn.preprocessing import scale \n",
    "np.random.seed(42)\n",
    "from sklearn.linear_model import LogisticRegressionCV, LogisticRegression\n",
    "from keras.models import Sequential\n",
    "from keras.callbacks import EarlyStopping\n",
    "from keras.layers.core import (\n",
    "    Activation, Dense, Dropout, Flatten,\n",
    "    Permute, Reshape, TimeDistributedDense\n",
    ")\n",
    "import keras\n",
    "from keras.layers.convolutional import Convolution2D, MaxPooling2D\n",
    "from keras.layers.recurrent import GRU\n",
    "from keras.layers.normalization import BatchNormalization\n",
    "from keras.regularizers import l1, l2, l1l2\n",
    "from keras.utils import np_utils\n",
    "from keras import backend as K\n",
    "import seaborn as sns\n",
    "sns.set_style('whitegrid')\n",
    "import matplotlib.pyplot as plt\n",
    "plt.style.use('seaborn-whitegrid')\n"
   ]
  },
  {
   "cell_type": "code",
   "execution_count": 4,
   "metadata": {
    "collapsed": false
   },
   "outputs": [
    {
     "name": "stdout",
     "output_type": "stream",
     "text": [
      "[u'seaborn-darkgrid', u'seaborn-notebook', u'classic', u'seaborn-ticks', u'grayscale', u'bmh', u'seaborn-talk', u'dark_background', u'ggplot', u'fivethirtyeight', u'seaborn-colorblind', u'seaborn-deep', u'seaborn-whitegrid', u'seaborn-bright', u'seaborn-poster', u'seaborn-muted', u'seaborn-paper', u'seaborn-white', u'seaborn-pastel', u'seaborn-dark', u'seaborn-dark-palette']\n"
     ]
    }
   ],
   "source": [
    "print(plt.style.available)"
   ]
  },
  {
   "cell_type": "code",
   "execution_count": 6,
   "metadata": {
    "collapsed": false
   },
   "outputs": [
    {
     "name": "stdout",
     "output_type": "stream",
     "text": [
      "2065\n",
      "2065\n"
     ]
    }
   ],
   "source": [
    "import motif_processor\n",
    "reload(motif_processor)\n",
    "processorObj = motif_processor.MotifProcessor()\n",
    "print(len(processorObj.all_motifs))\n",
    "print(len(processorObj.motif_names))\n",
    "motif_tensor, motif_names = processorObj.generate_custom_CNN_filters(max_length = 18, padding = 0, truncate = False)"
   ]
  },
  {
   "cell_type": "code",
   "execution_count": 52,
   "metadata": {
    "collapsed": false
   },
   "outputs": [
    {
     "data": {
      "text/plain": [
       "<module 'common_utils' from 'common_utils.py'>"
      ]
     },
     "execution_count": 52,
     "metadata": {},
     "output_type": "execute_result"
    }
   ],
   "source": [
    "import common_utils\n",
    "reload(common_utils)"
   ]
  },
  {
   "cell_type": "code",
   "execution_count": 9,
   "metadata": {
    "collapsed": false
   },
   "outputs": [],
   "source": [
    "CrossValProcObj = common_utils.CrossValProcessor(output_dirs = [\"./HEPG2_act_alt_1_7/\", \"./HEPG2_rep_alt_1_7/\", \n",
    "                                                                      \"./K562_act_alt_1_7/\", \"./K562_act_alt_1_7/\",\n",
    "                                                                      \"./LCL_act_alt_1_7/\"])\n"
   ]
  },
  {
   "cell_type": "markdown",
   "metadata": {},
   "source": [
    "# Testing on a single chromosome "
   ]
  },
  {
   "cell_type": "code",
   "execution_count": 10,
   "metadata": {
    "collapsed": true
   },
   "outputs": [],
   "source": [
    "X_train = CrossValProcObj.HepG2_dict['chr1']['X_train'] \n",
    "X_test = CrossValProcObj.HepG2_dict['chr1']['X_test'] \n",
    "Y_train = CrossValProcObj.HepG2_dict['chr1']['Y_train'] \n",
    "Y_test = CrossValProcObj.HepG2_dict['chr1']['Y_test']\n",
    "chrom_indices = CrossValProcObj.HepG2_dict['chr1']['chrom_indices']\n",
    "other_indices = CrossValProcObj.HepG2_dict['chr1']['other_indices']\n",
    "merged_tensor = CrossValProcObj.HepG2_binObj.merged_tensor\n",
    "merged_tar = CrossValProcObj.HepG2_binObj.merged_tar"
   ]
  },
  {
   "cell_type": "code",
   "execution_count": 105,
   "metadata": {
    "collapsed": false
   },
   "outputs": [
    {
     "data": {
      "text/plain": [
       "<module 'alt_conv_model_1_5_2017' from 'alt_conv_model_1_5_2017.py'>"
      ]
     },
     "execution_count": 105,
     "metadata": {},
     "output_type": "execute_result"
    }
   ],
   "source": [
    "import alt_conv_model_1_5_2017\n",
    "reload(alt_conv_model_1_5_2017)"
   ]
  },
  {
   "cell_type": "code",
   "execution_count": 106,
   "metadata": {
    "collapsed": false
   },
   "outputs": [],
   "source": [
    "ConvLayerObj = alt_conv_model_1_5_2017.ConvLayer(motif_tensor)"
   ]
  },
  {
   "cell_type": "code",
   "execution_count": 107,
   "metadata": {
    "collapsed": false
   },
   "outputs": [],
   "source": [
    "ConvPredObj = alt_conv_model_1_5_2017.ConvPredictor(merged_tensor, merged_tar, motif_tensor.shape, ConvLayerObj)"
   ]
  },
  {
   "cell_type": "code",
   "execution_count": 108,
   "metadata": {
    "collapsed": false
   },
   "outputs": [
    {
     "name": "stdout",
     "output_type": "stream",
     "text": [
      "0.6853\t59.0536\t0.6150\t0.1470\t0.3627\t0.0000\t0.0000\t0.0000\t143.0000\t1134.0000\n",
      "Completed lin reg on chromsome chr1 in 6.0943 seconds\n",
      "0.6844\t53.1999\t0.5535\t0.1562\t0.3843\t0.0000\t0.0000\t0.0000\t82.0000\t565.0000\n",
      "Completed lin reg on chromsome chr10 in 14.3564 seconds\n",
      "0.6862\t51.1178\t0.5368\t0.1350\t-0.1076\t0.0000\t0.0000\t0.0000\t84.0000\t557.0000\n",
      "Completed lin reg on chromsome chr11 in 22.0516 seconds\n",
      "0.6833\t57.2177\t0.5676\t0.1427\t0.2510\t0.0000\t0.0000\t0.0000\t77.0000\t590.0000\n",
      "Completed lin reg on chromsome chr12 in 29.3351 seconds\n",
      "0.6791\t61.6397\t0.6275\t0.1451\t0.3699\t0.0000\t0.0000\t0.0000\t28.0000\t274.0000\n",
      "Completed lin reg on chromsome chr13 in 37.3260 seconds\n",
      "0.6889\t51.6149\t0.4824\t0.1032\t-0.2394\t0.0000\t0.0000\t0.0000\t47.0000\t361.0000\n",
      "Completed lin reg on chromsome chr14 in 47.0861 seconds\n",
      "0.6847\t52.8070\t0.5728\t0.1678\t0.3264\t0.0000\t0.0000\t0.0000\t57.0000\t360.0000\n",
      "Completed lin reg on chromsome chr15 in 55.5235 seconds\n",
      "0.6909\t53.8473\t0.5347\t0.2305\t0.1909\t0.0000\t0.0000\t0.0000\t95.0000\t355.0000\n",
      "Completed lin reg on chromsome chr16 in 62.8698 seconds\n",
      "0.6872\t52.2921\t0.5522\t0.1970\t0.2849\t1.1905\t1.1905\t1.1905\t84.0000\t469.0000\n",
      "Completed lin reg on chromsome chr17 in 69.2025 seconds\n",
      "0.6806\t51.5826\t0.5437\t0.1126\t-0.0429\t0.0000\t0.0000\t0.0000\t28.0000\t255.0000\n",
      "Completed lin reg on chromsome chr18 in 76.6481 seconds\n",
      "0.6913\t47.5289\t0.5019\t0.2339\t-0.0268\t0.0000\t0.0000\t0.0000\t99.0000\t308.0000\n",
      "Completed lin reg on chromsome chr19 in 85.7614 seconds\n",
      "0.6841\t50.7300\t0.5436\t0.1312\t0.1780\t0.0000\t0.0000\t0.0000\t116.0000\t953.0000\n",
      "Completed lin reg on chromsome chr2 in 91.9139 seconds\n",
      "0.6865\t58.7648\t0.6114\t0.1868\t0.4362\t2.5000\t2.5000\t2.5000\t40.0000\t338.0000\n",
      "Completed lin reg on chromsome chr20 in 99.1608 seconds\n",
      "0.6860\t50.1471\t0.5569\t0.1654\t0.5569\t0.0000\t0.0000\t0.0000\t15.0000\t136.0000\n",
      "Completed lin reg on chromsome chr21 in 105.5601 seconds\n",
      "0.6928\t51.6441\t0.4995\t0.2239\t0.0917\t0.0000\t0.0000\t0.0000\t48.0000\t166.0000\n",
      "Completed lin reg on chromsome chr22 in 111.4600 seconds\n",
      "0.6852\t56.8099\t0.5915\t0.1507\t0.3659\t0.0000\t0.0000\t0.0000\t98.0000\t760.0000\n",
      "Completed lin reg on chromsome chr3 in 117.3664 seconds\n",
      "0.6813\t58.3042\t0.6332\t0.1115\t0.5047\t0.0000\t0.0000\t0.0000\t46.0000\t572.0000\n",
      "Completed lin reg on chromsome chr4 in 123.2847 seconds\n",
      "0.6823\t55.7355\t0.5868\t0.1167\t0.3450\t0.0000\t0.0000\t0.0000\t64.0000\t656.0000\n",
      "Completed lin reg on chromsome chr5 in 129.3526 seconds\n",
      "0.6819\t57.0604\t0.6176\t0.1242\t0.2531\t0.0000\t0.0000\t0.0000\t84.0000\t787.0000\n",
      "Completed lin reg on chromsome chr6 in 135.0853 seconds\n",
      "0.6813\t60.9613\t0.6606\t0.1899\t0.5198\t0.0000\t0.0000\t0.0000\t84.0000\t617.0000\n",
      "Completed lin reg on chromsome chr7 in 140.8782 seconds\n",
      "0.6829\t54.2148\t0.5738\t0.1361\t0.2294\t0.0000\t0.0000\t0.0000\t60.0000\t467.0000\n",
      "Completed lin reg on chromsome chr8 in 148.0494 seconds\n",
      "0.6835\t60.8126\t0.6402\t0.1896\t0.4594\t0.0000\t0.0000\t0.0000\t72.0000\t470.0000\n",
      "Completed lin reg on chromsome chr9 in 156.6104 seconds\n",
      "0.6832\t58.1195\t0.5765\t0.2088\t0.3899\t0.0000\t0.0000\t0.0000\t44.0000\t248.0000\n",
      "Completed lin reg on chromsome chrX in 164.9829 seconds\n",
      "0.6845\t55.5589\t0.5796\t0.1525\t0.2887\t0.0627\t0.0627\t0.0627\t1595.0000\t11399.0000\n",
      "0.6889\t50.7937\t0.5404\t0.1467\t0.1238\t0.0000\t0.0000\t0.0000\t162.0000\t1057.0000\n",
      "Completed lin reg on chromsome chr1 in 4.3569 seconds\n",
      "0.6873\t50.8697\t0.5152\t0.1655\t0.0912\t1.0989\t1.0989\t1.0989\t91.0000\t537.0000\n",
      "Completed lin reg on chromsome chr10 in 10.5225 seconds\n",
      "0.6883\t50.9524\t0.5357\t0.1628\t0.1448\t1.1905\t1.1905\t1.1905\t84.0000\t525.0000\n",
      "Completed lin reg on chromsome chr11 in 16.2242 seconds\n",
      "0.6875\t48.4578\t0.5077\t0.1218\t-0.2040\t0.0000\t0.0000\t0.0000\t77.0000\t528.0000\n",
      "Completed lin reg on chromsome chr12 in 20.6764 seconds\n",
      "0.6827\t60.1182\t0.6157\t0.1926\t0.4715\t0.0000\t0.0000\t0.0000\t36.0000\t235.0000\n",
      "Completed lin reg on chromsome chr13 in 26.5580 seconds\n",
      "0.6868\t51.8835\t0.5368\t0.2252\t0.1938\t5.4545\t5.4545\t5.4545\t55.0000\t306.0000\n",
      "Completed lin reg on chromsome chr14 in 31.7040 seconds\n",
      "0.6877\t55.6061\t0.5609\t0.1707\t0.1422\t0.0000\t0.0000\t0.0000\t55.0000\t330.0000\n",
      "Completed lin reg on chromsome chr15 in 37.4012 seconds\n",
      "0.6881\t55.0958\t0.5656\t0.2072\t0.0816\t0.0000\t0.0000\t0.0000\t85.0000\t356.0000\n",
      "Completed lin reg on chromsome chr16 in 41.7260 seconds\n",
      "0.6897\t54.6913\t0.5317\t0.1650\t-0.1005\t0.0000\t0.0000\t0.0000\t88.0000\t452.0000\n",
      "Completed lin reg on chromsome chr17 in 46.6930 seconds\n",
      "0.6909\t42.5037\t0.4222\t0.0935\t-0.5984\t0.0000\t0.0000\t0.0000\t30.0000\t227.0000\n",
      "Completed lin reg on chromsome chr18 in 52.2264 seconds\n",
      "0.6924\t51.8858\t0.5148\t0.2129\t0.0300\t0.0000\t0.0000\t0.0000\t88.0000\t326.0000\n",
      "Completed lin reg on chromsome chr19 in 56.8237 seconds\n",
      "0.6864\t56.5281\t0.5761\t0.1400\t0.2612\t0.0000\t0.0000\t0.0000\t112.0000\t854.0000\n",
      "Completed lin reg on chromsome chr2 in 62.6119 seconds\n",
      "0.6890\t47.9635\t0.5289\t0.1448\t0.0643\t0.0000\t0.0000\t0.0000\t50.0000\t329.0000\n",
      "Completed lin reg on chromsome chr20 in 68.0444 seconds\n",
      "0.6847\t64.1876\t0.6632\t0.2470\t0.2002\t0.0000\t0.0000\t0.0000\t23.0000\t114.0000\n",
      "Completed lin reg on chromsome chr21 in 73.1573 seconds\n",
      "0.6873\t55.2589\t0.5935\t0.3147\t0.3880\t1.9231\t1.9231\t1.9231\t52.0000\t179.0000\n",
      "Completed lin reg on chromsome chr22 in 78.4994 seconds\n",
      "0.6882\t54.7104\t0.5483\t0.1613\t0.1152\t0.0000\t0.0000\t0.0000\t116.0000\t695.0000\n",
      "Completed lin reg on chromsome chr3 in 82.9259 seconds\n",
      "0.6852\t56.4401\t0.6056\t0.1751\t0.4294\t0.0000\t0.0000\t0.0000\t67.0000\t478.0000\n",
      "Completed lin reg on chromsome chr4 in 87.5546 seconds\n",
      "0.6886\t50.4092\t0.5220\t0.1216\t-0.1692\t0.0000\t0.0000\t0.0000\t80.0000\t559.0000\n",
      "Completed lin reg on chromsome chr5 in 92.2369 seconds\n",
      "0.6861\t55.0434\t0.5900\t0.1223\t0.3761\t0.0000\t0.0000\t0.0000\t65.0000\t762.0000\n",
      "Completed lin reg on chromsome chr6 in 97.4843 seconds\n",
      "0.6850\t58.1609\t0.6019\t0.1948\t0.4024\t0.0000\t0.0000\t0.0000\t87.0000\t550.0000\n",
      "Completed lin reg on chromsome chr7 in 103.3437 seconds\n",
      "0.6852\t56.3255\t0.5730\t0.1726\t0.1677\t0.0000\t0.0000\t0.0000\t67.0000\t420.0000\n",
      "Completed lin reg on chromsome chr8 in 107.7545 seconds\n",
      "0.6893\t55.9099\t0.5625\t0.1703\t0.2868\t0.0000\t0.0000\t0.0000\t72.0000\t439.0000\n",
      "Completed lin reg on chromsome chr9 in 113.0028 seconds\n",
      "0.6852\t53.7013\t0.5679\t0.2067\t0.2640\t0.0000\t0.0000\t0.0000\t49.0000\t220.0000\n",
      "Completed lin reg on chromsome chrX in 118.8063 seconds\n",
      "0.6875\t53.6496\t0.5532\t0.1580\t0.1475\t0.0000\t0.0000\t0.0000\t1691.0000\t10479.0000\n",
      "0.6862\t52.5545\t0.5396\t0.1492\t0.1647\t0.0000\t0.0000\t0.0000\t246.0000\t1626.0000\n",
      "Completed lin reg on chromsome chr1 in 8.8751 seconds\n",
      "0.6849\t57.4271\t0.5961\t0.1266\t0.3462\t0.0000\t0.0000\t0.0000\t102.0000\t965.0000\n",
      "Completed lin reg on chromsome chr10 in 19.3490 seconds\n",
      "0.6856\t54.5088\t0.5713\t0.1608\t0.1957\t0.0000\t0.0000\t0.0000\t154.0000\t1081.0000\n",
      "Completed lin reg on chromsome chr11 in 28.7446 seconds\n",
      "0.6864\t51.5921\t0.5445\t0.1406\t0.2108\t0.0000\t0.0000\t0.0000\t111.0000\t784.0000\n",
      "Completed lin reg on chromsome chr12 in 39.2796 seconds\n",
      "0.6810\t57.9051\t0.6206\t0.1925\t0.4499\t4.3478\t4.3478\t4.3478\t23.0000\t209.0000\n",
      "Completed lin reg on chromsome chr13 in 49.0683 seconds\n",
      "0.6869\t53.5788\t0.5653\t0.1996\t0.1375\t2.3810\t2.3810\t2.3810\t84.0000\t486.0000\n",
      "Completed lin reg on chromsome chr14 in 59.8357 seconds\n",
      "0.6883\t55.5982\t0.5462\t0.1494\t0.1539\t0.0000\t0.0000\t0.0000\t95.0000\t619.0000\n",
      "Completed lin reg on chromsome chr15 in 69.4425 seconds\n",
      "0.6904\t51.2885\t0.5258\t0.2095\t0.1903\t1.6949\t1.6949\t1.6949\t118.0000\t636.0000\n",
      "Completed lin reg on chromsome chr16 in 82.8965 seconds\n",
      "0.6891\t53.0734\t0.5441\t0.1577\t0.1144\t0.0000\t0.0000\t0.0000\t468.0000\t2725.0000\n",
      "Completed lin reg on chromsome chr17 in 92.1325 seconds\n",
      "0.6854\t54.3326\t0.5258\t0.2042\t0.3401\t2.7027\t2.7027\t2.7027\t37.0000\t228.0000\n",
      "Completed lin reg on chromsome chr18 in 102.7004 seconds\n",
      "0.6898\t56.7252\t0.5877\t0.2214\t0.3126\t0.0000\t0.0000\t0.0000\t183.0000\t868.0000\n",
      "Completed lin reg on chromsome chr19 in 112.8409 seconds\n",
      "0.6860\t54.1598\t0.5397\t0.1488\t0.0471\t0.0000\t0.0000\t0.0000\t117.0000\t748.0000\n",
      "Completed lin reg on chromsome chr2 in 124.9148 seconds\n",
      "0.6880\t52.9539\t0.5738\t0.1430\t0.4560\t0.0000\t0.0000\t0.0000\t81.0000\t671.0000\n",
      "Completed lin reg on chromsome chr20 in 135.4599 seconds\n",
      "0.6893\t58.3640\t0.5680\t0.1705\t0.3356\t0.0000\t0.0000\t0.0000\t32.0000\t204.0000\n",
      "Completed lin reg on chromsome chr21 in 145.9510 seconds\n",
      "0.6927\t49.1273\t0.5209\t0.1774\t0.1290\t0.0000\t0.0000\t0.0000\t99.0000\t577.0000\n",
      "Completed lin reg on chromsome chr22 in 155.7442 seconds\n",
      "0.6848\t53.6306\t0.5641\t0.1390\t0.2735\t0.0000\t0.0000\t0.0000\t128.0000\t975.0000\n",
      "Completed lin reg on chromsome chr3 in 166.0194 seconds\n",
      "0.6846\t53.6303\t0.5648\t0.1340\t0.2614\t0.0000\t0.0000\t0.0000\t113.0000\t885.0000\n",
      "Completed lin reg on chromsome chr4 in 175.1380 seconds\n",
      "0.6868\t50.9159\t0.5249\t0.1522\t0.2721\t1.1111\t1.1111\t1.1111\t90.0000\t666.0000\n",
      "Completed lin reg on chromsome chr5 in 184.3030 seconds\n",
      "0.6855\t50.8197\t0.5352\t0.1574\t0.1467\t0.5405\t0.5405\t0.5405\t185.0000\t1220.0000\n",
      "Completed lin reg on chromsome chr6 in 194.3791 seconds\n",
      "0.6886\t52.3890\t0.5461\t0.1647\t0.1916\t0.6494\t0.6494\t0.6494\t154.0000\t938.0000\n",
      "Completed lin reg on chromsome chr7 in 205.1713 seconds\n",
      "0.6880\t52.3810\t0.5294\t0.1288\t-0.0710\t0.0000\t0.0000\t0.0000\t75.0000\t525.0000\n",
      "Completed lin reg on chromsome chr8 in 215.0732 seconds\n",
      "0.6883\t52.6638\t0.5557\t0.1504\t-0.0235\t0.0000\t0.0000\t0.0000\t75.0000\t464.0000\n",
      "Completed lin reg on chromsome chr9 in 224.6316 seconds\n",
      "0.6872\t53.4213\t0.5531\t0.1556\t0.2006\t0.0000\t0.0000\t0.0000\t2770.0000\t18101.0000\n"
     ]
    }
   ],
   "source": [
    "    CvEngineObj=alt_conv_model_1_5_2017.CvEngine('K562_act', motif_tensor, motif_names, CrossValProcObj.K562_binObj.merged_tensor, CrossValProcObj.K562_binObj.merged_tar, output_dir =\"./K562_act_alt_1_7/\", debug=False)\n",
    "    CvEngineObj.start_CV(CrossValProcObj.K562_dict)\n",
    "    CvEngineObj.summarize(dump_indices = True, dump_weights_bias = True, prefix = 'K562_L2') \n",
    "    CvEngineObj=alt_conv_model_1_5_2017.CvEngine('HepG2_act', motif_tensor, motif_names, CrossValProcObj.HepG2_binObj.merged_tensor, CrossValProcObj.HepG2_binObj.merged_tar, output_dir =\"./HEPG2_act_alt_1_7/\", debug=False)\n",
    "    CvEngineObj.start_CV(CrossValProcObj.HepG2_dict)\n",
    "    CvEngineObj.summarize(dump_indices = True, dump_weights_bias = True, prefix = 'HepG2_L2') \n",
    "    CvEngineObj=alt_conv_model_1_5_2017.CvEngine('LCL_act', motif_tensor, motif_names, CrossValProcObj.LCL_binObj.merged_tensor, CrossValProcObj.LCL_binObj.merged_tar, output_dir =\"./LCL_act_alt_1_7/\", debug=False)\n",
    "    CvEngineObj.start_CV(CrossValProcObj.LCL_dict)\n",
    "    CvEngineObj.summarize(dump_indices = True, dump_weights_bias = True, prefix = 'LCL_L2')"
   ]
  },
  {
   "cell_type": "code",
   "execution_count": 94,
   "metadata": {
    "collapsed": false
   },
   "outputs": [],
   "source": [
    "probs, results = ConvPredObj.LogisticRegCVPredict(chrom_indices, other_indices, solver = 'lbfgs', tol=0.0001)"
   ]
  },
  {
   "cell_type": "code",
   "execution_count": 109,
   "metadata": {
    "collapsed": false
   },
   "outputs": [
    {
     "name": "stderr",
     "output_type": "stream",
     "text": [
      "/usr/local/lib/python2.7/dist-packages/keras/engine/topology.py:1655: UserWarning: Model inputs must come from a Keras Input layer, they cannot be the output of a previous non-Input layer. Here, a tensor specified as input to \"sequential_5_model\" was not an Input tensor, it was generated by layer dropout_11.\n",
      "Note that input tensors are instantiated via `tensor = Input(shape)`.\n",
      "The tensor that caused the issue was: dropout_input_5\n",
      "  str(x.name))\n"
     ]
    },
    {
     "name": "stdout",
     "output_type": "stream",
     "text": [
      "Epoch 00069: early stopping\n"
     ]
    }
   ],
   "source": [
    "probs, results = ConvPredObj.FC_1layer_model(chrom_indices, other_indices, L1 =0, L2 = 0)"
   ]
  },
  {
   "cell_type": "code",
   "execution_count": 96,
   "metadata": {
    "collapsed": true
   },
   "outputs": [],
   "source": [
    "BinProcObj = common_utils.ClassificationResult(Y_test, probs)"
   ]
  },
  {
   "cell_type": "code",
   "execution_count": 97,
   "metadata": {
    "collapsed": false
   },
   "outputs": [],
   "source": [
    "BinProcObj.self_binary()"
   ]
  },
  {
   "cell_type": "code",
   "execution_count": 98,
   "metadata": {
    "collapsed": false
   },
   "outputs": [
    {
     "data": {
      "text/plain": [
       "'0.7460\\t50.0000\\t0.4943\\t0.1299\\t0.0411\\t0.0000\\t0.0000\\t0.0000\\t162.0000\\t1057.0000'"
      ]
     },
     "execution_count": 98,
     "metadata": {},
     "output_type": "execute_result"
    }
   ],
   "source": [
    "str(BinProcObj)"
   ]
  },
  {
   "cell_type": "code",
   "execution_count": 85,
   "metadata": {
    "collapsed": false
   },
   "outputs": [
    {
     "data": {
      "text/plain": [
       "array([[ 8.3493185 ,  7.95776033,  7.80000067, ...,  7.80000019,\n",
       "         8.85049152,  8.16976452],\n",
       "       [ 9.26122475,  7.625     ,  8.01048088, ...,  8.85018826,\n",
       "         7.81585836,  7.99570751],\n",
       "       [ 9.0059433 ,  9.14638233,  8.2268734 , ...,  8.65901089,\n",
       "         8.49999905,  9.0487957 ],\n",
       "       ..., \n",
       "       [ 9.10811424,  8.85716248,  8.1289463 , ...,  8.26907635,\n",
       "         9.07520962,  7.93333435],\n",
       "       [ 7.49999905,  7.94916439,  8.090909  , ...,  7.36912346,\n",
       "         8.60656261,  7.89795017],\n",
       "       [ 8.32208633,  8.189188  ,  7.61695957, ...,  9.15642262,\n",
       "         9.31704998,  7.13278675]])"
      ]
     },
     "execution_count": 85,
     "metadata": {},
     "output_type": "execute_result"
    }
   ],
   "source": [
    "ConvPredObj.X_conv[:10]"
   ]
  },
  {
   "cell_type": "code",
   "execution_count": null,
   "metadata": {
    "collapsed": true
   },
   "outputs": [],
   "source": []
  }
 ],
 "metadata": {
  "kernelspec": {
   "display_name": "Python 2",
   "language": "python",
   "name": "python2"
  },
  "language_info": {
   "codemirror_mode": {
    "name": "ipython",
    "version": 2
   },
   "file_extension": ".py",
   "mimetype": "text/x-python",
   "name": "python",
   "nbconvert_exporter": "python",
   "pygments_lexer": "ipython2",
   "version": "2.7.12"
  }
 },
 "nbformat": 4,
 "nbformat_minor": 0
}
