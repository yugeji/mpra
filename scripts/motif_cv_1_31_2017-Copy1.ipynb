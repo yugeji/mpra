{
 "cells": [
  {
   "cell_type": "code",
   "execution_count": 1,
   "metadata": {
    "collapsed": true
   },
   "outputs": [],
   "source": [
    "import matplotlib.pyplot as plt\n",
    "import numpy as np\n",
    "from sklearn.model_selection import ParameterGrid\n",
    "%matplotlib inline\n",
    "import random"
   ]
  },
  {
   "cell_type": "code",
   "execution_count": 2,
   "metadata": {
    "collapsed": false
   },
   "outputs": [
    {
     "data": {
      "text/plain": [
       "<module 'motif_processor' from 'motif_processor.pyc'>"
      ]
     },
     "execution_count": 2,
     "metadata": {},
     "output_type": "execute_result"
    }
   ],
   "source": [
    "import motif_processor\n",
    "reload(motif_processor)"
   ]
  },
  {
   "cell_type": "code",
   "execution_count": 3,
   "metadata": {
    "collapsed": true
   },
   "outputs": [],
   "source": [
    "MotifProcObj = motif_processor.MotifProcessor(ENCODE_only=True, \n",
    "                                                   cell_line=\"HepG2\", \n",
    "                                                  meme_file=\"/home/alvin/Dropbox/Lab/CNN/data/meme/HepG2_pos_steme/steme.txt\")\n",
    "motif_tensor, motif_names = MotifProcObj.generate_custom_CNN_filters(max_length = 18, padding = 0, truncate = False)\n"
   ]
  },
  {
   "cell_type": "code",
   "execution_count": 4,
   "metadata": {
    "collapsed": true
   },
   "outputs": [],
   "source": [
    "HepG2MotifProcObj = motif_processor.MotifProcessor(ENCODE_only=False, \n",
    "                                                   cell_line=\"HepG2\", \n",
    "                                                   meme_file=\"/home/alvin/Dropbox/Lab/CNN/data/meme/HepG2_pos_steme/steme.txt\")\n",
    "HepG2_motif_tensor, HepG2_motif_names = HepG2MotifProcObj.generate_custom_CNN_filters(max_length = 18, padding = 0, truncate = False)\n",
    "\n",
    "K562MotifProcObj = motif_processor.MotifProcessor(ENCODE_only=False, \n",
    "                                                   cell_line=\"K562\", \n",
    "                                                   meme_file=\"/home/alvin/Dropbox/Lab/CNN/data/meme/K562_pos_steme/steme.txt\")\n",
    "K562_motif_tensor, K562_motif_names = K562MotifProcObj.generate_custom_CNN_filters(max_length = 18, padding = 0, truncate = False)\n",
    "\n",
    "\n",
    "LCLMotifProcObj = motif_processor.MotifProcessor(ENCODE_only=False, \n",
    "                                                   cell_line=\"LCL\", \n",
    "                                                   meme_file=\"/home/alvin/Dropbox/Lab/CNN/data/meme/LCL_pos_steme/steme.txt\")\n",
    "LCL_motif_tensor, LCL_motif_names = LCLMotifProcObj.generate_custom_CNN_filters(max_length = 18, padding = 0, truncate = False)\n",
    "MotifProcObj = motif_processor.MotifProcessor(ENCODE_only=True, \n",
    "                                                   cell_line=\"HepG2\", \n",
    "                                                  meme_file=\"/home/alvin/Dropbox/Lab/CNN/data/meme/HepG2_pos_steme/steme.txt\")\n",
    "motif_tensor, motif_names = MotifProcObj.generate_custom_CNN_filters(max_length = 18, padding = 0, truncate = False)\n"
   ]
  },
  {
   "cell_type": "code",
   "execution_count": 5,
   "metadata": {
    "collapsed": true
   },
   "outputs": [],
   "source": [
    "motifDistanceProcessorObj = motif_processor.MotifDistanceProcessor([],[],[])\n",
    "binary_mat = motifDistanceProcessorObj.process_Pouya(motif_names)"
   ]
  },
  {
   "cell_type": "code",
   "execution_count": 6,
   "metadata": {
    "collapsed": false
   },
   "outputs": [
    {
     "data": {
      "image/png": "[encoded data removed]",
      "text/plain": [
       "<matplotlib.figure.Figure at 0x7f4f8a122bd0>"
      ]
     },
     "metadata": {},
     "output_type": "display_data"
    }
   ],
   "source": [
    "plt.figure(figsize=(10,15))\n",
    "plt.pcolor(binary_mat,cmap='jet')\n",
    "plt.axis('tight')\n",
    "plt.xlabel('Motif cluster',fontsize=18)\n",
    "plt.ylabel('Motif index',fontsize=18)\n",
    "plt.title(\"Binary motif clustering matrix (W_hat)\",fontsize=18)\n",
    "plt.savefig(\"clustered_binary_motifs.png\", dpi=300)\n",
    "plt.show()"
   ]
  },
  {
   "cell_type": "code",
   "execution_count": 7,
   "metadata": {
    "collapsed": false
   },
   "outputs": [
    {
     "name": "stderr",
     "output_type": "stream",
     "text": [
      "Using gpu device 0: GeForce GTX 1080 (CNMeM is enabled with initial size: 82.0% of memory, cuDNN 5005)\n",
      "/usr/local/lib/python2.7/dist-packages/theano/tensor/signal/downsample.py:6: UserWarning: downsample module has been moved to the theano.tensor.signal.pool module.\n",
      "  \"downsample module has been moved to the theano.tensor.signal.pool module.\")\n",
      "/usr/local/lib/python2.7/dist-packages/sklearn/cross_validation.py:44: DeprecationWarning: This module was deprecated in version 0.18 in favor of the model_selection module into which all the refactored classes and functions are moved. Also note that the interface of the new CV iterators are different from that of this module. This module will be removed in 0.20.\n",
      "  \"This module will be removed in 0.20.\", DeprecationWarning)\n",
      "/usr/local/lib/python2.7/dist-packages/sklearn/grid_search.py:43: DeprecationWarning: This module was deprecated in version 0.18 in favor of the model_selection module into which all the refactored classes and functions are moved. This module will be removed in 0.20.\n",
      "  DeprecationWarning)\n"
     ]
    },
    {
     "data": {
      "text/plain": [
       "<module 'common_utils' from 'common_utils.pyc'>"
      ]
     },
     "execution_count": 7,
     "metadata": {},
     "output_type": "execute_result"
    }
   ],
   "source": [
    "import common_utils\n",
    "reload(common_utils)"
   ]
  },
  {
   "cell_type": "code",
   "execution_count": 8,
   "metadata": {
    "collapsed": true
   },
   "outputs": [],
   "source": [
    "CrossValProcObj = common_utils.CrossValProcessor(output_dirs = [\"./HEPG2_act_1_31/\", \"./HEPG2_rep_1_31/\", \n",
    "                                                                      \"./K562_act_1_31/\", \"./K562_act_1_31/\",\n",
    "                                                                      \"./LCL_act_alt_1_31/\"])\n",
    "\n",
    "HepG2_binObj = CrossValProcObj.HepG2_binObj\n",
    "K562_binObj = CrossValProcObj.K562_binObj\n",
    "LCL_binObj = CrossValProcObj.LCL_binObj\n",
    "binObjs = [HepG2_binObj, K562_binObj, LCL_binObj]\n",
    "CvDicts = [CrossValProcObj.HepG2_dict, CrossValProcObj.K562_dict, CrossValProcObj.LCL_dict]\n",
    "motif_tensors = [motif_tensor, motif_tensor, motif_tensor]\n",
    "motif_names = [motif_names, motif_names, motif_names]\n",
    "names=[\"HepG2\", \"K562\", \"LCL\"]\n",
    "dirs = [\"./HepG2_1_31/\", \"./K562_1_31/\", \"./LCL_1_31/\"]\n"
   ]
  },
  {
   "cell_type": "code",
   "execution_count": 9,
   "metadata": {
    "collapsed": false
   },
   "outputs": [
    {
     "name": "stderr",
     "output_type": "stream",
     "text": [
      "Using Theano backend.\n"
     ]
    },
    {
     "data": {
      "text/plain": [
       "<module 'cv_engine' from 'cv_engine.pyc'>"
      ]
     },
     "execution_count": 9,
     "metadata": {},
     "output_type": "execute_result"
    }
   ],
   "source": [
    "import cv_engine \n",
    "reload(cv_engine)"
   ]
  },
  {
   "cell_type": "code",
   "execution_count": 10,
   "metadata": {
    "collapsed": true
   },
   "outputs": [],
   "source": [
    "HepG2DataConvObj = cv_engine.DataConvolver(HepG2_binObj.merged_tensor, HepG2_binObj.merged_RC_tensor, HepG2_binObj.merged_tar, motif_tensor.shape, features_mat=HepG2_binObj.features_mat, should_conv=False)\n",
    "K562DataConvObj = cv_engine.DataConvolver(K562_binObj.merged_tensor, K562_binObj.merged_RC_tensor, K562_binObj.merged_tar, motif_tensor.shape, features_mat=K562_binObj.features_mat,should_conv=False) \n",
    "LCLDataConvObj = cv_engine.DataConvolver(LCL_binObj.merged_tensor, LCL_binObj.merged_RC_tensor, LCL_binObj.merged_tar, motif_tensor.shape,features_mat=LCL_binObj.features_mat, should_conv=False) "
   ]
  },
  {
   "cell_type": "code",
   "execution_count": 11,
   "metadata": {
    "collapsed": false
   },
   "outputs": [
    {
     "data": {
      "text/plain": [
       "<module 'keras_motif' from 'keras_motif.pyc'>"
      ]
     },
     "execution_count": 11,
     "metadata": {},
     "output_type": "execute_result"
    }
   ],
   "source": [
    "import keras_motif\n",
    "reload(keras_motif)"
   ]
  },
  {
   "cell_type": "code",
   "execution_count": 12,
   "metadata": {
    "collapsed": true
   },
   "outputs": [],
   "source": [
    "def Process(param_list):\n",
    "    binObjs = [HepG2DataConvObj,K562DataConvObj,LCLDataConvObj]\n",
    "    names=['HepG2','K562','LCL']\n",
    "    model_names = ['Meta', 'Double', 'Simple']\n",
    "    pool_width = param_list['pool_width']\n",
    "    weighted = param_list['weighted']\n",
    "    L2 = param_list['L2']\n",
    "    L1 = param_list['L1']\n",
    "    dropout = param_list['dropout']\n",
    "    results_dict = {}\n",
    "    results_dict['parameters']=param_list\n",
    "    results_dict['training_history']=[]\n",
    "    results_dict['performance']=[]\n",
    "    for idx, binObj in enumerate(binObjs):\n",
    "        cur_name = names[idx]\n",
    "        if idx == 0:\n",
    "            testObj1 = binObjs[1]\n",
    "            testName1 = names[1]\n",
    "            testObj2 = binObjs[2]\n",
    "            testName2 = names[2]\n",
    "        if idx == 1:\n",
    "            testObj1 = binObjs[0]\n",
    "            testName1 = names[0]\n",
    "            testObj2 = binObjs[2]\n",
    "            testName2 = names[2]       \n",
    "        if idx == 2:\n",
    "            testObj1 = binObjs[1]\n",
    "            testName1 = names[1]\n",
    "            testObj2 = binObjs[0]\n",
    "            testName2 = names[0]\n",
    "        model1 = keras_motif.MetaKerasModel(binObj, motif_tensor, binary_mat)\n",
    "        model2 = keras_motif.DoubleKerasModel(binObj, motif_tensor)\n",
    "        model3 = keras_motif.SimpleKerasModel(binObj)\n",
    "        Models = [model1, model2, model3]\n",
    "        for model_idx, Model in enumerate(Models):\n",
    "            Model.build_model(dropout=dropout, L1=L1, L2=L2, pool_width=pool_width, weighted=weighted)\n",
    "            pos_weight, neg_weight = cv_engine.get_weights(binObj.Y)\n",
    "            train_history = Model.train(binObj.X, binObj.X_RC, binObj.features_mat, binObj.Y, neg_weight, pos_weight) \n",
    "            results_dict['training_history'].append(train_history)\n",
    "            testPred1 = Model.predict(testObj1.X, testObj1.X_RC, testObj1.features_mat)\n",
    "            testPred2 = Model.predict(testObj2.X, testObj2.X_RC, testObj2.features_mat)\n",
    "            testResult1 = str(common_utils.ClassificationResult(testObj1.Y.astype(bool),testPred1.flatten()))\n",
    "            testResult2 = str(common_utils.ClassificationResult(testObj2.Y.astype(bool),testPred2.flatten()))\n",
    "            result1 = '%s\\t%s\\t%s\\t%i\\t%i\\t%0.04f\\t%0.04f\\t%0.02f\\t%s'%(cur_name, model_names[model_idx], testName1, int(pool_width), int(weighted), L1,L2,dropout, testResult1)\n",
    "            result2 = '%s\\t%s\\t%s\\t%i\\t%i\\t%0.04f\\t%0.04f\\t%0.02f\\t%s'%(cur_name, model_names[model_idx], testName2, int(pool_width), int(weighted), L1,L2,dropout, testResult2)\n",
    "            print result1\n",
    "            print result2\n",
    "            results_dict['performance'].append(result1)\n",
    "            results_dict['performance'].append(result2)\n",
    "    return results_dict\n",
    "    "
   ]
  },
  {
   "cell_type": "code",
   "execution_count": null,
   "metadata": {
    "collapsed": false
   },
   "outputs": [],
   "source": [
    "param_grid = {'pool_width':[2,3,4,5,6,8,12,14,20,61], 'weighted': [True, False],'L2':[0,0.0001,0.01,0.1,1], 'L1': [0,0.001,0.1,1], 'dropout':[0,0.1,0.2]}\n",
    "param_list = list(ParameterGrid(param_grid))\n",
    "param_list = param_list\n",
    "random.shuffle(param_list)"
   ]
  },
  {
   "cell_type": "code",
   "execution_count": null,
   "metadata": {
    "collapsed": false
   },
   "outputs": [],
   "source": [
    "results = map(Process, param_list)"
   ]
  },
  {
   "cell_type": "code",
   "execution_count": null,
   "metadata": {
    "collapsed": false
   },
   "outputs": [],
   "source": [
    "x"
   ]
  },
  {
   "cell_type": "code",
   "execution_count": null,
   "metadata": {
    "collapsed": false
   },
   "outputs": [],
   "source": [
    "random.shuffle(x)"
   ]
  },
  {
   "cell_type": "code",
   "execution_count": null,
   "metadata": {
    "collapsed": false
   },
   "outputs": [],
   "source": [
    "x"
   ]
  },
  {
   "cell_type": "code",
   "execution_count": null,
   "metadata": {
    "collapsed": true
   },
   "outputs": [],
   "source": []
  },
  {
   "cell_type": "code",
   "execution_count": null,
   "metadata": {
    "collapsed": true
   },
   "outputs": [],
   "source": []
  },
  {
   "cell_type": "code",
   "execution_count": null,
   "metadata": {
    "collapsed": true
   },
   "outputs": [],
   "source": []
  },
  {
   "cell_type": "code",
   "execution_count": null,
   "metadata": {
    "collapsed": true
   },
   "outputs": [],
   "source": []
  },
  {
   "cell_type": "code",
   "execution_count": null,
   "metadata": {
    "collapsed": true
   },
   "outputs": [],
   "source": []
  }
 ],
 "metadata": {
  "kernelspec": {
   "display_name": "Python 2",
   "language": "python",
   "name": "python2"
  },
  "language_info": {
   "codemirror_mode": {
    "name": "ipython",
    "version": 2
   },
   "file_extension": ".py",
   "mimetype": "text/x-python",
   "name": "python",
   "nbconvert_exporter": "python",
   "pygments_lexer": "ipython2",
   "version": "2.7.12"
  }
 },
 "nbformat": 4,
 "nbformat_minor": 2
}
