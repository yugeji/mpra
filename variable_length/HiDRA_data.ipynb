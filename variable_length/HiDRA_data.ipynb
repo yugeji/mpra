{
 "cells": [
  {
   "cell_type": "code",
   "execution_count": 1,
   "metadata": {
    "collapsed": true
   },
   "outputs": [],
   "source": [
    "import rpy2.robjects as robjects\n",
    "import numpy as np"
   ]
  },
  {
   "cell_type": "code",
   "execution_count": 5,
   "metadata": {
    "collapsed": true
   },
   "outputs": [],
   "source": [
    "mat = robjects.r['load'](\"../data/ATAC_STARRdata/SHARPR/ForAlvinATACSTARR_GM12878Lib_150_600_merged_0.2RPM_RNAtoDNA_FC_res\\\n",
    "ult_sa333_autoF.RData\")"
   ]
  },
  {
   "cell_type": "code",
   "execution_count": 6,
   "metadata": {
    "collapsed": true
   },
   "outputs": [],
   "source": [
    "a = np.array(robjects.r['whole_re'][20]) #chrm7                                                      "
   ]
  },
  {
   "cell_type": "code",
   "execution_count": 8,
   "metadata": {
    "collapsed": false
   },
   "outputs": [
    {
     "name": "stdout",
     "output_type": "stream",
     "text": [
      "sequence: 9415237-9415493\n",
      "-0.533131597588\n",
      "256\n",
      "-0.533131597588 -0.533131597588 -0.533131597588\n",
      "length: 7076.0\n",
      "7076\n"
     ]
    }
   ],
   "source": [
    "#a currently contains chrm 13\n",
    "\n",
    "#get chrm indexs\n",
    "sequence = str(a[1][0]) #second index changes\n",
    "print \"sequence: \" + sequence[5: len(sequence)-2]\n",
    "#get SHARPR score\n",
    "scores = a[0][0][0][0] #second index changes\n",
    "print scores\n",
    "\n",
    "#checking for nucleotide resolution\n",
    "print len(a[0][0][0])\n",
    "print a[0][0][0][100], a[0][0][0][255], a[0][0][0][40]\n",
    "\n",
    "\n",
    "print \"length: \" + str(a[2][0])\n",
    "print len(a[0]) #same as above"
   ]
  },
  {
   "cell_type": "code",
   "execution_count": 60,
   "metadata": {
    "collapsed": false
   },
   "outputs": [],
   "source": [
    "#write into file\n",
    "f = open(\"chrm2_data.txt\", \"wb\")\n",
    "for i in range(len(a[0])):\n",
    "    seq = str(a[1][i])\n",
    "    seq = seq[5: len(seq)-2].strip()\n",
    "    score = a[0][i][0][0]\n",
    "    l_seq = len(a[0][i][0])\n",
    "    s = \"chr2:\" + seq + \"\\t\" + str(score) + \"\\t\" + str(l_seq) + \"\\n\"\n",
    "    f.write(s)"
   ]
  },
  {
   "cell_type": "code",
   "execution_count": 5,
   "metadata": {
    "collapsed": false
   },
   "outputs": [],
   "source": [
    "#JK let's take from the original HiDRA data instead\n",
    "f = open(\"hidra_data.txt\", \"wb\") #format is: location, expression, length, chromosome\n",
    "\n",
    "with open(\"../data/ATAC_STARRdata/AS_150_processed.txt\") as fl:\n",
    "    next(fl)\n",
    "    for l in fl:\n",
    "        vals = l.strip().split(\"\\t\") #format is: fragment, expression, RNA/DNA content, GC content, length\n",
    "        s = vals[0] + \"\\t\" + vals[2] + \"\\t\" + vals[4] + \"\\n\"\n",
    "        f.write(s)\n",
    "\n",
    "f.close()"
   ]
  },
  {
   "cell_type": "code",
   "execution_count": null,
   "metadata": {
    "collapsed": true
   },
   "outputs": [],
   "source": []
  }
 ],
 "metadata": {
  "kernelspec": {
   "display_name": "Python 2",
   "language": "python",
   "name": "python2"
  },
  "language_info": {
   "codemirror_mode": {
    "name": "ipython",
    "version": 2
   },
   "file_extension": ".py",
   "mimetype": "text/x-python",
   "name": "python",
   "nbconvert_exporter": "python",
   "pygments_lexer": "ipython2",
   "version": "2.7.12"
  }
 },
 "nbformat": 4,
 "nbformat_minor": 2
}
