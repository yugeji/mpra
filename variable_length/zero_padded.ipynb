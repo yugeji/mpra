{
 "cells": [
  {
   "cell_type": "code",
   "execution_count": 7,
   "metadata": {
    "collapsed": false
   },
   "outputs": [],
   "source": [
    "%matplotlib inline\n",
    "import numpy as np\n",
    "import scipy.stats as stats\n",
    "import matplotlib as mpl\n",
    "import matplotlib.pyplot as plt\n",
    "import tensorflow as tf\n",
    "from prg import prg\n",
    "np.random.seed(7)\n",
    "\n",
    "from keras.regularizers import l2\n",
    "from keras.models import Sequential, load_model\n",
    "from keras.layers.convolutional import Conv1D, Conv2D, MaxPooling2D, MaxPooling1D\n",
    "from keras.layers.core import Dense, Dropout, Activation, Flatten\n",
    "from keras.layers.recurrent import LSTM\n",
    "from keras.optimizers import RMSprop\n",
    "from keras.initializers import Zeros\n",
    "from keras.callbacks import EarlyStopping, TensorBoard, ModelCheckpoint, ProgbarLogger\n",
    "from keras.wrappers.scikit_learn import KerasRegressor\n",
    "from keras.utils import to_categorical\n",
    "from sklearn.model_selection import cross_val_score, KFold\n",
    "from sklearn.metrics import accuracy_score, mean_squared_error, r2_score, roc_auc_score, precision_recall_curve, auc\n",
    "from sklearn.preprocessing import StandardScaler\n",
    "\n",
    "from retreive_data import unpack_gzip\n",
    "\n",
    "import keras.backend as K\n",
    "\n",
    "#sess = tf.Session()"
   ]
  },
  {
   "cell_type": "code",
   "execution_count": null,
   "metadata": {
    "collapsed": false
   },
   "outputs": [],
   "source": [
    "plt.rcParams[\"figure.figsize\"] = (20,5)\n",
    "file_name = \"../data/ATAC_STARRdata/output.txt\"\n",
    "data_f = open(file_name).readlines()\n",
    "\n",
    "sharpr_score = sorted([float(l.split(\"\\t\")[1]) for l in data_f])\n",
    "lengths = sorted([int(l.split(\"\\t\")[5]) for l in data_f])\n",
    "\n",
    "#Normal distribution of SHARPR scores and region lengths\n",
    "# pdf = stats.norm.pdf(sharpr_score, np.mean(sharpr_score), np.std(sharpr_score))\n",
    "# plt.plot(sharpr_score, pdf, '-o')\n",
    "plt.hist(np.log(sharpr_score), bins=100)\n",
    "plt.title(\"Distribution of RNA/DNA content\");"
   ]
  },
  {
   "cell_type": "code",
   "execution_count": 3,
   "metadata": {
    "collapsed": false
   },
   "outputs": [
    {
     "name": "stdout",
     "output_type": "stream",
     "text": [
      "average number of bases per region:  0\n"
     ]
    },
    {
     "data": {
      "image/png": "[encoded data removed]",
      "text/plain": [
       "<matplotlib.figure.Figure at 0x7fb52c1752d0>"
      ]
     },
     "metadata": {},
     "output_type": "display_data"
    }
   ],
   "source": [
    "import os\n",
    "total_bases = os.popen(\"awk '{sum+=$3} END {print sum}' \" + file_name).read()\n",
    "\n",
    "print \"average number of bases per region: \", int(total_bases)/len(data_f)\n",
    "plt.hist(lengths, bins=100)\n",
    "plt.title(\"Distribution of region lengths\");"
   ]
  },
  {
   "cell_type": "code",
   "execution_count": 4,
   "metadata": {
    "collapsed": false
   },
   "outputs": [
    {
     "name": "stdout",
     "output_type": "stream",
     "text": [
      "currently running zero-padding to truncate at 500bp\n"
     ]
    },
    {
     "data": {
      "image/png": "[encoded data removed]",
      "text/plain": [
       "<matplotlib.figure.Figure at 0x7fb502f9d7d0>"
      ]
     },
     "metadata": {},
     "output_type": "display_data"
    }
   ],
   "source": [
    "print \"currently running zero-padding to truncate at 500bp\"\n",
    "grt_500 = []\n",
    "for l in data_f:\n",
    "    if l.split(\"\\t\")[2] > 500:\n",
    "        grt_500.append(float(l.split(\"\\t\")[1]))\n",
    "plt.hist(np.log(grt_500), bins=100)\n",
    "plt.title(\"Distribution of RNA/DNA content of sequences longer than 500bp\");"
   ]
  },
  {
   "cell_type": "code",
   "execution_count": 8,
   "metadata": {
    "collapsed": false
   },
   "outputs": [
    {
     "name": "stdout",
     "output_type": "stream",
     "text": [
      "unpacking data\n"
     ]
    }
   ],
   "source": [
    "print \"unpacking data\"\n",
    "x, y = (4, 500)\n",
    "\n",
    "batch_size = 1000\n",
    "#num_batches = n/batch_size\n",
    "\n",
    "#generator for data\n",
    "def generator():\n",
    "    for i in [\"1\", \"2\", \"3\", \"4\", \"5\", \"6\", \"7\", \"8\", \"9\", \"10\", \"11\", \"12\"]: #, \"13\", \"14\", \"15\", \"16\", \"17\", \"18\", \"19\", \"20\", \"21\"]:\n",
    "        print \"using chromosome \", i\n",
    "        try:\n",
    "            x_data, y_data = unpack_gzip(\"chr\" + i + \".txt.gz\")\n",
    "        except:\n",
    "            print \"couldn't unpack\"\n",
    "#         x_data.extend(list(x))\n",
    "#         y_data.extend(list(y))\n",
    "\n",
    "        n = len(x_data)\n",
    "        try:\n",
    "            assert (n == len(y_data))\n",
    "        except AssertionError:\n",
    "            print str(n) + \" and \" + str(len(y_data)) + \" do not match\"\n",
    "\n",
    "        #Shuffling\n",
    "        d = zip(x_data, y_data)\n",
    "        np.random.shuffle(d)\n",
    "        x_data, y_data = zip(*d)\n",
    "        x_data, y_data = np.asarray(x_data), np.asarray(y_data)\n",
    "\n",
    "        #Taking log of RNA/DNA\n",
    "        y_data=np.log(y_data)\n",
    "\n",
    "        #4/6 as training data, 1/6 as test, 1/6 as validation                                                                                                                                  \n",
    "#        train = (x_data[2*n/6:], y_data[2*n/6:])                                                                  \n",
    "#         test = (x_data[:n/6], y_data[:n/6])\n",
    "#         val = (x_data[n/6:2*n/6], y_data[n/6:2*n/6])\n",
    "\n",
    "        #reshape for conv layer\n",
    "        train_data = x_data.reshape(x_data.shape[0], x, y, 1) \n",
    "#        train_data = train[0].reshape(train[0].shape[0], x, y, 1)\n",
    "#         test_data = test[0].reshape(test[0].shape[0], x, y, 1)\n",
    "#         val_data = val[0].reshape(val[0].shape[0], x, y, 1)\n",
    "        print \"training shape: \" + str(train_data.shape)\n",
    "\n",
    "        #Generating sample weights\n",
    "        s_weights = np.abs(stats.zscore(y_data))\n",
    "        \n",
    "        yield (train_data, y_data, s_weights)"
   ]
  },
  {
   "cell_type": "code",
   "execution_count": 9,
   "metadata": {
    "collapsed": false
   },
   "outputs": [
    {
     "name": "stdout",
     "output_type": "stream",
     "text": [
      "using chromosome  3\n",
      "using chromosome  4\n",
      "using chromosome  5\n",
      "using chromosome  6\n",
      "using chromosome  7\n",
      "using chromosome  8\n",
      "using chromosome  9\n",
      "using chromosome  10\n",
      "using chromosome  11\n",
      "using chromosome  12\n",
      "using chromosome  13\n",
      "using chromosome  14\n",
      "using chromosome  15\n",
      "using chromosome  16\n",
      "using chromosome  17\n",
      "using chromosome  18\n",
      "using chromosome  19\n",
      "using chromosome  20\n",
      "using chromosome  21\n",
      "using chromosome  22\n",
      "training shape: (154249, 4, 500, 1)\n"
     ]
    }
   ],
   "source": [
    "classif = True\n",
    "\n",
    "file_suffix = \"\"\n",
    "if classif:\n",
    "    file_suffix = \"_binary1.txt.gz\"\n",
    "else:\n",
    "    file_suffix = \"_better.txt.gz\"\n",
    "\n",
    "#Non-batch training\n",
    "x_data = list()\n",
    "y_data = list()\n",
    "\n",
    "for i in [\"3\", \"4\", \"5\", \"6\", \"7\", \"8\", \"9\", \"10\", \"11\", \"12\", \"13\", \"14\", \"15\", \"16\", \"17\", \"18\", \"19\", \"20\", \"21\", \"22\"]: #chr 2 and 14 has problems sigh\n",
    "    print \"using chromosome \", i\n",
    "    x, y = unpack_gzip(\"chr\" + i + file_suffix)\n",
    "    x_data.extend(list(x))\n",
    "    y_data.extend(list(y))\n",
    "\n",
    "x, y = (4, 500)\n",
    "n = len(x_data)\n",
    "try:\n",
    "    assert (n == len(y_data))\n",
    "except AssertionError:\n",
    "    print str(n) + \" and \" + str(len(y_data)) + \" do not match\"\n",
    "\n",
    "#Shuffling\n",
    "d = zip(x_data, y_data)\n",
    "np.random.shuffle(d)\n",
    "x_data, y_data = zip(*d)\n",
    "x_data, y_data = np.asarray(x_data), np.asarray(y_data)\n",
    "\n",
    "#Taking log of RNA/DNA\n",
    "if not classif:\n",
    "    y_data=np.log(y_data)\n",
    "else:\n",
    "    y_data=np.asarray([max(int(i), 0) for i in y_data])\n",
    "\n",
    "#4/6 as training data, 1/6 as test, 1/6 as validation     \n",
    "train = (x_data, y_data)\n",
    "# train = (x_data[2*n/6:], y_data[2*n/6:])                                                                  \n",
    "# test = (x_data[:n/6], y_data[:n/6])\n",
    "# val = (x_data[n/6:2*n/6], y_data[n/6:2*n/6])\n",
    "\n",
    "#reshape for conv layer\n",
    "train_data = train[0].reshape(train[0].shape[0], x, y, 1)\n",
    "# test_data = test[0].reshape(test[0].shape[0], x, y, 1)\n",
    "# val_data = val[0].reshape(val[0].shape[0], x, y, 1)\n",
    "print \"training shape: \" + str(train_data.shape)\n",
    "\n",
    "#Generating sample weights\n",
    "if not classif:\n",
    "    s_weights = np.abs(stats.zscore(train[1]))\n",
    "\n",
    "#yield (train_data, y_data, s_weights)"
   ]
  },
  {
   "cell_type": "code",
   "execution_count": 10,
   "metadata": {
    "collapsed": false
   },
   "outputs": [],
   "source": [
    "#validation and test\n",
    "\n",
    "val = unpack_gzip(\"chr2\" + file_suffix)\n",
    "test = unpack_gzip(\"chr1\" +  file_suffix) \n",
    "\n",
    "test_data = test[0].reshape(test[0].shape[0], x, y, 1)\n",
    "val_data = val[0].reshape(val[0].shape[0], x, y, 1)\n",
    "\n",
    "if classif:\n",
    "    val = (val[0], np.asarray([max(int(i), 0) for i in val[1]]))\n",
    "    test = (test[0], np.asarray([max(int(i), 0) for i in test[1]]))"
   ]
  },
  {
   "cell_type": "code",
   "execution_count": null,
   "metadata": {
    "collapsed": false
   },
   "outputs": [
    {
     "name": "stdout",
     "output_type": "stream",
     "text": [
      "running hyperoptimization\n",
      "starting hyperopt\n",
      "Params: {'dropout': 0.20718693209377115, 'fc_nodes': 6, 'filters': 108, 'kernel_size': 22, 'l2_var': 0.0038931468177480703}\n",
      "compiling\n",
      "Train on 154249 samples, validate on 18481 samples\n",
      "Epoch 1/20\n",
      "36s - loss: 0.7147 - val_loss: 0.6598\n",
      "Epoch 2/20\n",
      "35s - loss: 0.6523 - val_loss: 0.6577\n",
      "Epoch 3/20\n",
      "34s - loss: 0.6435 - val_loss: 0.6320\n",
      "Epoch 4/20\n",
      "35s - loss: 0.6256 - val_loss: 0.6338\n",
      "Epoch 5/20\n",
      "35s - loss: 0.6109 - val_loss: 0.6413\n",
      "Epoch 6/20\n",
      "35s - loss: 0.5996 - val_loss: 0.5981\n",
      "Epoch 7/20\n",
      "35s - loss: 0.5939 - val_loss: 0.6136\n",
      "Epoch 8/20\n",
      "35s - loss: 0.5881 - val_loss: 0.5992\n",
      "Epoch 9/20\n",
      "35s - loss: 0.5815 - val_loss: 0.6048\n",
      "Epoch 10/20\n",
      "34s - loss: 0.5766 - val_loss: 0.5788\n",
      "Epoch 11/20\n",
      "35s - loss: 0.5725 - val_loss: 0.5838\n",
      "Epoch 12/20\n",
      "35s - loss: 0.5674 - val_loss: 0.5838\n",
      "Epoch 13/20\n",
      "35s - loss: 0.5640 - val_loss: 0.5885\n",
      "Epoch 14/20\n",
      "35s - loss: 0.5627 - val_loss: 0.6248\n",
      "Epoch 00013: early stopping\n",
      "auroc: 0.786326826389\n",
      "Params: {'dropout': 0.13987781550752143, 'fc_nodes': 5, 'filters': 111, 'kernel_size': 23, 'l2_var': 0.004535988364138157}\n",
      "compiling\n",
      "Train on 154249 samples, validate on 18481 samples\n",
      "Epoch 1/20\n",
      "36s - loss: 0.7129 - val_loss: 0.6640\n",
      "Epoch 2/20\n",
      "35s - loss: 0.6484 - val_loss: 0.6652\n",
      "Epoch 3/20\n",
      "35s - loss: 0.6389 - val_loss: 0.6338\n",
      "Epoch 4/20\n",
      "35s - loss: 0.6233 - val_loss: 0.6459\n",
      "Epoch 5/20\n",
      "35s - loss: 0.6108 - val_loss: 0.6591\n",
      "Epoch 6/20\n",
      "35s - loss: 0.5993 - val_loss: 0.6183\n",
      "Epoch 7/20\n",
      "35s - loss: 0.5887 - val_loss: 0.5975\n",
      "Epoch 8/20\n",
      "35s - loss: 0.5810 - val_loss: 0.5993\n",
      "Epoch 9/20\n",
      "35s - loss: 0.5763 - val_loss: 0.6227\n",
      "Epoch 10/20\n",
      "35s - loss: 0.5717 - val_loss: 0.6048\n",
      "Epoch 11/20\n",
      "35s - loss: 0.5663 - val_loss: 0.5924\n",
      "Epoch 12/20\n",
      "35s - loss: 0.5596 - val_loss: 0.5864\n",
      "Epoch 13/20\n",
      "35s - loss: 0.5562 - val_loss: 0.5924\n",
      "Epoch 14/20\n",
      "35s - loss: 0.5516 - val_loss: 0.5766\n",
      "Epoch 15/20\n",
      "35s - loss: 0.5468 - val_loss: 0.5825\n",
      "Epoch 16/20\n",
      "36s - loss: 0.5481 - val_loss: 0.5764\n",
      "Epoch 17/20\n",
      "37s - loss: 0.5390 - val_loss: 0.6168\n",
      "Epoch 18/20\n",
      "37s - loss: 0.5398 - val_loss: 0.5713\n",
      "Epoch 19/20\n",
      "36s - loss: 0.5336 - val_loss: 0.5817\n",
      "Epoch 20/20\n",
      "36s - loss: 0.5282 - val_loss: 0.5796\n",
      "auroc: 0.794995285843\n",
      "Params: {'dropout': 0.3970434689121576, 'fc_nodes': 4, 'filters': 58, 'kernel_size': 20, 'l2_var': 0.0008964651280074215}\n",
      "compiling\n",
      "Train on 154249 samples, validate on 18481 samples\n",
      "Epoch 1/20\n",
      "24s - loss: 0.6810 - val_loss: 0.6555\n",
      "Epoch 2/20\n",
      "23s - loss: 0.6570 - val_loss: 0.6465\n",
      "Epoch 3/20\n",
      "23s - loss: 0.6501 - val_loss: 0.6408\n",
      "Epoch 4/20\n",
      "23s - loss: 0.6408 - val_loss: 0.6252\n",
      "Epoch 5/20\n",
      "23s - loss: 0.6287 - val_loss: 0.6100\n",
      "Epoch 6/20\n",
      "23s - loss: 0.6148 - val_loss: 0.6000\n",
      "Epoch 7/20\n",
      "23s - loss: 0.6090 - val_loss: 0.6010\n",
      "Epoch 8/20\n",
      "23s - loss: 0.6062 - val_loss: 0.5935\n",
      "Epoch 9/20\n",
      "23s - loss: 0.6007 - val_loss: 0.5996\n",
      "Epoch 10/20\n",
      "23s - loss: 0.5992 - val_loss: 0.5858\n",
      "Epoch 11/20\n",
      "23s - loss: 0.5925 - val_loss: 0.5899\n",
      "Epoch 12/20\n",
      "23s - loss: 0.5905 - val_loss: 0.5948\n",
      "Epoch 13/20\n",
      "22s - loss: 0.5864 - val_loss: 0.5779\n",
      "Epoch 14/20\n",
      "22s - loss: 0.5824 - val_loss: 0.5763\n",
      "Epoch 15/20\n",
      "23s - loss: 0.5781 - val_loss: 0.5732\n",
      "Epoch 16/20\n",
      "23s - loss: 0.5752 - val_loss: 0.5777\n",
      "Epoch 17/20\n",
      "23s - loss: 0.5731 - val_loss: 0.5815\n",
      "Epoch 18/20\n",
      "23s - loss: 0.5715 - val_loss: 0.5702\n",
      "Epoch 19/20\n",
      "23s - loss: 0.5689 - val_loss: 0.5776\n",
      "Epoch 20/20\n",
      "23s - loss: 0.5641 - val_loss: 0.5777\n",
      "auroc: 0.790979169534\n",
      "Params: {'dropout': 0.13476669638923605, 'fc_nodes': 5, 'filters': 146, 'kernel_size': 20, 'l2_var': 0.0014517279125507267}\n",
      "compiling\n",
      "Train on 154249 samples, validate on 18481 samples\n",
      "Epoch 1/20\n"
     ]
    }
   ],
   "source": [
    "print \"running hyperoptimization\"\n",
    "from hyperopt import fmin, tpe, hp, STATUS_OK, Trials\n",
    "# space = {#'filters': hp.uniform('filters', 40, 400),\n",
    "#         'kernel_size': hp.choice('kernel_size', np.asarray([7, 20, 33, 46])),\n",
    "#         'fc_nodes': hp.choice('fc_nodes', np.arange(4, 80, dtype=int)),\n",
    "# #        'fc_nodes': hp.uniform('fc_nodes', 4, 60),\n",
    "#         'dropout': hp.uniform('dropout', .05, .5),\n",
    "#         'l2_var': hp.uniform('l2_var', .0001, .1)}\n",
    "\n",
    "def f_nn(params):\n",
    "    import sys\n",
    "    \n",
    "    print \"Params: \", params\n",
    "    \n",
    "    model = Sequential()\n",
    "    model.add(Conv2D(filters=128,\n",
    "                      input_shape=(x, y, 1), #input dim: 4 x 500 (x, y, 1) \n",
    "                      kernel_size= (4, int(params['kernel_size'])), #26, #(4, 40), \n",
    "                      padding=\"valid\",\n",
    "                      activation=\"relu\",\n",
    "                      strides=(4, 1)\n",
    "    ))\n",
    "    model.add(MaxPooling2D(pool_size= (1, 13), padding=\"valid\"))                   \n",
    "    model.add(Flatten())\n",
    "    model.add(Dense(params['fc_nodes'], activation=\"relu\", kernel_initializer=\"normal\", kernel_regularizer=l2(params['l2_var'])))\n",
    "    model.add(Dropout(params['dropout']))\n",
    "    model.add(Dense(1, kernel_initializer=\"normal\"))                                \n",
    "\n",
    "    print \"compiling\"\n",
    "\n",
    "    model.compile(loss='mse', optimizer='adam')\n",
    "    \n",
    "    earlystopper = EarlyStopping(monitor='val_loss', patience=5, verbose=1)\n",
    "    model.fit(train_data, train[1],\n",
    "          batch_size=1000,\n",
    "          epochs=10,\n",
    "          sample_weight=s_weights,\n",
    "          validation_data=(val_data, val[1]),\n",
    "          shuffle='batch',\n",
    "          verbose=2,\n",
    "          callbacks=[earlystopper])\n",
    "    \n",
    "    from sklearn.metrics import mean_squared_error\n",
    "    acc = mean_squared_error(model.predict(test_data), test[1])\n",
    "    sys.stdout.flush() \n",
    "    return {'loss': acc, 'status': STATUS_OK}\n",
    "\n",
    "\n",
    "space = {'filters': hp.choice('filters', np.arange(50, 150)),\n",
    "        'kernel_size': hp.choice('kernel_size', np.arange(16, 24)),\n",
    "        'fc_nodes': hp.choice('fc_nodes', np.arange(4, 14)),\n",
    "        'dropout': hp.uniform('dropout', .1, .4),\n",
    "        'l2_var': hp.uniform('l2_var', .0001, .01)}\n",
    "\n",
    "all_params = []\n",
    "\n",
    "def c_nn(params):\n",
    "    import sys\n",
    "    print \"Params:\", params\n",
    "    \n",
    "    model = Sequential()\n",
    "    conv_layer = (Conv2D(filters=params['filters'], #num_motifs,\n",
    "                      input_shape=(x, y, 1), #input dim: 4 x 500 (x, y, 1) \n",
    "                      kernel_size= (4, params['kernel_size']),#length_motif), #26, #(4, 40), \n",
    "                      kernel_initializer='normal',\n",
    "                      use_bias=False,\n",
    "                      padding=\"valid\",\n",
    "                      activation=\"relu\",\n",
    "                      strides=(4, 1)\n",
    "    )) \n",
    "    model.add(conv_layer)\n",
    "    model.add(MaxPooling2D(pool_size= (1, 13), padding=\"valid\"))                   \n",
    "    model.add(Flatten())\n",
    "    model.add(Dense(params[\"fc_nodes\"], activation=\"relu\", kernel_initializer=\"normal\", kernel_regularizer=l2(params['l2_var'])))\n",
    "    model.add(Dropout(params['dropout']))\n",
    "    model.add(Dense(1, kernel_initializer=\"normal\", activation=\"sigmoid\")) \n",
    "    \n",
    "    print \"compiling\"\n",
    "\n",
    "    model.compile(loss='binary_crossentropy', optimizer='adam')\n",
    "    \n",
    "    earlystopper = EarlyStopping(monitor='val_loss', patience=3, verbose=1)\n",
    "\n",
    "    model.fit(train_data, train[1],\n",
    "              batch_size=batch_size,\n",
    "              epochs=20,\n",
    "              validation_data=(val_data, val[1]),\n",
    "              shuffle='batch',\n",
    "              verbose=2,\n",
    "              callbacks=[earlystopper])\n",
    "\n",
    "    from sklearn.metrics import roc_auc_score\n",
    "    acc = roc_auc_score(test[1], model.predict(test_data))\n",
    "    print \"auroc:\", acc\n",
    "    all_params.append((params, acc, model)) #storing all 100 evaluations to look at later\n",
    "    sys.stdout.flush() \n",
    "    return {'loss': -acc, 'status': STATUS_OK}\n",
    "    return model\n",
    "\n",
    "trials = Trials()\n",
    "print \"starting hyperopt\"\n",
    "best = fmin(c_nn, space, algo=tpe.suggest, max_evals=100, trials=trials)\n",
    "\n",
    "# with open('output.txt', 'wb') as f:\n",
    "#     f.write(best)"
   ]
  },
  {
   "cell_type": "code",
   "execution_count": 25,
   "metadata": {
    "collapsed": false
   },
   "outputs": [
    {
     "name": "stdout",
     "output_type": "stream",
     "text": [
      "{'dropout': 0.20752981222217376, 'fc_nodes': 3, 'kernel_size': 2, 'filters': 97, 'l2_var': 0.006683856551781361}\n",
      "0.808766161456 {'dropout': 0.1369782275377313, 'fc_nodes': 10, 'filters': 138, 'kernel_size': 17, 'l2_var': 0.007115869513663622}\n",
      "0.811478338391 {'dropout': 0.20752981222217376, 'fc_nodes': 7, 'filters': 147, 'kernel_size': 18, 'l2_var': 0.006683856551781361}\n",
      "0.810068627185 {'dropout': 0.15742715075721114, 'fc_nodes': 7, 'filters': 116, 'kernel_size': 18, 'l2_var': 0.008767878221260116}\n",
      "0.80904790817 {'dropout': 0.2262975097216844, 'fc_nodes': 7, 'filters': 123, 'kernel_size': 18, 'l2_var': 0.008155385507278677}\n",
      "0.809381570349 {'dropout': 0.23129257723283647, 'fc_nodes': 13, 'filters': 84, 'kernel_size': 18, 'l2_var': 0.002017541066537441}\n",
      "0.809821018736 {'dropout': 0.28885165427329706, 'fc_nodes': 7, 'filters': 88, 'kernel_size': 18, 'l2_var': 0.0023716906667473623}\n",
      "0.808912735307 {'dropout': 0.3543031056696424, 'fc_nodes': 7, 'filters': 124, 'kernel_size': 18, 'l2_var': 0.0049667840969554525}\n",
      "0.808734409779 {'dropout': 0.2580627924525748, 'fc_nodes': 4, 'filters': 112, 'kernel_size': 17, 'l2_var': 0.004502463101443241}\n"
     ]
    },
    {
     "ename": "PicklingError",
     "evalue": "Can't pickle <type 'module'>: attribute lookup __builtin__.module failed",
     "output_type": "error",
     "traceback": [
      "\u001b[0;31m---------------------------------------------------------------------------\u001b[0m",
      "\u001b[0;31mPicklingError\u001b[0m                             Traceback (most recent call last)",
      "\u001b[0;32m<ipython-input-25-b9e8f93a9522>\u001b[0m in \u001b[0;36m<module>\u001b[0;34m()\u001b[0m\n\u001b[1;32m      6\u001b[0m \u001b[0;34m\u001b[0m\u001b[0m\n\u001b[1;32m      7\u001b[0m \u001b[0mhyp_res\u001b[0m \u001b[0;34m=\u001b[0m \u001b[0mnp\u001b[0m\u001b[0;34m.\u001b[0m\u001b[0marray\u001b[0m\u001b[0;34m(\u001b[0m\u001b[0mall_params\u001b[0m\u001b[0;34m)\u001b[0m\u001b[0;34m\u001b[0m\u001b[0m\n\u001b[0;32m----> 8\u001b[0;31m \u001b[0mnp\u001b[0m\u001b[0;34m.\u001b[0m\u001b[0msave\u001b[0m\u001b[0;34m(\u001b[0m\u001b[0;34m\"hyperoptstd12_res.npy\"\u001b[0m\u001b[0;34m,\u001b[0m \u001b[0mhyp_res\u001b[0m\u001b[0;34m)\u001b[0m\u001b[0;34m\u001b[0m\u001b[0m\n\u001b[0m",
      "\u001b[0;32m/usr/local/lib/python2.7/dist-packages/numpy/lib/npyio.pyc\u001b[0m in \u001b[0;36msave\u001b[0;34m(file, arr, allow_pickle, fix_imports)\u001b[0m\n\u001b[1;32m    507\u001b[0m         \u001b[0marr\u001b[0m \u001b[0;34m=\u001b[0m \u001b[0mnp\u001b[0m\u001b[0;34m.\u001b[0m\u001b[0masanyarray\u001b[0m\u001b[0;34m(\u001b[0m\u001b[0marr\u001b[0m\u001b[0;34m)\u001b[0m\u001b[0;34m\u001b[0m\u001b[0m\n\u001b[1;32m    508\u001b[0m         format.write_array(fid, arr, allow_pickle=allow_pickle,\n\u001b[0;32m--> 509\u001b[0;31m                            pickle_kwargs=pickle_kwargs)\n\u001b[0m\u001b[1;32m    510\u001b[0m     \u001b[0;32mfinally\u001b[0m\u001b[0;34m:\u001b[0m\u001b[0;34m\u001b[0m\u001b[0m\n\u001b[1;32m    511\u001b[0m         \u001b[0;32mif\u001b[0m \u001b[0mown_fid\u001b[0m\u001b[0;34m:\u001b[0m\u001b[0;34m\u001b[0m\u001b[0m\n",
      "\u001b[0;32m/usr/local/lib/python2.7/dist-packages/numpy/lib/format.pyc\u001b[0m in \u001b[0;36mwrite_array\u001b[0;34m(fp, array, version, allow_pickle, pickle_kwargs)\u001b[0m\n\u001b[1;32m    574\u001b[0m         \u001b[0;32mif\u001b[0m \u001b[0mpickle_kwargs\u001b[0m \u001b[0;32mis\u001b[0m \u001b[0mNone\u001b[0m\u001b[0;34m:\u001b[0m\u001b[0;34m\u001b[0m\u001b[0m\n\u001b[1;32m    575\u001b[0m             \u001b[0mpickle_kwargs\u001b[0m \u001b[0;34m=\u001b[0m \u001b[0;34m{\u001b[0m\u001b[0;34m}\u001b[0m\u001b[0;34m\u001b[0m\u001b[0m\n\u001b[0;32m--> 576\u001b[0;31m         \u001b[0mpickle\u001b[0m\u001b[0;34m.\u001b[0m\u001b[0mdump\u001b[0m\u001b[0;34m(\u001b[0m\u001b[0marray\u001b[0m\u001b[0;34m,\u001b[0m \u001b[0mfp\u001b[0m\u001b[0;34m,\u001b[0m \u001b[0mprotocol\u001b[0m\u001b[0;34m=\u001b[0m\u001b[0;36m2\u001b[0m\u001b[0;34m,\u001b[0m \u001b[0;34m**\u001b[0m\u001b[0mpickle_kwargs\u001b[0m\u001b[0;34m)\u001b[0m\u001b[0;34m\u001b[0m\u001b[0m\n\u001b[0m\u001b[1;32m    577\u001b[0m     \u001b[0;32melif\u001b[0m \u001b[0marray\u001b[0m\u001b[0;34m.\u001b[0m\u001b[0mflags\u001b[0m\u001b[0;34m.\u001b[0m\u001b[0mf_contiguous\u001b[0m \u001b[0;32mand\u001b[0m \u001b[0;32mnot\u001b[0m \u001b[0marray\u001b[0m\u001b[0;34m.\u001b[0m\u001b[0mflags\u001b[0m\u001b[0;34m.\u001b[0m\u001b[0mc_contiguous\u001b[0m\u001b[0;34m:\u001b[0m\u001b[0;34m\u001b[0m\u001b[0m\n\u001b[1;32m    578\u001b[0m         \u001b[0;32mif\u001b[0m \u001b[0misfileobj\u001b[0m\u001b[0;34m(\u001b[0m\u001b[0mfp\u001b[0m\u001b[0;34m)\u001b[0m\u001b[0;34m:\u001b[0m\u001b[0;34m\u001b[0m\u001b[0m\n",
      "\u001b[0;31mPicklingError\u001b[0m: Can't pickle <type 'module'>: attribute lookup __builtin__.module failed"
     ]
    }
   ],
   "source": [
    "#best results of hyperopt\n",
    "print best\n",
    "for p in all_params:\n",
    "    if p[1] > .808:\n",
    "        print p[1], p[0]\n",
    "\n",
    "hyp_res = np.array(all_params)\n",
    "np.save(\"hyperoptstd12_res.npy\", hyp_res)"
   ]
  },
  {
   "cell_type": "code",
   "execution_count": 1,
   "metadata": {
    "collapsed": false
   },
   "outputs": [],
   "source": [
    "#custom error\n",
    "# data_mean = np.mean(y_data).astype(np.float32)\n",
    "# data_variance = np.var(y_data).astype(np.float32)\n",
    "# dist = tf.contrib.distributions.Normal(loc=data_mean, scale=data_variance)\n",
    "\n",
    "def z_score_error(y_true, y_pred):\n",
    "    return tf.abs(dist.cdf(y_true) - dist.cdf(y_pred)) #should this be abs or mse?\n",
    "\n",
    "#custom kernel weights\n",
    "num_motifs = 519\n",
    "length_motif = 26 #64\n",
    "# with open(\"jasper_processed.txt\", \"r\") as ms:\n",
    "#     motifs = [l.split() for l in ms]\n",
    "# motifs = np.array(motifs)\n",
    "# motifs = motifs.reshape(1, num_motifs, 4, length_motif, 1)\n",
    "# motifs = motifs.transpose((0, 2, 3, 4, 1))\n",
    "\n",
    "# count = -1\n",
    "# def jasper_motifs(shape, dtype=None):\n",
    "#     global count\n",
    "#     count += 1\n",
    "#     return motifs[count]\n",
    "\n",
    "def reg_model():\n",
    "    print \"building model\"\n",
    "    model = Sequential()\n",
    "    conv_layer = (Conv2D(filters=128, #num_motifs,\n",
    "                      input_shape=(x, y, 1), #input dim: 4 x 500 (x, y, 1) \n",
    "                      kernel_size= (4, 26), #26, #(4, 40), \n",
    "                      kernel_initializer='normal',\n",
    "                      use_bias=False,\n",
    "                      padding=\"valid\",\n",
    "                      activation=\"relu\",\n",
    "                      strides=(4, 1)\n",
    "    ))\n",
    "    model.add(conv_layer)\n",
    "    model.add(MaxPooling2D(pool_size= (1, 13), padding=\"valid\"))                   \n",
    "    model.add(Flatten())\n",
    "    model.add(Dense(47, activation=\"relu\", kernel_initializer=\"normal\", kernel_regularizer=l2(0.05881)))\n",
    "    model.add(Dropout(.311))\n",
    "    model.add(Dense(1, kernel_initializer=\"normal\"))       \n",
    "    \n",
    "    #setting weights\n",
    "#     conv_weights = conv_layer.get_weights()\n",
    "#     conv_weights = motifs\n",
    "#     conv_layer.set_weights(conv_weights)\n",
    "\n",
    "    print \"compiling\"\n",
    "\n",
    "    model.compile(loss='mse', optimizer='adam')\n",
    "\n",
    "    print model.summary()\n",
    "    return model"
   ]
  },
  {
   "cell_type": "code",
   "execution_count": 24,
   "metadata": {
    "collapsed": true
   },
   "outputs": [],
   "source": [
    "def linear_model():\n",
    "    print \"building model\"\n",
    "\n",
    "    model = Sequential()\n",
    "    model.add(Dense(200, kernel_initializer=\"normal\", input_shape=(x, y, 1), activation=\"relu\")) \n",
    "    model.add(Dropout(.4)) \n",
    "    model.add(Flatten())\n",
    "    model.add(Dense(25, activation=\"softmax\", kernel_initializer=\"normal\"))\n",
    "    model.add(Dense(1, kernel_initializer=\"normal\"))     \n",
    "\n",
    "    print \"compiling\"\n",
    "\n",
    "    model.compile(loss='mse', optimizer='rmsprop')\n",
    "\n",
    "    print model.summary()\n",
    "    return model"
   ]
  },
  {
   "cell_type": "code",
   "execution_count": 27,
   "metadata": {
    "collapsed": true
   },
   "outputs": [],
   "source": [
    "def lstm_model():\n",
    "    print \"building model\"\n",
    "    \n",
    "    model = Sequential()\n",
    "    model.add(LSTM(200, input_shape=(x, y, 1), return_sequences=True))\n",
    "    model.add(Dense(1))\n",
    "    \n",
    "    print \"compiling\"\n",
    "    model.compile(loss='mse', optimizer='adam')\n",
    "    \n",
    "    print model.summary()\n",
    "    return model"
   ]
  },
  {
   "cell_type": "code",
   "execution_count": 8,
   "metadata": {
    "collapsed": false
   },
   "outputs": [
    {
     "name": "stdout",
     "output_type": "stream",
     "text": [
      "building model\n",
      "compiling\n",
      "_________________________________________________________________\n",
      "Layer (type)                 Output Shape              Param #   \n",
      "=================================================================\n",
      "conv2d_1 (Conv2D)            (None, 1, 475, 128)       13312     \n",
      "_________________________________________________________________\n",
      "max_pooling2d_1 (MaxPooling2 (None, 1, 36, 128)        0         \n",
      "_________________________________________________________________\n",
      "flatten_1 (Flatten)          (None, 4608)              0         \n",
      "_________________________________________________________________\n",
      "dense_1 (Dense)              (None, 47)                216623    \n",
      "_________________________________________________________________\n",
      "dropout_1 (Dropout)          (None, 47)                0         \n",
      "_________________________________________________________________\n",
      "dense_2 (Dense)              (None, 1)                 48        \n",
      "=================================================================\n",
      "Total params: 229,983\n",
      "Trainable params: 229,983\n",
      "Non-trainable params: 0\n",
      "_________________________________________________________________\n",
      "None\n",
      "Train on 517137 samples, validate on 64790 samples\n",
      "Epoch 1/50\n",
      "Epoch 00000: val_loss improved from inf to 1.85266, saving model to best_model.hdf5\n",
      "137s - loss: 2.3403 - val_loss: 1.8527\n",
      "Epoch 2/50\n",
      "Epoch 00001: val_loss did not improve\n",
      "137s - loss: 0.3937 - val_loss: 2.0124\n",
      "Epoch 3/50\n",
      "Epoch 00002: val_loss did not improve\n",
      "137s - loss: 0.3874 - val_loss: 1.9410\n",
      "Epoch 4/50\n",
      "Epoch 00003: val_loss did not improve\n",
      "137s - loss: 0.3768 - val_loss: 2.3438\n",
      "Epoch 5/50\n"
     ]
    },
    {
     "ename": "KeyboardInterrupt",
     "evalue": "",
     "output_type": "error",
     "traceback": [
      "\u001b[0;31m---------------------------------------------------------------------------\u001b[0m",
      "\u001b[0;31mKeyboardInterrupt\u001b[0m                         Traceback (most recent call last)",
      "\u001b[0;32m<ipython-input-8-a226e85be310>\u001b[0m in \u001b[0;36m<module>\u001b[0;34m()\u001b[0m\n\u001b[1;32m     23\u001b[0m           \u001b[0msample_weight\u001b[0m\u001b[0;34m=\u001b[0m\u001b[0ms_weights\u001b[0m\u001b[0;34m,\u001b[0m\u001b[0;34m\u001b[0m\u001b[0m\n\u001b[1;32m     24\u001b[0m           \u001b[0;31m#interval=.1,\u001b[0m\u001b[0;34m\u001b[0m\u001b[0;34m\u001b[0m\u001b[0m\n\u001b[0;32m---> 25\u001b[0;31m           callbacks=[earlystopper, tensorboard, checkpt])\n\u001b[0m\u001b[1;32m     26\u001b[0m \u001b[0;34m\u001b[0m\u001b[0m\n\u001b[1;32m     27\u001b[0m \u001b[0;32mprint\u001b[0m \u001b[0;34m\"done\"\u001b[0m\u001b[0;34m\u001b[0m\u001b[0m\n",
      "\u001b[0;32m/usr/local/lib/python2.7/dist-packages/keras/models.pyc\u001b[0m in \u001b[0;36mfit\u001b[0;34m(self, x, y, batch_size, epochs, verbose, callbacks, validation_split, validation_data, shuffle, class_weight, sample_weight, initial_epoch, **kwargs)\u001b[0m\n\u001b[1;32m    868\u001b[0m                               \u001b[0mclass_weight\u001b[0m\u001b[0;34m=\u001b[0m\u001b[0mclass_weight\u001b[0m\u001b[0;34m,\u001b[0m\u001b[0;34m\u001b[0m\u001b[0m\n\u001b[1;32m    869\u001b[0m                               \u001b[0msample_weight\u001b[0m\u001b[0;34m=\u001b[0m\u001b[0msample_weight\u001b[0m\u001b[0;34m,\u001b[0m\u001b[0;34m\u001b[0m\u001b[0m\n\u001b[0;32m--> 870\u001b[0;31m                               initial_epoch=initial_epoch)\n\u001b[0m\u001b[1;32m    871\u001b[0m \u001b[0;34m\u001b[0m\u001b[0m\n\u001b[1;32m    872\u001b[0m     def evaluate(self, x, y, batch_size=32, verbose=1,\n",
      "\u001b[0;32m/usr/local/lib/python2.7/dist-packages/keras/engine/training.pyc\u001b[0m in \u001b[0;36mfit\u001b[0;34m(self, x, y, batch_size, epochs, verbose, callbacks, validation_split, validation_data, shuffle, class_weight, sample_weight, initial_epoch, **kwargs)\u001b[0m\n\u001b[1;32m   1502\u001b[0m                               \u001b[0mval_f\u001b[0m\u001b[0;34m=\u001b[0m\u001b[0mval_f\u001b[0m\u001b[0;34m,\u001b[0m \u001b[0mval_ins\u001b[0m\u001b[0;34m=\u001b[0m\u001b[0mval_ins\u001b[0m\u001b[0;34m,\u001b[0m \u001b[0mshuffle\u001b[0m\u001b[0;34m=\u001b[0m\u001b[0mshuffle\u001b[0m\u001b[0;34m,\u001b[0m\u001b[0;34m\u001b[0m\u001b[0m\n\u001b[1;32m   1503\u001b[0m                               \u001b[0mcallback_metrics\u001b[0m\u001b[0;34m=\u001b[0m\u001b[0mcallback_metrics\u001b[0m\u001b[0;34m,\u001b[0m\u001b[0;34m\u001b[0m\u001b[0m\n\u001b[0;32m-> 1504\u001b[0;31m                               initial_epoch=initial_epoch)\n\u001b[0m\u001b[1;32m   1505\u001b[0m \u001b[0;34m\u001b[0m\u001b[0m\n\u001b[1;32m   1506\u001b[0m     \u001b[0;32mdef\u001b[0m \u001b[0mevaluate\u001b[0m\u001b[0;34m(\u001b[0m\u001b[0mself\u001b[0m\u001b[0;34m,\u001b[0m \u001b[0mx\u001b[0m\u001b[0;34m,\u001b[0m \u001b[0my\u001b[0m\u001b[0;34m,\u001b[0m \u001b[0mbatch_size\u001b[0m\u001b[0;34m=\u001b[0m\u001b[0;36m32\u001b[0m\u001b[0;34m,\u001b[0m \u001b[0mverbose\u001b[0m\u001b[0;34m=\u001b[0m\u001b[0;36m1\u001b[0m\u001b[0;34m,\u001b[0m \u001b[0msample_weight\u001b[0m\u001b[0;34m=\u001b[0m\u001b[0mNone\u001b[0m\u001b[0;34m)\u001b[0m\u001b[0;34m:\u001b[0m\u001b[0;34m\u001b[0m\u001b[0m\n",
      "\u001b[0;32m/usr/local/lib/python2.7/dist-packages/keras/engine/training.pyc\u001b[0m in \u001b[0;36m_fit_loop\u001b[0;34m(self, f, ins, out_labels, batch_size, epochs, verbose, callbacks, val_f, val_ins, shuffle, callback_metrics, initial_epoch)\u001b[0m\n\u001b[1;32m   1154\u001b[0m                 \u001b[0mbatch_logs\u001b[0m\u001b[0;34m[\u001b[0m\u001b[0;34m'size'\u001b[0m\u001b[0;34m]\u001b[0m \u001b[0;34m=\u001b[0m \u001b[0mlen\u001b[0m\u001b[0;34m(\u001b[0m\u001b[0mbatch_ids\u001b[0m\u001b[0;34m)\u001b[0m\u001b[0;34m\u001b[0m\u001b[0m\n\u001b[1;32m   1155\u001b[0m                 \u001b[0mcallbacks\u001b[0m\u001b[0;34m.\u001b[0m\u001b[0mon_batch_begin\u001b[0m\u001b[0;34m(\u001b[0m\u001b[0mbatch_index\u001b[0m\u001b[0;34m,\u001b[0m \u001b[0mbatch_logs\u001b[0m\u001b[0;34m)\u001b[0m\u001b[0;34m\u001b[0m\u001b[0m\n\u001b[0;32m-> 1156\u001b[0;31m                 \u001b[0mouts\u001b[0m \u001b[0;34m=\u001b[0m \u001b[0mf\u001b[0m\u001b[0;34m(\u001b[0m\u001b[0mins_batch\u001b[0m\u001b[0;34m)\u001b[0m\u001b[0;34m\u001b[0m\u001b[0m\n\u001b[0m\u001b[1;32m   1157\u001b[0m                 \u001b[0;32mif\u001b[0m \u001b[0;32mnot\u001b[0m \u001b[0misinstance\u001b[0m\u001b[0;34m(\u001b[0m\u001b[0mouts\u001b[0m\u001b[0;34m,\u001b[0m \u001b[0mlist\u001b[0m\u001b[0;34m)\u001b[0m\u001b[0;34m:\u001b[0m\u001b[0;34m\u001b[0m\u001b[0m\n\u001b[1;32m   1158\u001b[0m                     \u001b[0mouts\u001b[0m \u001b[0;34m=\u001b[0m \u001b[0;34m[\u001b[0m\u001b[0mouts\u001b[0m\u001b[0;34m]\u001b[0m\u001b[0;34m\u001b[0m\u001b[0m\n",
      "\u001b[0;32m/usr/local/lib/python2.7/dist-packages/keras/backend/tensorflow_backend.pyc\u001b[0m in \u001b[0;36m__call__\u001b[0;34m(self, inputs)\u001b[0m\n\u001b[1;32m   2267\u001b[0m         updated = session.run(self.outputs + [self.updates_op],\n\u001b[1;32m   2268\u001b[0m                               \u001b[0mfeed_dict\u001b[0m\u001b[0;34m=\u001b[0m\u001b[0mfeed_dict\u001b[0m\u001b[0;34m,\u001b[0m\u001b[0;34m\u001b[0m\u001b[0m\n\u001b[0;32m-> 2269\u001b[0;31m                               **self.session_kwargs)\n\u001b[0m\u001b[1;32m   2270\u001b[0m         \u001b[0;32mreturn\u001b[0m \u001b[0mupdated\u001b[0m\u001b[0;34m[\u001b[0m\u001b[0;34m:\u001b[0m\u001b[0mlen\u001b[0m\u001b[0;34m(\u001b[0m\u001b[0mself\u001b[0m\u001b[0;34m.\u001b[0m\u001b[0moutputs\u001b[0m\u001b[0;34m)\u001b[0m\u001b[0;34m]\u001b[0m\u001b[0;34m\u001b[0m\u001b[0m\n\u001b[1;32m   2271\u001b[0m \u001b[0;34m\u001b[0m\u001b[0m\n",
      "\u001b[0;32m/usr/local/lib/python2.7/dist-packages/tensorflow/python/client/session.pyc\u001b[0m in \u001b[0;36mrun\u001b[0;34m(self, fetches, feed_dict, options, run_metadata)\u001b[0m\n\u001b[1;32m    893\u001b[0m     \u001b[0;32mtry\u001b[0m\u001b[0;34m:\u001b[0m\u001b[0;34m\u001b[0m\u001b[0m\n\u001b[1;32m    894\u001b[0m       result = self._run(None, fetches, feed_dict, options_ptr,\n\u001b[0;32m--> 895\u001b[0;31m                          run_metadata_ptr)\n\u001b[0m\u001b[1;32m    896\u001b[0m       \u001b[0;32mif\u001b[0m \u001b[0mrun_metadata\u001b[0m\u001b[0;34m:\u001b[0m\u001b[0;34m\u001b[0m\u001b[0m\n\u001b[1;32m    897\u001b[0m         \u001b[0mproto_data\u001b[0m \u001b[0;34m=\u001b[0m \u001b[0mtf_session\u001b[0m\u001b[0;34m.\u001b[0m\u001b[0mTF_GetBuffer\u001b[0m\u001b[0;34m(\u001b[0m\u001b[0mrun_metadata_ptr\u001b[0m\u001b[0;34m)\u001b[0m\u001b[0;34m\u001b[0m\u001b[0m\n",
      "\u001b[0;32m/usr/local/lib/python2.7/dist-packages/tensorflow/python/client/session.pyc\u001b[0m in \u001b[0;36m_run\u001b[0;34m(self, handle, fetches, feed_dict, options, run_metadata)\u001b[0m\n\u001b[1;32m   1122\u001b[0m     \u001b[0;32mif\u001b[0m \u001b[0mfinal_fetches\u001b[0m \u001b[0;32mor\u001b[0m \u001b[0mfinal_targets\u001b[0m \u001b[0;32mor\u001b[0m \u001b[0;34m(\u001b[0m\u001b[0mhandle\u001b[0m \u001b[0;32mand\u001b[0m \u001b[0mfeed_dict_tensor\u001b[0m\u001b[0;34m)\u001b[0m\u001b[0;34m:\u001b[0m\u001b[0;34m\u001b[0m\u001b[0m\n\u001b[1;32m   1123\u001b[0m       results = self._do_run(handle, final_targets, final_fetches,\n\u001b[0;32m-> 1124\u001b[0;31m                              feed_dict_tensor, options, run_metadata)\n\u001b[0m\u001b[1;32m   1125\u001b[0m     \u001b[0;32melse\u001b[0m\u001b[0;34m:\u001b[0m\u001b[0;34m\u001b[0m\u001b[0m\n\u001b[1;32m   1126\u001b[0m       \u001b[0mresults\u001b[0m \u001b[0;34m=\u001b[0m \u001b[0;34m[\u001b[0m\u001b[0;34m]\u001b[0m\u001b[0;34m\u001b[0m\u001b[0m\n",
      "\u001b[0;32m/usr/local/lib/python2.7/dist-packages/tensorflow/python/client/session.pyc\u001b[0m in \u001b[0;36m_do_run\u001b[0;34m(self, handle, target_list, fetch_list, feed_dict, options, run_metadata)\u001b[0m\n\u001b[1;32m   1319\u001b[0m     \u001b[0;32mif\u001b[0m \u001b[0mhandle\u001b[0m \u001b[0;32mis\u001b[0m \u001b[0mNone\u001b[0m\u001b[0;34m:\u001b[0m\u001b[0;34m\u001b[0m\u001b[0m\n\u001b[1;32m   1320\u001b[0m       return self._do_call(_run_fn, self._session, feeds, fetches, targets,\n\u001b[0;32m-> 1321\u001b[0;31m                            options, run_metadata)\n\u001b[0m\u001b[1;32m   1322\u001b[0m     \u001b[0;32melse\u001b[0m\u001b[0;34m:\u001b[0m\u001b[0;34m\u001b[0m\u001b[0m\n\u001b[1;32m   1323\u001b[0m       \u001b[0;32mreturn\u001b[0m \u001b[0mself\u001b[0m\u001b[0;34m.\u001b[0m\u001b[0m_do_call\u001b[0m\u001b[0;34m(\u001b[0m\u001b[0m_prun_fn\u001b[0m\u001b[0;34m,\u001b[0m \u001b[0mself\u001b[0m\u001b[0;34m.\u001b[0m\u001b[0m_session\u001b[0m\u001b[0;34m,\u001b[0m \u001b[0mhandle\u001b[0m\u001b[0;34m,\u001b[0m \u001b[0mfeeds\u001b[0m\u001b[0;34m,\u001b[0m \u001b[0mfetches\u001b[0m\u001b[0;34m)\u001b[0m\u001b[0;34m\u001b[0m\u001b[0m\n",
      "\u001b[0;32m/usr/local/lib/python2.7/dist-packages/tensorflow/python/client/session.pyc\u001b[0m in \u001b[0;36m_do_call\u001b[0;34m(self, fn, *args)\u001b[0m\n\u001b[1;32m   1325\u001b[0m   \u001b[0;32mdef\u001b[0m \u001b[0m_do_call\u001b[0m\u001b[0;34m(\u001b[0m\u001b[0mself\u001b[0m\u001b[0;34m,\u001b[0m \u001b[0mfn\u001b[0m\u001b[0;34m,\u001b[0m \u001b[0;34m*\u001b[0m\u001b[0margs\u001b[0m\u001b[0;34m)\u001b[0m\u001b[0;34m:\u001b[0m\u001b[0;34m\u001b[0m\u001b[0m\n\u001b[1;32m   1326\u001b[0m     \u001b[0;32mtry\u001b[0m\u001b[0;34m:\u001b[0m\u001b[0;34m\u001b[0m\u001b[0m\n\u001b[0;32m-> 1327\u001b[0;31m       \u001b[0;32mreturn\u001b[0m \u001b[0mfn\u001b[0m\u001b[0;34m(\u001b[0m\u001b[0;34m*\u001b[0m\u001b[0margs\u001b[0m\u001b[0;34m)\u001b[0m\u001b[0;34m\u001b[0m\u001b[0m\n\u001b[0m\u001b[1;32m   1328\u001b[0m     \u001b[0;32mexcept\u001b[0m \u001b[0merrors\u001b[0m\u001b[0;34m.\u001b[0m\u001b[0mOpError\u001b[0m \u001b[0;32mas\u001b[0m \u001b[0me\u001b[0m\u001b[0;34m:\u001b[0m\u001b[0;34m\u001b[0m\u001b[0m\n\u001b[1;32m   1329\u001b[0m       \u001b[0mmessage\u001b[0m \u001b[0;34m=\u001b[0m \u001b[0mcompat\u001b[0m\u001b[0;34m.\u001b[0m\u001b[0mas_text\u001b[0m\u001b[0;34m(\u001b[0m\u001b[0me\u001b[0m\u001b[0;34m.\u001b[0m\u001b[0mmessage\u001b[0m\u001b[0;34m)\u001b[0m\u001b[0;34m\u001b[0m\u001b[0m\n",
      "\u001b[0;32m/usr/local/lib/python2.7/dist-packages/tensorflow/python/client/session.pyc\u001b[0m in \u001b[0;36m_run_fn\u001b[0;34m(session, feed_dict, fetch_list, target_list, options, run_metadata)\u001b[0m\n\u001b[1;32m   1304\u001b[0m           return tf_session.TF_Run(session, options,\n\u001b[1;32m   1305\u001b[0m                                    \u001b[0mfeed_dict\u001b[0m\u001b[0;34m,\u001b[0m \u001b[0mfetch_list\u001b[0m\u001b[0;34m,\u001b[0m \u001b[0mtarget_list\u001b[0m\u001b[0;34m,\u001b[0m\u001b[0;34m\u001b[0m\u001b[0m\n\u001b[0;32m-> 1306\u001b[0;31m                                    status, run_metadata)\n\u001b[0m\u001b[1;32m   1307\u001b[0m \u001b[0;34m\u001b[0m\u001b[0m\n\u001b[1;32m   1308\u001b[0m     \u001b[0;32mdef\u001b[0m \u001b[0m_prun_fn\u001b[0m\u001b[0;34m(\u001b[0m\u001b[0msession\u001b[0m\u001b[0;34m,\u001b[0m \u001b[0mhandle\u001b[0m\u001b[0;34m,\u001b[0m \u001b[0mfeed_dict\u001b[0m\u001b[0;34m,\u001b[0m \u001b[0mfetch_list\u001b[0m\u001b[0;34m)\u001b[0m\u001b[0;34m:\u001b[0m\u001b[0;34m\u001b[0m\u001b[0m\n",
      "\u001b[0;31mKeyboardInterrupt\u001b[0m: "
     ]
    }
   ],
   "source": [
    "earlystopper = EarlyStopping(monitor='val_loss', patience=5, verbose=1)\n",
    "tensorboard = TensorBoard(log_dir='./logs',\n",
    "                                                   histogram_freq=0,\n",
    "                                                   write_graph=True,\n",
    "                                                   write_grads=False,\n",
    "                                                   write_images=True,\n",
    "                                                   embeddings_freq=0,\n",
    "                                                   embeddings_layer_names=None,\n",
    "                                                   embeddings_metadata=None)\n",
    "checkpt = ModelCheckpoint(filepath=\"best_model.hdf5\", monitor='val_loss', verbose=1, save_best_only=True)\n",
    "#progbar = ProgbarLogger(count_mode='samples')\n",
    "\n",
    "#batch = generator()\n",
    "\n",
    "modela = reg_model()\n",
    "modela.fit(train_data, train[1],\n",
    "          batch_size=batch_size,\n",
    "          #steps_per_epoch=50,\n",
    "          epochs=50,\n",
    "          validation_data=(val_data, val[1]),\n",
    "          shuffle='batch',\n",
    "          verbose=2,\n",
    "          sample_weight=s_weights,\n",
    "          #interval=.1,\n",
    "          callbacks=[earlystopper, tensorboard, checkpt])\n",
    "\n",
    "print \"done\""
   ]
  },
  {
   "cell_type": "code",
   "execution_count": 16,
   "metadata": {
    "collapsed": false
   },
   "outputs": [
    {
     "name": "stdout",
     "output_type": "stream",
     "text": [
      "[[ 0.86785948]\n",
      " [ 0.70306998]\n",
      " [ 0.88009596]\n",
      " ..., \n",
      " [ 0.47133338]\n",
      " [ 0.5905757 ]\n",
      " [ 0.26635888]]\n"
     ]
    }
   ],
   "source": [
    "#Start here with a trained model\n",
    "modela = load_model(\"best_model_std11.hdf5\")\n",
    "results = modela.predict(test_data, batch_size=1000, verbose=2)\n",
    "print results"
   ]
  },
  {
   "cell_type": "code",
   "execution_count": 56,
   "metadata": {
    "collapsed": false
   },
   "outputs": [
    {
     "name": "stdout",
     "output_type": "stream",
     "text": [
      "test error:  0.11681886248\n",
      "r, p:  (0.27608480709491484, 0.0)\n",
      "r^2:  0.0555645646088\n"
     ]
    }
   ],
   "source": [
    "print \"test error: \", mean_squared_error(test[1], results)\n",
    "print \"r, p: \", stats.pearsonr(results.flatten(), test[1])\n",
    "print \"r^2: \", r2_score(test[1], results)"
   ]
  },
  {
   "cell_type": "code",
   "execution_count": 57,
   "metadata": {
    "collapsed": false
   },
   "outputs": [
    {
     "data": {
      "image/png": "[encoded data removed]",
      "text/plain": [
       "<matplotlib.figure.Figure at 0x7f79fc872750>"
      ]
     },
     "metadata": {},
     "output_type": "display_data"
    }
   ],
   "source": [
    "#is it even normal\n",
    "plt.rcParams[\"figure.figsize\"] = (12,12)\n",
    "plt.scatter(test[1], results); #y-axis: actual score distribution..."
   ]
  },
  {
   "cell_type": "code",
   "execution_count": 58,
   "metadata": {
    "collapsed": false
   },
   "outputs": [
    {
     "data": {
      "image/png": "[encoded data removed]",
      "text/plain": [
       "<matplotlib.figure.Figure at 0x7f79ae10e390>"
      ]
     },
     "metadata": {},
     "output_type": "display_data"
    }
   ],
   "source": [
    "plt.rcParams[\"figure.figsize\"] = (20,5)\n",
    "plt.hist(results, bins=100);"
   ]
  },
  {
   "cell_type": "code",
   "execution_count": null,
   "metadata": {
    "collapsed": true
   },
   "outputs": [],
   "source": [
    "#Troubleshooting\n",
    "weights, biases = model.layers[0].get_weights()\n",
    "print weights"
   ]
  },
  {
   "cell_type": "code",
   "execution_count": 17,
   "metadata": {
    "collapsed": false
   },
   "outputs": [
    {
     "name": "stdout",
     "output_type": "stream",
     "text": [
      "roc score: 0.798432460603\n",
      "auprc: 0.793502491927\n"
     ]
    }
   ],
   "source": [
    "print \"roc score:\", roc_auc_score(test[1], results)\n",
    "precision, recall = precision_recall_curve(test[1], results)[:2]\n",
    "print \"auprc:\", auc(recall, precision)\n",
    "# prg_curve = prg.create_prg_curve(test[1], results)\n",
    "# auprg = prg.calc_auprg(prg_curve)\n",
    "# print(auprg)\n"
   ]
  },
  {
   "cell_type": "code",
   "execution_count": null,
   "metadata": {
    "collapsed": true
   },
   "outputs": [],
   "source": [
    "data_res = np.load(std1res.npy)\n",
    "\n",
    "y_real = []\n",
    "y_pred = []\n",
    "for i in range(1, 23):\n",
    "    y_real = y_real + list(chrm_res_dict[\"chr\" + str(i)][0])\n",
    "    y_pred = y_pred + list(chrm_res_dict[\"chr\" + str(i)][1])\n",
    "print \"roc score:\", roc_auc_score(y_real, y_pred)\n",
    "precision, recall = precision_recall_curve(y_real, y_pred)[:2]\n",
    "print \"auprc:\", auc(recall, precision)"
   ]
  },
  {
   "cell_type": "code",
   "execution_count": 13,
   "metadata": {
    "collapsed": false
   },
   "outputs": [
    {
     "ename": "IndexError",
     "evalue": "list index out of range",
     "output_type": "error",
     "traceback": [
      "\u001b[0;31m---------------------------------------------------------------------------\u001b[0m",
      "\u001b[0;31mIndexError\u001b[0m                                Traceback (most recent call last)",
      "\u001b[0;32m<ipython-input-13-6f3f443a417b>\u001b[0m in \u001b[0;36m<module>\u001b[0;34m()\u001b[0m\n\u001b[1;32m      1\u001b[0m \u001b[0mgc\u001b[0m\u001b[0;34m.\u001b[0m\u001b[0mcollect\u001b[0m\u001b[0;34m(\u001b[0m\u001b[0;34m)\u001b[0m\u001b[0;34m\u001b[0m\u001b[0m\n\u001b[0;32m----> 2\u001b[0;31m \u001b[0;32mprint\u001b[0m \u001b[0mgc\u001b[0m\u001b[0;34m.\u001b[0m\u001b[0mgarbage\u001b[0m\u001b[0;34m[\u001b[0m\u001b[0;36m0\u001b[0m\u001b[0;34m]\u001b[0m\u001b[0;34m\u001b[0m\u001b[0m\n\u001b[0m",
      "\u001b[0;31mIndexError\u001b[0m: list index out of range"
     ]
    }
   ],
   "source": [
    "gc.collect()"
   ]
  },
  {
   "cell_type": "code",
   "execution_count": 6,
   "metadata": {
    "collapsed": false,
    "scrolled": true
   },
   "outputs": [
    {
     "data": {
      "image/svg+xml": [
       "<svg height=\"483pt\" viewBox=\"0.00 0.00 222.00 483.00\" width=\"222pt\" xmlns=\"http://www.w3.org/2000/svg\" xmlns:xlink=\"http://www.w3.org/1999/xlink\">\n",
       "<g class=\"graph\" id=\"graph0\" transform=\"scale(1 1) rotate(0) translate(4 479)\">\n",
       "<title>G</title>\n",
       "<polygon fill=\"white\" points=\"-4,4 -4,-479 218,-479 218,4 -4,4\" stroke=\"none\"/>\n",
       "<!-- 140098446352784 -->\n",
       "<g class=\"node\" id=\"node1\"><title>140098446352784</title>\n",
       "<polygon fill=\"none\" points=\"17.5,-438.5 17.5,-474.5 196.5,-474.5 196.5,-438.5 17.5,-438.5\" stroke=\"black\"/>\n",
       "<text font-family=\"Times,serif\" font-size=\"14.00\" text-anchor=\"middle\" x=\"107\" y=\"-452.8\">conv2d_27_input: InputLayer</text>\n",
       "</g>\n",
       "<!-- 140098446352720 -->\n",
       "<g class=\"node\" id=\"node2\"><title>140098446352720</title>\n",
       "<polygon fill=\"none\" points=\"42,-365.5 42,-401.5 172,-401.5 172,-365.5 42,-365.5\" stroke=\"black\"/>\n",
       "<text font-family=\"Times,serif\" font-size=\"14.00\" text-anchor=\"middle\" x=\"107\" y=\"-379.8\">conv2d_27: Conv2D</text>\n",
       "</g>\n",
       "<!-- 140098446352784&#45;&gt;140098446352720 -->\n",
       "<g class=\"edge\" id=\"edge1\"><title>140098446352784-&gt;140098446352720</title>\n",
       "<path d=\"M107,-438.313C107,-430.289 107,-420.547 107,-411.569\" fill=\"none\" stroke=\"black\"/>\n",
       "<polygon fill=\"black\" points=\"110.5,-411.529 107,-401.529 103.5,-411.529 110.5,-411.529\" stroke=\"black\"/>\n",
       "</g>\n",
       "<!-- 140098446353232 -->\n",
       "<g class=\"node\" id=\"node3\"><title>140098446353232</title>\n",
       "<polygon fill=\"none\" points=\"-1.42109e-14,-292.5 -1.42109e-14,-328.5 214,-328.5 214,-292.5 -1.42109e-14,-292.5\" stroke=\"black\"/>\n",
       "<text font-family=\"Times,serif\" font-size=\"14.00\" text-anchor=\"middle\" x=\"107\" y=\"-306.8\">max_pooling2d_27: MaxPooling2D</text>\n",
       "</g>\n",
       "<!-- 140098446352720&#45;&gt;140098446353232 -->\n",
       "<g class=\"edge\" id=\"edge2\"><title>140098446352720-&gt;140098446353232</title>\n",
       "<path d=\"M107,-365.313C107,-357.289 107,-347.547 107,-338.569\" fill=\"none\" stroke=\"black\"/>\n",
       "<polygon fill=\"black\" points=\"110.5,-338.529 107,-328.529 103.5,-338.529 110.5,-338.529\" stroke=\"black\"/>\n",
       "</g>\n",
       "<!-- 140098446353168 -->\n",
       "<g class=\"node\" id=\"node4\"><title>140098446353168</title>\n",
       "<polygon fill=\"none\" points=\"49,-219.5 49,-255.5 165,-255.5 165,-219.5 49,-219.5\" stroke=\"black\"/>\n",
       "<text font-family=\"Times,serif\" font-size=\"14.00\" text-anchor=\"middle\" x=\"107\" y=\"-233.8\">flatten_27: Flatten</text>\n",
       "</g>\n",
       "<!-- 140098446353232&#45;&gt;140098446353168 -->\n",
       "<g class=\"edge\" id=\"edge3\"><title>140098446353232-&gt;140098446353168</title>\n",
       "<path d=\"M107,-292.313C107,-284.289 107,-274.547 107,-265.569\" fill=\"none\" stroke=\"black\"/>\n",
       "<polygon fill=\"black\" points=\"110.5,-265.529 107,-255.529 103.5,-265.529 110.5,-265.529\" stroke=\"black\"/>\n",
       "</g>\n",
       "<!-- 140098446411408 -->\n",
       "<g class=\"node\" id=\"node5\"><title>140098446411408</title>\n",
       "<polygon fill=\"none\" points=\"52.5,-146.5 52.5,-182.5 161.5,-182.5 161.5,-146.5 52.5,-146.5\" stroke=\"black\"/>\n",
       "<text font-family=\"Times,serif\" font-size=\"14.00\" text-anchor=\"middle\" x=\"107\" y=\"-160.8\">dense_53: Dense</text>\n",
       "</g>\n",
       "<!-- 140098446353168&#45;&gt;140098446411408 -->\n",
       "<g class=\"edge\" id=\"edge4\"><title>140098446353168-&gt;140098446411408</title>\n",
       "<path d=\"M107,-219.313C107,-211.289 107,-201.547 107,-192.569\" fill=\"none\" stroke=\"black\"/>\n",
       "<polygon fill=\"black\" points=\"110.5,-192.529 107,-182.529 103.5,-192.529 110.5,-192.529\" stroke=\"black\"/>\n",
       "</g>\n",
       "<!-- 140098446501712 -->\n",
       "<g class=\"node\" id=\"node6\"><title>140098446501712</title>\n",
       "<polygon fill=\"none\" points=\"41.5,-73.5 41.5,-109.5 172.5,-109.5 172.5,-73.5 41.5,-73.5\" stroke=\"black\"/>\n",
       "<text font-family=\"Times,serif\" font-size=\"14.00\" text-anchor=\"middle\" x=\"107\" y=\"-87.8\">dropout_27: Dropout</text>\n",
       "</g>\n",
       "<!-- 140098446411408&#45;&gt;140098446501712 -->\n",
       "<g class=\"edge\" id=\"edge5\"><title>140098446411408-&gt;140098446501712</title>\n",
       "<path d=\"M107,-146.313C107,-138.289 107,-128.547 107,-119.569\" fill=\"none\" stroke=\"black\"/>\n",
       "<polygon fill=\"black\" points=\"110.5,-119.529 107,-109.529 103.5,-119.529 110.5,-119.529\" stroke=\"black\"/>\n",
       "</g>\n",
       "<!-- 140098446501264 -->\n",
       "<g class=\"node\" id=\"node7\"><title>140098446501264</title>\n",
       "<polygon fill=\"none\" points=\"52.5,-0.5 52.5,-36.5 161.5,-36.5 161.5,-0.5 52.5,-0.5\" stroke=\"black\"/>\n",
       "<text font-family=\"Times,serif\" font-size=\"14.00\" text-anchor=\"middle\" x=\"107\" y=\"-14.8\">dense_54: Dense</text>\n",
       "</g>\n",
       "<!-- 140098446501712&#45;&gt;140098446501264 -->\n",
       "<g class=\"edge\" id=\"edge6\"><title>140098446501712-&gt;140098446501264</title>\n",
       "<path d=\"M107,-73.3129C107,-65.2895 107,-55.5475 107,-46.5691\" fill=\"none\" stroke=\"black\"/>\n",
       "<polygon fill=\"black\" points=\"110.5,-46.5288 107,-36.5288 103.5,-46.5289 110.5,-46.5288\" stroke=\"black\"/>\n",
       "</g>\n",
       "</g>\n",
       "</svg>"
      ],
      "text/plain": [
       "<IPython.core.display.SVG object>"
      ]
     },
     "execution_count": 6,
     "metadata": {},
     "output_type": "execute_result"
    }
   ],
   "source": []
  }
 ],
 "metadata": {
  "kernelspec": {
   "display_name": "Python 2",
   "language": "python",
   "name": "python2"
  },
  "language_info": {
   "codemirror_mode": {
    "name": "ipython",
    "version": 2
   },
   "file_extension": ".py",
   "mimetype": "text/x-python",
   "name": "python",
   "nbconvert_exporter": "python",
   "pygments_lexer": "ipython2",
   "version": "2.7.12"
  }
 },
 "nbformat": 4,
 "nbformat_minor": 2
}
